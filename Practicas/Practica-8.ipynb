{
 "cells": [
  {
   "cell_type": "markdown",
   "metadata": {},
   "source": [
    "# 1. El Cifrado de Julio César"
   ]
  },
  {
   "cell_type": "markdown",
   "metadata": {},
   "source": [
    "Durante sus campañas militares, el general romano Julio César escribía mensajes a sus subordinados de la siguiente forma:\n",
    "\n",
    "Sustituía cada letra del abecedario por la letra situada tres lugares más allá en el orden alfabético. Es decir, la letra A se convertiría en D; la B, en E; la C en F y así sucesivamente. Y del mismo modo para la cola: la X sería una A; la Y una B y la Z una C. En resumen, las letras se desplazan tres lugares en el orden alfabético.\n",
    "\n",
    "Por ejemplo, en lugar de escribir CENTURIA escribía FHPWXULD."
   ]
  },
  {
   "cell_type": "markdown",
   "metadata": {},
   "source": [
    "____\n",
    "\n",
    "Escriba una función que se llame `encryption()` que automatice el cifrado de Julio César. \n",
    "\n",
    "Tu función debe cumplir las siguientes características:\n",
    "\n",
    "* Debe leer un archivo de texto que contenga el mensaje por codificar y escribir un nuevo archivo de texto con el mensaje cifrado.\n",
    "\n",
    "* El programa debe preguntar por cuántos espacios queremos deplazar las letras en nuestro mensaje. \n",
    "\n",
    "\n",
    "\n",
    "El mensaje a codificar puede incluir únicamente:\n",
    "\n",
    "* Letras mayúsculas y minúsculas (sin acentos).\n",
    "\n",
    "* Espacios.\n",
    "\n",
    "* Saltos de línea.\n",
    "\n",
    "**Pruebe su función con el archivo `myfile.txt` ¿Qué contiene el archivo?**"
   ]
  },
  {
   "cell_type": "code",
   "execution_count": null,
   "metadata": {},
   "outputs": [],
   "source": []
  },
  {
   "cell_type": "markdown",
   "metadata": {},
   "source": [
    "# 2. Cadena de DNA"
   ]
  },
  {
   "cell_type": "markdown",
   "metadata": {},
   "source": [
    "___\n",
    "\n",
    "El achivo `random_DNA.txt` contiene una de las hélices de un segmento de una cadena de DNA. escriba una función que se llame `to_complete()` que complete la cadena y además genere un archivo que se llame `complete_DNA.txt` "
   ]
  },
  {
   "cell_type": "code",
   "execution_count": null,
   "metadata": {},
   "outputs": [],
   "source": []
  },
  {
   "cell_type": "markdown",
   "metadata": {},
   "source": [
    "# 3. Medidas de tendencia central  y dispersión"
   ]
  },
  {
   "cell_type": "markdown",
   "metadata": {},
   "source": [
    "Investigue los siguientes conceptos\n",
    "\n",
    "* Media o promedio\n",
    "* Mediana \n",
    "* Modo\n",
    "* Varianza\n",
    "* Desviación estandar\n",
    "* Investique como se calculan los anteriores en `python`\n"
   ]
  },
  {
   "cell_type": "code",
   "execution_count": null,
   "metadata": {},
   "outputs": [],
   "source": []
  },
  {
   "cell_type": "markdown",
   "metadata": {},
   "source": [
    "# 4. Análisis estadístico de un grupo"
   ]
  },
  {
   "cell_type": "code",
   "execution_count": null,
   "metadata": {},
   "outputs": [],
   "source": []
  },
  {
   "cell_type": "markdown",
   "metadata": {},
   "source": [
    "* Escriba una función que se llame `workbook()`, que reciba mediante `input` el grupo de y el numero de tareas. La función debe crear un `Workbook` que se llame `estudiantes.cvs` o `estudiantes.xlsx`con una hoja que tenga el nombre del grupo, además de que el primer renglon tenga el nombre de alumno, numero de cuenta y los nombres de las tareas.\n",
    "\n",
    "\n",
    "\n",
    "* Codifique una función que se llame `students()` que reciba con un `input` el `Workbook` que se desea trabajar, además de mostrar y poder elegir una hoja a trabajar.\n",
    "\n",
    "* La función `students()` debe permitir mediante uno o varios `inputs` llenar una hoja\n",
    "\n",
    "* Escriba una segunda función que se llame `mesures()`, que pida el nombre del `Workbook`, muestre todas la hojas y de a elegir alguna de ellas, y además calcule el promedio, varianza y desviación estandar para cada una de las tareas del grupo.\n",
    "\n",
    "* En un mismo  `frame` haga un histograma y además muestre el promedio, varianza y desviación estandar por cada tarea."
   ]
  },
  {
   "cell_type": "code",
   "execution_count": null,
   "metadata": {},
   "outputs": [],
   "source": []
  }
 ],
 "metadata": {
  "kernelspec": {
   "display_name": "Python 3",
   "language": "python",
   "name": "python3"
  },
  "language_info": {
   "codemirror_mode": {
    "name": "ipython",
    "version": 3
   },
   "file_extension": ".py",
   "mimetype": "text/x-python",
   "name": "python",
   "nbconvert_exporter": "python",
   "pygments_lexer": "ipython3",
   "version": "3.6.5"
  }
 },
 "nbformat": 4,
 "nbformat_minor": 4
}
