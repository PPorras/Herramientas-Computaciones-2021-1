{
 "cells": [
  {
   "cell_type": "code",
   "execution_count": 1,
   "metadata": {},
   "outputs": [],
   "source": [
    "import matplotlib.pyplot as plt # Un paquete de graficos\n",
    "import numpy as np              # Computó Numérico."
   ]
  },
  {
   "cell_type": "code",
   "execution_count": 2,
   "metadata": {},
   "outputs": [
    {
     "data": {
      "text/plain": [
       "3.141592653589793"
      ]
     },
     "execution_count": 2,
     "metadata": {},
     "output_type": "execute_result"
    }
   ],
   "source": [
    "np.pi"
   ]
  },
  {
   "cell_type": "markdown",
   "metadata": {},
   "source": [
    " * ***(1, 2, 3, 4)***\n",
    " * ***[1, 2, 3, 4]***"
   ]
  },
  {
   "cell_type": "markdown",
   "metadata": {},
   "source": [
    "* Suma vectorial $\\vec{v} = (2, 4, 4)$ y $\\vec{u} = (0, 1, -3)$ $\\vec{v} + \\vec{u} = (2, 5,1)$\n",
    "\n",
    "* Multiplicación escalar $\\vec{v} = (2, 4, 4)$, ahora quiero calcular $\\dfrac{1}{2} \\vec{v} = \\dfrac{1}{2}(2, 4, 4) = (1, 2, 2)$"
   ]
  },
  {
   "cell_type": "code",
   "execution_count": null,
   "metadata": {},
   "outputs": [],
   "source": [
    "np.pi"
   ]
  },
  {
   "cell_type": "code",
   "execution_count": 25,
   "metadata": {},
   "outputs": [],
   "source": [
    "v = np.array((2, 4, 4))\n",
    "u = np.array((0, 1, -3))"
   ]
  },
  {
   "cell_type": "code",
   "execution_count": 26,
   "metadata": {},
   "outputs": [
    {
     "data": {
      "text/plain": [
       "numpy.ndarray"
      ]
     },
     "execution_count": 26,
     "metadata": {},
     "output_type": "execute_result"
    }
   ],
   "source": [
    "type(v)"
   ]
  },
  {
   "cell_type": "code",
   "execution_count": 27,
   "metadata": {},
   "outputs": [
    {
     "data": {
      "text/plain": [
       "array([2, 5, 1])"
      ]
     },
     "execution_count": 27,
     "metadata": {},
     "output_type": "execute_result"
    }
   ],
   "source": [
    "v + u"
   ]
  },
  {
   "cell_type": "code",
   "execution_count": 28,
   "metadata": {},
   "outputs": [
    {
     "data": {
      "text/plain": [
       "array([1., 2., 2.])"
      ]
     },
     "execution_count": 28,
     "metadata": {},
     "output_type": "execute_result"
    }
   ],
   "source": [
    "(1/2)*v"
   ]
  },
  {
   "cell_type": "code",
   "execution_count": 23,
   "metadata": {},
   "outputs": [],
   "source": [
    "?np.array"
   ]
  },
  {
   "cell_type": "code",
   "execution_count": 24,
   "metadata": {},
   "outputs": [
    {
     "data": {
      "text/plain": [
       "\"array(object, dtype=None, copy=True, order='K', subok=False, ndmin=0)\\n\\n    Create an array.\\n\\n    Parameters\\n    ----------\\n    object : array_like\\n        An array, any object exposing the array interface, an object whose\\n        __array__ method returns an array, or any (nested) sequence.\\n    dtype : data-type, optional\\n        The desired data-type for the array.  If not given, then the type will\\n        be determined as the minimum type required to hold the objects in the\\n        sequence.  This argument can only be used to 'upcast' the array.  For\\n        downcasting, use the .astype(t) method.\\n    copy : bool, optional\\n        If true (default), then the object is copied.  Otherwise, a copy will\\n        only be made if __array__ returns a copy, if obj is a nested sequence,\\n        or if a copy is needed to satisfy any of the other requirements\\n        (`dtype`, `order`, etc.).\\n    order : {'K', 'A', 'C', 'F'}, optional\\n        Specify the memory layout of the array. If object is not an array, the\\n        newly created array will be in C order (row major) unless 'F' is\\n        specified, in which case it will be in Fortran order (column major).\\n        If object is an array the following holds.\\n\\n        ===== ========= ===================================================\\n        order  no copy                     copy=True\\n        ===== ========= ===================================================\\n        'K'   unchanged F & C order preserved, otherwise most similar order\\n        'A'   unchanged F order if input is F and not C, otherwise C order\\n        'C'   C order   C order\\n        'F'   F order   F order\\n        ===== ========= ===================================================\\n\\n        When ``copy=False`` and a copy is made for other reasons, the result is\\n        the same as if ``copy=True``, with some exceptions for `A`, see the\\n        Notes section. The default order is 'K'.\\n    subok : bool, optional\\n        If True, then sub-classes will be passed-through, otherwise\\n        the returned array will be forced to be a base-class array (default).\\n    ndmin : int, optional\\n        Specifies the minimum number of dimensions that the resulting\\n        array should have.  Ones will be pre-pended to the shape as\\n        needed to meet this requirement.\\n\\n    Returns\\n    -------\\n    out : ndarray\\n        An array object satisfying the specified requirements.\\n\\n    See Also\\n    --------\\n    empty_like : Return an empty array with shape and type of input.\\n    ones_like : Return an array of ones with shape and type of input.\\n    zeros_like : Return an array of zeros with shape and type of input.\\n    full_like : Return a new array with shape of input filled with value.\\n    empty : Return a new uninitialized array.\\n    ones : Return a new array setting values to one.\\n    zeros : Return a new array setting values to zero.\\n    full : Return a new array of given shape filled with value.\\n\\n\\n    Notes\\n    -----\\n    When order is 'A' and `object` is an array in neither 'C' nor 'F' order,\\n    and a copy is forced by a change in dtype, then the order of the result is\\n    not necessarily 'C' as expected. This is likely a bug.\\n\\n    Examples\\n    --------\\n    >>> np.array([1, 2, 3])\\n    array([1, 2, 3])\\n\\n    Upcasting:\\n\\n    >>> np.array([1, 2, 3.0])\\n    array([ 1.,  2.,  3.])\\n\\n    More than one dimension:\\n\\n    >>> np.array([[1, 2], [3, 4]])\\n    array([[1, 2],\\n           [3, 4]])\\n\\n    Minimum dimensions 2:\\n\\n    >>> np.array([1, 2, 3], ndmin=2)\\n    array([[1, 2, 3]])\\n\\n    Type provided:\\n\\n    >>> np.array([1, 2, 3], dtype=complex)\\n    array([ 1.+0.j,  2.+0.j,  3.+0.j])\\n\\n    Data-type consisting of more than one element:\\n\\n    >>> x = np.array([(1,2),(3,4)],dtype=[('a','<i4'),('b','<i4')])\\n    >>> x['a']\\n    array([1, 3])\\n\\n    Creating an array from sub-classes:\\n\\n    >>> np.array(np.mat('1 2; 3 4'))\\n    array([[1, 2],\\n           [3, 4]])\\n\\n    >>> np.array(np.mat('1 2; 3 4'), subok=True)\\n    matrix([[1, 2],\\n            [3, 4]])\""
      ]
     },
     "execution_count": 24,
     "metadata": {},
     "output_type": "execute_result"
    }
   ],
   "source": [
    "np.array.__doc__"
   ]
  },
  {
   "cell_type": "markdown",
   "metadata": {},
   "source": [
    "# Plot "
   ]
  },
  {
   "cell_type": "markdown",
   "metadata": {},
   "source": [
    "```python\n",
    "linspace(x_0, x_f, puntos)```\n",
    "\n",
    "**`linspace`, por defecto nos genera una tipo `array` de 50 puntos**"
   ]
  },
  {
   "cell_type": "code",
   "execution_count": 37,
   "metadata": {},
   "outputs": [
    {
     "data": {
      "text/plain": [
       "array([ 0. ,  0.2,  0.4,  0.6,  0.8,  1. ,  1.2,  1.4,  1.6,  1.8,  2. ,\n",
       "        2.2,  2.4,  2.6,  2.8,  3. ,  3.2,  3.4,  3.6,  3.8,  4. ,  4.2,\n",
       "        4.4,  4.6,  4.8,  5. ,  5.2,  5.4,  5.6,  5.8,  6. ,  6.2,  6.4,\n",
       "        6.6,  6.8,  7. ,  7.2,  7.4,  7.6,  7.8,  8. ,  8.2,  8.4,  8.6,\n",
       "        8.8,  9. ,  9.2,  9.4,  9.6,  9.8, 10. ])"
      ]
     },
     "execution_count": 37,
     "metadata": {},
     "output_type": "execute_result"
    }
   ],
   "source": [
    "np.arange(0, 10.2, 0.2)"
   ]
  },
  {
   "cell_type": "code",
   "execution_count": 36,
   "metadata": {},
   "outputs": [
    {
     "data": {
      "text/plain": [
       "array([ 0. ,  0.2,  0.4,  0.6,  0.8,  1. ,  1.2,  1.4,  1.6,  1.8,  2. ,\n",
       "        2.2,  2.4,  2.6,  2.8,  3. ,  3.2,  3.4,  3.6,  3.8,  4. ,  4.2,\n",
       "        4.4,  4.6,  4.8,  5. ,  5.2,  5.4,  5.6,  5.8,  6. ,  6.2,  6.4,\n",
       "        6.6,  6.8,  7. ,  7.2,  7.4,  7.6,  7.8,  8. ,  8.2,  8.4,  8.6,\n",
       "        8.8,  9. ,  9.2,  9.4,  9.6,  9.8, 10. ])"
      ]
     },
     "execution_count": 36,
     "metadata": {},
     "output_type": "execute_result"
    }
   ],
   "source": [
    "np.linspace(0, 10, 51)"
   ]
  },
  {
   "cell_type": "code",
   "execution_count": 38,
   "metadata": {},
   "outputs": [],
   "source": [
    "x = np.linspace(-2*np.pi, 2*np.pi, 200)"
   ]
  },
  {
   "cell_type": "code",
   "execution_count": 39,
   "metadata": {},
   "outputs": [
    {
     "name": "stdout",
     "output_type": "stream",
     "text": [
      "[-6.28318531 -6.22003772 -6.15689013 -6.09374253 -6.03059494 -5.96744735\n",
      " -5.90429976 -5.84115217 -5.77800458 -5.71485699 -5.6517094  -5.58856181\n",
      " -5.52541421 -5.46226662 -5.39911903 -5.33597144 -5.27282385 -5.20967626\n",
      " -5.14652867 -5.08338108 -5.02023349 -4.9570859  -4.8939383  -4.83079071\n",
      " -4.76764312 -4.70449553 -4.64134794 -4.57820035 -4.51505276 -4.45190517\n",
      " -4.38875758 -4.32560999 -4.26246239 -4.1993148  -4.13616721 -4.07301962\n",
      " -4.00987203 -3.94672444 -3.88357685 -3.82042926 -3.75728167 -3.69413408\n",
      " -3.63098648 -3.56783889 -3.5046913  -3.44154371 -3.37839612 -3.31524853\n",
      " -3.25210094 -3.18895335 -3.12580576 -3.06265816 -2.99951057 -2.93636298\n",
      " -2.87321539 -2.8100678  -2.74692021 -2.68377262 -2.62062503 -2.55747744\n",
      " -2.49432985 -2.43118225 -2.36803466 -2.30488707 -2.24173948 -2.17859189\n",
      " -2.1154443  -2.05229671 -1.98914912 -1.92600153 -1.86285394 -1.79970634\n",
      " -1.73655875 -1.67341116 -1.61026357 -1.54711598 -1.48396839 -1.4208208\n",
      " -1.35767321 -1.29452562 -1.23137803 -1.16823043 -1.10508284 -1.04193525\n",
      " -0.97878766 -0.91564007 -0.85249248 -0.78934489 -0.7261973  -0.66304971\n",
      " -0.59990211 -0.53675452 -0.47360693 -0.41045934 -0.34731175 -0.28416416\n",
      " -0.22101657 -0.15786898 -0.09472139 -0.0315738   0.0315738   0.09472139\n",
      "  0.15786898  0.22101657  0.28416416  0.34731175  0.41045934  0.47360693\n",
      "  0.53675452  0.59990211  0.66304971  0.7261973   0.78934489  0.85249248\n",
      "  0.91564007  0.97878766  1.04193525  1.10508284  1.16823043  1.23137803\n",
      "  1.29452562  1.35767321  1.4208208   1.48396839  1.54711598  1.61026357\n",
      "  1.67341116  1.73655875  1.79970634  1.86285394  1.92600153  1.98914912\n",
      "  2.05229671  2.1154443   2.17859189  2.24173948  2.30488707  2.36803466\n",
      "  2.43118225  2.49432985  2.55747744  2.62062503  2.68377262  2.74692021\n",
      "  2.8100678   2.87321539  2.93636298  2.99951057  3.06265816  3.12580576\n",
      "  3.18895335  3.25210094  3.31524853  3.37839612  3.44154371  3.5046913\n",
      "  3.56783889  3.63098648  3.69413408  3.75728167  3.82042926  3.88357685\n",
      "  3.94672444  4.00987203  4.07301962  4.13616721  4.1993148   4.26246239\n",
      "  4.32560999  4.38875758  4.45190517  4.51505276  4.57820035  4.64134794\n",
      "  4.70449553  4.76764312  4.83079071  4.8939383   4.9570859   5.02023349\n",
      "  5.08338108  5.14652867  5.20967626  5.27282385  5.33597144  5.39911903\n",
      "  5.46226662  5.52541421  5.58856181  5.6517094   5.71485699  5.77800458\n",
      "  5.84115217  5.90429976  5.96744735  6.03059494  6.09374253  6.15689013\n",
      "  6.22003772  6.28318531]\n"
     ]
    }
   ],
   "source": [
    "print(x)"
   ]
  },
  {
   "cell_type": "code",
   "execution_count": 40,
   "metadata": {},
   "outputs": [
    {
     "data": {
      "text/plain": [
       "200"
      ]
     },
     "execution_count": 40,
     "metadata": {},
     "output_type": "execute_result"
    }
   ],
   "source": [
    "len(x)"
   ]
  },
  {
   "cell_type": "code",
   "execution_count": 41,
   "metadata": {},
   "outputs": [
    {
     "data": {
      "text/plain": [
       "numpy.ndarray"
      ]
     },
     "execution_count": 41,
     "metadata": {},
     "output_type": "execute_result"
    }
   ],
   "source": [
    "type(x)"
   ]
  },
  {
   "cell_type": "code",
   "execution_count": 42,
   "metadata": {},
   "outputs": [
    {
     "data": {
      "text/plain": [
       "numpy.ndarray"
      ]
     },
     "execution_count": 42,
     "metadata": {},
     "output_type": "execute_result"
    }
   ],
   "source": [
    "type(x)"
   ]
  },
  {
   "cell_type": "code",
   "execution_count": 46,
   "metadata": {},
   "outputs": [
    {
     "data": {
      "text/plain": [
       "array([1., 1., 1., 1., 1., 1., 1., 1., 1., 1., 1., 1., 1., 1., 1., 1., 1.,\n",
       "       1., 1., 1., 1., 1., 1., 1., 1., 1., 1., 1., 1., 1., 1., 1., 1., 1.,\n",
       "       1., 1., 1., 1., 1., 1., 1., 1., 1., 1., 1., 1., 1., 1., 1., 1., 1.,\n",
       "       1., 1., 1., 1., 1., 1., 1., 1., 1., 1., 1., 1., 1., 1., 1., 1., 1.,\n",
       "       1., 1., 1., 1., 1., 1., 1., 1., 1., 1., 1., 1., 1., 1., 1., 1., 1.,\n",
       "       1., 1., 1., 1., 1., 1., 1., 1., 1., 1., 1., 1., 1., 1., 1.])"
      ]
     },
     "execution_count": 46,
     "metadata": {},
     "output_type": "execute_result"
    }
   ],
   "source": [
    "np.ones(100)"
   ]
  },
  {
   "cell_type": "code",
   "execution_count": 48,
   "metadata": {},
   "outputs": [
    {
     "data": {
      "text/plain": [
       "array([0., 0., 0., 0., 0., 0., 0., 0., 0., 0., 0., 0., 0., 0., 0., 0., 0.,\n",
       "       0., 0., 0.])"
      ]
     },
     "execution_count": 48,
     "metadata": {},
     "output_type": "execute_result"
    }
   ],
   "source": [
    "np.zeros(20)"
   ]
  },
  {
   "cell_type": "code",
   "execution_count": 50,
   "metadata": {},
   "outputs": [
    {
     "data": {
      "text/plain": [
       "array([5., 5., 5., 5., 5., 5., 5., 5., 5., 5., 5., 5., 5., 5., 5., 5., 5.,\n",
       "       5., 5., 5.])"
      ]
     },
     "execution_count": 50,
     "metadata": {},
     "output_type": "execute_result"
    }
   ],
   "source": [
    "5*np.ones(20)"
   ]
  },
  {
   "cell_type": "markdown",
   "metadata": {},
   "source": [
    "### Comando `plot()`\n",
    "\n",
    "\n",
    "\n",
    "```python\n",
    "    plt.plot(*args, scalex=True, scaley=True, data=None, **kwargs)\n",
    "```\n",
    "\n",
    "**Parametros**\n",
    "\n",
    "x, y: tipo array\n",
    "\n",
    " > Las coordenadas horizontales / verticales de los puntos de datos. Los valores `x ` son opcionales. Si no se proporcionan, el valor predeterminado es `` [0, ..., N-1] ``.\n",
    " \n",
    " >  Comúnmente, estos parámetros son `array` de longitud N. Sin embargo, los escalares también son compatibles (equivalente a una matriz con valor constante).\n",
    " \n",
    "> Regresa una lista de objetos `.Line2D` que representan los datos trazados.\n",
    "\n"
   ]
  },
  {
   "cell_type": "code",
   "execution_count": 100,
   "metadata": {},
   "outputs": [],
   "source": [
    "x = np.linspace(-2*np.pi, 2*np.pi, 201)"
   ]
  },
  {
   "cell_type": "code",
   "execution_count": 69,
   "metadata": {},
   "outputs": [],
   "source": [
    "y = np.sin(x)"
   ]
  },
  {
   "cell_type": "code",
   "execution_count": 70,
   "metadata": {},
   "outputs": [
    {
     "name": "stdout",
     "output_type": "stream",
     "text": [
      "[ 2.44929360e-16  6.27905195e-02  1.25333234e-01  1.87381315e-01\n",
      "  2.48689887e-01  3.09016994e-01  3.68124553e-01  4.25779292e-01\n",
      "  4.81753674e-01  5.35826795e-01  5.87785252e-01  6.37423990e-01\n",
      "  6.84547106e-01  7.28968627e-01  7.70513243e-01  8.09016994e-01\n",
      "  8.44327926e-01  8.76306680e-01  9.04827052e-01  9.29776486e-01\n",
      "  9.51056516e-01  9.68583161e-01  9.82287251e-01  9.92114701e-01\n",
      "  9.98026728e-01  1.00000000e+00  9.98026728e-01  9.92114701e-01\n",
      "  9.82287251e-01  9.68583161e-01  9.51056516e-01  9.29776486e-01\n",
      "  9.04827052e-01  8.76306680e-01  8.44327926e-01  8.09016994e-01\n",
      "  7.70513243e-01  7.28968627e-01  6.84547106e-01  6.37423990e-01\n",
      "  5.87785252e-01  5.35826795e-01  4.81753674e-01  4.25779292e-01\n",
      "  3.68124553e-01  3.09016994e-01  2.48689887e-01  1.87381315e-01\n",
      "  1.25333234e-01  6.27905195e-02 -5.66553890e-16 -6.27905195e-02\n",
      " -1.25333234e-01 -1.87381315e-01 -2.48689887e-01 -3.09016994e-01\n",
      " -3.68124553e-01 -4.25779292e-01 -4.81753674e-01 -5.35826795e-01\n",
      " -5.87785252e-01 -6.37423990e-01 -6.84547106e-01 -7.28968627e-01\n",
      " -7.70513243e-01 -8.09016994e-01 -8.44327926e-01 -8.76306680e-01\n",
      " -9.04827052e-01 -9.29776486e-01 -9.51056516e-01 -9.68583161e-01\n",
      " -9.82287251e-01 -9.92114701e-01 -9.98026728e-01 -1.00000000e+00\n",
      " -9.98026728e-01 -9.92114701e-01 -9.82287251e-01 -9.68583161e-01\n",
      " -9.51056516e-01 -9.29776486e-01 -9.04827052e-01 -8.76306680e-01\n",
      " -8.44327926e-01 -8.09016994e-01 -7.70513243e-01 -7.28968627e-01\n",
      " -6.84547106e-01 -6.37423990e-01 -5.87785252e-01 -5.35826795e-01\n",
      " -4.81753674e-01 -4.25779292e-01 -3.68124553e-01 -3.09016994e-01\n",
      " -2.48689887e-01 -1.87381315e-01 -1.25333234e-01 -6.27905195e-02\n",
      "  8.88178420e-16  6.27905195e-02  1.25333234e-01  1.87381315e-01\n",
      "  2.48689887e-01  3.09016994e-01  3.68124553e-01  4.25779292e-01\n",
      "  4.81753674e-01  5.35826795e-01  5.87785252e-01  6.37423990e-01\n",
      "  6.84547106e-01  7.28968627e-01  7.70513243e-01  8.09016994e-01\n",
      "  8.44327926e-01  8.76306680e-01  9.04827052e-01  9.29776486e-01\n",
      "  9.51056516e-01  9.68583161e-01  9.82287251e-01  9.92114701e-01\n",
      "  9.98026728e-01  1.00000000e+00  9.98026728e-01  9.92114701e-01\n",
      "  9.82287251e-01  9.68583161e-01  9.51056516e-01  9.29776486e-01\n",
      "  9.04827052e-01  8.76306680e-01  8.44327926e-01  8.09016994e-01\n",
      "  7.70513243e-01  7.28968627e-01  6.84547106e-01  6.37423990e-01\n",
      "  5.87785252e-01  5.35826795e-01  4.81753674e-01  4.25779292e-01\n",
      "  3.68124553e-01  3.09016994e-01  2.48689887e-01  1.87381315e-01\n",
      "  1.25333234e-01  6.27905195e-02  1.22464680e-16 -6.27905195e-02\n",
      " -1.25333234e-01 -1.87381315e-01 -2.48689887e-01 -3.09016994e-01\n",
      " -3.68124553e-01 -4.25779292e-01 -4.81753674e-01 -5.35826795e-01\n",
      " -5.87785252e-01 -6.37423990e-01 -6.84547106e-01 -7.28968627e-01\n",
      " -7.70513243e-01 -8.09016994e-01 -8.44327926e-01 -8.76306680e-01\n",
      " -9.04827052e-01 -9.29776486e-01 -9.51056516e-01 -9.68583161e-01\n",
      " -9.82287251e-01 -9.92114701e-01 -9.98026728e-01 -1.00000000e+00\n",
      " -9.98026728e-01 -9.92114701e-01 -9.82287251e-01 -9.68583161e-01\n",
      " -9.51056516e-01 -9.29776486e-01 -9.04827052e-01 -8.76306680e-01\n",
      " -8.44327926e-01 -8.09016994e-01 -7.70513243e-01 -7.28968627e-01\n",
      " -6.84547106e-01 -6.37423990e-01 -5.87785252e-01 -5.35826795e-01\n",
      " -4.81753674e-01 -4.25779292e-01 -3.68124553e-01 -3.09016994e-01\n",
      " -2.48689887e-01 -1.87381315e-01 -1.25333234e-01 -6.27905195e-02\n",
      " -2.44929360e-16]\n"
     ]
    }
   ],
   "source": [
    "print(y)"
   ]
  },
  {
   "cell_type": "code",
   "execution_count": 91,
   "metadata": {},
   "outputs": [
    {
     "data": {
      "text/plain": [
       "[<matplotlib.lines.Line2D at 0x115a70ac8>]"
      ]
     },
     "execution_count": 91,
     "metadata": {},
     "output_type": "execute_result"
    },
    {
     "data": {
      "image/png": "[encoded data removed]",
      "text/plain": [
       "<Figure size 432x288 with 1 Axes>"
      ]
     },
     "metadata": {
      "needs_background": "light"
     },
     "output_type": "display_data"
    }
   ],
   "source": [
    "plt.plot(x, y,marker =  ',', color = \"m\")"
   ]
  },
  {
   "cell_type": "markdown",
   "metadata": {},
   "source": [
    "fmt: str, opcional\n",
    ">     Una cadena de formato, es decir. 'ro' para círculos rojos. Consulte aquí para obtener una descripción completa de las cadenas de formato.\n",
    "\n",
    ">  Las cadenas deformato son una abreviatura para establecer rápidamente las propiedades básicas de la línea. Todo esto y más también se puede controlar mediante argumentos de palabras clave.\n",
    "\n",
    "\n",
    "\n",
    "**Format Strings**\n",
    "\n",
    "Un formato de cadena consiste de una parte para el color, marker and linea:\n",
    "\n",
    "`fmt = '[color][marker][line]'`\n",
    "\n",
    "Cada uno de ellos es opcional. \n",
    "\n",
    "**Colores**\n",
    "\n",
    "Las siguiente son abreviaturas para los colores:\n",
    "\n",
    "\n",
    "|caracter   |     color     |\n",
    "|-----------|---------------|\n",
    "|``'b'``    |      blue     |\n",
    "|``'g'``    |      green    |\n",
    "|``'r'``    |      red      |\n",
    "|``'c'``    |      cyan     |\n",
    "|``'m'``    |      magenta  |\n",
    "|``'y'``    |      yellow   |\n",
    "|``'k'``    |      black    |\n",
    "|``'w'``    |      white    |\n",
    "\n",
    "\n",
    "**Markers**\n",
    "\n",
    "\n",
    "|character     |   description             |\n",
    "|--------------|---------------------------|\n",
    "| ``'.'``      |   point marker            | \n",
    "| ``','``      |   pixel marker            |\n",
    "| ``'o'``      |   circle marker           |\n",
    "| ``'v'``      |   triangle_down marker    |\n",
    "| ``'^'``      |   triangle_up marker      |\n",
    "| ``'<'``      |   triangle_left marker    |\n",
    "| ``'>'``      |   triangle_right marker   |\n",
    "| ``'1'``      |   tri_down marker         |\n",
    "| ``'2'``      |   tri_up marker           |\n",
    "| ``'3'``      |   tri_left marker         |\n",
    "|``'4'``        |  tri_right marker|\n",
    "|``'s'``         | square marker|\n",
    "|``'p'``         | pentagon marker|\n",
    "``'*'``          |star marker\n",
    "|``'h'``          |hexagon1 marker|\n",
    "``'H'``          |hexagon2 marker|\n",
    "|``'+'``          |plus marker|\n",
    "|``'x'``          |x marker|\n",
    "|``'D'``          |diamond marker|\n",
    "|``'d'``          |thin_diamond marker|\n",
    "|``'|'``          |vline marker|\n",
    "|``'_'``          |hline marker|\n",
    "\n",
    "\n",
    "\n",
    "\n",
    "\n",
    "**Estilo de línea**\n",
    "\n",
    "\n",
    "|character  |      description|\n",
    "|-----------|-----------------------|\n",
    "|``'-'``    |     solid line style  |\n",
    "|``'--'``   |     dashed line style |\n",
    "|``'-.'``   |     dash-dot line style|\n",
    "|``':'``    |     dotted line style |\n",
    "\n",
    "\n",
    "Ejemplo de un formato de cadena::\n",
    "\n",
    "    'b'    # blue markers with default shape\n",
    "    'ro'   # red circles\n",
    "    'g-'   # green solid line\n",
    "    '--'   # dashed line with default color\n",
    "    'k^:'  # black triangle_up markers connected by a dotted line\n",
    "    \n",
    "    \n",
    "    "
   ]
  },
  {
   "cell_type": "code",
   "execution_count": 95,
   "metadata": {},
   "outputs": [
    {
     "data": {
      "text/plain": [
       "[<matplotlib.lines.Line2D at 0x1162cad68>]"
      ]
     },
     "execution_count": 95,
     "metadata": {},
     "output_type": "execute_result"
    },
    {
     "data": {
      "image/png": "[encoded data removed]",
      "text/plain": [
       "<Figure size 432x288 with 1 Axes>"
      ]
     },
     "metadata": {
      "needs_background": "light"
     },
     "output_type": "display_data"
    }
   ],
   "source": [
    "plt.plot(x, y, \"cx-.\")"
   ]
  },
  {
   "cell_type": "code",
   "execution_count": 96,
   "metadata": {},
   "outputs": [
    {
     "data": {
      "text/plain": [
       "[<matplotlib.lines.Line2D at 0x11641fe48>]"
      ]
     },
     "execution_count": 96,
     "metadata": {},
     "output_type": "execute_result"
    },
    {
     "data": {
      "image/png": "[encoded data removed]",
      "text/plain": [
       "<Figure size 432x288 with 1 Axes>"
      ]
     },
     "metadata": {
      "needs_background": "light"
     },
     "output_type": "display_data"
    }
   ],
   "source": [
    "plt.plot(x, y, color = \"c\", marker = \"x\", linestyle = \"-.\")"
   ]
  },
  {
   "cell_type": "code",
   "execution_count": 106,
   "metadata": {},
   "outputs": [],
   "source": [
    "%matplotlib inline"
   ]
  },
  {
   "cell_type": "code",
   "execution_count": 101,
   "metadata": {},
   "outputs": [],
   "source": [
    "%matplotlib notebook"
   ]
  },
  {
   "cell_type": "code",
   "execution_count": 102,
   "metadata": {},
   "outputs": [],
   "source": [
    "C = np.cos(x)"
   ]
  },
  {
   "cell_type": "code",
   "execution_count": 107,
   "metadata": {},
   "outputs": [
    {
     "data": {
      "text/plain": [
       "[<matplotlib.lines.Line2D at 0x1170f7748>]"
      ]
     },
     "execution_count": 107,
     "metadata": {},
     "output_type": "execute_result"
    },
    {
     "data": {
      "image/png": "[encoded data removed]",
      "text/plain": [
       "<Figure size 432x288 with 1 Axes>"
      ]
     },
     "metadata": {
      "needs_background": "light"
     },
     "output_type": "display_data"
    }
   ],
   "source": [
    "plt.plot(x, C,'m*')"
   ]
  },
  {
   "cell_type": "code",
   "execution_count": 109,
   "metadata": {},
   "outputs": [
    {
     "data": {
      "text/plain": [
       "[<matplotlib.lines.Line2D at 0x1171d56d8>]"
      ]
     },
     "execution_count": 109,
     "metadata": {},
     "output_type": "execute_result"
    },
    {
     "data": {
      "image/png": "[encoded data removed]",
      "text/plain": [
       "<Figure size 432x288 with 1 Axes>"
      ]
     },
     "metadata": {
      "needs_background": "light"
     },
     "output_type": "display_data"
    }
   ],
   "source": [
    "plt.plot(x, C, color = \"blue\", marker = \"o\", linestyle = \":\", linewidth = 2, markersize = 3)"
   ]
  },
  {
   "cell_type": "code",
   "execution_count": 111,
   "metadata": {},
   "outputs": [
    {
     "data": {
      "text/plain": [
       "[<matplotlib.lines.Line2D at 0x11723e470>]"
      ]
     },
     "execution_count": 111,
     "metadata": {},
     "output_type": "execute_result"
    },
    {
     "data": {
      "image/png": "[encoded data removed]",
      "text/plain": [
       "<Figure size 432x288 with 1 Axes>"
      ]
     },
     "metadata": {
      "needs_background": "light"
     },
     "output_type": "display_data"
    }
   ],
   "source": [
    "plt.plot(x, C, 'bo:', linewidth = 2, markersize =3)"
   ]
  },
  {
   "cell_type": "markdown",
   "metadata": {},
   "source": [
    "* `xlabel`\n",
    "* `ylabel`"
   ]
  },
  {
   "cell_type": "code",
   "execution_count": 119,
   "metadata": {},
   "outputs": [
    {
     "data": {
      "text/plain": [
       "Text(0.5, 0, '$x$')"
      ]
     },
     "execution_count": 119,
     "metadata": {},
     "output_type": "execute_result"
    },
    {
     "data": {
      "image/png": "[encoded data removed]",
      "text/plain": [
       "<Figure size 432x288 with 1 Axes>"
      ]
     },
     "metadata": {
      "needs_background": "light"
     },
     "output_type": "display_data"
    }
   ],
   "source": [
    "plt.plot(x, C, 'bo-.',linewidth=2, markersize=4, label = r\"$cos$\")\n",
    "#plt.ylabel('$f(x)$', fontsize=13)\n",
    "plt.ylabel(r'$f(x)$', fontsize = 13, rotation = 0)\n",
    "plt.xlabel(r'$x$', fontsize = 13, rotation = 0)\n"
   ]
  },
  {
   "cell_type": "markdown",
   "metadata": {},
   "source": [
    "* `xlim()`\n",
    "* `ylim()`"
   ]
  },
  {
   "cell_type": "code",
   "execution_count": 120,
   "metadata": {},
   "outputs": [
    {
     "data": {
      "text/plain": [
       "array([ 1.00000000e+00,  9.98026728e-01,  9.92114701e-01,  9.82287251e-01,\n",
       "        9.68583161e-01,  9.51056516e-01,  9.29776486e-01,  9.04827052e-01,\n",
       "        8.76306680e-01,  8.44327926e-01,  8.09016994e-01,  7.70513243e-01,\n",
       "        7.28968627e-01,  6.84547106e-01,  6.37423990e-01,  5.87785252e-01,\n",
       "        5.35826795e-01,  4.81753674e-01,  4.25779292e-01,  3.68124553e-01,\n",
       "        3.09016994e-01,  2.48689887e-01,  1.87381315e-01,  1.25333234e-01,\n",
       "        6.27905195e-02, -1.83697020e-16, -6.27905195e-02, -1.25333234e-01,\n",
       "       -1.87381315e-01, -2.48689887e-01, -3.09016994e-01, -3.68124553e-01,\n",
       "       -4.25779292e-01, -4.81753674e-01, -5.35826795e-01, -5.87785252e-01,\n",
       "       -6.37423990e-01, -6.84547106e-01, -7.28968627e-01, -7.70513243e-01,\n",
       "       -8.09016994e-01, -8.44327926e-01, -8.76306680e-01, -9.04827052e-01,\n",
       "       -9.29776486e-01, -9.51056516e-01, -9.68583161e-01, -9.82287251e-01,\n",
       "       -9.92114701e-01, -9.98026728e-01, -1.00000000e+00, -9.98026728e-01,\n",
       "       -9.92114701e-01, -9.82287251e-01, -9.68583161e-01, -9.51056516e-01,\n",
       "       -9.29776486e-01, -9.04827052e-01, -8.76306680e-01, -8.44327926e-01,\n",
       "       -8.09016994e-01, -7.70513243e-01, -7.28968627e-01, -6.84547106e-01,\n",
       "       -6.37423990e-01, -5.87785252e-01, -5.35826795e-01, -4.81753674e-01,\n",
       "       -4.25779292e-01, -3.68124553e-01, -3.09016994e-01, -2.48689887e-01,\n",
       "       -1.87381315e-01, -1.25333234e-01, -6.27905195e-02,  6.12323400e-17,\n",
       "        6.27905195e-02,  1.25333234e-01,  1.87381315e-01,  2.48689887e-01,\n",
       "        3.09016994e-01,  3.68124553e-01,  4.25779292e-01,  4.81753674e-01,\n",
       "        5.35826795e-01,  5.87785252e-01,  6.37423990e-01,  6.84547106e-01,\n",
       "        7.28968627e-01,  7.70513243e-01,  8.09016994e-01,  8.44327926e-01,\n",
       "        8.76306680e-01,  9.04827052e-01,  9.29776486e-01,  9.51056516e-01,\n",
       "        9.68583161e-01,  9.82287251e-01,  9.92114701e-01,  9.98026728e-01,\n",
       "        1.00000000e+00,  9.98026728e-01,  9.92114701e-01,  9.82287251e-01,\n",
       "        9.68583161e-01,  9.51056516e-01,  9.29776486e-01,  9.04827052e-01,\n",
       "        8.76306680e-01,  8.44327926e-01,  8.09016994e-01,  7.70513243e-01,\n",
       "        7.28968627e-01,  6.84547106e-01,  6.37423990e-01,  5.87785252e-01,\n",
       "        5.35826795e-01,  4.81753674e-01,  4.25779292e-01,  3.68124553e-01,\n",
       "        3.09016994e-01,  2.48689887e-01,  1.87381315e-01,  1.25333234e-01,\n",
       "        6.27905195e-02, -8.26946080e-16, -6.27905195e-02, -1.25333234e-01,\n",
       "       -1.87381315e-01, -2.48689887e-01, -3.09016994e-01, -3.68124553e-01,\n",
       "       -4.25779292e-01, -4.81753674e-01, -5.35826795e-01, -5.87785252e-01,\n",
       "       -6.37423990e-01, -6.84547106e-01, -7.28968627e-01, -7.70513243e-01,\n",
       "       -8.09016994e-01, -8.44327926e-01, -8.76306680e-01, -9.04827052e-01,\n",
       "       -9.29776486e-01, -9.51056516e-01, -9.68583161e-01, -9.82287251e-01,\n",
       "       -9.92114701e-01, -9.98026728e-01, -1.00000000e+00, -9.98026728e-01,\n",
       "       -9.92114701e-01, -9.82287251e-01, -9.68583161e-01, -9.51056516e-01,\n",
       "       -9.29776486e-01, -9.04827052e-01, -8.76306680e-01, -8.44327926e-01,\n",
       "       -8.09016994e-01, -7.70513243e-01, -7.28968627e-01, -6.84547106e-01,\n",
       "       -6.37423990e-01, -5.87785252e-01, -5.35826795e-01, -4.81753674e-01,\n",
       "       -4.25779292e-01, -3.68124553e-01, -3.09016994e-01, -2.48689887e-01,\n",
       "       -1.87381315e-01, -1.25333234e-01, -6.27905195e-02,  1.59265982e-15,\n",
       "        6.27905195e-02,  1.25333234e-01,  1.87381315e-01,  2.48689887e-01,\n",
       "        3.09016994e-01,  3.68124553e-01,  4.25779292e-01,  4.81753674e-01,\n",
       "        5.35826795e-01,  5.87785252e-01,  6.37423990e-01,  6.84547106e-01,\n",
       "        7.28968627e-01,  7.70513243e-01,  8.09016994e-01,  8.44327926e-01,\n",
       "        8.76306680e-01,  9.04827052e-01,  9.29776486e-01,  9.51056516e-01,\n",
       "        9.68583161e-01,  9.82287251e-01,  9.92114701e-01,  9.98026728e-01,\n",
       "        1.00000000e+00])"
      ]
     },
     "execution_count": 120,
     "metadata": {},
     "output_type": "execute_result"
    }
   ],
   "source": [
    "C"
   ]
  },
  {
   "cell_type": "code",
   "execution_count": 121,
   "metadata": {},
   "outputs": [
    {
     "data": {
      "text/plain": [
       "1.0"
      ]
     },
     "execution_count": 121,
     "metadata": {},
     "output_type": "execute_result"
    }
   ],
   "source": [
    "C.max()"
   ]
  },
  {
   "cell_type": "code",
   "execution_count": 124,
   "metadata": {},
   "outputs": [
    {
     "data": {
      "text/plain": [
       "(-1.5, 1.5)"
      ]
     },
     "execution_count": 124,
     "metadata": {},
     "output_type": "execute_result"
    },
    {
     "data": {
      "image/png": "[encoded data removed]",
      "text/plain": [
       "<Figure size 432x288 with 1 Axes>"
      ]
     },
     "metadata": {
      "needs_background": "light"
     },
     "output_type": "display_data"
    }
   ],
   "source": [
    "plt.plot(x, C, 'bx-.', linewidth=2, markersize=12)\n",
    "plt.ylabel(r'$f(x)$',fontsize = 13,rotation =0)\n",
    "plt.xlabel(r'$x$',fontsize = 13,rotation =0)\n",
    "plt.xlim(0, np.pi/2 )\n",
    "plt.ylim(C.min()*1.5, C.max()*1.5)"
   ]
  },
  {
   "cell_type": "markdown",
   "metadata": {},
   "source": [
    "* `xticks()`\n",
    "* `yticks()`"
   ]
  },
  {
   "cell_type": "code",
   "execution_count": 127,
   "metadata": {},
   "outputs": [],
   "source": [
    "x = np.linspace(0, 2*np.pi)"
   ]
  },
  {
   "cell_type": "code",
   "execution_count": 128,
   "metadata": {},
   "outputs": [
    {
     "name": "stdout",
     "output_type": "stream",
     "text": [
      "[0.         0.12822827 0.25645654 0.38468481 0.51291309 0.64114136\n",
      " 0.76936963 0.8975979  1.02582617 1.15405444 1.28228272 1.41051099\n",
      " 1.53873926 1.66696753 1.7951958  1.92342407 2.05165235 2.17988062\n",
      " 2.30810889 2.43633716 2.56456543 2.6927937  2.82102197 2.94925025\n",
      " 3.07747852 3.20570679 3.33393506 3.46216333 3.5903916  3.71861988\n",
      " 3.84684815 3.97507642 4.10330469 4.23153296 4.35976123 4.48798951\n",
      " 4.61621778 4.74444605 4.87267432 5.00090259 5.12913086 5.25735913\n",
      " 5.38558741 5.51381568 5.64204395 5.77027222 5.89850049 6.02672876\n",
      " 6.15495704 6.28318531]\n"
     ]
    }
   ],
   "source": [
    "print(x)"
   ]
  },
  {
   "cell_type": "code",
   "execution_count": 130,
   "metadata": {},
   "outputs": [
    {
     "data": {
      "text/plain": [
       "[<matplotlib.lines.Line2D at 0x117d41748>]"
      ]
     },
     "execution_count": 130,
     "metadata": {},
     "output_type": "execute_result"
    },
    {
     "data": {
      "image/png": "[encoded data removed]",
      "text/plain": [
       "<Figure size 432x288 with 1 Axes>"
      ]
     },
     "metadata": {
      "needs_background": "light"
     },
     "output_type": "display_data"
    }
   ],
   "source": [
    "plt.plot(x,np.sin(x))"
   ]
  },
  {
   "cell_type": "code",
   "execution_count": 131,
   "metadata": {},
   "outputs": [
    {
     "data": {
      "text/plain": [
       "0.7853981633974483"
      ]
     },
     "execution_count": 131,
     "metadata": {},
     "output_type": "execute_result"
    }
   ],
   "source": [
    "np.pi/4"
   ]
  },
  {
   "cell_type": "code",
   "execution_count": 135,
   "metadata": {},
   "outputs": [
    {
     "data": {
      "text/plain": [
       "50"
      ]
     },
     "execution_count": 135,
     "metadata": {},
     "output_type": "execute_result"
    }
   ],
   "source": [
    "len(x)"
   ]
  },
  {
   "cell_type": "code",
   "execution_count": 136,
   "metadata": {},
   "outputs": [
    {
     "data": {
      "text/plain": [
       "201"
      ]
     },
     "execution_count": 136,
     "metadata": {},
     "output_type": "execute_result"
    }
   ],
   "source": [
    "len(C)"
   ]
  },
  {
   "cell_type": "code",
   "execution_count": 134,
   "metadata": {
    "scrolled": true
   },
   "outputs": [
    {
     "data": {
      "image/png": "[encoded data removed]",
      "text/plain": [
       "<Figure size 432x288 with 1 Axes>"
      ]
     },
     "metadata": {
      "needs_background": "light"
     },
     "output_type": "display_data"
    }
   ],
   "source": [
    "plt.plot(x, np.cos(x),'b*-.',linewidth = 2, markersize = 6)\n",
    "plt.ylabel('$f(x)$',fontsize=13, rotation =0, color=\"m\")\n",
    "plt.xlabel('$x$',fontsize=13, rotation =0, color=\"g\")\n",
    "#xlim(0, 2*pi )\n",
    "#ylim(C.min()*1.5, C.max()*1.5)\n",
    "plt.xticks([0,np.pi/4 ,np.pi/2, np.pi, 3*np.pi/2, 2*np.pi],['Sonora', 'Zacatecas',r'$\\pi/2$', r'$\\pi$', r'$3\\pi/2$', r'$2\\pi$'],\n",
    "      rotation = 45, color=\"r\")\n",
    "plt.yticks([-1,0,1],[r'$-1$', r'$0$', r'$1$'],rotation=45,color=\"r\")\n",
    "plt.show()"
   ]
  },
  {
   "cell_type": "code",
   "execution_count": 140,
   "metadata": {},
   "outputs": [
    {
     "data": {
      "image/png": "[encoded data removed]",
      "text/plain": [
       "<Figure size 432x288 with 1 Axes>"
      ]
     },
     "metadata": {
      "needs_background": "light"
     },
     "output_type": "display_data"
    }
   ],
   "source": [
    "plt.plot(x,np.cos(x),'bx-',linewidth=2, markersize=12,label = r'$\\cos(x)$')\n",
    "plt.ylabel('$f(x)$',fontsize=13,rotation =0, color=\"r\")\n",
    "plt.xlabel('$x$',fontsize=13,rotation =0, color=\"g\")\n",
    "plt.xlim(0, 2*np.pi )\n",
    "plt.ylim(C.min()*1.5, C.max()*1.5)\n",
    "plt.xticks([0, np.pi/2, np.pi, 3*np.pi/2, 2*np.pi],[r'$0$', r'$\\pi/2$', r'$\\pi$', r'$3\\pi/2$', r'$2\\pi$'],\n",
    "      rotation = 45, color=\"g\")\n",
    "plt.yticks([-1,0,1],[r'$-1$', r'$0$', r'$1$'],rotation=45,color=\"r\")\n",
    "plt.legend(loc = 'upper left',frameon = True)\n",
    "\n",
    "#legend( loc = \"upper center\")\n",
    "plt.show()"
   ]
  },
  {
   "cell_type": "markdown",
   "metadata": {},
   "source": [
    "`legend(loc=, frameon=False)`\n",
    "*   `upper right`\n",
    "*\t`upper left`\n",
    "*\t`lower left`\n",
    "*\t`lower right`\n",
    "*\t`right`\n",
    "*\t`center left`\n",
    "*\t`center right`\n",
    "*\t`lower center`\n",
    "*\t`upper center`\n",
    "*\t`center`"
   ]
  },
  {
   "cell_type": "code",
   "execution_count": 146,
   "metadata": {},
   "outputs": [
    {
     "data": {
      "image/png": "[encoded data removed]",
      "text/plain": [
       "<Figure size 432x288 with 1 Axes>"
      ]
     },
     "metadata": {
      "needs_background": "light"
     },
     "output_type": "display_data"
    }
   ],
   "source": [
    "plt.plot(x, np.cos(x),'b*-',linewidth=2, markersize=2, label=r'$\\cos(x)$')\n",
    "plt.plot(x, np.sin(x),'ro-',linewidth=2, markersize=2, label=r'$\\sin(x)$')\n",
    "plt.plot(x, np.tan(x),'gx-',linewidth=2, markersize=2, label=r'$\\tan(x)$')\n",
    "##title(\"Funciones Trigonometricas\")\n",
    "plt.ylabel('$f(x)$',fontsize=13,rotation =0, color=\"r\")\n",
    "plt.xlabel('$x$',fontsize=13,rotation =0, color=\"g\")\n",
    "plt.xlim(0, 1 )\n",
    "plt.ylim(C.min()*1.5, C.max()*1.5)\n",
    "plt.xticks([0, np.pi/2, np.pi,3*np.pi/2, 2*np.pi],[r'$0$', r'$\\pi/2$', r'$\\pi$',r'$3\\pi/2$', r'$2\\pi$'],\n",
    "      rotation = 45, color=\"g\")\n",
    "plt.yticks([-1,0,1],[r'$-1$', r'$0$', r'$1$'],rotation=45,color=\"r\")\n",
    "plt.grid()\n",
    "#legend(loc = 'upper left', frameon = False)\n",
    "plt.legend()\n",
    "plt.show()"
   ]
  },
  {
   "cell_type": "markdown",
   "metadata": {},
   "source": [
    "$f(x) = A(x - b)^2 + c$ "
   ]
  },
  {
   "cell_type": "markdown",
   "metadata": {},
   "source": [
    "```python \n",
    "figure(['num=None', 'figsize=None', 'dpi=None', 'facecolor=None', 'edgecolor=None','frameon=True', \"FigureClass=<class 'matplotlib.figure.Figure'>\", 'clear=False', '**kwargs'],)\n",
    "```"
   ]
  },
  {
   "cell_type": "code",
   "execution_count": null,
   "metadata": {},
   "outputs": [],
   "source": [
    "figure(figsize = (10,7), dpi = 80, facecolor = \"w\", edgecolor = \"m\")\n",
    "plot(x,C,'bx-',linewidth=2, markersize=12,label=r'$\\cos(x)$')\n",
    "#plot(x,S,'go-',linewidth=2, markersize=12,label=r'$\\sin(x)$')\n",
    "scatter(x,S,label=r'$\\sin(x)$')\n",
    "#title(\"Ejemplos\")\n",
    "ylabel('$f(x)$',fontsize=13,rotation =0, color=\"r\")\n",
    "xlabel('$x$',fontsize=13,rotation =0, color=\"g\")\n",
    "xlim(0, 2*pi )\n",
    "ylim(C.min()*1.5, C.max()*1.5)\n",
    "xticks([0, pi/2, pi,3*pi/2, 2*pi],[r'$0$', r'$\\pi/2$', r'$\\pi$',r'$3\\pi/2$', r'$2\\pi$'],\n",
    "      rotation = 45, color=\"k\")\n",
    "yticks([-1,0,1],[r'$-1$', r'$0$', r'$1$'],rotation=45,color=\"r\")\n",
    "legend()\n",
    "grid()\n",
    "show()\n",
    "savefig(\"senocos.pdf\")"
   ]
  },
  {
   "cell_type": "markdown",
   "metadata": {},
   "source": [
    "# Subplots"
   ]
  },
  {
   "cell_type": "code",
   "execution_count": null,
   "metadata": {},
   "outputs": [],
   "source": [
    "figure(figsize=(10,10))\n",
    "subplot(211)\n",
    "\n",
    "subplot(212)\n",
    "\n",
    "show()"
   ]
  },
  {
   "cell_type": "code",
   "execution_count": null,
   "metadata": {},
   "outputs": [],
   "source": [
    "figure(figsize=(10,5))\n",
    "subplot(121)\n",
    "\n",
    "subplot(122)\n",
    "\n",
    "show()"
   ]
  },
  {
   "cell_type": "code",
   "execution_count": null,
   "metadata": {},
   "outputs": [],
   "source": [
    "arange(0, 1.0, .1)"
   ]
  },
  {
   "cell_type": "code",
   "execution_count": null,
   "metadata": {},
   "outputs": [],
   "source": [
    "def f(t):\n",
    "    return exp(-t) * cos(2*pi*t)\n",
    "\n",
    "\n",
    "t1 = np.arange(0.0, 5.0, 0.1)\n",
    "t2 = np.arange(0.0, 5.0, 0.02)\n"
   ]
  },
  {
   "cell_type": "code",
   "execution_count": null,
   "metadata": {},
   "outputs": [],
   "source": [
    "figure(figsize=(10,10))\n",
    "title('Os')\n",
    "\n",
    "subplot(221)\n",
    "plot(t1, f(t1), 'r-')\n",
    "scatter(t2, f(t2), color='g',marker = '+')\n",
    "title(r'$e^{-x}\\cos(2\\pi x)$')\n",
    "xlabel(r'$x$')\n",
    "ylabel(r'$y$',rotation=0)\n",
    "\n",
    "subplot(222)\n",
    "plot(t2, f(t2), color='red', linestyle='--', label = r'$e^{-x}\\cos(2\\pi x)$')\n",
    "plot(t2, exp(-t2), color='blue', linestyle='-', label=\"Evolvente\")\n",
    "plot(t2, -exp(-t2), color='blue', linestyle='-')\n",
    "title(\"Oscilador Armónico amortiguado\")\n",
    "legend()\n",
    "grid()\n",
    "\n",
    "subplot(223)\n",
    "plot(t2, sin(2*pi*t2),',' ,color='magenta')\n",
    "title(r'$\\sin(2\\pi x)$')\n",
    "\n",
    "subplot(224)\n",
    "plot(cos(2*pi*t2)*sin(2*pi*t2), color='c', linestyle='-',marker = 'x')\n",
    "show()\n",
    "savefig(\"os.pdf\")"
   ]
  },
  {
   "cell_type": "code",
   "execution_count": null,
   "metadata": {},
   "outputs": [],
   "source": []
  },
  {
   "cell_type": "code",
   "execution_count": null,
   "metadata": {},
   "outputs": [],
   "source": []
  },
  {
   "cell_type": "code",
   "execution_count": null,
   "metadata": {},
   "outputs": [],
   "source": []
  }
 ],
 "metadata": {
  "kernelspec": {
   "display_name": "Python 3",
   "language": "python",
   "name": "python3"
  },
  "language_info": {
   "codemirror_mode": {
    "name": "ipython",
    "version": 3
   },
   "file_extension": ".py",
   "mimetype": "text/x-python",
   "name": "python",
   "nbconvert_exporter": "python",
   "pygments_lexer": "ipython3",
   "version": "3.6.5"
  }
 },
 "nbformat": 4,
 "nbformat_minor": 2
}
