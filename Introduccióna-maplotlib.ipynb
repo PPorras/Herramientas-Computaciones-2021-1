{
 "cells": [
  {
   "cell_type": "code",
   "execution_count": null,
   "metadata": {},
   "outputs": [],
   "source": [
    "pi = 3.14"
   ]
  },
  {
   "cell_type": "code",
   "execution_count": null,
   "metadata": {},
   "outputs": [],
   "source": [
    "import matplotlib.pyplot as plt # Un paquete de graficos\n",
    "import numpy as np              # Computó Numérico."
   ]
  },
  {
   "cell_type": "code",
   "execution_count": null,
   "metadata": {},
   "outputs": [],
   "source": [
    "np.pi"
   ]
  },
  {
   "cell_type": "code",
   "execution_count": null,
   "metadata": {},
   "outputs": [],
   "source": [
    "import numpy"
   ]
  },
  {
   "cell_type": "code",
   "execution_count": null,
   "metadata": {},
   "outputs": [],
   "source": [
    "numpy.pi"
   ]
  },
  {
   "cell_type": "code",
   "execution_count": 1,
   "metadata": {},
   "outputs": [],
   "source": [
    "from numpy import pi"
   ]
  },
  {
   "cell_type": "code",
   "execution_count": 2,
   "metadata": {},
   "outputs": [
    {
     "data": {
      "text/plain": [
       "3.141592653589793"
      ]
     },
     "execution_count": 2,
     "metadata": {},
     "output_type": "execute_result"
    }
   ],
   "source": [
    "pi"
   ]
  },
  {
   "cell_type": "code",
   "execution_count": null,
   "metadata": {},
   "outputs": [],
   "source": [
    "pi = 3"
   ]
  },
  {
   "cell_type": "code",
   "execution_count": null,
   "metadata": {},
   "outputs": [],
   "source": [
    "pi"
   ]
  },
  {
   "cell_type": "code",
   "execution_count": null,
   "metadata": {},
   "outputs": [],
   "source": [
    "np.pi"
   ]
  },
  {
   "cell_type": "code",
   "execution_count": null,
   "metadata": {},
   "outputs": [],
   "source": [
    "from pylab import *"
   ]
  },
  {
   "cell_type": "code",
   "execution_count": null,
   "metadata": {},
   "outputs": [],
   "source": [
    "arreglo1 = array((2, 3, 4))"
   ]
  },
  {
   "cell_type": "code",
   "execution_count": null,
   "metadata": {},
   "outputs": [],
   "source": [
    "arreglo2 = array((1, 2, 5))"
   ]
  },
  {
   "cell_type": "code",
   "execution_count": null,
   "metadata": {},
   "outputs": [],
   "source": [
    "arreglo1 + arreglo2"
   ]
  },
  {
   "cell_type": "markdown",
   "metadata": {},
   "source": [
    "# Plot "
   ]
  },
  {
   "cell_type": "markdown",
   "metadata": {},
   "source": [
    "```python\n",
    "linspace(x_0, x_f, puntos)```\n",
    "\n",
    "**`linspace`, por defecto nos genera una tipo `array` de 50 puntos**"
   ]
  },
  {
   "cell_type": "code",
   "execution_count": null,
   "metadata": {},
   "outputs": [],
   "source": [
    "arange(0, 1, 0.02)"
   ]
  },
  {
   "cell_type": "code",
   "execution_count": null,
   "metadata": {},
   "outputs": [],
   "source": [
    "linspace(0, 1, 101)"
   ]
  },
  {
   "cell_type": "code",
   "execution_count": null,
   "metadata": {},
   "outputs": [],
   "source": [
    "x = linspace(-2*pi, 2*pi, 200)"
   ]
  },
  {
   "cell_type": "code",
   "execution_count": null,
   "metadata": {},
   "outputs": [],
   "source": [
    "len(x)"
   ]
  },
  {
   "cell_type": "code",
   "execution_count": null,
   "metadata": {},
   "outputs": [],
   "source": [
    "type(x)"
   ]
  },
  {
   "cell_type": "code",
   "execution_count": null,
   "metadata": {},
   "outputs": [],
   "source": [
    "type(x)"
   ]
  },
  {
   "cell_type": "code",
   "execution_count": null,
   "metadata": {},
   "outputs": [],
   "source": [
    "a = [1,3,5]\n",
    "b = [2, 4, 6]\n",
    "a + b"
   ]
  },
  {
   "cell_type": "code",
   "execution_count": null,
   "metadata": {},
   "outputs": [],
   "source": [
    "A = array([1, 3, 5])"
   ]
  },
  {
   "cell_type": "code",
   "execution_count": null,
   "metadata": {},
   "outputs": [],
   "source": [
    "B = array([2, 4, 6])"
   ]
  },
  {
   "cell_type": "code",
   "execution_count": null,
   "metadata": {},
   "outputs": [],
   "source": [
    "A + B"
   ]
  },
  {
   "cell_type": "code",
   "execution_count": null,
   "metadata": {},
   "outputs": [],
   "source": [
    "ones(100)"
   ]
  },
  {
   "cell_type": "code",
   "execution_count": null,
   "metadata": {},
   "outputs": [],
   "source": [
    "zeros(100)"
   ]
  },
  {
   "cell_type": "code",
   "execution_count": null,
   "metadata": {},
   "outputs": [],
   "source": []
  },
  {
   "cell_type": "markdown",
   "metadata": {},
   "source": [
    "### Comando `plot()`\n",
    "\n",
    "\n",
    "\n",
    "```python\n",
    "    plot(*args, scalex=True, scaley=True, data=None, **kwargs)\n",
    "```\n",
    "\n",
    "**Parametros**\n",
    "\n",
    "x, y: tipo array\n",
    "\n",
    " > Las coordenadas horizontales / verticales de los puntos de datos. Los valores `x ` son opcionales. Si no se proporcionan, el valor predeterminado es `` [0, ..., N-1] ``.\n",
    " \n",
    " >  Comúnmente, estos parámetros son `array` de longitud N. Sin embargo, los escalares también son compatibles (equivalente a una matriz con valor constante).\n",
    " \n",
    "> Regresa una lista de objetos `.Line2D` que representan los datos trazados.\n",
    "\n"
   ]
  },
  {
   "cell_type": "code",
   "execution_count": null,
   "metadata": {},
   "outputs": [],
   "source": [
    "x = linspace(-1, 1, 21)"
   ]
  },
  {
   "cell_type": "code",
   "execution_count": null,
   "metadata": {},
   "outputs": [],
   "source": [
    "plt.plot(x)"
   ]
  },
  {
   "cell_type": "markdown",
   "metadata": {},
   "source": [
    "fmt: str, opcional\n",
    ">     Una cadena de formato, es decir. 'ro' para círculos rojos. Consulte aquí para obtener una descripción completa de las cadenas de formato.\n",
    "\n",
    ">  Las cadenas deformato son una abreviatura para establecer rápidamente las propiedades básicas de la línea. Todo esto y más también se puede controlar mediante argumentos de palabras clave.\n",
    "\n",
    "\n",
    "\n",
    "**Format Strings**\n",
    "\n",
    "Un formato de cadena consiste de una parte para el color, marker and linea:\n",
    "\n",
    "`fmt = '[color][marker][line]`\n",
    "\n",
    "Cada uno de ellos es opcional. \n",
    "\n",
    "**Colores**\n",
    "\n",
    "Las siguiente son abreviaturas para los colores:\n",
    "\n",
    "\n",
    "|caracter   |     color     |\n",
    "|-----------|---------------|\n",
    "|``'b'``    |      blue     |\n",
    "|``'g'``    |      green    |\n",
    "|``'r'``    |      red      |\n",
    "|``'c'``    |      cyan     |\n",
    "|``'m'``    |      magenta  |\n",
    "|``'y'``    |      yellow   |\n",
    "|``'k'``    |      black    |\n",
    "|``'w'``    |      white    |\n",
    "\n",
    "\n",
    "**Markers**\n",
    "\n",
    "\n",
    "|character     |   description             |\n",
    "|--------------|---------------------------|\n",
    "| ``'.'``      |   point marker            | \n",
    "| ``','``      |   pixel marker            |\n",
    "| ``'o'``      |   circle marker           |\n",
    "| ``'v'``      |   triangle_down marker    |\n",
    "| ``'^'``      |   triangle_up marker      |\n",
    "| ``'<'``      |   triangle_left marker    |\n",
    "| ``'>'``      |   triangle_right marker   |\n",
    "| ``'1'``      |   tri_down marker         |\n",
    "| ``'2'``      |   tri_up marker           |\n",
    "| ``'3'``      |   tri_left marker         |\n",
    "|``'4'``        |  tri_right marker|\n",
    "|``'s'``         | square marker|\n",
    "|``'p'``         | pentagon marker|\n",
    "``'*'``          |star marker\n",
    "|``'h'``          |hexagon1 marker|\n",
    "``'H'``          |hexagon2 marker|\n",
    "|``'+'``          |plus marker|\n",
    "|``'x'``          |x marker|\n",
    "|``'D'``          |diamond marker|\n",
    "|``'d'``          |thin_diamond marker|\n",
    "|``'|'``          |vline marker|\n",
    "|``'_'``          |hline marker|\n",
    "\n",
    "\n",
    "\n",
    "\n",
    "\n",
    "**Estilo de línea**\n",
    "\n",
    "\n",
    "|character  |      description|\n",
    "|-----------|-----------------------|\n",
    "|``'-'``    |     solid line style  |\n",
    "|``'--'``   |     dashed line style |\n",
    "|``'-.'``   |     dash-dot line style|\n",
    "|``':'``    |     dotted line style |\n",
    "\n",
    "\n",
    "Ejemplo de un formato de cadena::\n",
    "\n",
    "    'b'    # blue markers with default shape\n",
    "    'ro'   # red circles\n",
    "    'g-'   # green solid line\n",
    "    '--'   # dashed line with default color\n",
    "    'k^:'  # black triangle_up markers connected by a dotted line\n",
    "    \n",
    "    \n",
    "    "
   ]
  },
  {
   "cell_type": "code",
   "execution_count": null,
   "metadata": {},
   "outputs": [],
   "source": [
    "plt.plot(x, \"cx-.\")"
   ]
  },
  {
   "cell_type": "code",
   "execution_count": null,
   "metadata": {},
   "outputs": [],
   "source": [
    "plt.plot(x, color = \"c\", marker = \"x\", linestyle = \"-.\")"
   ]
  },
  {
   "cell_type": "code",
   "execution_count": null,
   "metadata": {},
   "outputs": [],
   "source": [
    "x = linspace(-2*pi, 2*pi)"
   ]
  },
  {
   "cell_type": "code",
   "execution_count": null,
   "metadata": {},
   "outputs": [],
   "source": [
    "x"
   ]
  },
  {
   "cell_type": "code",
   "execution_count": null,
   "metadata": {},
   "outputs": [],
   "source": [
    "cos(0)"
   ]
  },
  {
   "cell_type": "code",
   "execution_count": null,
   "metadata": {},
   "outputs": [],
   "source": [
    "l1 = (0, .1, .2)\n",
    "sin(l1)"
   ]
  },
  {
   "cell_type": "code",
   "execution_count": null,
   "metadata": {},
   "outputs": [],
   "source": [
    "S = sin(x)\n",
    "C = cos(x)"
   ]
  },
  {
   "cell_type": "code",
   "execution_count": null,
   "metadata": {},
   "outputs": [],
   "source": [
    "C"
   ]
  },
  {
   "cell_type": "code",
   "execution_count": null,
   "metadata": {},
   "outputs": [],
   "source": [
    "%matplotlib inline"
   ]
  },
  {
   "cell_type": "code",
   "execution_count": null,
   "metadata": {},
   "outputs": [],
   "source": [
    "%matplotlib notebook\n"
   ]
  },
  {
   "cell_type": "code",
   "execution_count": null,
   "metadata": {},
   "outputs": [],
   "source": [
    "plot(x, C,'m*')"
   ]
  },
  {
   "cell_type": "code",
   "execution_count": null,
   "metadata": {},
   "outputs": [],
   "source": [
    "plot(x, C, color = \"blue\", marker = \"o\", linestyle = \":\", linewidth = 2, markersize = 3)"
   ]
  },
  {
   "cell_type": "code",
   "execution_count": null,
   "metadata": {},
   "outputs": [],
   "source": [
    "plot(x, C, 'bo:', linewidth = 2, markersize =3)"
   ]
  },
  {
   "cell_type": "markdown",
   "metadata": {},
   "source": [
    "* `xlabel`\n",
    "* `ylabel`"
   ]
  },
  {
   "cell_type": "code",
   "execution_count": null,
   "metadata": {},
   "outputs": [],
   "source": [
    "plot(x, C, 'bo-.',linewidth=2, markersize=4, label = \"$cos$\")\n",
    "#ylabel('$f(x)$', fontsize=13)\n",
    "ylabel('$f(x)$', fontsize = 13, rotation = 45)\n",
    "xlabel('$x$', fontsize = 13, rotation = 0)\n"
   ]
  },
  {
   "cell_type": "markdown",
   "metadata": {},
   "source": [
    "* `xlim()`\n",
    "* `ylim()`"
   ]
  },
  {
   "cell_type": "code",
   "execution_count": null,
   "metadata": {},
   "outputs": [],
   "source": [
    "C"
   ]
  },
  {
   "cell_type": "code",
   "execution_count": null,
   "metadata": {},
   "outputs": [],
   "source": [
    "C.max()"
   ]
  },
  {
   "cell_type": "code",
   "execution_count": null,
   "metadata": {},
   "outputs": [],
   "source": [
    "plot(x, C, 'bx-.', linewidth=2, markersize=12)\n",
    "ylabel(r'$f(x)$',fontsize = 13,rotation =0)\n",
    "xlabel(r'$x$',fontsize = 13,rotation =0)\n",
    "xlim(0, pi/2 )\n",
    "ylim(C.min()*1.5, C.max()*1.5)"
   ]
  },
  {
   "cell_type": "markdown",
   "metadata": {},
   "source": [
    "* `xticks()`\n",
    "* `yticks()`"
   ]
  },
  {
   "cell_type": "code",
   "execution_count": null,
   "metadata": {},
   "outputs": [],
   "source": [
    "x = linspace(0, 2*pi)"
   ]
  },
  {
   "cell_type": "code",
   "execution_count": null,
   "metadata": {},
   "outputs": [],
   "source": [
    "plot(x,sin(x))"
   ]
  },
  {
   "cell_type": "code",
   "execution_count": null,
   "metadata": {
    "scrolled": true
   },
   "outputs": [],
   "source": [
    "plot(x, C,'b*-.',linewidth = 2, markersize = 6)\n",
    "ylabel('$f(x)$',fontsize=13, rotation =0, color=\"m\")\n",
    "xlabel('$x$',fontsize=13, rotation =0, color=\"g\")\n",
    "xlim(0, 2*pi )\n",
    "ylim(C.min()*1.5, C.max()*1.5)\n",
    "xticks([0,pi/4 ,pi/2, pi, 3*pi/2, 2*pi],[r'$0$', r'$\\pi/4$',r'$\\pi/2$', r'$\\pi$', r'$3\\pi/2$', r'$2\\pi$'],\n",
    "      rotation = 45, color=\"r\")\n",
    "yticks([-1,0,1],[r'$-1$', r'$0$', r'$1$'],rotation=45,color=\"r\")\n",
    "show()"
   ]
  },
  {
   "cell_type": "code",
   "execution_count": null,
   "metadata": {},
   "outputs": [],
   "source": [
    "plot(x,C,'bx-',linewidth=2, markersize=12,label = r'$\\cos(x)$')\n",
    "ylabel('$f(x)$',fontsize=13,rotation =0, color=\"r\")\n",
    "xlabel('$x$',fontsize=13,rotation =0, color=\"g\")\n",
    "xlim(0, 2*pi )\n",
    "ylim(C.min()*1.5, C.max()*1.5)\n",
    "xticks([0, pi/2, pi, 3*pi/2, 2*pi],[r'$0$', r'$\\pi/2$', r'$\\pi$', r'$3\\pi/2$', r'$2\\pi$'],\n",
    "      rotation = 45, color=\"g\")\n",
    "yticks([-1,0,1],[r'$-1$', r'$0$', r'$1$'],rotation=45,color=\"r\")\n",
    "legend(loc = 'upper left',frameon = True)\n",
    "\n",
    "#legend( loc = \"upper center\")\n",
    "show()"
   ]
  },
  {
   "cell_type": "markdown",
   "metadata": {},
   "source": [
    "`legend(loc=, frameon=False)`\n",
    "*   `upper right`\n",
    "*\t`upper left`\n",
    "*\t`lower left`\n",
    "*\t`lower right`\n",
    "*\t`right`\n",
    "*\t`center left`\n",
    "*\t`center right`\n",
    "*\t`lower center`\n",
    "*\t`upper center`\n",
    "*\t`center`"
   ]
  },
  {
   "cell_type": "code",
   "execution_count": null,
   "metadata": {},
   "outputs": [],
   "source": [
    "plot(x, C,'b*-',linewidth=2, markersize=6, label=r'$\\cos(x)$')\n",
    "plot(x, S,'ro-',linewidth=2, markersize=6, label=r'$\\sin(x)$')\n",
    "##title(\"Funciones Trigonometricas\")\n",
    "ylabel('$f(x)$',fontsize=13,rotation =0, color=\"r\")\n",
    "xlabel('$x$',fontsize=13,rotation =0, color=\"g\")\n",
    "xlim(0, 2*pi )\n",
    "ylim(C.min()*1.5, C.max()*1.5)\n",
    "xticks([0, pi/2, pi,3*pi/2, 2*pi],[r'$0$', r'$\\pi/2$', r'$\\pi$',r'$3\\pi/2$', r'$2\\pi$'],\n",
    "      rotation = 45, color=\"g\")\n",
    "yticks([-1,0,1],[r'$-1$', r'$0$', r'$1$'],rotation=45,color=\"r\")\n",
    "grid()\n",
    "#legend(loc = 'upper left', frameon = False)\n",
    "legend()\n",
    "show()"
   ]
  },
  {
   "cell_type": "markdown",
   "metadata": {},
   "source": [
    "```python \n",
    "figure(['num=None', 'figsize=None', 'dpi=None', 'facecolor=None', 'edgecolor=None','frameon=True', \"FigureClass=<class 'matplotlib.figure.Figure'>\", 'clear=False', '**kwargs'],)\n",
    "```"
   ]
  },
  {
   "cell_type": "code",
   "execution_count": null,
   "metadata": {},
   "outputs": [],
   "source": [
    "figure(figsize = (10,7), dpi = 80, facecolor = \"w\", edgecolor = \"m\")\n",
    "plot(x,C,'bx-',linewidth=2, markersize=12,label=r'$\\cos(x)$')\n",
    "#plot(x,S,'go-',linewidth=2, markersize=12,label=r'$\\sin(x)$')\n",
    "scatter(x,S,label=r'$\\sin(x)$')\n",
    "#title(\"Ejemplos\")\n",
    "ylabel('$f(x)$',fontsize=13,rotation =0, color=\"r\")\n",
    "xlabel('$x$',fontsize=13,rotation =0, color=\"g\")\n",
    "xlim(0, 2*pi )\n",
    "ylim(C.min()*1.5, C.max()*1.5)\n",
    "xticks([0, pi/2, pi,3*pi/2, 2*pi],[r'$0$', r'$\\pi/2$', r'$\\pi$',r'$3\\pi/2$', r'$2\\pi$'],\n",
    "      rotation = 45, color=\"k\")\n",
    "yticks([-1,0,1],[r'$-1$', r'$0$', r'$1$'],rotation=45,color=\"r\")\n",
    "legend()\n",
    "grid()\n",
    "show()\n",
    "savefig(\"senocos.pdf\")"
   ]
  },
  {
   "cell_type": "markdown",
   "metadata": {},
   "source": [
    "# Subplots"
   ]
  },
  {
   "cell_type": "code",
   "execution_count": null,
   "metadata": {},
   "outputs": [],
   "source": [
    "figure(figsize=(10,10))\n",
    "subplot(211)\n",
    "\n",
    "subplot(212)\n",
    "\n",
    "show()"
   ]
  },
  {
   "cell_type": "code",
   "execution_count": null,
   "metadata": {},
   "outputs": [],
   "source": [
    "figure(figsize=(10,5))\n",
    "subplot(121)\n",
    "\n",
    "subplot(122)\n",
    "\n",
    "show()"
   ]
  },
  {
   "cell_type": "code",
   "execution_count": null,
   "metadata": {},
   "outputs": [],
   "source": [
    "arange(0, 1.0, .1)"
   ]
  },
  {
   "cell_type": "code",
   "execution_count": null,
   "metadata": {},
   "outputs": [],
   "source": [
    "def f(t):\n",
    "    return exp(-t) * cos(2*pi*t)\n",
    "\n",
    "\n",
    "t1 = np.arange(0.0, 5.0, 0.1)\n",
    "t2 = np.arange(0.0, 5.0, 0.02)\n"
   ]
  },
  {
   "cell_type": "code",
   "execution_count": null,
   "metadata": {},
   "outputs": [],
   "source": [
    "figure(figsize=(10,10))\n",
    "title('Os')\n",
    "\n",
    "subplot(221)\n",
    "plot(t1, f(t1), 'r-')\n",
    "scatter(t2, f(t2), color='g',marker = '+')\n",
    "title(r'$e^{-x}\\cos(2\\pi x)$')\n",
    "xlabel(r'$x$')\n",
    "ylabel(r'$y$',rotation=0)\n",
    "\n",
    "subplot(222)\n",
    "plot(t2, f(t2), color='red', linestyle='--', label = r'$e^{-x}\\cos(2\\pi x)$')\n",
    "plot(t2, exp(-t2), color='blue', linestyle='-', label=\"Evolvente\")\n",
    "plot(t2, -exp(-t2), color='blue', linestyle='-')\n",
    "title(\"Oscilador Armónico amortiguado\")\n",
    "legend()\n",
    "grid()\n",
    "\n",
    "subplot(223)\n",
    "plot(t2, sin(2*pi*t2),',' ,color='magenta')\n",
    "title(r'$\\sin(2\\pi x)$')\n",
    "\n",
    "subplot(224)\n",
    "plot(cos(2*pi*t2)*sin(2*pi*t2), color='c', linestyle='-',marker = 'x')\n",
    "show()\n",
    "savefig(\"os.pdf\")"
   ]
  },
  {
   "cell_type": "code",
   "execution_count": null,
   "metadata": {},
   "outputs": [],
   "source": []
  },
  {
   "cell_type": "code",
   "execution_count": null,
   "metadata": {},
   "outputs": [],
   "source": []
  },
  {
   "cell_type": "code",
   "execution_count": null,
   "metadata": {},
   "outputs": [],
   "source": []
  }
 ],
 "metadata": {
  "kernelspec": {
   "display_name": "Python 3",
   "language": "python",
   "name": "python3"
  },
  "language_info": {
   "codemirror_mode": {
    "name": "ipython",
    "version": 3
   },
   "file_extension": ".py",
   "mimetype": "text/x-python",
   "name": "python",
   "nbconvert_exporter": "python",
   "pygments_lexer": "ipython3",
   "version": "3.6.5"
  }
 },
 "nbformat": 4,
 "nbformat_minor": 2
}
