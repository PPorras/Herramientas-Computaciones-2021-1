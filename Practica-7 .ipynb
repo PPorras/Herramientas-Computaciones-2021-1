{
 "cells": [
  {
   "cell_type": "markdown",
   "metadata": {},
   "source": [
    "# Algoritmos Computacionales: *Tarea 7*"
   ]
  },
  {
   "cell_type": "markdown",
   "metadata": {},
   "source": [
    "## Parte-Python"
   ]
  },
  {
   "cell_type": "markdown",
   "metadata": {},
   "source": [
    "El medicamento administrado a un paciente produce una concentración en la corriente sanguínea dada por: **$$c(t) = Ate^{−t/3}$$** miligramos por mililitros, t horas después de inyectarse A unidades, la máxima concentración segura es de 1mg/ml."
   ]
  },
  {
   "cell_type": "markdown",
   "metadata": {},
   "source": [
    "### Actividad 1\n",
    "\n",
    "* ***¿Qué dosis deberá inyectársele al paciente para alcanzar la máxima concentración segura y cuándo se alcanza esta concentración?***\n",
    "\n",
    "Hints: \n",
    "\n",
    "* Deriva la función e iguale a cero para encontrar un máximo, y use el método de Newton para encontrar la raíz de la función que le queda al igualar a cero. \n",
    "\n",
    "* Utilce anterior para determinar la constante $A$."
   ]
  },
  {
   "cell_type": "code",
   "execution_count": null,
   "metadata": {},
   "outputs": [],
   "source": []
  },
  {
   "cell_type": "markdown",
   "metadata": {},
   "source": [
    "### Actividad 2"
   ]
  },
  {
   "cell_type": "markdown",
   "metadata": {},
   "source": [
    "* ***Una cantidad adicional de medicamento deberá administrarse al paciente después de que la concentración disminuya a 0.25 mg/ml. Determine, con una aproximación al minuto más cercano, cuando debe aplicarse la segunda inyección.***"
   ]
  },
  {
   "cell_type": "code",
   "execution_count": null,
   "metadata": {},
   "outputs": [],
   "source": []
  },
  {
   "cell_type": "markdown",
   "metadata": {},
   "source": [
    "### Actividad 3"
   ]
  },
  {
   "cell_type": "markdown",
   "metadata": {},
   "source": [
    "* ***Suponiendo que la concentración producida por inyecciones consecutivas es aditiva y que 75 % de la dosis inyectada originalmente se administra en la segunda inyección. ¿Cuándo será momento de aplicar la tercera inyección?***"
   ]
  },
  {
   "cell_type": "code",
   "execution_count": null,
   "metadata": {},
   "outputs": [],
   "source": []
  },
  {
   "cell_type": "markdown",
   "metadata": {},
   "source": [
    "## Parte LaTeX  "
   ]
  },
  {
   "cell_type": "markdown",
   "metadata": {},
   "source": [
    "### Actividad 4 "
   ]
  },
  {
   "cell_type": "markdown",
   "metadata": {},
   "source": [
    "Use la plantilla que se vio en clase para entregar la introducción de su proyecto final. "
   ]
  },
  {
   "cell_type": "code",
   "execution_count": null,
   "metadata": {},
   "outputs": [],
   "source": []
  },
  {
   "cell_type": "markdown",
   "metadata": {},
   "source": [
    "### Actividad 5 "
   ]
  },
  {
   "cell_type": "markdown",
   "metadata": {},
   "source": [
    "Use la plantilla que se vio en clase para entregar parte de la metodología de su proyecto final."
   ]
  },
  {
   "cell_type": "code",
   "execution_count": null,
   "metadata": {},
   "outputs": [],
   "source": []
  }
 ],
 "metadata": {
  "kernelspec": {
   "display_name": "Python 3",
   "language": "python",
   "name": "python3"
  },
  "language_info": {
   "codemirror_mode": {
    "name": "ipython",
    "version": 3
   },
   "file_extension": ".py",
   "mimetype": "text/x-python",
   "name": "python",
   "nbconvert_exporter": "python",
   "pygments_lexer": "ipython3",
   "version": "3.6.5"
  }
 },
 "nbformat": 4,
 "nbformat_minor": 4
}
