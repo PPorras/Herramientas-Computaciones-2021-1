{
 "cells": [
  {
   "cell_type": "markdown",
   "metadata": {},
   "source": [
    "* [1. Funciones](#1.-Funciones)\n",
    "    * [1.1 ¿Qué son las funciones?](#1.1-¿Qué-son-las-funciones?)\n",
    "    * [1.2 ¿Cómo funcionan las funciones? ](#1.2-¿Cómo-funcionan-las-funciones?)\n",
    "    * [1.3 Tipos de funciones](#1.3-Tipos-de-funciones)\n",
    "    * [1.4 Cómo definir una función](#1.4-Cómo-definir-una-función)\n",
    "    * [1.5 Un ejemplo de función ](#1.5-Un-ejemplo-de-función)\n",
    "    * [1.6 Valores devueltos por una función](#1.6-Valores-devueltos-por-una-función)\n",
    "    * [1.7 Docstring](#1.7-Docstring)\n",
    "    * [1.8 Parámetros de funciones ](#1.8-Parámetros-de-funciones )\n",
    "        * [1.8.1 Funciones de parámetros múltiples ](#1.8.1-Funciones-de-parámetros-múltiples)\n",
    "        * [Valores de parámetros predeterminados ](#Valores-de-parámetros-predeterminados)\n",
    "        * [1.8.3 Argumentos nombrados](#1.8.3-Argumentos-nombrados)\n",
    "        * [1.8.4 Argumentos arbitrarios](#1.8.4-Argumentos-arbitrarios)\n",
    "        * [1.8.5 Argumentos posicionales y palabras clave ](#1.8.5-Argumentos-posicionales-y-palabras-clave)\n",
    "    * [1.9 Funciones anónimas](#1.9-Funciones-anónimas)\n",
    "* [2. Alcance y vida útil de las variables](#2.-Alcance-y-vida-útil-de-las-variables)\n",
    "    * [2.1 Variables locales](#2.1-Variables-locales)\n",
    "    * [2.2 La palabra clave Global](#2.2-La-palabra-clave-Global)\n",
    "    * [2.3 Variables no locales](#2.3-Variables-no-locales)\n",
    "* [3. Recursión](#3.-Recursión)\n",
    "    * [3.1 Comportamiento recursivo](#3.1-Comportamiento-recursivo )\n",
    "    * [3.2 Beneficios de la Recursión ](#3.2-Beneficios-de-la-Recursión)\n",
    "    * [3.3 Árbol de recursividad](#3.3-Árbol-de-recursividad)\n",
    "    * [3.4 Recursión en Python ](#3.4-Recursión-en-Python)\n",
    "    * [3.5 Cálculo factorial recursivo ](#3.5-Cálculo-factorial-recursivo)\n",
    "    * [3.6 Desventajas de la recursión](#3.6-Desventajas-de-la-recursión)"
   ]
  },
  {
   "cell_type": "markdown",
   "metadata": {},
   "source": [
    "# 1. Funciones"
   ]
  },
  {
   "cell_type": "markdown",
   "metadata": {},
   "source": [
    "En esta sección se presentarán las funciones de Python, cómo se definen, cómo se pueden referenciar y ejecutar. Considera cómo funcionan los parámetros en las funciones de Python y cómo se pueden devolver los valores de las funciones. También presenta funciones lambda o anónimas."
   ]
  },
  {
   "cell_type": "markdown",
   "metadata": {},
   "source": [
    "## 1.1 ¿Qué son las funciones? "
   ]
  },
  {
   "cell_type": "markdown",
   "metadata": {},
   "source": [
    "En Python, las funciones son grupos de declaraciones relacionadas que se pueden invocar juntas, que generalmente realizan una tarea específica y que pueden o no tomar un conjunto de parámetros o devolver un valor.\n",
    "\n",
    "Las funciones se pueden definir en un lugar y se pueden invocar o invocar en otro. Esto ayuda a que el código sea más modular y más fácil de entender.\n",
    "\n",
    "También significa que la misma función se puede llamar varias veces o en varias ubicaciones. Esto ayuda a garantizar que, aunque se utilice una pieza de funcionalidad en varios lugares; solo se define una vez y solo necesita mantenerse y probarse en una ubicación."
   ]
  },
  {
   "cell_type": "markdown",
   "metadata": {},
   "source": [
    "## 1.2 ¿Cómo funcionan las funciones? "
   ]
  },
  {
   "cell_type": "markdown",
   "metadata": {},
   "source": [
    "Hemos dicho cuáles son y un poco sobre por qué podrían ser bueno trabajar con funciones, pero no realmente cómo funcionan.\n",
    "\n",
    "Cuando se llama (o se invoca) una función en el código, un programa surge desde donde se llamó a la función hasta el punto donde se definió la función. El cuerpo de la función se ejecuta antes de que el control regrese a donde se llamó.\n",
    "\n",
    "Como parte de este proceso, todos los valores que estaban en su lugar cuando se llamó a la función, se almacenan (en algo llamado *pila*) de modo que si la función define sus propias versiones, no se sobrescriben entre sí.\n",
    "\n",
    "La invocación de una función se ilustra a continuación:\n",
    "\n",
    "```python\n",
    "def function_name():\n",
    "    stament\n",
    "    \n",
    "function_name()\n",
    "\n",
    "function_name()\n",
    "```"
   ]
  },
  {
   "cell_type": "code",
   "execution_count": 5,
   "metadata": {},
   "outputs": [],
   "source": [
    "def prueba():\n",
    "    \n",
    "    return \"Esto es una prueba\""
   ]
  },
  {
   "cell_type": "code",
   "execution_count": 6,
   "metadata": {},
   "outputs": [],
   "source": [
    "test = prueba()"
   ]
  },
  {
   "cell_type": "code",
   "execution_count": 7,
   "metadata": {},
   "outputs": [
    {
     "name": "stdout",
     "output_type": "stream",
     "text": [
      "Esto es una prueba\n"
     ]
    }
   ],
   "source": [
    "print(test)"
   ]
  },
  {
   "cell_type": "code",
   "execution_count": 14,
   "metadata": {},
   "outputs": [],
   "source": [
    "def prueba(n):\n",
    "    return n**2\n",
    "    "
   ]
  },
  {
   "cell_type": "code",
   "execution_count": 16,
   "metadata": {},
   "outputs": [],
   "source": [
    "pow2 = prueba(2)"
   ]
  },
  {
   "cell_type": "code",
   "execution_count": 17,
   "metadata": {},
   "outputs": [
    {
     "name": "stdout",
     "output_type": "stream",
     "text": [
      "4\n"
     ]
    }
   ],
   "source": [
    "print(pow2)"
   ]
  },
  {
   "cell_type": "code",
   "execution_count": 33,
   "metadata": {},
   "outputs": [],
   "source": [
    "N = 100"
   ]
  },
  {
   "cell_type": "code",
   "execution_count": 39,
   "metadata": {},
   "outputs": [],
   "source": [
    "factorials = {0:1, 5:120}"
   ]
  },
  {
   "cell_type": "code",
   "execution_count": 34,
   "metadata": {},
   "outputs": [
    {
     "name": "stdout",
     "output_type": "stream",
     "text": [
      "100\n"
     ]
    }
   ],
   "source": [
    "print(N)"
   ]
  },
  {
   "cell_type": "code",
   "execution_count": 40,
   "metadata": {},
   "outputs": [],
   "source": [
    "def factorial(n):\n",
    "    i = n + 1\n",
    "    check_fac(n, factorials)\n",
    "    print(factorials)\n",
    "    return f\"Hola {N}\"\n",
    "    "
   ]
  },
  {
   "cell_type": "code",
   "execution_count": 41,
   "metadata": {},
   "outputs": [
    {
     "name": "stdout",
     "output_type": "stream",
     "text": [
      "{0: 1, 5: 120}\n"
     ]
    },
    {
     "data": {
      "text/plain": [
       "'Hola 100'"
      ]
     },
     "execution_count": 41,
     "metadata": {},
     "output_type": "execute_result"
    }
   ],
   "source": [
    "prueba(1000)"
   ]
  },
  {
   "cell_type": "code",
   "execution_count": 37,
   "metadata": {},
   "outputs": [
    {
     "ename": "NameError",
     "evalue": "name 'i' is not defined",
     "output_type": "error",
     "traceback": [
      "\u001b[0;31m---------------------------------------------------------------------------\u001b[0m",
      "\u001b[0;31mNameError\u001b[0m                                 Traceback (most recent call last)",
      "\u001b[0;32m<ipython-input-37-3b184248ad5a>\u001b[0m in \u001b[0;36m<module>\u001b[0;34m\u001b[0m\n\u001b[0;32m----> 1\u001b[0;31m \u001b[0mprint\u001b[0m\u001b[0;34m(\u001b[0m\u001b[0mi\u001b[0m\u001b[0;34m)\u001b[0m\u001b[0;34m\u001b[0m\u001b[0m\n\u001b[0m",
      "\u001b[0;31mNameError\u001b[0m: name 'i' is not defined"
     ]
    }
   ],
   "source": [
    "print(i)"
   ]
  },
  {
   "cell_type": "markdown",
   "metadata": {},
   "source": [
    "## 1.3 Tipos de funciones "
   ]
  },
  {
   "cell_type": "markdown",
   "metadata": {},
   "source": [
    "Técnicamente, hay dos tipos de funciones en Python; funciones *built-in* y funciones definidas por el usuario *user-defined*.\n",
    "\n",
    "Las funciones *built-in* son las proporcionadas por el lenguaje y ya hemos visto varias de ellas. Por ejemplo, `print()` y `input()`. No necesitábamos definirlos nosotros mismos estas funciones, ya que las proporciona Python.\n",
    "\n",
    "En contraste, las funciones definidas por el usuario *user-defined* son las escritas por los desarrolladores. Definiremos funciones en el resto de este capítulo y es probable que, en muchos casos, la mayoría de los programas que se escriba incluyan funciones definidas por el usuario de un tipo u otro."
   ]
  },
  {
   "cell_type": "markdown",
   "metadata": {},
   "source": [
    "## 1.4 Cómo definir una función "
   ]
  },
  {
   "cell_type": "markdown",
   "metadata": {},
   "source": [
    "La sintaxis para definir una función es la siguiente:\n",
    "\n",
    "```python\n",
    "def function_name(parameter, list):\n",
    "    \"\"\"docstring\"\"\"\n",
    "    statement \n",
    "    statement(s)```"
   ]
  },
  {
   "cell_type": "code",
   "execution_count": 57,
   "metadata": {},
   "outputs": [],
   "source": [
    "def my_factorial(n):\n",
    "    \n",
    "    '''This function returns the factorial of natural number\n",
    "    \n",
    "    Exmple: my_factorial(5) this fucntion return 120'''\n",
    "    \n",
    "    i = 0\n",
    "    aux = 1\n",
    "    \n",
    "    while i < n:\n",
    "    \n",
    "        i += 1\n",
    "        aux = aux*i\n",
    "        \n",
    "    return aux"
   ]
  },
  {
   "cell_type": "code",
   "execution_count": 58,
   "metadata": {},
   "outputs": [
    {
     "data": {
      "text/plain": [
       "24"
      ]
     },
     "execution_count": 58,
     "metadata": {},
     "output_type": "execute_result"
    }
   ],
   "source": [
    "my_factorial(4)"
   ]
  },
  {
   "cell_type": "code",
   "execution_count": 59,
   "metadata": {},
   "outputs": [
    {
     "name": "stdout",
     "output_type": "stream",
     "text": [
      "This function returns the factorial of natural number\n",
      "    \n",
      "    Exmple: my_factorial(5) this fucntion return 120\n"
     ]
    }
   ],
   "source": [
    "print(my_factorial.__doc__)"
   ]
  },
  {
   "cell_type": "markdown",
   "metadata": {},
   "source": [
    "Esto ilustra varias cosas:\n",
    "\n",
    "* Todas las funciones se definen con la palabra reservada `def`; Esto indica el comienzo de una definición de función. Una palabra reservada es parte de la sintaxis del lenguaje Python y no se puede redefinir y no es una función.\n",
    "\n",
    "* Una función puede tener un nombre que la identifique de manera exclusiva; también puede tener *funciones anónimas*, pero las dejaremos hasta más adelante en esta sección.\n",
    "\n",
    "* Las convenciones de nombres que hemos adoptado para variables también se aplican a funciones, todas están en minúsculas con los diferentes elementos del nombre de la función separados por un `_`.\n",
    "\n",
    "* Una función puede (opcionalmente) tener una lista de parámetros que permiten pasar datos a la función. Estos son opcionales, ya que no todas las funciones deben suministrarse con parámetros.\n",
    "\n",
    "* Se puede proporcionar una cadena de documentación opcional (la cadena de `docstring`) que describe lo que hace la función. Por lo general, utilizamos el formato de cadena de comillas triples, ya que esto permite que la cadena de documentación pase por varias líneas si es necesario.\n",
    "\n",
    "* Una o más declaraciones de Python conforman el cuerpo de la función. Estos están identados en relación con la definición de la función. Todas las líneas que están identadas son parte de la función hasta una línea destinada al mismo nivel que la línea `def`.\n"
   ]
  },
  {
   "cell_type": "markdown",
   "metadata": {},
   "source": [
    "## 1.5 Un ejemplo de función "
   ]
  },
  {
   "cell_type": "markdown",
   "metadata": {},
   "source": [
    "La siguiente es una de las funciones más simples que puede escribir; no toma parámetros y solo tiene una sola declaración que imprime el mensaje `'Hello world!'`:"
   ]
  },
  {
   "cell_type": "code",
   "execution_count": 60,
   "metadata": {},
   "outputs": [],
   "source": [
    "def print_msg():\n",
    "    print('Hello world!')"
   ]
  },
  {
   "cell_type": "markdown",
   "metadata": {},
   "source": [
    "Esta función se llama `print_msg` y cuando se llama (o se invocada) ejecutará el cuerpo de la función que imprimirá la cadena, por ejemplo:"
   ]
  },
  {
   "cell_type": "code",
   "execution_count": 61,
   "metadata": {},
   "outputs": [
    {
     "name": "stdout",
     "output_type": "stream",
     "text": [
      "Hello world!\n"
     ]
    }
   ],
   "source": [
    "print_msg()"
   ]
  },
  {
   "cell_type": "markdown",
   "metadata": {},
   "source": [
    "Tenga cuidado de incluir los corchetes () cuando llame a la función. Esto se debe a que si solo usa el nombre de la función, simplemente se está refiriendo a la ubicación en la memoria donde está almacenada la función, y no la está invocando.\n",
    "\n",
    "Podríamos modificar la función para que sea un poco más general y reutilizable proporcionando un parámetro. Este parámetro podría usarse para proporcionar el mensaje a imprimir, por ejemplo:"
   ]
  },
  {
   "cell_type": "code",
   "execution_count": 62,
   "metadata": {},
   "outputs": [],
   "source": [
    "def print_my_msg(msg): \n",
    "    \"\"\"The varible msg is a string\"\"\"\n",
    "    print(msg)\n",
    " "
   ]
  },
  {
   "cell_type": "code",
   "execution_count": 64,
   "metadata": {},
   "outputs": [
    {
     "name": "stdout",
     "output_type": "stream",
     "text": [
      "The varible msg is a string\n"
     ]
    }
   ],
   "source": [
    "print(print_my_msg.__doc__)"
   ]
  },
  {
   "cell_type": "code",
   "execution_count": 65,
   "metadata": {},
   "outputs": [
    {
     "name": "stdout",
     "output_type": "stream",
     "text": [
      "Good day\n"
     ]
    }
   ],
   "source": [
    "print_my_msg('Good day')"
   ]
  },
  {
   "cell_type": "code",
   "execution_count": 66,
   "metadata": {},
   "outputs": [
    {
     "name": "stdout",
     "output_type": "stream",
     "text": [
      "2.0\n"
     ]
    }
   ],
   "source": [
    "print_my_msg(2.0)"
   ]
  },
  {
   "cell_type": "code",
   "execution_count": 67,
   "metadata": {},
   "outputs": [
    {
     "name": "stdout",
     "output_type": "stream",
     "text": [
      "[2, 'hola', True]\n"
     ]
    }
   ],
   "source": [
    "print_my_msg([2, \"hola\", True])"
   ]
  },
  {
   "cell_type": "code",
   "execution_count": 68,
   "metadata": {},
   "outputs": [
    {
     "name": "stdout",
     "output_type": "stream",
     "text": [
      "2.0\n"
     ]
    }
   ],
   "source": [
    "varible = print_my_msg(2.0)"
   ]
  },
  {
   "cell_type": "markdown",
   "metadata": {},
   "source": [
    "## 1.6 Valores devueltos por una función"
   ]
  },
  {
   "cell_type": "markdown",
   "metadata": {},
   "source": [
    "Es muy común querer devolver un valor de una función. En Python esto se puede hacer usando la declaración `return`. Siempre que se encuentre una declaración `return` dentro de una función, esa función terminará y devolverá cualquier valor que siga a la palabra clave `return`.\n",
    "\n",
    "Esto significa que si se proporciona un valor, estará disponible para cualquier código de llamada.\n",
    "\n",
    "Por ejemplo, lo siguiente define una función simple que que eleva al cuadrado cualquier valor que se le haya pasado:"
   ]
  },
  {
   "cell_type": "code",
   "execution_count": 72,
   "metadata": {},
   "outputs": [],
   "source": [
    "def square(n): \n",
    "    return n * n"
   ]
  },
  {
   "cell_type": "code",
   "execution_count": 73,
   "metadata": {},
   "outputs": [
    {
     "data": {
      "text/plain": [
       "25"
      ]
     },
     "execution_count": 73,
     "metadata": {},
     "output_type": "execute_result"
    }
   ],
   "source": [
    "square(5)"
   ]
  },
  {
   "cell_type": "code",
   "execution_count": 74,
   "metadata": {},
   "outputs": [],
   "source": [
    "cuadrado = square(3)"
   ]
  },
  {
   "cell_type": "code",
   "execution_count": 75,
   "metadata": {},
   "outputs": [
    {
     "name": "stdout",
     "output_type": "stream",
     "text": [
      "9\n"
     ]
    }
   ],
   "source": [
    "print(cuadrado)"
   ]
  },
  {
   "cell_type": "markdown",
   "metadata": {},
   "source": [
    "La función `square()` también se puede usar dentro de un controlador de flujo como:"
   ]
  },
  {
   "cell_type": "code",
   "execution_count": 76,
   "metadata": {},
   "outputs": [
    {
     "name": "stdout",
     "output_type": "stream",
     "text": [
      "Is still less than 25\n"
     ]
    }
   ],
   "source": [
    "if square(4) < 25:\n",
    "    print('Is still less than 25')"
   ]
  },
  {
   "cell_type": "code",
   "execution_count": 77,
   "metadata": {},
   "outputs": [],
   "source": [
    "def new_function(n):\n",
    "    \n",
    "    return n + square(n)"
   ]
  },
  {
   "cell_type": "code",
   "execution_count": 78,
   "metadata": {},
   "outputs": [
    {
     "data": {
      "text/plain": [
       "12"
      ]
     },
     "execution_count": 78,
     "metadata": {},
     "output_type": "execute_result"
    }
   ],
   "source": [
    "new_function(3)"
   ]
  },
  {
   "cell_type": "markdown",
   "metadata": {},
   "source": [
    "También es posible devolver múltiples valores de una función, por ejemplo, en esta función `swap` cambia el orden en que se proporcionan los parámetros se intercambia cuando se devuelven:"
   ]
  },
  {
   "cell_type": "code",
   "execution_count": 79,
   "metadata": {},
   "outputs": [],
   "source": [
    "def swap(a, b):\n",
    "    return b, a"
   ]
  },
  {
   "cell_type": "code",
   "execution_count": 80,
   "metadata": {},
   "outputs": [
    {
     "name": "stdout",
     "output_type": "stream",
     "text": [
      "dos , 2\n"
     ]
    }
   ],
   "source": [
    "A, B = 2, 'dos'\n",
    "x, y = swap(A, B)\n",
    "print(x, ',', y)"
   ]
  },
  {
   "cell_type": "code",
   "execution_count": 81,
   "metadata": {},
   "outputs": [
    {
     "name": "stdout",
     "output_type": "stream",
     "text": [
      "('dos', 2)\n"
     ]
    }
   ],
   "source": [
    "z = swap(A, B)\n",
    "print(z)"
   ]
  },
  {
   "cell_type": "raw",
   "metadata": {},
   "source": [
    "def factorial(n)\n",
    "    x  = check_factorial(n , factorials)"
   ]
  },
  {
   "cell_type": "markdown",
   "metadata": {},
   "source": [
    "## 1.7 Docstring"
   ]
  },
  {
   "cell_type": "markdown",
   "metadata": {},
   "source": [
    "Hasta ahora, nuestras funciones de ejemplo no han incluido ninguna cadena de documentación (docstring). Esto se debe a que la cadena de documentación es opcional y las funciones que hemos escrito han sido muy simples.\n",
    "\n",
    "Sin embargo, a medida que las funciones se vuelven más complejas y pueden tener múltiples parámetros, la documentación proporcionada puede volverse más importante.\n",
    "\n",
    "La cadena de documentos permite que la función proporcione alguna orientación sobre lo que se espera en términos de los datos pasados a los parámetros, potencialmente lo que sucederá si los datos son incorrectos, así como cuál es el propósito de la función en primer lugar.\n",
    "\n",
    "En el siguiente ejemplo, la cadena de documentación se está utilizando para explicar el comportamiento de la función y cómo se usa el parámetro."
   ]
  },
  {
   "cell_type": "code",
   "execution_count": 82,
   "metadata": {},
   "outputs": [],
   "source": [
    "def monotony(x):\n",
    "    \"\"\" This function determine if a number is positive, negative or zero \"\"\"\n",
    "    if x > 0:   \n",
    "        print(x, 'es positivo' )\n",
    "    elif x < 0: \n",
    "        print(x, 'es menor que cero')\n",
    "    else: \n",
    "        print(x, 'es cero')"
   ]
  },
  {
   "cell_type": "code",
   "execution_count": 83,
   "metadata": {},
   "outputs": [
    {
     "name": "stdout",
     "output_type": "stream",
     "text": [
      "45 es positivo\n"
     ]
    }
   ],
   "source": [
    "monotony(45)"
   ]
  },
  {
   "cell_type": "code",
   "execution_count": 84,
   "metadata": {},
   "outputs": [
    {
     "name": "stdout",
     "output_type": "stream",
     "text": [
      " This function determine if a number is positive, negative or zero \n"
     ]
    }
   ],
   "source": [
    "print(monotony.__doc__)"
   ]
  },
  {
   "cell_type": "markdown",
   "metadata": {},
   "source": [
    "La cadena de documentos se puede leer directamente desde el código, pero también está disponible está disponible para el programador a través de una propiedad muy especial de la función llamada \\__doc__ a la que se puede acceder mediante el nombre de la función utilizando la notación de puntos:"
   ]
  },
  {
   "cell_type": "code",
   "execution_count": 85,
   "metadata": {},
   "outputs": [
    {
     "name": "stdout",
     "output_type": "stream",
     "text": [
      " This function determine if a number is positive, negative or zero \n"
     ]
    }
   ],
   "source": [
    "print(monotony.__doc__)"
   ]
  },
  {
   "cell_type": "code",
   "execution_count": 86,
   "metadata": {},
   "outputs": [
    {
     "name": "stdout",
     "output_type": "stream",
     "text": [
      "Return the number of items in a container.\n"
     ]
    }
   ],
   "source": [
    "print(len.__doc__)"
   ]
  },
  {
   "cell_type": "code",
   "execution_count": 87,
   "metadata": {},
   "outputs": [
    {
     "name": "stdout",
     "output_type": "stream",
     "text": [
      "range(stop) -> range object\n",
      "range(start, stop[, step]) -> range object\n",
      "\n",
      "Return an object that produces a sequence of integers from start (inclusive)\n",
      "to stop (exclusive) by step.  range(i, j) produces i, i+1, i+2, ..., j-1.\n",
      "start defaults to 0, and stop is omitted!  range(4) produces 0, 1, 2, 3.\n",
      "These are exactly the valid indices for a list of 4 elements.\n",
      "When step is given, it specifies the increment (or decrement).\n"
     ]
    }
   ],
   "source": [
    "print(range.__doc__)"
   ]
  },
  {
   "cell_type": "markdown",
   "metadata": {},
   "source": [
    "## 1.8 Parámetros de funciones "
   ]
  },
  {
   "cell_type": "markdown",
   "metadata": {},
   "source": [
    "Antes de continuar, vale la pena aclarar alguna terminología asociada con el paso de datos a funciones. Esta terminología se relaciona con los parámetros definidos como parte del encabezado de la función y los datos pasados a la función a través de estos parámetros:\n",
    "\n",
    "• **Un parámetro** es una variable definida como parte del encabezado de la función y se usa para hacer que los datos estén disponibles dentro de la función misma.\n",
    "\n",
    "• **Un argumento** es el valor real o los datos pasados a la función cuando se llama. Los datos se mantendrán dentro de los parámetros.\n",
    "\n",
    "Desafortunadamente, muchos desarrolladores usan estos términos indistintamente, pero vale la pena ser claro en la distinción."
   ]
  },
  {
   "cell_type": "markdown",
   "metadata": {},
   "source": [
    "### 1.8.1 Funciones de parámetros múltiples "
   ]
  },
  {
   "cell_type": "markdown",
   "metadata": {},
   "source": [
    "Hasta ahora, las funciones que hemos definido solo han tenido cero o un parámetro; Sin embargo, eso fue sólo una elección. Podríamos haber definido fácilmente una función que definiera dos o más parámetros. En estas situaciones, la lista de parámetros contiene una lista de nombres de parámetros separados por una coma."
   ]
  },
  {
   "cell_type": "code",
   "execution_count": 89,
   "metadata": {},
   "outputs": [],
   "source": [
    "def greater_than(x, y):\n",
    "    \n",
    "    if x < y:\n",
    "        print(y , ' is greater than', x )\n",
    "    elif y < x:\n",
    "        print(x , ' is greater than', y )\n",
    "    else:\n",
    "        print(x, ' and ', y, 'are equal')"
   ]
  },
  {
   "cell_type": "code",
   "execution_count": 94,
   "metadata": {},
   "outputs": [
    {
     "name": "stdout",
     "output_type": "stream",
     "text": [
      "3  and  3.0 are equal\n"
     ]
    }
   ],
   "source": [
    "greater_than(3, 3.0)"
   ]
  },
  {
   "cell_type": "markdown",
   "metadata": {},
   "source": [
    "### Valores de parámetros predeterminados "
   ]
  },
  {
   "cell_type": "markdown",
   "metadata": {},
   "source": [
    "Una vez que tenga uno o más parámetros, puede proporcionar valores predeterminados para algunos o todos esos parámetros; en particular para los que podrían no ser utilizados en la mayoría de los casos.\n",
    "\n",
    "Esto se puede hacer muy fácilmente en Python; todo lo que se requiere es que el valor predeterminado se declare en el encabezado de la función junto con el nombre del parámetro.\n",
    "\n",
    "Si se proporciona un valor para el parámetro, anulará el valor predeterminado. Si no se proporciona ningún valor cuando se llama a la función, se utilizará el valor predeterminado.\n",
    "\n",
    "Por ejemplo, podemos modificar la función `greater_than()` para que `x` tome el valor de $0$ a menos que se decida otra opción"
   ]
  },
  {
   "cell_type": "code",
   "execution_count": 1,
   "metadata": {},
   "outputs": [],
   "source": [
    "def greater_than2(x, y = 0 ):\n",
    "    \"\"\"Thislaskjdjk\"\"\"\n",
    "    if x < y:\n",
    "        print(y , ' is greater than', x )\n",
    "    elif y < x:\n",
    "        print(x , ' is greater than', y )\n",
    "    else:\n",
    "        print(x, ' and ', y, 'are equal')"
   ]
  },
  {
   "cell_type": "code",
   "execution_count": 2,
   "metadata": {},
   "outputs": [
    {
     "name": "stdout",
     "output_type": "stream",
     "text": [
      "4  is greater than 0\n"
     ]
    }
   ],
   "source": [
    "greater_than2(4)"
   ]
  },
  {
   "cell_type": "code",
   "execution_count": 3,
   "metadata": {},
   "outputs": [
    {
     "name": "stdout",
     "output_type": "stream",
     "text": [
      "8  is greater than 4\n"
     ]
    }
   ],
   "source": [
    "greater_than2(4, 8)"
   ]
  },
  {
   "cell_type": "markdown",
   "metadata": {},
   "source": [
    "Una vez que tenga uno o más parámetros, puede proporcionar valores predeterminados para algunos o todos esos parámetros; particular para los que podrían no ser utilizados en la mayoría de los casos.\n",
    "\n",
    "Esto se puede hacer muy fácilmente en Python; todo lo que se requiere es que el valor predeterminado se declare en el encabezado de la función junto con el nombre del parámetro.\n",
    "\n",
    "Si se proporciona un valor para el parámetro, anulará el valor predeterminado. Si no se proporciona ningún valor cuando se llama a la función, se utilizará el valor predeterminado."
   ]
  },
  {
   "cell_type": "markdown",
   "metadata": {},
   "source": [
    "### 1.8.3 Argumentos nombrados "
   ]
  },
  {
   "cell_type": "markdown",
   "metadata": {},
   "source": [
    "Hasta ahora nos hemos basado en la posición de un valor que se utilizará para determinar a qué parámetro se asigna ese valor. En muchos casos, esta es la opción más simple y limpia.\n",
    "\n",
    "Sin embargo, si una función tiene varios parámetros, algunos de los cuales tienen valores predeterminados, puede ser imposible confiar en el uso de la posición de un valor para garantizar que se le da al parámetro correcto (porque es posible que deseemos usar algunos de los valores predeterminados en lugar).\n",
    "\n",
    "Por ejemplo, supongamos que tenemos una función con cuatro parámetros"
   ]
  },
  {
   "cell_type": "code",
   "execution_count": 4,
   "metadata": {},
   "outputs": [],
   "source": [
    "def greeter(name, title = 'PhD', prompt = 'Welcome', message = 'Live Long and Prosper'):\n",
    "    print(prompt, title, name, '-', message)"
   ]
  },
  {
   "cell_type": "code",
   "execution_count": 5,
   "metadata": {},
   "outputs": [
    {
     "name": "stdout",
     "output_type": "stream",
     "text": [
      "Welcome PhD Pedro - Live Long and Prosper\n"
     ]
    }
   ],
   "source": [
    "greeter('Pedro')"
   ]
  },
  {
   "cell_type": "code",
   "execution_count": 6,
   "metadata": {},
   "outputs": [
    {
     "name": "stdout",
     "output_type": "stream",
     "text": [
      "Mr. Good bye Pedro - Live Long and Prosper\n"
     ]
    }
   ],
   "source": [
    "greeter('Pedro', 'Good bye', 'Mr.')"
   ]
  },
  {
   "cell_type": "code",
   "execution_count": 7,
   "metadata": {},
   "outputs": [
    {
     "name": "stdout",
     "output_type": "stream",
     "text": [
      "Good bye Mr. Pedro - Live Long and Prosper\n"
     ]
    }
   ],
   "source": [
    "greeter('Pedro', prompt = 'Good bye', title = 'Mr.')"
   ]
  },
  {
   "cell_type": "markdown",
   "metadata": {},
   "source": [
    "### 1.8.4 Argumentos arbitrarios "
   ]
  },
  {
   "cell_type": "markdown",
   "metadata": {},
   "source": [
    "En algunos casos, no sabe cuántos argumentos se proporcionarán cuando se llama a una función. Python le permite pasar un número arbitrario de argumentos a una función y luego procesar esos argumentos dentro de la función.\n",
    "\n",
    "Para definir una lista de parámetros como de longitud arbitraria, un parámetro se marca con un asterisco (`*`). Por ejemplo:"
   ]
  },
  {
   "cell_type": "code",
   "execution_count": 23,
   "metadata": {},
   "outputs": [],
   "source": [
    "def square(*args):\n",
    "    print(args)\n",
    "    for number in args:\n",
    "        \n",
    "        print('Square of', number , ' is ', number*number)"
   ]
  },
  {
   "cell_type": "code",
   "execution_count": 24,
   "metadata": {},
   "outputs": [],
   "source": [
    "def square1(n, m):\n",
    "\n",
    "        print('Square of', n , ' is ', n*n)\n",
    "        print('Square of', m , ' is ', m*m)"
   ]
  },
  {
   "cell_type": "code",
   "execution_count": 25,
   "metadata": {},
   "outputs": [
    {
     "name": "stdout",
     "output_type": "stream",
     "text": [
      "Square of 34  is  1156\n",
      "Square of 8  is  64\n"
     ]
    }
   ],
   "source": [
    "square1(34, 8 )"
   ]
  },
  {
   "cell_type": "code",
   "execution_count": 26,
   "metadata": {},
   "outputs": [
    {
     "name": "stdout",
     "output_type": "stream",
     "text": [
      "(34, 8, 5, 8, 6, 1, 44)\n",
      "Square of 34  is  1156\n",
      "Square of 8  is  64\n",
      "Square of 5  is  25\n",
      "Square of 8  is  64\n",
      "Square of 6  is  36\n",
      "Square of 1  is  1\n",
      "Square of 44  is  1936\n"
     ]
    }
   ],
   "source": [
    "square(34, 8 , 5 , 8 , 6, 1, 44)"
   ]
  },
  {
   "cell_type": "markdown",
   "metadata": {},
   "source": [
    "### 1.8.5 Argumentos posicionales y palabras clave "
   ]
  },
  {
   "cell_type": "markdown",
   "metadata": {},
   "source": [
    "Algunas funciones en Python se definen de tal manera que los argumentos de los métodos se pueden proporcionar utilizando un número variable de argumentos posicionales o de palabras clave. Dichas funciones tienen dos argumentos `*args` y `**kwargs` (para argumentos posicionales y argumentos de palabras clave)\n",
    "\n",
    "Son útiles si no sabe exactamente cuántos argumentos de posición o palabras clave se proporcionarán.\n",
    "\n",
    "Por ejemplo, la función `my_function` toma un número variable de argumentos posicionales y de palabras clave:"
   ]
  },
  {
   "cell_type": "code",
   "execution_count": 39,
   "metadata": {},
   "outputs": [],
   "source": [
    "def my_function(*args, **kwargs):\n",
    "    print(args)\n",
    "    print(kwargs)\n",
    "    \n",
    "    for arg in args:\n",
    "        print('arg:', arg)\n",
    "        \n",
    "    for key in kwargs:\n",
    "        print('key:', key, 'has value: ', kwargs[key])"
   ]
  },
  {
   "cell_type": "code",
   "execution_count": 40,
   "metadata": {},
   "outputs": [
    {
     "name": "stdout",
     "output_type": "stream",
     "text": [
      "('John', 'Denise')\n",
      "{'daughter': 'Phoebe', 'son': 'Adam'}\n",
      "arg: John\n",
      "arg: Denise\n",
      "key: daughter has value:  Phoebe\n",
      "key: son has value:  Adam\n"
     ]
    }
   ],
   "source": [
    "my_function('John', 'Denise', daughter = 'Phoebe', son = 'Adam')"
   ]
  },
  {
   "cell_type": "code",
   "execution_count": 41,
   "metadata": {},
   "outputs": [
    {
     "name": "stdout",
     "output_type": "stream",
     "text": [
      "(5, 'Denise', False)\n",
      "{'number': 20, 'daughter': 'Phoebe', 'son': 'Adam'}\n",
      "arg: 5\n",
      "arg: Denise\n",
      "arg: False\n",
      "key: number has value:  20\n",
      "key: daughter has value:  Phoebe\n",
      "key: son has value:  Adam\n"
     ]
    }
   ],
   "source": [
    "my_function(5, 'Denise', False, number = 20, daughter= 'Phoebe', son = 'Adam')"
   ]
  },
  {
   "cell_type": "code",
   "execution_count": 42,
   "metadata": {},
   "outputs": [
    {
     "name": "stdout",
     "output_type": "stream",
     "text": [
      "('John', 'Denise')\n",
      "{'daughter': 'Phoebe', 'son': 'Adam'}\n",
      "arg: John\n",
      "arg: Denise\n",
      "key: daughter has value:  Phoebe\n",
      "key: son has value:  Adam\n",
      "--------------------------------------------------\n",
      "('Paul', 'Fiona')\n",
      "{'son_number_one': 'Andrew', 'son_number_two': 'James', 'daughter': 'Joselyn'}\n",
      "arg: Paul\n",
      "arg: Fiona\n",
      "key: son_number_one has value:  Andrew\n",
      "key: son_number_two has value:  James\n",
      "key: daughter has value:  Joselyn\n"
     ]
    }
   ],
   "source": [
    "my_function('John', 'Denise', daughter='Phoebe', son='Adam')\n",
    "\n",
    "print('-' * 50)\n",
    "\n",
    "my_function('Paul', 'Fiona', son_number_one='Andrew', son_number_two='James', daughter='Joselyn')"
   ]
  },
  {
   "cell_type": "markdown",
   "metadata": {},
   "source": [
    "También puede definir métodos que solo usen uno de los `*args` y `**kwargs` según sus requisitos (como vimos con la función `greeter()` anterior), por ejemplo:"
   ]
  },
  {
   "cell_type": "code",
   "execution_count": 43,
   "metadata": {},
   "outputs": [],
   "source": [
    "def named(**kwargs):\n",
    "    for key in kwargs.keys():\n",
    "        print('arg:', key, 'has value:', kwargs[key])"
   ]
  },
  {
   "cell_type": "code",
   "execution_count": 44,
   "metadata": {},
   "outputs": [
    {
     "name": "stdout",
     "output_type": "stream",
     "text": [
      "arg: a has value: 1\n",
      "arg: b has value: 2\n",
      "arg: c has value: 3\n"
     ]
    }
   ],
   "source": [
    "named(a = 1, b = 2, c = 3)"
   ]
  },
  {
   "cell_type": "code",
   "execution_count": 45,
   "metadata": {},
   "outputs": [
    {
     "ename": "TypeError",
     "evalue": "named() takes 0 positional arguments but 3 were given",
     "output_type": "error",
     "traceback": [
      "\u001b[0;31m---------------------------------------------------------------------------\u001b[0m",
      "\u001b[0;31mTypeError\u001b[0m                                 Traceback (most recent call last)",
      "\u001b[0;32m<ipython-input-45-2066db538bad>\u001b[0m in \u001b[0;36m<module>\u001b[0;34m\u001b[0m\n\u001b[0;32m----> 1\u001b[0;31m \u001b[0mnamed\u001b[0m\u001b[0;34m(\u001b[0m\u001b[0;36m1\u001b[0m\u001b[0;34m,\u001b[0m \u001b[0;36m2\u001b[0m\u001b[0;34m,\u001b[0m \u001b[0;36m3\u001b[0m\u001b[0;34m)\u001b[0m\u001b[0;34m\u001b[0m\u001b[0m\n\u001b[0m",
      "\u001b[0;31mTypeError\u001b[0m: named() takes 0 positional arguments but 3 were given"
     ]
    }
   ],
   "source": [
    "named(1, 2, 3)"
   ]
  },
  {
   "cell_type": "code",
   "execution_count": 57,
   "metadata": {},
   "outputs": [],
   "source": [
    "def my_function(name, last_name , *args, **kwargs):\n",
    "    \"\"\"This ...\"\"\"\n",
    "    print(name, last_name)\n",
    "    print(args)\n",
    "    print(kwargs)\n",
    "    \n",
    "    for arg in args:\n",
    "        print('arg:', arg)\n",
    "        \n",
    "    for key in kwargs:\n",
    "        print('key:', key, 'has value: ', kwargs[key])\n",
    "        \n",
    "    return"
   ]
  },
  {
   "cell_type": "code",
   "execution_count": 55,
   "metadata": {},
   "outputs": [
    {
     "name": "stdout",
     "output_type": "stream",
     "text": [
      "Pedro Porras\n",
      "('John', 'Denise')\n",
      "{'daughter': 'Phoebe', 'son': 'Adam'}\n",
      "arg: John\n",
      "arg: Denise\n",
      "key: daughter has value:  Phoebe\n",
      "key: son has value:  Adam\n"
     ]
    }
   ],
   "source": [
    "my_function('Pedro', 'Porras','John', 'Denise', daughter='Phoebe', son='Adam')"
   ]
  },
  {
   "cell_type": "markdown",
   "metadata": {},
   "source": [
    "En general, estas comodidades tienen más probabilidades de ser utilizadas por quienes crean bibliotecas, ya que permiten una gran flexibilidad en cómo se puede usar la biblioteca."
   ]
  },
  {
   "cell_type": "markdown",
   "metadata": {},
   "source": [
    "## 1.9 Funciones anónimas "
   ]
  },
  {
   "cell_type": "markdown",
   "metadata": {},
   "source": [
    "Todas las funciones que hemos definido en esta sección tienen un nombre al que se puede hacer referencia, como ` greater_than`o `square`, etc. Esto significa que podemos hacer referencia y reutilizar estas funciones tantas veces como queramos.\n",
    "\n",
    "Sin embargo, en algunos casos queremos crear una función y usarla solo una vez; darle un nombre por esta vez puede contaminar el espacio de nombres del programa (es decir, hay muchos nombres) y también significa que alguien podría llamarlo cuando no lo esperamos.\n",
    "\n",
    "Python por lo tanto, otra opción al definir una función; Es posible definir una *función anónima*. En Python, una función anónima es aquella que no tiene un nombre y solo puede usarse en el punto en que está definida.\n",
    "\n",
    "Las funciones anónimas se definen usando la palabra clave `lambda` y por este motivo también se conocen como funciones lambda.\n",
    "\n",
    "La sintaxis utilizada para definir una función anónima es:\n",
    "\n",
    "```python\n",
    "lambda arguments: expression\n",
    "```"
   ]
  },
  {
   "cell_type": "code",
   "execution_count": 58,
   "metadata": {},
   "outputs": [],
   "source": [
    "def double_two(n):\n",
    "    \n",
    "    return 2*n"
   ]
  },
  {
   "cell_type": "code",
   "execution_count": 59,
   "metadata": {},
   "outputs": [],
   "source": [
    "double = lambda n : 2*n "
   ]
  },
  {
   "cell_type": "code",
   "execution_count": 60,
   "metadata": {},
   "outputs": [
    {
     "name": "stdout",
     "output_type": "stream",
     "text": [
      "6\n"
     ]
    }
   ],
   "source": [
    "print(double(3))"
   ]
  },
  {
   "cell_type": "code",
   "execution_count": 61,
   "metadata": {},
   "outputs": [
    {
     "name": "stdout",
     "output_type": "stream",
     "text": [
      "6\n"
     ]
    }
   ],
   "source": [
    "print(double_two(3))"
   ]
  },
  {
   "cell_type": "code",
   "execution_count": 62,
   "metadata": {},
   "outputs": [],
   "source": [
    "func0 = lambda : print('no args') \n",
    "func1 = lambda x: x * x\n",
    "func2 = lambda x, y: x * y\n",
    "func3 = lambda x, y, z: x + y + z"
   ]
  },
  {
   "cell_type": "code",
   "execution_count": 63,
   "metadata": {},
   "outputs": [
    {
     "name": "stdout",
     "output_type": "stream",
     "text": [
      "no args\n",
      "None\n",
      "16\n",
      "12\n",
      "9\n"
     ]
    }
   ],
   "source": [
    "print(func0())\n",
    "print(func1(4)) \n",
    "print(func2(3, 4)) \n",
    "print(func3(2, 3, 4))"
   ]
  },
  {
   "cell_type": "markdown",
   "metadata": {},
   "source": [
    "# 2. Alcance y vida útil de las variables "
   ]
  },
  {
   "cell_type": "markdown",
   "metadata": {},
   "source": [
    "Ya hemos definido varias variables en los ejemplos con los que hemos estado trabajando en este curso. En la práctica, la mayoría de estas variables han sido lo que se conoce como variables *globales*. Es decir, son (potencialmente) accesibles en cualquier lugar (o globalmente) en nuestros programas.\n",
    "\n",
    "En este capítulo veremos las variables *locales* tal como se definen dentro de una función, las variables globales y cómo se pueden referenciar dentro de una función y finalmente consideraremos las variables *no locales*."
   ]
  },
  {
   "cell_type": "markdown",
   "metadata": {},
   "source": [
    "## 2.1 Variables locales "
   ]
  },
  {
   "cell_type": "markdown",
   "metadata": {},
   "source": [
    "En la práctica, los desarrolladores generalmente intentan limitar el número de variables globales en sus programas, ya que se puede acceder a las variables globales en cualquier lugar y se pueden modificar en cualquier lugar y esto puede provocar comportamientos inesperados (y ha sido la causa de muchos, muchos errores en todo tipo de programas a través de los años).\n",
    "\n",
    "Sin embargo, no todas las variables son globales. Cuando definimos una función, podemos crear variables que tienen un alcance solo para esa función y que no son accesibles o visibles fuera de la función. Estas variables se denominan variables locales (ya que son locales para la función).\n",
    "\n",
    "Esta es una gran ayuda para desarrollar código modular que se ha demostrado que es más fácil de mantener y de hecho desarrollar y probar.\n",
    "\n",
    "En la siguiente función, la variable local llamada `a_variable` se ha creado e inicializado para mantener el valor $100$."
   ]
  },
  {
   "cell_type": "code",
   "execution_count": 64,
   "metadata": {},
   "outputs": [],
   "source": [
    "def my_function(): \n",
    "    \n",
    "    a_variable = 100 \n",
    "    \n",
    "    print(a_variable)"
   ]
  },
  {
   "cell_type": "code",
   "execution_count": 65,
   "metadata": {},
   "outputs": [
    {
     "name": "stdout",
     "output_type": "stream",
     "text": [
      "100\n"
     ]
    }
   ],
   "source": [
    "my_function()"
   ]
  },
  {
   "cell_type": "markdown",
   "metadata": {},
   "source": [
    "Por lo tanto, cuando ejecutamos `my_function()` imprimió el valor $100$ que se mantuvo en la variable local `a_variable` (a la función).\n",
    "\n",
    "Sin embargo, si intentamos acceder a una variable fuera de la función, entonces no se definirá y generaremos un error, por ejemplo:"
   ]
  },
  {
   "cell_type": "code",
   "execution_count": 67,
   "metadata": {},
   "outputs": [
    {
     "name": "stdout",
     "output_type": "stream",
     "text": [
      "100\n"
     ]
    },
    {
     "ename": "NameError",
     "evalue": "name 'a_variable' is not defined",
     "output_type": "error",
     "traceback": [
      "\u001b[0;31m---------------------------------------------------------------------------\u001b[0m",
      "\u001b[0;31mNameError\u001b[0m                                 Traceback (most recent call last)",
      "\u001b[0;32m<ipython-input-67-7961ad54792a>\u001b[0m in \u001b[0;36m<module>\u001b[0;34m\u001b[0m\n\u001b[1;32m      1\u001b[0m \u001b[0mmy_function\u001b[0m\u001b[0;34m(\u001b[0m\u001b[0;34m)\u001b[0m\u001b[0;34m\u001b[0m\u001b[0m\n\u001b[0;32m----> 2\u001b[0;31m \u001b[0mprint\u001b[0m\u001b[0;34m(\u001b[0m\u001b[0ma_variable\u001b[0m\u001b[0;34m)\u001b[0m\u001b[0;34m\u001b[0m\u001b[0m\n\u001b[0m",
      "\u001b[0;31mNameError\u001b[0m: name 'a_variable' is not defined"
     ]
    }
   ],
   "source": [
    "my_function()\n",
    "print(a_variable)"
   ]
  },
  {
   "cell_type": "markdown",
   "metadata": {},
   "source": [
    "Esto plantea la pregunta de qué sucede si se define una variable global llamada `a_variable`. Por ejemplo, si tenemos lo siguiente:"
   ]
  },
  {
   "cell_type": "code",
   "execution_count": 68,
   "metadata": {},
   "outputs": [
    {
     "name": "stdout",
     "output_type": "stream",
     "text": [
      "100\n",
      "25\n"
     ]
    }
   ],
   "source": [
    "a_variable = 25 \n",
    "\n",
    "my_function() \n",
    "\n",
    "print(a_variable)"
   ]
  },
  {
   "cell_type": "markdown",
   "metadata": {},
   "source": [
    "## 2.2 La palabra clave `Global`"
   ]
  },
  {
   "cell_type": "markdown",
   "metadata": {},
   "source": [
    "Qué sucede si lo que quiere es hacer referencia a la variable global dentro de una función.\n",
    "\n",
    "Mientras Python no crea que ha definido una variable local, todo estará bien. Por ejemplo"
   ]
  },
  {
   "cell_type": "code",
   "execution_count": 69,
   "metadata": {},
   "outputs": [],
   "source": [
    "def sum_natural_numbers(n):\n",
    "    \"\"\" Sum of the first natural numbers \"\"\"\n",
    "    i = 0\n",
    "    aux = 0\n",
    "    while i < n:\n",
    "        \n",
    "        i = i + 1\n",
    "        aux = aux + i\n",
    "    \n",
    "    return aux\n",
    "        "
   ]
  },
  {
   "cell_type": "code",
   "execution_count": 70,
   "metadata": {},
   "outputs": [
    {
     "data": {
      "text/plain": [
       "5050"
      ]
     },
     "execution_count": 70,
     "metadata": {},
     "output_type": "execute_result"
    }
   ],
   "source": [
    "sum_natural_numbers(100)"
   ]
  },
  {
   "cell_type": "markdown",
   "metadata": {},
   "source": [
    "En la definición de la función anterior `i` y `aux` son variables locale de la función `sum_natural_numbers`\n",
    "\n",
    "Si quisieramos acceder a la variable `i`, ésta debe de ser una variable globa. Para ello la tenenos que definir como una varible global dentro de la función. "
   ]
  },
  {
   "cell_type": "code",
   "execution_count": null,
   "metadata": {},
   "outputs": [],
   "source": [
    "def sum_natural_numbers(n):\n",
    "    \"\"\"Sum of the first natural numbers\"\"\"\n",
    "    global count\n",
    "    count = 0\n",
    "    aux = 0\n",
    "    while count < n:\n",
    "        \n",
    "        count +=  1\n",
    "        aux = aux + count\n",
    "    \n",
    "    return aux"
   ]
  },
  {
   "cell_type": "code",
   "execution_count": null,
   "metadata": {},
   "outputs": [],
   "source": [
    "print(count)"
   ]
  },
  {
   "cell_type": "code",
   "execution_count": null,
   "metadata": {},
   "outputs": [],
   "source": [
    "sum_natural_numbers(100)"
   ]
  },
  {
   "cell_type": "code",
   "execution_count": null,
   "metadata": {},
   "outputs": [],
   "source": [
    "print(count)"
   ]
  },
  {
   "cell_type": "markdown",
   "metadata": {},
   "source": [
    "Ahora `count` es una variable global"
   ]
  },
  {
   "cell_type": "markdown",
   "metadata": {},
   "source": [
    "## 2.3 Variables no locales "
   ]
  },
  {
   "cell_type": "markdown",
   "metadata": {},
   "source": [
    "Es posible definir funciones dentro de otras funciones, y esto puede ser muy útil cuando trabajamos con colecciones de datos y operaciones como `map()` (que asigna una función a todos los elementos de una colección de datos).\n",
    "\n",
    "Sin embargo, las variables locales son locales para una función específica; incluso las funciones definidas dentro de otra función no pueden modificar las variables externas de las funciones externas (ya que la función interna es una función separada). Pueden hacer referencia a ella, tal como podríamos hacer referencia a la variable global anteriormente; El problema es nuevamente la modificación.\n",
    "\n",
    "La palabra clave `global` no es de ayuda aquí ya que las variables de la función externa no son globales, son locales para una función.\n",
    "\n",
    "Por ejemplo, si definimos una función anidada (`inner`) dentro de la función externa principal (`outer`) y queremos que la función interna modifique el campo local, tenemos un problema"
   ]
  },
  {
   "cell_type": "code",
   "execution_count": null,
   "metadata": {},
   "outputs": [],
   "source": [
    "def outer():\n",
    "    title = 'original title'\n",
    "    \n",
    "    def inner():\n",
    "        title = 'another title' \n",
    "        print('inner:', title)\n",
    "        \n",
    "    inner() \n",
    "    print('outer:', title)"
   ]
  },
  {
   "cell_type": "code",
   "execution_count": null,
   "metadata": {},
   "outputs": [],
   "source": [
    "outer()"
   ]
  },
  {
   "cell_type": "markdown",
   "metadata": {},
   "source": [
    "En este ejemplo, las funciones `outer` e `inner()` modifican la variable `title`. Sin embargo, no son la misma variable `title` y, siempre que esto sea lo que necesitamos, está bien; ambas funciones tienen su propia versión de una variable local `title`.\n",
    "\n",
    "Sin embargo, si lo que queremos es que la función `inner()` modifique la variable de título de la función `outer()`, entonces tenemos un problema.\n",
    "\n",
    "Este problema se puede resolver utilizando la palabra clave `nonlocal`. Esto indica que una variable no es global, pero tampoco es local a la función actual y Python debe mirar dentro del alcance en el que se define la función para financiar una variable local con el mismo nombre:\n",
    "\n",
    "Si ahora declaramos `title` como no local en la función `inner()`, utilizará la versión de `title` de lafunción `outer()` (se compartirá entre ellos) y, por lo tanto, cuando la función `inner()` cambie el título, cambiará para ambas funciones:"
   ]
  },
  {
   "cell_type": "code",
   "execution_count": null,
   "metadata": {},
   "outputs": [],
   "source": [
    "def outer():\n",
    "    title = 'original title' \n",
    "    print('outer before change :', title)\n",
    "    \n",
    "    def inner():\n",
    "        nonlocal title\n",
    "        title = 'another title' \n",
    "        print('inner:', title)\n",
    "        \n",
    "    inner() \n",
    "    \n",
    "    print('outer afther change:', title)\n"
   ]
  },
  {
   "cell_type": "code",
   "execution_count": null,
   "metadata": {},
   "outputs": [],
   "source": [
    "outer()"
   ]
  },
  {
   "cell_type": "code",
   "execution_count": null,
   "metadata": {},
   "outputs": [],
   "source": [
    "print(title)"
   ]
  },
  {
   "cell_type": "markdown",
   "metadata": {},
   "source": [
    "# 3. Recursión"
   ]
  },
  {
   "cell_type": "markdown",
   "metadata": {},
   "source": [
    "La recursión es una forma muy poderosa de implementar soluciones a una cierta clase de problemas. Esta clase de problemas es aquella en la que se puede generar la solución general a un problema dividiendo ese problema general en instancias más pequeñas del mismo problema. El resultado general se genera combinando los resultados obtenidos para los problemas más pequeños."
   ]
  },
  {
   "cell_type": "markdown",
   "metadata": {},
   "source": [
    "## 3.1 Comportamiento recursivo "
   ]
  },
  {
   "cell_type": "markdown",
   "metadata": {},
   "source": [
    "Una solución recursiva en un lenguaje de programación como Python es aquella en la que una función se llama a sí misma una o más veces para resolver un problema en particular. En muchos casos, el resultado de llamarse a sí mismo se combina con las funciones del estado actual para devolver un resultado.\n",
    "\n",
    "En la mayoría de los casos, la llamada recursiva implica llamar a la función pero con un problema menor que resolver. Por ejemplo, una función para atravesar una estructura de datos de árbol podría llamarse a sí misma pasando en un subárbol para procesar.\n",
    "\n",
    "Alternativamente, una función para generar un número factorial podría llamarse a sí misma pasando un número menor para procesar, etc.\n",
    "La clave aquí es que un problema general puede resolverse dividiéndolo en ejemplos más pequeños del mismo problema.\n",
    "\n",
    "Las funciones que resuelven problemas llamándose a sí mismas se denominan funciones recursivas.\n",
    "\n",
    "Sin embargo, si dicha función no tiene un punto de terminación, la función seguirá llamándose al infinito (al menos en teoría). En la mayoría de los idiomas, tal situación (eventualmente) generará un error."
   ]
  },
  {
   "cell_type": "markdown",
   "metadata": {},
   "source": [
    "___"
   ]
  },
  {
   "cell_type": "markdown",
   "metadata": {},
   "source": [
    "Por lo tanto, para que una función recursiva sea útil, debe tener una condición de termino. Esa es una condición bajo la cual no se llaman a sí mismos y simplemente regresan (a menudo con algún resultado). La condición de termino puede ser porque:\n",
    "\n",
    "\n",
    "* Se ha encontrado una solución (algunos datos de interés en una estructura de árbol).\n",
    "* El problema se ha vuelto tan pequeño que puede resolverse sin más recurrencia. Esto a menudo se conoce como un caso base. Es decir, un caso base es un problema que puede ser resuelto sin más recursión.\n",
    "* Se ha alcanzado cierto nivel máximo de recursión, posiblemente sin resultado siendo encontrado / generado."
   ]
  },
  {
   "cell_type": "markdown",
   "metadata": {},
   "source": [
    "Por lo tanto, podemos decir que una función recursiva es una función definida en términos de sí misma a través de expresiones autorreferenciales. La función continuará llamándose a sí misma con pequeñas variaciones del problema general hasta que se cumpla alguna condición de termino para detener la recurrencia. Todas las funciones recursivas comparten un formato común; tienen una parte recursiva y un punto de termino que representa la parte del caso base."
   ]
  },
  {
   "cell_type": "markdown",
   "metadata": {},
   "source": [
    "## 3.2 Beneficios de la Recursión "
   ]
  },
  {
   "cell_type": "markdown",
   "metadata": {},
   "source": [
    "El beneficio clave de la recursividad es que algunos algoritmos (soluciones a problemas informáticos) se expresan de manera mucho más elegante y con mucho menos código cuando se implementan recursivamente que cuando se usa un enfoque iterativo.\n",
    "Esto significa que el código resultante puede ser más fácil de escribir y más fácil de leer.\n",
    "\n",
    "Estas ideas gemelas son importantes tanto para los desarrolladores que inicialmente crean el software como para aquellos que deben mantener ese software (potencialmente una cantidad de tiempo significativa más adelante).\n",
    "\n",
    "El código que es más fácil de escribir tiende a ser menos propenso a errores. Del mismo modo, el código que es más fácil de leer tiende a ser más fácil de mantener, depurar, modificar y ampliar.\n",
    "\n",
    "La recursión también es adecuada para producir soluciones funcionales a un problema, ya que, por su propia naturaleza, una función recursiva se basa en sus entradas y salidas y no contiene ningún estado oculto. Volveremos a esto en una sección posterior sobre Programación funcional."
   ]
  },
  {
   "cell_type": "markdown",
   "metadata": {},
   "source": [
    "## 3.3 Árbol de recursividad"
   ]
  },
  {
   "cell_type": "markdown",
   "metadata": {},
   "source": [
    "Como ejemplo de un problema que se adapta bien a una solución recursiva, mostraremos cómo podríamos implementar un programa para atravesar una estructura de datos de árbol binario.\n",
    "\n",
    "Un árbol binario es una estructura de datos de árbol formada por nodos en los que cada nodo tiene un valor, un puntero izquierdo y un puntero derecho.\n",
    "\n",
    "El nodo raíz es el nodo superior del árbol. Este nodo raíz hace referencia a un subárbol izquierdo y derecho. Esta estructura se repite hasta un nodo hoja. Un nodo hoja es un nodo en el que los punteros derecho e izquierdo están vacíos (es decir, tienen el valor `None`)."
   ]
  },
  {
   "cell_type": "markdown",
   "metadata": {},
   "source": [
    "Esto se muestra a continuación para un árbol binario simple:\n",
    "\n",
    "<img src = \"Images/Tree.png\"  width=\"800\" height=\"300\"/>"
   ]
  },
  {
   "cell_type": "markdown",
   "metadata": {},
   "source": [
    "Por lo tanto, un árbol binario está vacío (representado por un puntero nulo) o está hecho de un solo nodo, donde los punteros izquierdo y derecho apuntan a un árbol binario.\n",
    "\n",
    "Si ahora queremos saber si un valor particular está en el árbol, entonces podemos comenzar en el nodo raíz.\n",
    "\n",
    "Si el nodo raíz contiene el valor, lo imprimimos; de lo contrario, podemos llamar a la función de búsqueda en los nodos secundarios del nodo actual. Si el nodo actual no tiene hijos, simplemente regresamos sin un resultado."
   ]
  },
  {
   "cell_type": "markdown",
   "metadata": {},
   "source": [
    "## 3.4 Recursión en Python "
   ]
  },
  {
   "cell_type": "markdown",
   "metadata": {},
   "source": [
    "La mayoría de los programas de computadora admiten la idea de recursión y Python no es una excepción. En Python es perfectamente legal tener una función que se llame a sí misma (es decir, dentro del cuerpo de la función se realiza una llamada a la misma función). Cuando se ejecuta la función, se llamará a sí misma.\n",
    "\n",
    "En Python podemos escribir una función recursiva como:\n",
    "\n",
    "```python\n",
    "def recursive_function(): \n",
    "    print('calling recursive_function') \n",
    "    recursive_function()```\n",
    "\n",
    "Aquí la función recursive_function () se define de manera que imprima un mensaje y luego se llame a sí misma. Tenga en cuenta que no se requiere una sintaxis especial para esto, ya que una función no necesita haber sido completamente definida antes de ser utilizada.\n",
    "\n",
    "Por supuesto, en el caso de recursive_function () esto resultará en una recursión infinita ya que no hay una condición de terminación. Sin embargo, esto solo será evidente en tiempo de ejecución cuando Python eventualmente generará un error:\n",
    "\n",
    "```python\n",
    "Traceback (most recent call last):\n",
    "File \"recursion_example.py\", line 5, in <module>\n",
    "RecursionError: maximum recursion depth exceeded while calling a Python object```\n"
   ]
  },
  {
   "cell_type": "markdown",
   "metadata": {},
   "source": [
    "Sin embargo, como ya se mencionó, una función recursiva debe tener una parte recursiva y una parte de termino o caso base. La condición de termino se utiliza para identificar cuándo se aplica el caso base. Por lo tanto, debemos agregar una condición para identificar el escenario de termino y cuál es el comportamiento del caso base. Haremos esto en la siguiente sección mientras observamos cómo se puede generar recursivamente un factorial para un número."
   ]
  },
  {
   "cell_type": "markdown",
   "metadata": {},
   "source": [
    "## 3.5 Cálculo factorial recursivo "
   ]
  },
  {
   "cell_type": "markdown",
   "metadata": {},
   "source": [
    "Recordemos la definición del factorial de un número $$n! = n(n-1)(n-2)\\cdots1$$\n",
    "Ya hemos calculado el factorial de manera iterativa:"
   ]
  },
  {
   "cell_type": "code",
   "execution_count": null,
   "metadata": {},
   "outputs": [],
   "source": [
    "def my_factorial(n):\n",
    "    i = 1\n",
    "    aux = 1\n",
    "    while i < n :\n",
    "        i +=1\n",
    "        aux = aux*i\n",
    "        \n",
    "   \n",
    "    return aux"
   ]
  },
  {
   "cell_type": "code",
   "execution_count": null,
   "metadata": {},
   "outputs": [],
   "source": [
    "my_factorial(4)"
   ]
  },
  {
   "cell_type": "markdown",
   "metadata": {},
   "source": [
    "Podemos crear una solución recursiva al problema factorial definiendo una función que tome un número entero para generar el número factorial. Esta función devolverá el valor 1 si el número pasado es 1; este es el caso base. De lo contrario, multiplicará el valor pasado con el resultado de llamarse a sí mismo (la función `factorial ()`) con n - 1, que es la parte recursiva`"
   ]
  },
  {
   "cell_type": "code",
   "execution_count": null,
   "metadata": {},
   "outputs": [],
   "source": [
    "def factorial(n):\n",
    "    \n",
    "    if n == 1: # The termination condition\n",
    "        return 1 # The base case \n",
    "    \n",
    "    else:\n",
    "        res = n * factorial(n - 1) # The recursive call \n",
    "        return res\n"
   ]
  },
  {
   "cell_type": "markdown",
   "metadata": {},
   "source": [
    "La clave para comprender esta función es que tiene:\n",
    "\n",
    "* Una condición de termino que se garantiza su ejecución cuando el valor de n es 1. Este es el caso base; ¡no podemos reducir el problema más abajo ya que el factorial de 1 es 1!\n",
    "\n",
    "* La función se llama recursivamente pero con n - 1 como argumento; Esto significa que cada vez que se llama a sí mismo, el valor de n es menor. Por lo tanto, el valor devuelto por esta llamada es el resultado de un cálculo más pequeño."
   ]
  },
  {
   "cell_type": "markdown",
   "metadata": {},
   "source": [
    "Para aclarar cómo funciona esto, podemos agregar algunos `print` (y un indicador de profundidad) a la función para indicar su comportamiento:"
   ]
  },
  {
   "cell_type": "code",
   "execution_count": null,
   "metadata": {},
   "outputs": [],
   "source": [
    "def factorial(n, depth = 1): \n",
    "    if n == 1:\n",
    "        \n",
    "        print('\\t' * depth, 'Returning 1')\n",
    "        return 1 \n",
    "    \n",
    "    else:\n",
    "        \n",
    "        print('\\t'*depth,'Recursively calling factorial(',n-1,')')\n",
    "        result = n * factorial(n-1, depth + 1) \n",
    "        print('\\t' * depth, 'Returning:', result) \n",
    "        return result"
   ]
  },
  {
   "cell_type": "code",
   "execution_count": null,
   "metadata": {},
   "outputs": [],
   "source": [
    "print('Calling factorial( 5 )')\n",
    "print(factorial(5))"
   ]
  },
  {
   "cell_type": "markdown",
   "metadata": {},
   "source": [
    "## 3.6 Desventajas de la recursión"
   ]
  },
  {
   "cell_type": "markdown",
   "metadata": {},
   "source": [
    "Aunque la recursividad puede ser una forma muy expresiva de definir cómo se puede resolver un problema, no es tan eficiente como la iteración. Esto se debe a que una llamada de función es más costosa para que Python procese que un bucle for. En parte, esto se debe a la infraestructura que acompaña a una llamada de función; esa es la necesidad de configurar la pila para cada invocación de función separada para que todas las variables locales sean independientes de cualquier otra llamada a esa función. \n",
    "\n",
    "También está relacionado con el desenrollado asociado de la pila cuando regresa una función. Sin embargo, también se ve afectado por la cantidad creciente de memoria que cada llamada recursiva debe usar para almacenar todos los datos en la pila.\n",
    "\n",
    "En algunos lenguaje, las optimizaciones son posibles para mejorar el rendimiento de una solución recursiva. Un ejemplo típico se refiere a un tipo de recursión conocida como recursión de cola. Una solución recursiva de cola es aquella en la que el cálculo se realiza antes de la llamada recursiva. El resultado se pasa al paso recursivo, que da como resultado la última instrucción en la función que solo llama a la función recursiva.\n",
    "\n",
    "En tales situaciones, la solución recursiva puede expresarse (internamente al sistema informático) como un problema iterativo. Es decir, el programador escribe la solución como un algoritmo recursivo, pero el intérprete o compilador la convierte en una solución iterativa. Esto permite a los programadores beneficiarse de la naturaleza expresiva de la recursión y al mismo tiempo beneficiarse del desempeño de una solución iterativa.\n",
    "\n",
    "Se podría pensar que la función `factorial` presentada anteriormente es la cola recurrente; sin embargo, no es porque la última instrucción en la función realiza un cálculo que multiplica `n por el resultado de una llamada recursiva`\n",
    "\n",
    "Sin embargo, podemos refactorizar la función factorial para que sea recursiva de la cola. Esta versión de la función factorial pasa el resultado evolutivo a través del parámetro acumulador. Se da como referencia aquí:"
   ]
  },
  {
   "cell_type": "code",
   "execution_count": null,
   "metadata": {},
   "outputs": [],
   "source": [
    "def tail_factorial(n, accumulator=1):\n",
    "    if n == 0:\n",
    "        return accumulator \n",
    "    else:\n",
    "        return tail_factorial(n - 1, accumulator * n)"
   ]
  },
  {
   "cell_type": "code",
   "execution_count": null,
   "metadata": {},
   "outputs": [],
   "source": [
    "print(tail_factorial(5))"
   ]
  },
  {
   "cell_type": "markdown",
   "metadata": {},
   "source": [
    "Sin embargo, debe tenerse en cuenta que Python actualmente no realiza la optimización de recursión de cola; así que este es un ejercicio puramente teórico."
   ]
  },
  {
   "cell_type": "markdown",
   "metadata": {},
   "source": [
    "# Ejercicios en clase\n",
    "\n",
    "* Convertir a funciones los ciclos de la clase anterior \n",
    "    * La suma de los primeros (ya está)\n",
    "    * El Factorial ya está\n",
    "  "
   ]
  },
  {
   "cell_type": "code",
   "execution_count": null,
   "metadata": {},
   "outputs": [],
   "source": [
    "def fibonacci_series(n):\n",
    "    \"\"\"This function determines fibonacci`s numbers ana return a list with them \"\"\"\n",
    "    a , b = 0, 1\n",
    "    serie = [0, 1]\n",
    "    i = 0\n",
    "    while i < n - 2:\n",
    "    \n",
    "        new = a + b\n",
    "        serie.append(new)\n",
    "   \n",
    "        a, b = b, new\n",
    "        i += 1 \n",
    "    return serie\n",
    "    "
   ]
  },
  {
   "cell_type": "code",
   "execution_count": null,
   "metadata": {},
   "outputs": [],
   "source": [
    "fibonacci_series(8)"
   ]
  },
  {
   "cell_type": "code",
   "execution_count": null,
   "metadata": {},
   "outputs": [],
   "source": [
    "def my_exponential(x, n = 16):\n",
    "    \n",
    "    \"\"\" Esto el factorial por de defecto hasta el orden 16 \"\"\"\n",
    "    \n",
    "    i = 0\n",
    "    aux = 0\n",
    "    while i < n:\n",
    "    \n",
    "        aux = aux + (x**i)/my_factorial(i)\n",
    "        i += 1\n",
    "\n",
    "    return aux\n"
   ]
  },
  {
   "cell_type": "code",
   "execution_count": null,
   "metadata": {},
   "outputs": [],
   "source": [
    "my_exponential(1, 16)"
   ]
  },
  {
   "cell_type": "markdown",
   "metadata": {},
   "source": [
    "### Una función que determine si un número es primo o no "
   ]
  },
  {
   "cell_type": "code",
   "execution_count": null,
   "metadata": {},
   "outputs": [],
   "source": [
    "def is_prime(n):\n",
    "    \n",
    "    if n == 2:\n",
    "        \n",
    "        return True\n",
    "\n",
    "    count = 2\n",
    " \n",
    "    while count < n:\n",
    "    \n",
    "        if n%count == 0:\n",
    "        \n",
    "            return False\n",
    "        elif count + 1 == n :\n",
    "            return True\n",
    "        \n",
    "        count += 1\n",
    "        "
   ]
  },
  {
   "cell_type": "code",
   "execution_count": null,
   "metadata": {},
   "outputs": [],
   "source": [
    "is_prime(1)"
   ]
  },
  {
   "cell_type": "markdown",
   "metadata": {},
   "source": [
    "Una función que nos regrese una lista con $n$ primos"
   ]
  },
  {
   "cell_type": "code",
   "execution_count": null,
   "metadata": {},
   "outputs": [],
   "source": [
    "def primes(n):\n",
    "    \n",
    "    primes = []\n",
    "    \n",
    "    i = 0\n",
    "    \n",
    "    while i < n:\n",
    "        \n",
    "        if is_prime(i):\n",
    "            \n",
    "            primes.append(i)\n",
    "        i += 1\n",
    "    return primes"
   ]
  },
  {
   "cell_type": "code",
   "execution_count": null,
   "metadata": {},
   "outputs": [],
   "source": [
    "primes(100)"
   ]
  },
  {
   "cell_type": "code",
   "execution_count": null,
   "metadata": {},
   "outputs": [],
   "source": []
  },
  {
   "cell_type": "code",
   "execution_count": null,
   "metadata": {},
   "outputs": [],
   "source": []
  },
  {
   "cell_type": "code",
   "execution_count": null,
   "metadata": {},
   "outputs": [],
   "source": []
  },
  {
   "cell_type": "code",
   "execution_count": null,
   "metadata": {},
   "outputs": [],
   "source": []
  },
  {
   "cell_type": "code",
   "execution_count": null,
   "metadata": {},
   "outputs": [],
   "source": []
  },
  {
   "cell_type": "code",
   "execution_count": null,
   "metadata": {},
   "outputs": [],
   "source": []
  },
  {
   "cell_type": "markdown",
   "metadata": {},
   "source": [
    "# Ejercicios a casa"
   ]
  },
  {
   "cell_type": "markdown",
   "metadata": {},
   "source": [
    "* Escriba un programa para determinar si un número dado es un Número primo o no. Use la **recursividad** para implementar la solución. El siguiente fragmento de código ilustra cómo podría funcionar esto:\n",
    "\n",
    "```python\n",
    "print('is_prime(3):', is_prime(3)) # True \n",
    "print('is_prime(7):', is_prime(7)) # True \n",
    "print('is_prime(9):', is_prime(9)) # False \n",
    "print('is_prime(31):', is_prime(31)) # True ```\n",
    "\n",
    "* Escriba una función que implemente el triángulo de Pascal para un número específico de filas. El triángulo de Pascal es un triángulo de los coeficientes binomiales. Los valores contenidos en el triángulo se generan de la siguiente manera: en la fila 0 (la fila más alta), hay una entrada única distinta de cero 1. Cada entrada de cada fila posterior se construye sumando el número de arriba y a la izquierda con el número de arriba y a la derecha, tratando las entradas en blanco como 0. Por ejemplo, el número inicial en la primera (o cualquier otra) fila es 1 (la suma de 0 y 1), mientras que los números 1 y 3 en la tercera fila se suman para generar el número 4 en la cuarta fila. A continuación se muestra un ejemplo de triángulo de Pascal para 4 filas:\n",
    "        \n",
    " \n",
    "<img src = \"Images/Pascal.png\"  width=\"500\" height=\"300\"/>\n"
   ]
  },
  {
   "cell_type": "markdown",
   "metadata": {},
   "source": [
    "Por ejemplo, la función debe llamarse `pascals_traingle()` en cuyo caso la siguiente aplicación ilustra cómo podría usarla\n",
    "\n",
    "```python\n",
    "triangle = pascals_triangle(5) \n",
    "    for row in triangle:\n",
    "print(row)```\n",
    "\n",
    "Y la salida de esto debe de ser\n",
    "\n",
    "```python\n",
    "[1]\n",
    "[1, 1]\n",
    "[1, 2, 1]\n",
    "[1, 3, 3, 1] \n",
    "[1, 4, 6, 4, 1]```\n"
   ]
  },
  {
   "cell_type": "code",
   "execution_count": null,
   "metadata": {},
   "outputs": [],
   "source": []
  },
  {
   "cell_type": "code",
   "execution_count": null,
   "metadata": {},
   "outputs": [],
   "source": []
  },
  {
   "cell_type": "code",
   "execution_count": null,
   "metadata": {},
   "outputs": [],
   "source": []
  },
  {
   "cell_type": "code",
   "execution_count": null,
   "metadata": {},
   "outputs": [],
   "source": []
  }
 ],
 "metadata": {
  "kernelspec": {
   "display_name": "Python 3",
   "language": "python",
   "name": "python3"
  },
  "language_info": {
   "codemirror_mode": {
    "name": "ipython",
    "version": 3
   },
   "file_extension": ".py",
   "mimetype": "text/x-python",
   "name": "python",
   "nbconvert_exporter": "python",
   "pygments_lexer": "ipython3",
   "version": "3.6.5"
  }
 },
 "nbformat": 4,
 "nbformat_minor": 2
}
