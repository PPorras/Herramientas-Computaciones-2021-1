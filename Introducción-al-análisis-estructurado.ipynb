{
 "cells": [
  {
   "cell_type": "markdown",
   "metadata": {},
   "source": [
    "* [1. Análisis estructurado e identificación de funciones](#1.-Análisis-estructurado-e-identificación-de-funciones)\n",
    "\n",
    "* [2. Descomposición funcional](#2.-Descomposición-funcional)\n",
    "    * [2.1. Terminología de descomposición funcional](#2.1.-Terminología-de-descomposición-funcional)\n",
    "    * [2.2. Proceso de descomposición funcional](#2.2.-Proceso-de-descomposición-funcional)\n",
    "    * [2.3. Ejemplo de descomposición funcional de calculadora](#2.3.-Ejemplo-de-descomposición-funcional-de-calculadora)\n",
    "    \n",
    "* [3. Flujo funcional](#3.-Flujo-funcional)\n",
    "* [4. Diagramas de flujo de datos](#4.-Diagramas-de-flujo-de-datos)\n",
    "* [5. Diagramas de flujo](#5.-Diagramas-de-flujo)\n",
    "* [6. Diccionario de datos ](#6.-Diccionario-de-datos)"
   ]
  },
  {
   "cell_type": "markdown",
   "metadata": {},
   "source": [
    "En los notebooks anteriores, lo que hemos visto es típico del enfoque procedimental de la programación. En este notebook comenzaremos a explorar la definición de funciones que permiten un estilo de \n",
    "programación más modular.\n",
    "\n",
    "En este notebook presentaremos un enfoque para el análisis y diseño de sistemas de programas llamado *Análisis/Diseño Estructurado*. Dentro de esta área hay muchos métodos específicos y bien documentados, incluido SSADM (Método de diseño y análisis de sistemas estructurados) y el método estructurado de Yourden. Sin embargo, no nos centraremos en ningún enfoque específico; en su lugar, describiremos las ideas clave y los dos elementos básicos de la mayoría de los métodos de análisis estructurado; Descomposición funcional y análisis de flujo de datos. Luego presentaremos Diagramas de flujo para diseñar algoritmos."
   ]
  },
  {
   "cell_type": "markdown",
   "metadata": {},
   "source": [
    "# 1. Análisis estructurado e identificación de funciones"
   ]
  },
  {
   "cell_type": "markdown",
   "metadata": {},
   "source": [
    "Los métodos de análisis estructurado normalmente emplean un enfoque impulsado por procesos (con un conjunto de pasos o etapas prescritos) que de una forma u otra consideran cuáles son las entradas y salidas del sistema y cómo esas entradas se transforman en salidas. Esta transformación implica la aplicación de una o más funciones. Los pasos involucrados en el análisis estructurado identifican estas funciones y, por lo general, las dividirán iterativamente en funciones cada vez más pequeñas hasta que se alcance un nivel apropiado de detalle. Este proceso se conoce como descomposición funcional.\n",
    "\n",
    "Aunque los programas simples de Python solo pueden contener una secuencia de declaraciones y expresiones; Cualquier programa de tamaño necesario deberá estructurarse de manera que pueda ser:\n",
    "\n",
    "* otros desarrolladores lo entienden fácilmente.\n",
    "* probado para garantizar que hace lo que se pretende.\n",
    "* mantenido a medida que evolucionan los requisitos nuevos y existentes.\n",
    "* depurado para resolver comportamientos inesperados o indeseables.\n",
    "\n",
    "Dados estos requisitos, es común querer organizar su programa Python en términos de funciones y subfunciones.\n",
    "\n",
    "La descomposición funcional apoya el análisis y la identificación de estas funciones."
   ]
  },
  {
   "cell_type": "markdown",
   "metadata": {},
   "source": [
    "# 2. Descomposición funcional "
   ]
  },
  {
   "cell_type": "markdown",
   "metadata": {},
   "source": [
    "La descomposición funcional es una forma en que un sistema se puede dividir en sus partes constituyentes. Por ejemplo, para que un sistema de nómina computarizado calcule cuánto debería recibir un empleado pagado por hora, podría ser necesario:\n",
    "\n",
    "* Cargue los detalles del empleado desde alguna forma de almacenamiento permanente (como un archivo o una base de datos).\n",
    "* Cargue cuántas horas ha trabajado el empleado durante esa semana (posiblemente de otro sistema que registre la cantidad de horas trabajadas).\n",
    "* Multiplique las horas trabajadas por la tarifa por hora del empleado.\n",
    "* Registre cuánto se le pagará al empleado en una base de datos o archivo de nómina.\n",
    "* Imprima el recibo de pago del empleado.\n",
    "* Transferir los fondos correspondientes de la cuenta bancaria de la empresa a la cuenta bancaria de los empleados.\n",
    "* Registre en la base de datos de nómina que todo se ha completado.\n",
    "\n",
    "Cada uno de los pasos anteriores podría representar una función realizada por el sistema.\n",
    "\n",
    "Estas funciones de nivel superior podrían dividirse en funciones de nivel inferior. Por ejemplo, imprimir el recibo de nómina de los empleados puede implicar imprimir su nombre y dirección en un formato particular, imprimir el número de empleado, número de seguro social, etc. Además de imprimir información histórica como cuánto se les ha pagado en el año fiscal actual, la cantidad de impuestos que han pagado, etc. Todo además de imprimir la cantidad real que se les paga.\n",
    "\n",
    "Este proceso de dividir las funciones de nivel superior en funciones de nivel inferior ayuda con:\n",
    "\n",
    "* probar el sistema (las funciones se pueden probar de forma aislada),\n",
    "* entender el sistema como la organización de las funciones puede dar sentido al código, además de permitir que cada función se entienda de forma aislada el resto del sistema,\n",
    "* mantener el sistema ya que solo se pueden modificar las funciones que deben cambiarse afectados por requisitos nuevos o modificados,\n",
    "* La depuración del sistema a medida que los problemas se pueden aislar en funciones específicas que se pueden examinar de forma independiente del resto de la aplicación."
   ]
  },
  {
   "cell_type": "markdown",
   "metadata": {},
   "source": [
    "También se conoce como un enfoque de refinamiento de arriba hacia abajo. El término refinamiento de arriba hacia abajo (también conocido como diseño escalonado) resalta la idea de que estamos dividiendo un sistema en los subsistemas que lo componen.\n",
    "\n",
    "Es común representar las funciones identificadas en forma de árbol que ilustra las relaciones entre las funciones de nivel superior y las funciones de nivel inferior. Esto se ilustra a continuación:"
   ]
  },
  {
   "cell_type": "markdown",
   "metadata": {},
   "source": [
    "<img src = \"Images/diagrama.png\"  width=\"800\" height=\"300\"/>"
   ]
  },
  {
   "cell_type": "markdown",
   "metadata": {},
   "source": [
    "Este diagrama ilustra cómo el proceso de aprobación de una tarjeta de crédito se puede dividir en subfunciones."
   ]
  },
  {
   "cell_type": "markdown",
   "metadata": {},
   "source": [
    "## 2.1. Terminología de descomposición funcional"
   ]
  },
  {
   "cell_type": "markdown",
   "metadata": {},
   "source": [
    "Los términos clave utilizados dentro de la descomposición funcional son:\n",
    "\n",
    "* **Función**. Esta es una tarea que realiza un dispositivo, sistema o proceso.\n",
    "* **Descomposición**. Este es el proceso por el cual las funciones de nivel superior se dividen en funciones de nivel inferior donde cada función representa parte de la funcionalidad de la función de nivel superior.\n",
    "* **Función de nivel superior**. Esta es una función que tiene una o más subfunciones. Esta función de nivel superior depende de la funcionalidad del nivel inferior funciones para su comportamiento.\n",
    "* **Sub función**. Esta es una función que proporciona algún elemento del comportamiento de una función de nivel superior. Una subfunción también se puede dividir en sus propias subfunciones de manera jerárquica. En el diagrama anterior, la función de Revisión del cumplimiento es una subfunción y tiene sus propias subfunciones.\n",
    "* **Función básica**. Una función básica es una función que no tiene subfunciones más pequeñas. Las funciones Realizar verificación de crédito y Revisar según las reglas internas son funciones básicas."
   ]
  },
  {
   "cell_type": "markdown",
   "metadata": {},
   "source": [
    "## 2.2. Proceso de descomposición funcional "
   ]
  },
  {
   "cell_type": "markdown",
   "metadata": {},
   "source": [
    "En un nivel muy alto, la descomposición funcional consta de una serie de pasos como los que se describen a continuación:\n",
    "\n",
    "* Encuentre / identifique las entradas y salidas del sistema.\n",
    "* Defina cómo se convierten las entradas en salidas. Esto ayudará a identificar la mayoría de las funciones de alto nivel.\n",
    "* Mire las funciones actuales e intente dividirlas en una lista de sub funciones. Identificar lo que debe hacer cada subfunción y cuáles son sus entradas y las salidas son.\n",
    "* Repita el paso 2 para cada función identificada hasta que las funciones identificadas no puedan o no debe descomponerse más.\n",
    "* Dibuje un diagrama de la jerarquía de funciones que ha creado. Viendo elfunciones y sus relaciones es algo muy útil de hacer, ya que permite a los desarrolladores visualizar el sistema funcionalmente. Hay muchas herramientas CASE (Ingeniería de software asistida por computadora) que ayudan con esto, pero se puede usar cualquier herramienta de dibujo (como Visio).\n",
    "* Examine el diagrama en busca de funciones repetidas. Es decir, funciones que hacen lo mismo pero aparecen en diferentes lugares del diseño. Probablemente se trate de funciones más genéricas que se pueden reutilizar. También examine el diagrama para ver si puede identificar las funciones que faltan.\n",
    "* Refinar / diseñar las interfaces entre una función y otra. Es decir, qué datos / información se pasa ay desde una función a una subfunción, así como entre funciones."
   ]
  },
  {
   "cell_type": "markdown",
   "metadata": {},
   "source": [
    "## 2.3. Ejemplo de descomposición funcional de calculadora "
   ]
  },
  {
   "cell_type": "markdown",
   "metadata": {},
   "source": [
    "Como ejemplo de descomposición funcional, consideremos un programa de calculadora simple.\n",
    "\n",
    "Queremos que este programa pueda realizar un conjunto de operaciones matemáticas con dos números, como sumar, restar, multiplicar y dividir. Por lo tanto, podríamos dibujar un diagrama de descomposición funcional (o FDD) como:\n",
    "\n",
    "<img src = \"Images/ASMD.png\"  width=\"800\" height=\"300\"/>\n",
    "\n",
    "Esto ilustra que la función Calculadora se puede descomponer en las funciones de sumar, restar, multiplicar y dividir."
   ]
  },
  {
   "cell_type": "markdown",
   "metadata": {},
   "source": [
    "Entonces, podríamos identificar la necesidad de ingresar los dos números que se van a operar. Esto daría como resultado la adición de una o más funciones nuevas:\n",
    "\n",
    "\n",
    "<img src = \"Images/ASMD2.png\"  width=\"800\" height=\"300\"/>\n",
    "\n",
    "También podríamos identificar la necesidad de determinar qué operación numérica debe realizarse en función de la entrada del usuario. Esta función puede situarse encima de las funciones numéricas o junto a ellas. De hecho, este es un ejemplo de una decisión de diseño que el diseñador / desarrollador debe tomar en función de su comprensión del problema y de cómo se desarrollará / probará / utilizará el software, etc.\n",
    "\n",
    "En la siguiente versión del Diagrama de descomposición funcional, la función de selección de operaciones se coloca al mismo nivel que las operaciones numéricas, ya que proporciona información a la función de nivel superior.\n",
    "\n",
    "<img src = \"Images/ASMD3.png\"  width=\"800\" height=\"300\"/>"
   ]
  },
  {
   "cell_type": "markdown",
   "metadata": {},
   "source": [
    "# 3. Flujo funcional"
   ]
  },
  {
   "cell_type": "markdown",
   "metadata": {},
   "source": [
    "Aunque la jerarquía de descomposición presentada en el Diagrama de descomposición funcional ilustra las funciones y sus relaciones jerárquicas; no captura cómo fluyen los datos entre las funciones o el orden en el que se invocan las funciones.\n",
    "\n",
    "Hay varios enfoques para describir las interacciones entre las funciones identificadas por Descomposición funcional, incluido el uso de pseudocódigo, diagramas de flujo de datos y diagramas de secuencia:\n",
    "\n",
    "\n",
    "* **Pseudo código**. Esta es una forma de inglés estructurado que no está ligada a ningún lenguaje de programación en particular, pero que se puede usar para expresar ideas simples, incluidas elecciones condicionales (similares a las declaraciones if) e iteración (como se tipifica mediante construcciones en bucle). Sin embargo, como es un pseudolenguaje, los desarrolladores no están atados a una sintaxis específica y pueden incluir funciones sin la necesidad de definir esas funciones en detalle.\n",
    "* **Diagramas de flujo de datos**. Estos diagramas se utilizan para trazar las entradas, los procesos y las salidas de las funciones en una forma gráfica estructurada. Un diagrama de flujo de datos generalmente no tiene un flujo de control, no hay reglas de decisión ni bucles. Para cada flujo de datos, debe haber al menos una entrada y un punto final. Cada proceso (función) puede refinarse mediante otro diagrama de flujo de datos de nivel inferior, que subdivide este proceso en subprocesos.\n",
    "* **Diagramas de secuencia**. Se utilizan para representar interacciones entre diferentes entidades (u objetos) en secuencia. Las funciones invocadas se representan como llamadas de una entidad a otra. Los diagramas de secuencia se utilizan más habitualmente con sistemas orientados a objetos."
   ]
  },
  {
   "cell_type": "markdown",
   "metadata": {},
   "source": [
    "# 4. Diagramas de flujo de datos "
   ]
  },
  {
   "cell_type": "markdown",
   "metadata": {},
   "source": [
    "Un diagrama de flujo de datos consta de un conjunto de entradas y salidas, procesos (funciones), flujos, almacenes de datos (también conocidos como almacenes) y terminadores.\n",
    "\n",
    "\n",
    "* **Proceso**. Este es el proceso (o función o transformación) que convierte las entradas en salidas. El nombre del proceso debe ser descriptivo indicando lo que hace.\n",
    "* **Flujo de datos**. El flujo indica la transferencia de datos / información de un elemento a otro (es decir, un flujo tiene una dirección). El flujo debe tener un nombre que sugiera qué información / datos se intercambian. Los flujos enlazan procesos, almacenes de datos y terminadores.\n",
    "* **Almacén / Almacén de datos**. Un almacén de datos (que puede ser algo como un archivo, carpeta, base de datos u otro depósito de datos) se utiliza para almacenar datos para su uso posterior. El nombre del almacén de datos es un sustantivo en plural (por ejemplo, empleados). El flujo desde el almacén de datos generalmente representa la lectura de los datos almacenados en el almacén de datos, y el flujo al almacén de datos generalmente expresa la entrada o actualización de datos. (a veces también borrando datos).\n",
    "* **Terminator**. Terminator representa una entidad externa (al sistema) que se comunica con el sistema. Ejemplos de entidades pueden ser usuarios humanos u otros sistemas, etc.\n",
    "\n",
    "A continuación se muestra un ejemplo de un diagrama de flujo de datos utilizando las funciones identificadas para la calculadora:\n",
    "\n",
    "<img src = \"Images/DataFlow.png\"  width=\"800\" height=\"300\"/>\n",
    "\n",
    "En este diagrama, la jerarquía de los DFD está indicada por los niveles que amplían la forma en que la función en el nivel anterior es implementada por las funciones en el siguiente nivel. Este DFD también presenta solo el flujo de datos para la situación en la que el usuario selecciona la función de suma como la operación numérica a aplicar."
   ]
  },
  {
   "cell_type": "markdown",
   "metadata": {},
   "source": [
    "# 5. Diagramas de flujo\n",
    "\n",
    "Un diagrama de flujo es una representación gráfica de un algoritmo, flujo de trabajo o proceso para un problema dado.\n",
    "\n",
    "Los diagramas de flujo se utilizan en el análisis, diseño y documentación de sistemas de software. Al igual que con otras formas de notación (como DFD), los diagramas de flujo ayudan a los diseñadores y desarrolladores a visualizar los pasos involucrados en una solución y, por lo tanto, ayudan a comprender los procesos y algoritmos involucrados.\n",
    "\n",
    "Los pasos del algoritmo se representan como varios tipos de cajas. El orden de los pasos se indica mediante flechas entre los cuadros. El flujo de control está representado por cuadros de decisión.\n",
    "\n",
    "Hay una serie de notaciones comunes que se utilizan con los diagramas de flujo y la mayoría de esas notaciones utilizan los siguientes símbolos:\n",
    "\n",
    "<img src = \"Images/Flowchart.png\"  width=\"700\" height=\"300\"/>"
   ]
  },
  {
   "cell_type": "markdown",
   "metadata": {},
   "source": [
    "El significado de estos símbolos se da a continuación:\n",
    "\n",
    "* Terminal. Este símbolo se utiliza para indicar el inicio o el final de un programa o subproceso. Por lo general, contienen las palabras \"Iniciar\", \"Finalizar\" o \"Detener\" o una frase que indica el inicio o el final de algún proceso, como \"Iniciar la ejecución de impresión\".\n",
    "* Proceso. Este símbolo representa una o más operaciones (o declaraciones / expresiones de programación) que de alguna manera aplican el comportamiento o cambian el estado del sistema. Por ejemplo, pueden sumar dos números, ejecutar algún tipo de cálculo o cambiar una bandera booleana, etc.\n",
    "* Decisión. Esto representa un punto de decisión en el algoritmo; es decir, representa un punto de decisión que alterará el flujo del programa (normalmente entre dos caminos diferentes). El punto de decisión a menudo se representa como una pregunta con una respuesta de 'sí' / 'no' y esto se indica en el diagrama de flujo mediante el uso de 'sí' (o 'y') y 'no' (o 'n') etiquetas en el diagrama de flujo. En Python, este punto de decisión se puede implementar mediante una declaración if.\n",
    "* De entrada y salida. Este cuadro indica la entrada o salida de datos del algoritmo. Esto podría representar la obtención de datos de entrada del usuario o la impresión de resultados para el usuario.\n",
    "* Fluir. Estas flechas se utilizan para representar el orden de ejecución de los algoritmos de las cajas.\n",
    "* Proceso predefinido. Esto representa un proceso que se ha definido en otra parte.\n",
    "* Datos almacenados. Indica que los datos se almacenan en alguna forma de almacenamiento persistente sistema.\n",
    "* Conector fuera de página. Un conector etiquetado para usar cuando el objetivo está en otro página (otro diagrama de flujo)."
   ]
  },
  {
   "cell_type": "markdown",
   "metadata": {},
   "source": [
    "Usando los símbolos anteriores podemos crear un diagrama de flujo para nuestro programa de calculadora de enteros simple:\n",
    "\n",
    "<img src = \"Images/ExampleControFlow.png\"  width=\"600\" height=\"300\"/>"
   ]
  },
  {
   "cell_type": "markdown",
   "metadata": {},
   "source": [
    "El diagrama de flujo anterior muestra el funcionamiento básico de la calculadora; el usuario selecciona qué operación realizar, ingresa los dos números y luego, dependiendo de la operación, se realiza la operación seleccionada. A continuación, se imprime el resultado."
   ]
  },
  {
   "cell_type": "markdown",
   "metadata": {},
   "source": [
    "# 6. Diccionario de datos "
   ]
  },
  {
   "cell_type": "markdown",
   "metadata": {},
   "source": [
    "Otro elemento comúnmente asociado con el análisis / diseño estructurado es el diccionario de datos. El Diccionario de datos es un repositorio estructurado de elementos de datos en el sistema. Almacena las descripciones de todos los elementos de datos del Diagrama de flujo de datos. Es decir, registra detalles y definiciones de flujos de datos, almacenes de datos, datos almacenados en almacenes de datos y procesos. El formato utilizado para un diccionario de datos varía de un método a otro y de un proyecto a otro. Puede ser tan simple como una hoja de cálculo de Excel en un sistema de software empresarial como Semanta (https://www.semantacorp.com/ data-dictionary)."
   ]
  },
  {
   "cell_type": "code",
   "execution_count": null,
   "metadata": {},
   "outputs": [],
   "source": []
  }
 ],
 "metadata": {
  "kernelspec": {
   "display_name": "Python 3",
   "language": "python",
   "name": "python3"
  },
  "language_info": {
   "codemirror_mode": {
    "name": "ipython",
    "version": 3
   },
   "file_extension": ".py",
   "mimetype": "text/x-python",
   "name": "python",
   "nbconvert_exporter": "python",
   "pygments_lexer": "ipython3",
   "version": "3.6.5"
  }
 },
 "nbformat": 4,
 "nbformat_minor": 4
}
