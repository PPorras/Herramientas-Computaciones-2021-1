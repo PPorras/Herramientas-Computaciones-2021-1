{
 "cells": [
  {
   "cell_type": "code",
   "execution_count": null,
   "metadata": {},
   "outputs": [],
   "source": []
  },
  {
   "cell_type": "markdown",
   "metadata": {},
   "source": [
    "# 1. Archivos CSV"
   ]
  },
  {
   "cell_type": "markdown",
   "metadata": {},
   "source": [
    "Este notebook presenta un módulo que admite la generación de archivos CSV (o valores separados por comas).\n",
    "\n",
    "El formato CSV (valores separados por comas) es el formato de importación y exportación más común para hojas de cálculo y bases de datos. Sin embargo, CSV no es un estándar preciso con múltiples aplicaciones diferentes que tienen diferentes convenciones y estándares específicos.\n",
    "\n",
    "\n",
    "El módulo Python `csv` implementa clases para leer y escribir datos tabulares en formato CSV. Como parte de esto, admite el concepto de dialecto, que es un formato CSV utilizado por una aplicación o conjunto de programas específicos; por ejemplo, admite un dialecto de Excel.\n",
    "\n",
    "\n",
    "Esto permite a los programadores decir, \"escribir estos datos en el formato preferido por Excel\", o \"leer datos de este archivo que fue generado por Excel\", sin conocer los detalles precisos del formato CSV utilizado por Excel.\n",
    "\n",
    "Los programadores también pueden describir los dialectos CSV entendidos por otras aplicaciones o definir sus propios dialectos CSV para propósitos especiales.\n",
    "\n",
    "El módulo `csv` proporciona una variedad de funciones que incluyen:"
   ]
  },
  {
   "cell_type": "markdown",
   "metadata": {},
   "source": [
    "* `csv.reader (csvfile, dialect = 'excel', ** fmtparams)` Devuelve un objeto lector que iterará sobre las líneas del archivo `csv` dado. Se puede dar un parámetro de dialecto opcional. Puede ser una instancia de una subclase de la clase Dialect o una de las cadenas devueltas por la función list_dialects (). Los otros argumentos opcionales de la palabra clave fmtparams se pueden proporcionar para anular los parámetros de formato individuales en el dialecto actual.\n",
    "\n",
    "* `csv.writer (csvfile, dialect = 'excel', ** fmtparams)` Devuelve un objeto escritor responsable de convertir los datos del usuario en cadenas delimitadas en el archivo `csv` dado. Se proporciona un parámetro de dialecto opcional. Los argumentos de la palabra clave fmtparams se pueden dar para anular los parámetros de formato individuales en el dialecto actual.\n",
    "\n",
    "* `csv.list_dialects ()` Devuelve los nombres de todos los dialectos registrados. Por ejemplo, en Mac OS X, la lista predeterminada de dialectos es \\['excel', 'excel-tab', 'unix'\\].\n"
   ]
  },
  {
   "cell_type": "markdown",
   "metadata": {},
   "source": [
    "# 2. La clase `write` de  CSV "
   ]
  },
  {
   "cell_type": "markdown",
   "metadata": {},
   "source": [
    "Un escritor CSV se obtiene de la función `csv.writer()`. El `csvwriter` admite dos métodos utilizados para escribir datos en el archivo CSV:\n",
    "\n",
    "* `csvwriter.writerow(row)` Escribe el parámetro de fila en el objeto de archivo del escritor, formateado de acuerdo con el dialecto actual.\n",
    "* `csvwriter.writerows(row) Escribe todos los elementos en filas (un iterable de objetos de fila como se describe anteriormente) en el objeto de archivo del escritor, formateado de acuerdo con el dialecto actual.\n",
    "* Los objetos Writer también tienen el siguiente atributo público:\n",
    "* `csvwriter.dialect` Una descripción de solo lectura del dialecto que usa el escritor.\n",
    "\n",
    "El siguiente programa ilustra un uso simple del módulo csv que crea un archivo llamado `sample.csv`.\n",
    "\n",
    "Como no hemos especificado un dialecto, se utilizará el dialecto \"excel\" predeterminado. El método `writerow()` se utiliza para escribir cada lista de cadenas separada por comas en el archivo CSV."
   ]
  },
  {
   "cell_type": "code",
   "execution_count": 1,
   "metadata": {},
   "outputs": [],
   "source": [
    "import csv"
   ]
  },
  {
   "cell_type": "code",
   "execution_count": 2,
   "metadata": {},
   "outputs": [
    {
     "name": "stdout",
     "output_type": "stream",
     "text": [
      "Crearting CSV file\n"
     ]
    }
   ],
   "source": [
    "print('Crearting CSV file')\n",
    "with open('sample.csv', 'w', newline='') as csvfile:\n",
    "    writer = csv.writer(csvfile)\n",
    "    writer.writerow(['She Loves You', 'Sept 1963']) \n",
    "    writer.writerow(['I Want to Hold Your Hand', 'Dec 1963']) \n",
    "    writer.writerow(['Cant Buy Me Love', 'Apr 1964']) \n",
    "    writer.writerow(['A Hard Days Night', 'July 1964'])\n"
   ]
  },
  {
   "cell_type": "code",
   "execution_count": 3,
   "metadata": {},
   "outputs": [
    {
     "name": "stdout",
     "output_type": "stream",
     "text": [
      "Metan sus datos:20\n"
     ]
    }
   ],
   "source": [
    "a = input(\"Metan sus datos:\" )"
   ]
  },
  {
   "cell_type": "markdown",
   "metadata": {},
   "source": [
    "# La clase de `reader` CSV"
   ]
  },
  {
   "cell_type": "markdown",
   "metadata": {},
   "source": [
    "Un objeto de CSV Reader se obtiene de la función `csv.reader().` Implementa el protocolo de iteración.\n",
    "\n",
    "Si se utiliza un objeto lector de csv con un bucle `for`, cada vez que se recorre el bucle, se proporciona la siguiente fila del archivo CSV como una lista, analizada de acuerdo con el dialecto CSV actual.\n",
    "\n",
    "Los objetos de lector también tienen los siguientes atributos públicos:\n",
    "\n",
    "* `csvreader.dialect` Una descripción de solo lectura del dialecto que usa el analizador.\n",
    "\n",
    "* `csvreader.line_num` El número de líneas leídas desde el iterador de origen. No es lo mismo que el número de registros devueltos, ya que los registros pueden abarcar varias líneas.\n",
    "\n",
    "A continuación, se proporciona un ejemplo muy simple de lectura de un archivo CSV utilizando un objeto lector de csv:"
   ]
  },
  {
   "cell_type": "code",
   "execution_count": 6,
   "metadata": {},
   "outputs": [
    {
     "name": "stdout",
     "output_type": "stream",
     "text": [
      "Starting to read csv file\n",
      "She Loves You, Sept 1963\n",
      "I Want to Hold Your Hand, Dec 1963\n",
      "Cant Buy Me Love, Apr 1964\n",
      "A Hard Days Night, July 1964\n",
      "Done Reading\n"
     ]
    }
   ],
   "source": [
    "print('Starting to read csv file')\n",
    "with open('sample.csv', newline='') as csvfile:\n",
    "    reader = csv.reader(csvfile) \n",
    "    for row in reader:\n",
    "        print(*row, sep=', ') \n",
    "print('Done Reading')\n"
   ]
  },
  {
   "cell_type": "markdown",
   "metadata": {},
   "source": [
    "# 3. La clase CSV `DictWriter`"
   ]
  },
  {
   "cell_type": "markdown",
   "metadata": {},
   "source": [
    "En muchos casos, la primera fila de un archivo CSV contiene un conjunto de nombres (o claves) que definen los campos dentro del resto del CSV. Esa es la primera fila que da significado a las columnas y los datos contenidos en el resto del archivo CSV. Por lo tanto, es muy útil capturar esta información y estructurar los datos escritos en un archivo CSV o cargados desde un archivo CSV según las claves de la primera fila.\n",
    "\n",
    "El `csv.DictWriter` devuelve un objeto que se puede utilizar para escribir valores en el archivo CSV según el uso de dichas columnas con nombre. El archivo que se utilizará con `DictWriter` se proporciona cuando se crea una instancia de la clase."
   ]
  },
  {
   "cell_type": "code",
   "execution_count": 7,
   "metadata": {},
   "outputs": [],
   "source": [
    "with open('names.csv', 'w', newline='') as csvfile: \n",
    "    fieldnames = ['first_name', 'last_name', 'result'] \n",
    "    writer = csv.DictWriter(csvfile, fieldnames=fieldnames)\n",
    "    writer.writeheader()\n",
    "    writer.writerow({'first_name': 'John','last_name': 'Smith','result' : 54}) \n",
    "    writer.writerow({'first_name': 'Jane', 'last_name': 'Lewis','result': 63}) \n",
    "    writer.writerow({'first_name': 'Chris', 'last_name': 'Davies','result' : 72})\n"
   ]
  },
  {
   "cell_type": "markdown",
   "metadata": {},
   "source": [
    "Tenga en cuenta que cuando se crea el `DictWriter`, se debe proporcionar una lista de las claves que se utilizan para las columnas en el archivo CSV.\n",
    "\n",
    "El método `writeheader()` se usa para escribir la fila del encabezado en el archivo CSV.\n",
    "\n",
    "El método `writerow()` toma un objeto de diccionario que tiene claves basadas en las claves definidas para `DictWriter`. Luego, estos se utilizan para escribir datos en el CSV (tenga en cuenta que el orden de las claves en el diccionario no es importante).\n",
    "\n",
    "En el código de ejemplo anterior, el resultado de esto es que se crea un nuevo archivo llamado `names.csv` que se puede abrir en Excel:\n",
    "\n",
    "Por supuesto, como se trata de un archivo CSV, también se puede abrir en un editor de texto sin formato."
   ]
  },
  {
   "cell_type": "markdown",
   "metadata": {},
   "source": [
    "# 4 La clase CSV `DictReader` "
   ]
  },
  {
   "cell_type": "markdown",
   "metadata": {},
   "source": [
    "Además del `csv.DictWriter`, hay un `csv.DictReader`. El archivo que se utilizará con `DictReader` se proporciona cuando se crea una instancia de la clase. Al igual que con `DictReader`, la clase `DictWriter` toma una lista de claves utilizadas para definir las columnas en el archivo CSV. Si se pueden proporcionar los encabezados que se utilizarán para la primera fila, aunque esto es opcional (si no se proporciona un conjunto de claves, los valores de la primera fila del archivo CSV se utilizarán como nombres de campo).\n",
    "\n",
    "La clase `DictReader` proporciona varias características útiles, incluida la propiedad de nombres de campo que contiene una lista de las claves / encabezados para el archivo CSV como se define en la primera fila del archivo.\n",
    "\n",
    "La clase `DictReader` también implementa el protocolo de iteración y, por lo tanto, puede usarse en un bucle for en el que cada fila (después de la primera fila) se devuelve a su vez como un diccionario. El objeto de diccionario que representa cada fila se puede utilizar para acceder a cada valor de columna según las claves definidas en la primera fila.\n",
    "\n",
    "A continuación, se muestra un ejemplo para el archivo CSV creado anteriormente:"
   ]
  },
  {
   "cell_type": "code",
   "execution_count": 8,
   "metadata": {},
   "outputs": [
    {
     "name": "stdout",
     "output_type": "stream",
     "text": [
      "first_name last_name result \n",
      "------------------------------\n",
      "John Smith 54\n",
      "Jane Lewis 63\n",
      "Chris Davies 72\n",
      "Done\n"
     ]
    }
   ],
   "source": [
    "with open('names.csv', newline='') as csvfile:\n",
    "    reader = csv.DictReader(csvfile)\n",
    "    for heading in reader.fieldnames:\n",
    "        print(heading, end=' ')\n",
    "    print('\\n------------------------------')\n",
    "    \n",
    "    for row in reader:\n",
    "        print(row['first_name'], row['last_name'],row['result']) \n",
    "print('Done')"
   ]
  },
  {
   "cell_type": "markdown",
   "metadata": {},
   "source": [
    "# 5 Trabajar con archivos de Excel"
   ]
  },
  {
   "cell_type": "markdown",
   "metadata": {},
   "source": [
    "En esta seción se presenta el módulo `openpyxl` que se puede utilizar cuando se trabaja con archivos de Excel. Excel es una aplicación de software desarrollada por Microsoft que permite a los usuarios trabajar con hojas de cálculo. Es una herramienta muy utilizada y los archivos que utilizan el formato de archivo Excel se encuentran comúnmente en muchas organizaciones. De hecho, es el estándar de la industria para hojas de cálculo y, como tal, es una herramienta muy útil para tener en la caja de herramientas de los desarrolladores."
   ]
  },
  {
   "cell_type": "markdown",
   "metadata": {},
   "source": [
    "# 6 Archivos Excel"
   ]
  },
  {
   "cell_type": "markdown",
   "metadata": {},
   "source": [
    "Aunque los archivos CSV son una forma cómoda y sencilla de manejar datos; es muy común necesitar poder leer o escribir archivos de Excel directamente. Con este fin, hay varias bibliotecas disponibles en Python para este propósito. Una biblioteca ampliamente utilizada es la biblioteca ***OpenPyXL***. Esta biblioteca se escribió originalmente para admitir el acceso a archivos de Excel 2010. Es un proyecto de código abierto y está bien documentado.\n",
    "\n",
    "* leer y escribir libros de Excel,\n",
    "* crear / acceder a hojas de cálculo de Excel,\n",
    "* creando fórmulas de Excel,\n",
    "* creación de gráficos (con el apoyo de módulos adicionales).\n",
    "\n",
    "La biblioteca `OpenPyXL` proporciona facilidades para leer y escribir libros de Excel, crear / acceder a hojas de cálculo de Excelleer y escribir libros de Excel, crear / acceder a hojas de cálculo de Excel,\n",
    "creando fórmulas de Excel,creación de gráficos (con el apoyo de módulos adicionales).\n",
    "\n",
    "Como OpenPyXL no es parte de la distribución estándar de Python, deberá instalar la biblioteca usted mismo usando una herramienta como Anaconda o pip (por ejemplo, pip install openpyxl). Alternativamente, si está utilizando PyCharm, podrá agregar la biblioteca OpenPyXL a su proyecto."
   ]
  },
  {
   "cell_type": "markdown",
   "metadata": {},
   "source": [
    "# 7.  La clase `Openpyxl.Workbook` "
   ]
  },
  {
   "cell_type": "markdown",
   "metadata": {},
   "source": [
    "El elemento clave de la biblioteca `OpenPyXL` es la clase `Workbook`. Esto se puede importar desde el módulo:"
   ]
  },
  {
   "cell_type": "code",
   "execution_count": 1,
   "metadata": {
    "scrolled": true
   },
   "outputs": [],
   "source": [
    "from openpyxl import Workbook"
   ]
  },
  {
   "cell_type": "markdown",
   "metadata": {},
   "source": [
    "Se puede crear una nueva instancia del Libro de trabajo (en memoria) utilizando la clase Libro de trabajo (tenga en cuenta que en este punto es puramente una estructura dentro del programa Python y debe guardarse antes de crear un archivo de Excel real)."
   ]
  },
  {
   "cell_type": "code",
   "execution_count": 9,
   "metadata": {},
   "outputs": [],
   "source": [
    "?Workbook"
   ]
  },
  {
   "cell_type": "code",
   "execution_count": 49,
   "metadata": {},
   "outputs": [],
   "source": [
    "wb = Workbook()"
   ]
  },
  {
   "cell_type": "code",
   "execution_count": 50,
   "metadata": {},
   "outputs": [
    {
     "name": "stdout",
     "output_type": "stream",
     "text": [
      "<openpyxl.workbook.workbook.Workbook object at 0x113b3c828>\n"
     ]
    }
   ],
   "source": [
    "print(wb)"
   ]
  },
  {
   "cell_type": "markdown",
   "metadata": {},
   "source": [
    "# 8 Los objetos `Openpyxl.WorkSheet` "
   ]
  },
  {
   "cell_type": "markdown",
   "metadata": {},
   "source": [
    "Un libro de trabajo siempre se crea con al menos una hoja de trabajo. Puede obtener la hoja de trabajo actualmente activa utilizando la propiedad `Workbook.active`:"
   ]
  },
  {
   "cell_type": "code",
   "execution_count": 51,
   "metadata": {},
   "outputs": [],
   "source": [
    "ws = wb.active"
   ]
  },
  {
   "cell_type": "code",
   "execution_count": 52,
   "metadata": {},
   "outputs": [
    {
     "name": "stdout",
     "output_type": "stream",
     "text": [
      "<Worksheet \"Sheet\">\n"
     ]
    }
   ],
   "source": [
    "print(ws)"
   ]
  },
  {
   "cell_type": "markdown",
   "metadata": {},
   "source": [
    "Se puede crear hojas de trabajo adicionales utilizando el método `create_sheet()` de los libros de trabajo:"
   ]
  },
  {
   "cell_type": "code",
   "execution_count": 53,
   "metadata": {},
   "outputs": [],
   "source": [
    "ws = wb.create_sheet('Mysheet')"
   ]
  },
  {
   "cell_type": "markdown",
   "metadata": {},
   "source": [
    "Puede acceder o actualizar el título de la hoja de trabajo usando el método `title`:"
   ]
  },
  {
   "cell_type": "code",
   "execution_count": 54,
   "metadata": {},
   "outputs": [],
   "source": [
    "ws.title = 'New Title'"
   ]
  },
  {
   "cell_type": "markdown",
   "metadata": {},
   "source": [
    "El color de fondo de la pestaña que contiene este título es blanco por defecto. Puede cambiar esto proporcionando un atributo de código de color RRGGBB a la hoja de trabajo `worksheet`.  `sheet_properties.tabColor`, por ejemplo:"
   ]
  },
  {
   "cell_type": "code",
   "execution_count": 55,
   "metadata": {},
   "outputs": [],
   "source": [
    "ws.sheet_properties.tabColor = \"1072BA\""
   ]
  },
  {
   "cell_type": "markdown",
   "metadata": {},
   "source": [
    "# 9 Trabajar con la celdas "
   ]
  },
  {
   "cell_type": "markdown",
   "metadata": {},
   "source": [
    "Es posible acceder a las celdas dentro de una hoja de trabajo. Se puede acceder a una celda directamente como claves en la hoja de trabajo, por ejemplo:"
   ]
  },
  {
   "cell_type": "code",
   "execution_count": 56,
   "metadata": {},
   "outputs": [],
   "source": [
    "ws['A1'] = 42"
   ]
  },
  {
   "cell_type": "markdown",
   "metadata": {},
   "source": [
    "o"
   ]
  },
  {
   "cell_type": "code",
   "execution_count": 57,
   "metadata": {},
   "outputs": [],
   "source": [
    "cell = ws['A1']"
   ]
  },
  {
   "cell_type": "markdown",
   "metadata": {},
   "source": [
    "Esto devuelve un objeto de celda; puede obtener el valor de la celda usando la propiedad value, por ejemplo"
   ]
  },
  {
   "cell_type": "code",
   "execution_count": 58,
   "metadata": {},
   "outputs": [
    {
     "name": "stdout",
     "output_type": "stream",
     "text": [
      "<Cell 'New Title'.A1>\n"
     ]
    }
   ],
   "source": [
    "print(cell)"
   ]
  },
  {
   "cell_type": "code",
   "execution_count": 59,
   "metadata": {},
   "outputs": [
    {
     "name": "stdout",
     "output_type": "stream",
     "text": [
      "42\n"
     ]
    }
   ],
   "source": [
    "print(cell.value)"
   ]
  },
  {
   "cell_type": "markdown",
   "metadata": {},
   "source": [
    "También existe el método `Worksheet.cell()`. Esto proporciona acceso a las celdas usando la notación de filas y columnas:"
   ]
  },
  {
   "cell_type": "code",
   "execution_count": 60,
   "metadata": {},
   "outputs": [],
   "source": [
    "d = ws.cell(row=4, column=2, value=10)"
   ]
  },
  {
   "cell_type": "code",
   "execution_count": 61,
   "metadata": {},
   "outputs": [
    {
     "name": "stdout",
     "output_type": "stream",
     "text": [
      "<Cell 'New Title'.B4>\n"
     ]
    }
   ],
   "source": [
    "print(d)"
   ]
  },
  {
   "cell_type": "markdown",
   "metadata": {},
   "source": [
    "También se puede agregar una fila de valores en la posición actual dentro del archivo de Excel usando agregar:"
   ]
  },
  {
   "cell_type": "code",
   "execution_count": 62,
   "metadata": {},
   "outputs": [],
   "source": [
    "ws.append([1, 2, 3])"
   ]
  },
  {
   "cell_type": "code",
   "execution_count": 35,
   "metadata": {},
   "outputs": [
    {
     "data": {
      "text/plain": [
       "<generator object values at 0x113bd93b8>"
      ]
     },
     "execution_count": 35,
     "metadata": {},
     "output_type": "execute_result"
    }
   ],
   "source": [
    "ws.values"
   ]
  },
  {
   "cell_type": "markdown",
   "metadata": {},
   "source": [
    "Esto agregará una fila al archivo de Excel que contiene 1, 2 y 3. Se puede acceder a los rangos de celdas usando la división:"
   ]
  },
  {
   "cell_type": "code",
   "execution_count": 63,
   "metadata": {},
   "outputs": [],
   "source": [
    "cell_range = ws['A1':'B2']"
   ]
  },
  {
   "cell_type": "code",
   "execution_count": 64,
   "metadata": {},
   "outputs": [
    {
     "data": {
      "text/plain": [
       "((<Cell 'New Title'.A1>, <Cell 'New Title'.B1>),\n",
       " (<Cell 'New Title'.A2>, <Cell 'New Title'.B2>))"
      ]
     },
     "execution_count": 64,
     "metadata": {},
     "output_type": "execute_result"
    }
   ],
   "source": [
    "cell_range"
   ]
  },
  {
   "cell_type": "markdown",
   "metadata": {},
   "source": [
    "También se pueden obtener rangos de filas o columnas:"
   ]
  },
  {
   "cell_type": "code",
   "execution_count": 65,
   "metadata": {},
   "outputs": [],
   "source": [
    "col = ws['C'] \n",
    "col_range = ws['C:D'] \n",
    "row10 = ws[10] \n",
    "row_range = ws[5:10]"
   ]
  },
  {
   "cell_type": "markdown",
   "metadata": {},
   "source": [
    "El valor de una celda también puede ser una fórmula de Excel como"
   ]
  },
  {
   "cell_type": "code",
   "execution_count": 66,
   "metadata": {},
   "outputs": [],
   "source": [
    "ws['A3'] = '=SUM(A1, A2)'"
   ]
  },
  {
   "cell_type": "markdown",
   "metadata": {},
   "source": [
    "Un libro de trabajo es en realidad solo una estructura en la memoria; debe guardarse en un archivo para almacenamiento permanente. Estos libros de trabajo se pueden guardar usando el método `save()`. Este método toma un nombre de archivo y escribe el `Workbook` en formato Excel."
   ]
  },
  {
   "cell_type": "code",
   "execution_count": 67,
   "metadata": {},
   "outputs": [],
   "source": [
    "wb.save('balances.xlsx')"
   ]
  },
  {
   "cell_type": "markdown",
   "metadata": {},
   "source": [
    "```python\n",
    "workbook = Workbook()\n",
    "... \n",
    "workbook.save('balances.xlsx')\n",
    "```"
   ]
  },
  {
   "cell_type": "markdown",
   "metadata": {},
   "source": [
    "# 10 Ejemplo de aplicación de creación de archivos de Excel "
   ]
  },
  {
   "cell_type": "markdown",
   "metadata": {},
   "source": [
    "La siguiente aplicación simple crea un libro de trabajo con dos hojas de trabajo. También contiene una fórmula simple de Excel que suma los valores retenidos en otras celdas:"
   ]
  },
  {
   "cell_type": "code",
   "execution_count": 47,
   "metadata": {},
   "outputs": [],
   "source": [
    "def main():\n",
    "    print('Starting Write Excel Example with openPyXL')\n",
    "    workbook = Workbook()\n",
    "    \n",
    "    # Get the current active worksheet\n",
    "    ws = workbook.active\n",
    "    ws.title = 'my worksheet' \n",
    "    ws.sheet_properties.tabColor = '1072BA'\n",
    "    \n",
    "    ws['A1'] = 42\n",
    "    ws['A2'] = 12\n",
    "    ws['A3'] = '=SUM(A1, A2)'\n",
    "    \n",
    "    ws2 = workbook.create_sheet(title='my other sheet') \n",
    "    ws2['A1'] = 3.42\n",
    "    ws2.append([1, 2, 3])\n",
    "    ws2.cell(column=2, row=1, value=15)\n",
    "    workbook.save('sample.xlsx')\n",
    "    \n",
    "    print('Done Write Excel Example')"
   ]
  },
  {
   "cell_type": "code",
   "execution_count": 69,
   "metadata": {},
   "outputs": [
    {
     "name": "stdout",
     "output_type": "stream",
     "text": [
      "Starting Write Excel Example with openPyXL\n",
      "Done Write Excel Example\n"
     ]
    }
   ],
   "source": [
    "main()"
   ]
  },
  {
   "cell_type": "code",
   "execution_count": 48,
   "metadata": {},
   "outputs": [
    {
     "name": "stdout",
     "output_type": "stream",
     "text": [
      "Starting Write Excel Example with openPyXL\n",
      "Done Write Excel Example\n"
     ]
    }
   ],
   "source": [
    "if __name__ == '__main__': main()"
   ]
  },
  {
   "cell_type": "markdown",
   "metadata": {},
   "source": [
    "# Cargar un `Workbook` desde un archivo de Excel "
   ]
  },
  {
   "cell_type": "markdown",
   "metadata": {},
   "source": [
    "Por supuesto, en muchos casos es necesario no solo crear archivos Excel para exportar datos, sino también importar datos desde un archivo Excel existente. Esto se puede hacer usando la función `load_workbook()` de OpenPyXL. Esta función abre el archivo de Excel especificado (en modo de solo lectura de forma predeterminada) y devuelve un objeto `Workbook`."
   ]
  },
  {
   "cell_type": "code",
   "execution_count": 70,
   "metadata": {},
   "outputs": [],
   "source": [
    "from openpyxl import load_workbook"
   ]
  },
  {
   "cell_type": "code",
   "execution_count": 71,
   "metadata": {},
   "outputs": [],
   "source": [
    "workbook = load_workbook(filename='sample.xlsx')"
   ]
  },
  {
   "cell_type": "markdown",
   "metadata": {},
   "source": [
    "Ahora se puede acceder a una lista de hojas, sus nombres, obtener la hoja actualmente activa, etc. utilizando las propiedades proporcionadas por el objeto `workbook`:\n",
    "\n",
    "* `workbook.active` devuelve el objeto de hoja de trabajo activo.\n",
    "* `workbook.sheetnames` devuelve los nombres (cadenas) de las hojas de trabajo de este libro.\n",
    "* `workbook.worksheets` devuelve una lista de objetos de la hoja de trabajo."
   ]
  },
  {
   "cell_type": "markdown",
   "metadata": {},
   "source": [
    "La siguiente aplicación de muestra lee el archivo de Excel creado anteriormente en esta sección:"
   ]
  },
  {
   "cell_type": "code",
   "execution_count": 74,
   "metadata": {},
   "outputs": [],
   "source": [
    "def main():\n",
    "    print('Starting reading Excel file using openPyXL')\n",
    "    \n",
    "    workbook = load_workbook(filename='sample.xlsx') \n",
    "    print(workbook.active)\n",
    "    print(workbook.sheetnames) \n",
    "    print(workbook.worksheets)\n",
    "    \n",
    "    print('-' * 10)\n",
    "    \n",
    "    ws = workbook['my other sheet'] \n",
    "    print(ws['A1']) \n",
    "    print(ws['A1'].value) \n",
    "    print(ws['A2'].value) \n",
    "    print(ws['A3'].value)\n",
    "    \n",
    "    print('-' * 10)\n",
    "    for sheet in workbook:\n",
    "        print(sheet.title)\n",
    "        \n",
    "    print('-' * 10) \n",
    "    cell_range = ws['A1':'A3'] \n",
    "    for cell in cell_range:\n",
    "        print(cell[0].value) \n",
    "    print('-' * 10)\n",
    "    \n",
    "    print('Finished reading Excel file using openPyXL')"
   ]
  },
  {
   "cell_type": "code",
   "execution_count": 75,
   "metadata": {},
   "outputs": [
    {
     "name": "stdout",
     "output_type": "stream",
     "text": [
      "Starting reading Excel file using openPyXL\n",
      "<Worksheet \"my worksheet\">\n",
      "['my worksheet', 'my other sheet']\n",
      "[<Worksheet \"my worksheet\">, <Worksheet \"my other sheet\">]\n",
      "----------\n",
      "<Cell 'my other sheet'.A1>\n",
      "3.42\n",
      "1\n",
      "None\n",
      "----------\n",
      "my worksheet\n",
      "my other sheet\n",
      "----------\n",
      "3.42\n",
      "1\n",
      "None\n",
      "----------\n",
      "Finished reading Excel file using openPyXL\n"
     ]
    }
   ],
   "source": [
    "if __name__ == '__main__':\n",
    "    main()\n"
   ]
  },
  {
   "cell_type": "code",
   "execution_count": null,
   "metadata": {},
   "outputs": [],
   "source": []
  }
 ],
 "metadata": {
  "kernelspec": {
   "display_name": "Python 3",
   "language": "python",
   "name": "python3"
  },
  "language_info": {
   "codemirror_mode": {
    "name": "ipython",
    "version": 3
   },
   "file_extension": ".py",
   "mimetype": "text/x-python",
   "name": "python",
   "nbconvert_exporter": "python",
   "pygments_lexer": "ipython3",
   "version": "3.6.5"
  }
 },
 "nbformat": 4,
 "nbformat_minor": 4
}
