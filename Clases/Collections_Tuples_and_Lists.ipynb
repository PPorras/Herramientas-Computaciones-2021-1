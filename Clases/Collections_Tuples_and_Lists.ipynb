{
 "cells": [
  {
   "cell_type": "markdown",
   "metadata": {},
   "source": [
    "# Contenido\n",
    "\n",
    "* [1. Introducción](#1.-Introducción)\n",
    "* [2. Tipos de colección de Python](#2.-Tipos-de-colección-de-Python)\n",
    "* [3. Tuplas](#3.-Tuplas)\n",
    "    * [3.1 Creando tuplas](#3.1-Creando-tuplas)\n",
    "    * [3.2 La función constructora tuple()](#3.2-La-función-constructora-tuple())\n",
    "    * [3.3 Acceso a elementos de una tupla](#3.3-Acceso-a-elementos-de-una-tupla)\n",
    "    * [3.4 Crear nuevas tuplas a partir de tuplas existentes ](#3.4-Crear-nuevas-tuplas-a-partir-de-tuplas-existentes)\n",
    "    * [3.5 tuplas pueden contener diferentes tipos](#3.5-tuplas-pueden-contener-diferentes-tipos)\n",
    "    * [3.6 Iterando sobre tuplas ](#3.6-Iterando-sobre-tuplas)\n",
    "    * [3.7 Funciones relacionadas con las tuplas](#3.7-Funciones-relacionadas-con-las-tuplas)\n",
    "    * [3.8 Comprobar si existe un elemento](#3.8-Comprobar-si-existe-un-elemento)\n",
    "    * [3.9 tuplas anidadas](#3.9-tuplas-anidadas)\n",
    "    * [3.10 Cosas que no puedes hacer con las tuplas](#3.10-Cosas-que-no-puedes-hacer-con-las-tuplas)\n",
    "* [4. listas](#4.-listas)\n",
    "    * [4.1 Crear listas](#4.1-Crear-listas)\n",
    "    * [4.2 Función del constructor de listas](#4.2-Función-del-constructor-de-listas)\n",
    "    * [4.3 Acceso a elementos desde una lista](#4.3-Acceso-a-elementos-desde-una-lista)\n",
    "    * [4.4 Agregar a una lista](#4.4-Agregar-a-una-lista)\n",
    "    * [4.5 Insertar en una lista](#4.5-Insertar-en-una-lista)\n",
    "    * [4.6 Concatenación de listas](#4.6-Concatenación-de-listas)\n",
    "    * [4.7 Eliminar de una lista](#4.7-Eliminar-de-una-lista)\n",
    "    * [4.8 El método pop()](#4.8-El-método-pop())\n",
    "    * [4.9 Eliminar de una lista](#4.9-Eliminar-de-una-lista)\n",
    "    * [4.10 Métodos de lista](#4.10-Métodos-de-lista)\n",
    "* [5. Conjuntos](#5.-Conjuntos)\n",
    "    * [5.1 Crear un conjunto](#5.1-Crear-un-conjunto)\n",
    "    * [5.2 La función de constructor set()](#5.2-La-función-de-constructor-set())\n",
    "    * [5.3 Acceso a elementos en un conjunto](#5.3-Acceso-a-elementos-en-un-conjunto)\n",
    "    * [5.4 Trabajando con conjuntos](#5.4-Trabajando-con-conjuntos)\n",
    "        * [5.4.1 Comprobación de la presencia de un elemento](#5.4.1-Comprobación-de-la-presencia-de-un-elemento)\n",
    "        * [5.4.2 Agregar elementos a un conjunto](#5.4.2-Agregar-elementos-a-un-conjunto)\n",
    "        * [5.4.3 Cambiar elementos en un conjunto](#5.4.3-Cambiar-elementos-en-un-conjunto)\n",
    "        * [5.4.4 Longitud de un conjunto](#5.4.4-Longitud-de-un-conjunto)\n",
    "        * [5.4.5 Valores máximos y mínimos en un conjunto](#5.4.5-Valores-máximos-y-mínimos-en-un-conjunto) \n",
    "        * [5.4.6 Eliminar un elemento](#5.4.6-Eliminar-un-elemento)\n",
    "        * [5.4.7 Conjuntos anidados](#5.4.7-Conjuntos-anidados)\n",
    "    * [5.5 Operaciones con conjuntos](#5.5-Operaciones-con-conjuntos)\n",
    "    * [5.6 Método de set](#5.6-Método-de-set)\n",
    "* [6. Diccionarios ](#6.-Diccionarios)\n",
    "    * [6.1 Crear un diccionario](#6.1-Crear-un-diccionario)\n",
    "    * [6.2 La función constructora dict()](#6.2-La-función-constructora-dict())\n",
    "    * [6.3 Trabajando con diccionarios](#6.3-Trabajando-con-diccionarios)\n",
    "        * [6.3.1 Acceso a elementos mediante claves Keys](#6.3.1-Acceso-a-elementos-mediante-claves-Keys)\n",
    "        * [6.3.2 Agregar una nueva entrada](#6.3.2-Agregar-una-nueva-entrada)\n",
    "        * [6.3.3 Cambiar un valor de claves](#6.3.3-Cambiar-un-valor-de-claves)\n",
    "        * [6.3.4 Eliminar una entrada](#6.3.4-Eliminar-una-entrada)\n",
    "        * [6.3.5 Iterando sobre llaves](#6.3.5-Iterando-sobre-llaves)\n",
    "        * [6.3.6 Valores, claves y elementos](#6.3.6-Valores,-claves-y-elementos)\n",
    "        * [6.3.7 Comprobación de claves](#6.3.7-Comprobación-de-claves)\n",
    "        * [6.3.8 Longitud de un diccionario](#6.3.8-Longitud-de-un-diccionario)\n",
    "        * [6.3.9 Diccionarios anidados](#6.3.9-Diccionarios-anidados)\n",
    "    * [6.4 Métodos de un diccionario](#6.4-Métodos-de-un-diccionario)"
   ]
  },
  {
   "cell_type": "markdown",
   "metadata": {},
   "source": [
    "# 1. Introducción "
   ]
  },
  {
   "cell_type": "markdown",
   "metadata": {},
   "source": [
    "Anteriormente en este curso, vimos algunos tipos de Python, como `string`, `int` y `float`, así como `bools`. Estos no son los únicos tipos integrados en Python; otro grupo de tipos integrados se conocen colectivamente como tipos de colección. Esto se debe a que representan una colección de otros tipos (como una colección de cadenas o enteros).\n",
    "\n",
    "Una colección es un objeto único que representa un grupo de objetos (como una lista o diccionario). Las colecciones también pueden denominarse contenedores (ya que contienen otros objetos). Estas clases de recopilación a menudo se utilizan como base para estructuras de datos y tipos de datos más complejos o específicos de la aplicación.\n",
    "\n",
    "Estos tipos de recopilación admiten varios tipos de estructuras de datos (como listas y mapas) y formas de procesar elementos dentro de esas estructuras. En esta sección se presentan los tipos de la Colección Python."
   ]
  },
  {
   "cell_type": "markdown",
   "metadata": {},
   "source": [
    "# 2. Tipos de colección de Python"
   ]
  },
  {
   "cell_type": "markdown",
   "metadata": {},
   "source": [
    "Hay cuatro clases en Python que proporcionan un comportamiento similar al contenedor; es decir, tipos de datos para contener colecciones de otros objetos, estos son:\n",
    "\n",
    "* **Tuples** Una tupla representa una colección de objetos ordenados e inmutables (no se pueden modificar). Las tuplas permiten miembros duplicados y están indexadas.\n",
    "\n",
    "* **Lists** Las listas contienen una colección de objetos ordenados y mutables (modificables), están indexados y permiten miembros duplicados. \n",
    "\n",
    "* **Sets** Los conjuntos son una colección que no está ordenada ni indexada. Son mutables (modificables) pero no permiten mantener valores duplicados.\n",
    "\n",
    "* **Dictionaries** Un diccionario es una colección desordenada que está indexada por una clave que hace referencia a un valor. El valor se devuelve cuando se proporciona la clave. No se permiten claves duplicadas. Se permiten valores duplicados. Los diccionarios son contenedores mutables.\n",
    "\n",
    "Recuerde que todo en Python es en realidad un tipo de objeto, los enteros son instancias / objetos del tipo int, las cadenas son instancias del tipo cadena, etc. Por lo tanto, los tipos de contenedor como Set pueden contener colecciones de cualquier tipo de cosas en Python."
   ]
  },
  {
   "cell_type": "markdown",
   "metadata": {},
   "source": [
    "# 3. Tuplas"
   ]
  },
  {
   "cell_type": "markdown",
   "metadata": {},
   "source": [
    "Las tuplas, junto con las listas, son probablemente uno de los tipos de contenedores más utilizados por Python. Estarán presentes en casi cualquier programa Python no trivial.\n",
    "\n",
    "Las tuplas son una colección ordenada inmutable de objetos; es decir, cada elemento de una tupla tiene una posición específica (su índice) y esa posición no cambia con el tiempo. De hecho, no es posible agregar o eliminar elementos de la tupla una vez que se ha creado."
   ]
  },
  {
   "cell_type": "markdown",
   "metadata": {},
   "source": [
    "## 3.1 Creando tuplas"
   ]
  },
  {
   "cell_type": "markdown",
   "metadata": {},
   "source": [
    "Las tuplas se definen usando paréntesis es decir, `()` alrededor de los elementos que componen la tupla, por ejemplo:"
   ]
  },
  {
   "cell_type": "code",
   "execution_count": 1,
   "metadata": {},
   "outputs": [
    {
     "data": {
      "text/plain": [
       "1.0"
      ]
     },
     "execution_count": 1,
     "metadata": {},
     "output_type": "execute_result"
    }
   ],
   "source": [
    "float(1)"
   ]
  },
  {
   "cell_type": "code",
   "execution_count": 2,
   "metadata": {},
   "outputs": [
    {
     "data": {
      "text/plain": [
       "1"
      ]
     },
     "execution_count": 2,
     "metadata": {},
     "output_type": "execute_result"
    }
   ],
   "source": [
    "int(1.0)"
   ]
  },
  {
   "cell_type": "code",
   "execution_count": null,
   "metadata": {},
   "outputs": [],
   "source": []
  },
  {
   "cell_type": "code",
   "execution_count": 3,
   "metadata": {},
   "outputs": [],
   "source": [
    "string = \"hola\""
   ]
  },
  {
   "cell_type": "code",
   "execution_count": 4,
   "metadata": {},
   "outputs": [
    {
     "data": {
      "text/plain": [
       "'h'"
      ]
     },
     "execution_count": 4,
     "metadata": {},
     "output_type": "execute_result"
    }
   ],
   "source": [
    "string[0]"
   ]
  },
  {
   "cell_type": "code",
   "execution_count": 7,
   "metadata": {},
   "outputs": [
    {
     "name": "stdout",
     "output_type": "stream",
     "text": [
      "(3, 4, 4)\n"
     ]
    }
   ],
   "source": [
    "print((3, 4, 4))"
   ]
  },
  {
   "cell_type": "code",
   "execution_count": 8,
   "metadata": {},
   "outputs": [],
   "source": [
    "tup1 = (1, 3, 5, 7)"
   ]
  },
  {
   "cell_type": "code",
   "execution_count": 10,
   "metadata": {},
   "outputs": [
    {
     "name": "stdout",
     "output_type": "stream",
     "text": [
      "(1, 3, 5, 7)\n"
     ]
    }
   ],
   "source": [
    "print(tup1)"
   ]
  },
  {
   "cell_type": "code",
   "execution_count": 11,
   "metadata": {},
   "outputs": [
    {
     "name": "stdout",
     "output_type": "stream",
     "text": [
      "<class 'tuple'>\n"
     ]
    }
   ],
   "source": [
    "print(type(tup1))"
   ]
  },
  {
   "cell_type": "markdown",
   "metadata": {},
   "source": [
    "Esto define una nueva Tupla a la que hace referencia la variable tup1. La Tupla contiene exactamente 4 elementos (en este caso enteros) con el primer elemento en la tupla (el entero 1) que tiene el índice 0 y el último elemento en la Tupla (el entero 7) que tiene el índice 3. Esto se ilustra a continuación:\n",
    "\n",
    "<img src = \"Images/Tuple.png\"  width=\"500\" height=\"300\"/>"
   ]
  },
  {
   "cell_type": "code",
   "execution_count": 12,
   "metadata": {},
   "outputs": [
    {
     "data": {
      "text/plain": [
       "range"
      ]
     },
     "execution_count": 12,
     "metadata": {},
     "output_type": "execute_result"
    }
   ],
   "source": [
    "type(range(0, 2))"
   ]
  },
  {
   "cell_type": "code",
   "execution_count": 14,
   "metadata": {},
   "outputs": [
    {
     "name": "stdout",
     "output_type": "stream",
     "text": [
      "1\n",
      "3\n",
      "5\n",
      "7\n"
     ]
    }
   ],
   "source": [
    "for i in tup1:\n",
    "    print(i)"
   ]
  },
  {
   "cell_type": "markdown",
   "metadata": {},
   "source": [
    "## 3.2 La función constructora `tuple()`"
   ]
  },
  {
   "cell_type": "markdown",
   "metadata": {},
   "source": [
    "La función `tuple()` también se puede usar para crear una nueva tupla a partir de un iterable. Un iterable es algo que implementa el protocolo iterable.\n",
    "\n",
    "Esto significa que se puede crear una nueva tupla a partir de un `set`, una `lista`, un `dictionary` (ya que todos son tipos iterables) o cualquier tipo que implemente el protocolo iterable.\n",
    "\n",
    "La sintaxis de la función `tuple()` es:\n",
    "\n",
    "```python\n",
    "tuple(iterable)```\n",
    "\n",
    "Por ejemplo:"
   ]
  },
  {
   "cell_type": "code",
   "execution_count": 15,
   "metadata": {},
   "outputs": [
    {
     "ename": "TypeError",
     "evalue": "'float' object is not iterable",
     "output_type": "error",
     "traceback": [
      "\u001b[0;31m---------------------------------------------------------------------------\u001b[0m",
      "\u001b[0;31mTypeError\u001b[0m                                 Traceback (most recent call last)",
      "\u001b[0;32m<ipython-input-15-bd8ef12cbf17>\u001b[0m in \u001b[0;36m<module>\u001b[0;34m\u001b[0m\n\u001b[0;32m----> 1\u001b[0;31m \u001b[0mtuple\u001b[0m\u001b[0;34m(\u001b[0m\u001b[0;36m1.0\u001b[0m\u001b[0;34m)\u001b[0m\u001b[0;34m\u001b[0m\u001b[0m\n\u001b[0m",
      "\u001b[0;31mTypeError\u001b[0m: 'float' object is not iterable"
     ]
    }
   ],
   "source": [
    "tuple(1.0)"
   ]
  },
  {
   "cell_type": "code",
   "execution_count": 19,
   "metadata": {},
   "outputs": [
    {
     "name": "stdout",
     "output_type": "stream",
     "text": [
      "<class 'range'>\n"
     ]
    }
   ],
   "source": [
    "print(type(range(0, 7)))"
   ]
  },
  {
   "cell_type": "code",
   "execution_count": 22,
   "metadata": {},
   "outputs": [
    {
     "data": {
      "text/plain": [
       "(0, 2, 4, 6, 8)"
      ]
     },
     "execution_count": 22,
     "metadata": {},
     "output_type": "execute_result"
    }
   ],
   "source": [
    "tuple(range(0, 9, 2))"
   ]
  },
  {
   "cell_type": "code",
   "execution_count": 25,
   "metadata": {},
   "outputs": [
    {
     "name": "stdout",
     "output_type": "stream",
     "text": [
      "La variable [1, 2, 3] es del tipo  <class 'list'>\n",
      "La variable (1, 2, 3) es del tipo  <class 'tuple'>\n"
     ]
    }
   ],
   "source": [
    "list1 = [1, 2, 3] \n",
    "print(f'La variable {list1} es del tipo ', type(list1))\n",
    "t1 = tuple(list1) \n",
    "print(f'La variable {t1} es del tipo ', type(t1))"
   ]
  },
  {
   "cell_type": "markdown",
   "metadata": {},
   "source": [
    "Tenga en cuenta que en lo anterior los corchetes se usan para representar una lista de cosas (el tipo `list` se describe con más detalle más adelante en esta sección aun que previamente hemos hecho un breve introducción)."
   ]
  },
  {
   "cell_type": "markdown",
   "metadata": {},
   "source": [
    "## 3.3 Acceso a elementos de una tupla"
   ]
  },
  {
   "cell_type": "markdown",
   "metadata": {},
   "source": [
    "Se puede acceder a los elementos de una Tupla usando un índice entre corchetes. El índice devuelve el objeto en esa posición, por ejemplo:"
   ]
  },
  {
   "cell_type": "code",
   "execution_count": 26,
   "metadata": {},
   "outputs": [
    {
     "data": {
      "text/plain": [
       "(1, 3, 5, 7)"
      ]
     },
     "execution_count": 26,
     "metadata": {},
     "output_type": "execute_result"
    }
   ],
   "source": [
    "tup1"
   ]
  },
  {
   "cell_type": "code",
   "execution_count": 27,
   "metadata": {},
   "outputs": [
    {
     "name": "stdout",
     "output_type": "stream",
     "text": [
      "tup1[0]:\t 1\n",
      "tup1[1]:\t 3\n",
      "tup1[2]:\t 5\n",
      "tup1[3]:\t 7\n"
     ]
    }
   ],
   "source": [
    "print('tup1[0]:\\t', tup1[0])\n",
    "print('tup1[1]:\\t', tup1[1]) \n",
    "print('tup1[2]:\\t', tup1[2]) \n",
    "print('tup1[3]:\\t', tup1[3])"
   ]
  },
  {
   "cell_type": "markdown",
   "metadata": {},
   "source": [
    "## 3.4 Crear nuevas tuplas a partir de tuplas existentes "
   ]
  },
  {
   "cell_type": "markdown",
   "metadata": {},
   "source": [
    "También es posible devolver lo que se conoce como una porción de una Tupla. Esta es una nueva Tupla que se compone de un subconjunto de la Tupla original. Esto se realiza proporcionando los índices de inicio y finalización para el segmento, separados por dos puntos, dentro de los corchetes del índice. Por ejemplo:"
   ]
  },
  {
   "cell_type": "code",
   "execution_count": 28,
   "metadata": {},
   "outputs": [
    {
     "data": {
      "text/plain": [
       "(1, 3, 5, 7)"
      ]
     },
     "execution_count": 28,
     "metadata": {},
     "output_type": "execute_result"
    }
   ],
   "source": [
    "tup1"
   ]
  },
  {
   "cell_type": "code",
   "execution_count": 29,
   "metadata": {},
   "outputs": [
    {
     "name": "stdout",
     "output_type": "stream",
     "text": [
      "tup1[1:3]:\t (3, 5)\n"
     ]
    }
   ],
   "source": [
    "print('tup1[1:3]:\\t', tup1[1:3])"
   ]
  },
  {
   "cell_type": "markdown",
   "metadata": {},
   "source": [
    "Lo que devuelve una nueva Tupla de dos elementos que contienen los elementos desde el índice 1 hasta (pero sin incluir) el elemento 3. Tenga en cuenta que la Tupla original no se ve afectada de ninguna manera (recuerde que es inmutable, por lo que no se puede modificar)."
   ]
  },
  {
   "cell_type": "markdown",
   "metadata": {},
   "source": [
    "De hecho, existen numerosas variaciones en el uso de los índices de corte. Por ejemplo, si se omite el primer índice, indica que el segmento debe comenzar desde el principio de la tupla, mientras que omitir el último índice indica que debe ir al final de la tupla."
   ]
  },
  {
   "cell_type": "code",
   "execution_count": 30,
   "metadata": {},
   "outputs": [
    {
     "name": "stdout",
     "output_type": "stream",
     "text": [
      "tup1[:3]:\t (1, 3, 5)\n",
      "tup1[1:]:\t (3, 5, 7)\n"
     ]
    }
   ],
   "source": [
    "print('tup1[:3]:\\t', tup1[:3]) \n",
    "print('tup1[1:]:\\t', tup1[1:])"
   ]
  },
  {
   "cell_type": "markdown",
   "metadata": {},
   "source": [
    "Puede revertir una Tupla usando la notación `:: -1 ` (de nuevo, esto devuelve una nueva Tupla y no tiene ningún efecto sobre la Tupla original):"
   ]
  },
  {
   "cell_type": "code",
   "execution_count": 31,
   "metadata": {},
   "outputs": [
    {
     "data": {
      "text/plain": [
       "(1, 3, 5, 7)"
      ]
     },
     "execution_count": 31,
     "metadata": {},
     "output_type": "execute_result"
    }
   ],
   "source": [
    "tup1"
   ]
  },
  {
   "cell_type": "code",
   "execution_count": 32,
   "metadata": {},
   "outputs": [
    {
     "name": "stdout",
     "output_type": "stream",
     "text": [
      "tup1[::-1]:\t (7, 5, 3, 1)\n"
     ]
    }
   ],
   "source": [
    "print('tup1[::-1]:\\t', tup1[::-1])"
   ]
  },
  {
   "cell_type": "markdown",
   "metadata": {},
   "source": [
    "## 3.5 tuplas pueden contener diferentes tipos "
   ]
  },
  {
   "cell_type": "markdown",
   "metadata": {},
   "source": [
    "Las tuplas también pueden contener una mezcla de diferentes tipos; es decir, no están restringidos a elementos de retención todos del mismo tipo. Por lo tanto, puede escribir una tupla como:"
   ]
  },
  {
   "cell_type": "code",
   "execution_count": 33,
   "metadata": {},
   "outputs": [
    {
     "name": "stdout",
     "output_type": "stream",
     "text": [
      "(1, 'Pedro', True, -23.45, (1, 3, 5, 7))\n"
     ]
    }
   ],
   "source": [
    "tup2 = (1, 'Pedro', True, -23.45, tup1) \n",
    "print(tup2)"
   ]
  },
  {
   "cell_type": "markdown",
   "metadata": {},
   "source": [
    "## 3.6 Iterando sobre tuplas "
   ]
  },
  {
   "cell_type": "markdown",
   "metadata": {},
   "source": [
    "Puede iterar sobre el contenido de una Tupla (es decir, procesar cada elemento en la Tupla a su vez). Esto se hace usando un ciclo `for` que ya hemos visto; sin embargo, es la Tupla que se usa para el valor al que se aplicará la variable de bucle:"
   ]
  },
  {
   "cell_type": "code",
   "execution_count": 34,
   "metadata": {},
   "outputs": [
    {
     "name": "stdout",
     "output_type": "stream",
     "text": [
      "apple\n",
      "pear\n",
      "orange\n",
      "plum\n",
      "apple\n"
     ]
    }
   ],
   "source": [
    "tup3 = ('apple', 'pear', 'orange', 'plum', 'apple') \n",
    "\n",
    "for x in tup3:\n",
    "    print(x)"
   ]
  },
  {
   "cell_type": "markdown",
   "metadata": {},
   "source": [
    "Tenga en cuenta que nuevamente el orden de los elementos en la Tupla es perseverado."
   ]
  },
  {
   "cell_type": "markdown",
   "metadata": {},
   "source": [
    "## 3.7 Funciones relacionadas con las tuplas "
   ]
  },
  {
   "cell_type": "markdown",
   "metadata": {},
   "source": [
    "Se puede averiguar la longitud de una tupla"
   ]
  },
  {
   "cell_type": "code",
   "execution_count": 35,
   "metadata": {},
   "outputs": [
    {
     "name": "stdout",
     "output_type": "stream",
     "text": [
      "(1, 3, 5, 7)\n"
     ]
    }
   ],
   "source": [
    "print(tup1)"
   ]
  },
  {
   "cell_type": "code",
   "execution_count": 36,
   "metadata": {},
   "outputs": [
    {
     "data": {
      "text/plain": [
       "4"
      ]
     },
     "execution_count": 36,
     "metadata": {},
     "output_type": "execute_result"
    }
   ],
   "source": [
    "len(tup1)"
   ]
  },
  {
   "cell_type": "code",
   "execution_count": 37,
   "metadata": {},
   "outputs": [
    {
     "name": "stdout",
     "output_type": "stream",
     "text": [
      "len(tup3):\t 5\n"
     ]
    }
   ],
   "source": [
    "print('len(tup3):\\t', len(tup3))"
   ]
  },
  {
   "cell_type": "code",
   "execution_count": 43,
   "metadata": {},
   "outputs": [
    {
     "name": "stdout",
     "output_type": "stream",
     "text": [
      "tap \n",
      " hola\n"
     ]
    }
   ],
   "source": [
    "print('tap \\n', 'hola')"
   ]
  },
  {
   "cell_type": "markdown",
   "metadata": {},
   "source": [
    "Puede contar cuántas veces aparece un valor especificado en una Tupla (recuerde que las Tuplas permiten duplicados);"
   ]
  },
  {
   "cell_type": "code",
   "execution_count": 44,
   "metadata": {},
   "outputs": [],
   "source": [
    "tup5 = (1, 3, 2, 3, 1, 1)"
   ]
  },
  {
   "cell_type": "code",
   "execution_count": 48,
   "metadata": {},
   "outputs": [
    {
     "data": {
      "text/plain": [
       "2"
      ]
     },
     "execution_count": 48,
     "metadata": {},
     "output_type": "execute_result"
    }
   ],
   "source": [
    "tup5.count(3)"
   ]
  },
  {
   "cell_type": "code",
   "execution_count": 49,
   "metadata": {},
   "outputs": [
    {
     "name": "stdout",
     "output_type": "stream",
     "text": [
      "('apple', 'pear', 'orange', 'plum', 'apple')\n"
     ]
    }
   ],
   "source": [
    "print(tup3)"
   ]
  },
  {
   "cell_type": "code",
   "execution_count": 50,
   "metadata": {},
   "outputs": [
    {
     "name": "stdout",
     "output_type": "stream",
     "text": [
      "2\n"
     ]
    }
   ],
   "source": [
    "print(tup3.count('apple')) "
   ]
  },
  {
   "cell_type": "markdown",
   "metadata": {},
   "source": [
    "También puede encontrar el (primer) índice de un valor en una Tupla:"
   ]
  },
  {
   "cell_type": "code",
   "execution_count": 56,
   "metadata": {},
   "outputs": [
    {
     "name": "stdout",
     "output_type": "stream",
     "text": [
      "0\n"
     ]
    }
   ],
   "source": [
    "print(tup3.index('apple')) # returns 1"
   ]
  },
  {
   "cell_type": "code",
   "execution_count": 57,
   "metadata": {},
   "outputs": [
    {
     "name": "stdout",
     "output_type": "stream",
     "text": [
      "(1, 3, 2, 3, 1, 1)\n"
     ]
    }
   ],
   "source": [
    "print(tup5)"
   ]
  },
  {
   "cell_type": "code",
   "execution_count": 59,
   "metadata": {},
   "outputs": [
    {
     "data": {
      "text/plain": [
       "1"
      ]
     },
     "execution_count": 59,
     "metadata": {},
     "output_type": "execute_result"
    }
   ],
   "source": [
    "tup5.index(3)"
   ]
  },
  {
   "cell_type": "code",
   "execution_count": 60,
   "metadata": {},
   "outputs": [
    {
     "data": {
      "text/plain": [
       "2"
      ]
     },
     "execution_count": 60,
     "metadata": {},
     "output_type": "execute_result"
    }
   ],
   "source": [
    "lista = ['apple', 'pear', 'orange', 'plum', 'apple']\n",
    "lista.count('apple')"
   ]
  },
  {
   "cell_type": "markdown",
   "metadata": {},
   "source": [
    "Tenga en cuenta que tanto `index()` como `count()` son métodos definidos en la clase `Tuple` donde como `len()` es una función a la que se pasa la tupla. Esto se debe a que `len()` es una función genérica y se puede usar con otros tipos, como cadenas."
   ]
  },
  {
   "cell_type": "markdown",
   "metadata": {},
   "source": [
    "## 3.8 Comprobar si existe un elemento "
   ]
  },
  {
   "cell_type": "markdown",
   "metadata": {},
   "source": [
    "Se puede verificar si existe un elemento específico en una Tupla utilizando el operador `in`, por ejemplo:"
   ]
  },
  {
   "cell_type": "code",
   "execution_count": 61,
   "metadata": {},
   "outputs": [
    {
     "name": "stdout",
     "output_type": "stream",
     "text": [
      "(1, 3, 2, 3, 1, 1)\n"
     ]
    }
   ],
   "source": [
    "print(tup5)"
   ]
  },
  {
   "cell_type": "code",
   "execution_count": 64,
   "metadata": {},
   "outputs": [
    {
     "data": {
      "text/plain": [
       "False"
      ]
     },
     "execution_count": 64,
     "metadata": {},
     "output_type": "execute_result"
    }
   ],
   "source": [
    "5 in tup5"
   ]
  },
  {
   "cell_type": "code",
   "execution_count": 67,
   "metadata": {},
   "outputs": [
    {
     "data": {
      "text/plain": [
       "('apple', 'pear', 'orange', 'plum', 'apple')"
      ]
     },
     "execution_count": 67,
     "metadata": {},
     "output_type": "execute_result"
    }
   ],
   "source": [
    "tup3"
   ]
  },
  {
   "cell_type": "code",
   "execution_count": 66,
   "metadata": {},
   "outputs": [],
   "source": [
    "if 'banana' in tup3:\n",
    "    print('orange is in the Tuple')"
   ]
  },
  {
   "cell_type": "markdown",
   "metadata": {},
   "source": [
    "## 3.9 tuplas anidadas "
   ]
  },
  {
   "cell_type": "markdown",
   "metadata": {},
   "source": [
    "Las tuplas se pueden anidar dentro de las tuplas; es decir, una Tupla puede contener, como uno de sus elementos, otra Tupla. Por ejemplo, el siguiente diagrama ilustra la anidación de un árbol de tuplas:\n",
    "\n",
    "<img src = \"Images/Tuples.png\"  width=\"600\" height=\"300\"/>"
   ]
  },
  {
   "cell_type": "markdown",
   "metadata": {},
   "source": [
    "En código podríamos definir esta estructura como:"
   ]
  },
  {
   "cell_type": "code",
   "execution_count": 68,
   "metadata": {},
   "outputs": [
    {
     "name": "stdout",
     "output_type": "stream",
     "text": [
      "(42, (1, 3, 5, 7), ('John', 'Denise', 'Phoebe', 'Adam'), 5.5)\n"
     ]
    }
   ],
   "source": [
    "tuple1 = (1, 3, 5, 7)\n",
    "tuple2 = ('John', 'Denise', 'Phoebe', 'Adam') \n",
    "tuple3 = (42, tuple1, tuple2, 5.5) \n",
    "print(tuple3)"
   ]
  },
  {
   "cell_type": "code",
   "execution_count": null,
   "metadata": {},
   "outputs": [],
   "source": []
  },
  {
   "cell_type": "markdown",
   "metadata": {},
   "source": [
    "$\\vec{v} = (1, 0, 1)$ y  $\\vec{u} = (1, -1, 1)$ la suma de $\\vec{v} + \\vec{u} = (2, -1, 2)$"
   ]
  },
  {
   "cell_type": "code",
   "execution_count": 71,
   "metadata": {},
   "outputs": [
    {
     "data": {
      "text/plain": [
       "(3, 5, 5, 4, 2, 1)"
      ]
     },
     "execution_count": 71,
     "metadata": {},
     "output_type": "execute_result"
    }
   ],
   "source": [
    "(3 ,5, 5) + (4, 2, 1)"
   ]
  },
  {
   "cell_type": "code",
   "execution_count": 72,
   "metadata": {},
   "outputs": [],
   "source": [
    "M = ((1,2),(4,1))"
   ]
  },
  {
   "cell_type": "code",
   "execution_count": 73,
   "metadata": {},
   "outputs": [
    {
     "data": {
      "text/plain": [
       "((1, 2), (4, 1))"
      ]
     },
     "execution_count": 73,
     "metadata": {},
     "output_type": "execute_result"
    }
   ],
   "source": [
    "M"
   ]
  },
  {
   "cell_type": "code",
   "execution_count": 78,
   "metadata": {},
   "outputs": [
    {
     "data": {
      "text/plain": [
       "4"
      ]
     },
     "execution_count": 78,
     "metadata": {},
     "output_type": "execute_result"
    }
   ],
   "source": [
    "M[1][0]"
   ]
  },
  {
   "cell_type": "code",
   "execution_count": null,
   "metadata": {},
   "outputs": [],
   "source": [
    "M[0][1]"
   ]
  },
  {
   "cell_type": "code",
   "execution_count": 85,
   "metadata": {},
   "outputs": [],
   "source": [
    "X = ((1, 2, 4), (2, 4), (1, 53, 34, 53, 44))"
   ]
  },
  {
   "cell_type": "code",
   "execution_count": 86,
   "metadata": {},
   "outputs": [
    {
     "data": {
      "text/plain": [
       "44"
      ]
     },
     "execution_count": 86,
     "metadata": {},
     "output_type": "execute_result"
    }
   ],
   "source": [
    "X[2][4]"
   ]
  },
  {
   "cell_type": "markdown",
   "metadata": {},
   "source": [
    "## 3.10 Cosas que NO puedes hacer con las tuplas "
   ]
  },
  {
   "cell_type": "markdown",
   "metadata": {},
   "source": [
    "No es posible agregar o eliminar elementos de una Tupla; Son **inmutables**. Cabe señalar que ninguna de las funciones o métodos presentados anteriormente cambia la tupla original a la que se aplican; incluso aquellos que devuelven un subconjunto de la Tupla original en realidad devuelven una nueva instancia de la clase Tupla y no tienen ningún efecto sobre la Tupla original."
   ]
  },
  {
   "cell_type": "code",
   "execution_count": 91,
   "metadata": {},
   "outputs": [
    {
     "ename": "TypeError",
     "evalue": "'tuple' object does not support item assignment",
     "output_type": "error",
     "traceback": [
      "\u001b[0;31m---------------------------------------------------------------------------\u001b[0m",
      "\u001b[0;31mTypeError\u001b[0m                                 Traceback (most recent call last)",
      "\u001b[0;32m<ipython-input-91-289700759155>\u001b[0m in \u001b[0;36m<module>\u001b[0;34m\u001b[0m\n\u001b[1;32m      1\u001b[0m \u001b[0mS\u001b[0m \u001b[0;34m=\u001b[0m \u001b[0;34m(\u001b[0m\u001b[0;36m11\u001b[0m\u001b[0;34m,\u001b[0m \u001b[0;36m11\u001b[0m\u001b[0;34m,\u001b[0m \u001b[0;36m21\u001b[0m\u001b[0;34m,\u001b[0m \u001b[0;36m31\u001b[0m\u001b[0;34m,\u001b[0m \u001b[0;36m51\u001b[0m\u001b[0;34m)\u001b[0m\u001b[0;34m\u001b[0m\u001b[0m\n\u001b[0;32m----> 2\u001b[0;31m \u001b[0mS\u001b[0m\u001b[0;34m[\u001b[0m\u001b[0;36m3\u001b[0m\u001b[0;34m]\u001b[0m \u001b[0;34m=\u001b[0m \u001b[0;36m23\u001b[0m\u001b[0;34m\u001b[0m\u001b[0m\n\u001b[0m",
      "\u001b[0;31mTypeError\u001b[0m: 'tuple' object does not support item assignment"
     ]
    }
   ],
   "source": [
    "S = (11, 11, 21, 31, 51)\n",
    "S[3] = 23"
   ]
  },
  {
   "cell_type": "code",
   "execution_count": 92,
   "metadata": {},
   "outputs": [],
   "source": [
    "S = [11, 11, 21, 31, 51]\n",
    "S[3] = 23"
   ]
  },
  {
   "cell_type": "code",
   "execution_count": 93,
   "metadata": {},
   "outputs": [
    {
     "data": {
      "text/plain": [
       "[11, 11, 21, 23, 51]"
      ]
     },
     "execution_count": 93,
     "metadata": {},
     "output_type": "execute_result"
    }
   ],
   "source": [
    "S"
   ]
  },
  {
   "cell_type": "code",
   "execution_count": 96,
   "metadata": {},
   "outputs": [],
   "source": [
    "listX = (('uno', 'dos'), (1, 2, 4), (1.9, 2.3, 4.5) , (True, False))"
   ]
  },
  {
   "cell_type": "code",
   "execution_count": 100,
   "metadata": {},
   "outputs": [
    {
     "data": {
      "text/plain": [
       "False"
      ]
     },
     "execution_count": 100,
     "metadata": {},
     "output_type": "execute_result"
    }
   ],
   "source": [
    "listX[3][1]"
   ]
  },
  {
   "cell_type": "markdown",
   "metadata": {},
   "source": [
    "# 4. listas"
   ]
  },
  {
   "cell_type": "markdown",
   "metadata": {},
   "source": [
    "Las listas son contenedores ordenados mutables de otros objetos. Admiten todas las características de la Tupla, pero como son mutables, también es posible agregar elementos a una Lista, eliminar elementos y modificar elementos. Los elementos en la lista mantienen su orden (hasta que se modifiquen)."
   ]
  },
  {
   "cell_type": "markdown",
   "metadata": {},
   "source": [
    "## 4.1 Crear listas "
   ]
  },
  {
   "cell_type": "markdown",
   "metadata": {},
   "source": [
    "Las listas se crean utilizando corchetes ubicados alrededor de los elementos que componen la Lista. Por ejemplo:"
   ]
  },
  {
   "cell_type": "code",
   "execution_count": 101,
   "metadata": {},
   "outputs": [],
   "source": [
    "list1 = ['John', 'Paul', 'George', 'Ringo']"
   ]
  },
  {
   "cell_type": "code",
   "execution_count": 102,
   "metadata": {},
   "outputs": [],
   "source": [
    "list1[3] = 'Pedro'"
   ]
  },
  {
   "cell_type": "code",
   "execution_count": 103,
   "metadata": {},
   "outputs": [
    {
     "data": {
      "text/plain": [
       "['John', 'Paul', 'George', 'Pedro']"
      ]
     },
     "execution_count": 103,
     "metadata": {},
     "output_type": "execute_result"
    }
   ],
   "source": [
    "list1"
   ]
  },
  {
   "cell_type": "code",
   "execution_count": 104,
   "metadata": {},
   "outputs": [],
   "source": [
    "tuple1 = ('John', 'Paul', 'George', 'Ringo')"
   ]
  },
  {
   "cell_type": "code",
   "execution_count": 106,
   "metadata": {},
   "outputs": [
    {
     "ename": "TypeError",
     "evalue": "'tuple' object does not support item assignment",
     "output_type": "error",
     "traceback": [
      "\u001b[0;31m---------------------------------------------------------------------------\u001b[0m",
      "\u001b[0;31mTypeError\u001b[0m                                 Traceback (most recent call last)",
      "\u001b[0;32m<ipython-input-106-cf7bf9536435>\u001b[0m in \u001b[0;36m<module>\u001b[0;34m\u001b[0m\n\u001b[0;32m----> 1\u001b[0;31m \u001b[0mtuple1\u001b[0m\u001b[0;34m[\u001b[0m\u001b[0;36m1\u001b[0m\u001b[0;34m]\u001b[0m \u001b[0;34m=\u001b[0m \u001b[0;34m'Pedro'\u001b[0m\u001b[0;34m\u001b[0m\u001b[0m\n\u001b[0m",
      "\u001b[0;31mTypeError\u001b[0m: 'tuple' object does not support item assignment"
     ]
    }
   ],
   "source": [
    "tuple1[1] = 'Pedro'"
   ]
  },
  {
   "cell_type": "markdown",
   "metadata": {},
   "source": [
    "En este caso, hemos creado una lista de cuatro elementos con el primer elemento indexado desde cero, por lo tanto tenemos:\n",
    "\n",
    "<img src = \"Images/List.png\"  width=\"600\" height=\"300\"/>"
   ]
  },
  {
   "cell_type": "markdown",
   "metadata": {},
   "source": [
    "Al igual que con Tuples, podemos tener listas anidadas y listas que contienen diferentes tipos de elementos. De este modo, podemos crear la siguiente estructura de listas anidadas:\n",
    "\n",
    "<img src = \"Images/Lists.png\"  width=\"600\" height=\"300\"/>\n",
    "\n",
    "En el código esto se puede definir como:"
   ]
  },
  {
   "cell_type": "code",
   "execution_count": 107,
   "metadata": {},
   "outputs": [
    {
     "name": "stdout",
     "output_type": "stream",
     "text": [
      "['John', [1, 43.5, 'Person', True], ['apple', 'orange', 31], 'Denise']\n"
     ]
    }
   ],
   "source": [
    "l1 = [1, 43.5, 'Person', True] \n",
    "l2 = ['apple', 'orange', 31]\n",
    "root_list = ['John', l1, l2, 'Denise'] \n",
    "print(root_list)"
   ]
  },
  {
   "cell_type": "code",
   "execution_count": 109,
   "metadata": {},
   "outputs": [
    {
     "data": {
      "text/plain": [
       "'Person'"
      ]
     },
     "execution_count": 109,
     "metadata": {},
     "output_type": "execute_result"
    }
   ],
   "source": [
    "root_list[1][2]"
   ]
  },
  {
   "cell_type": "markdown",
   "metadata": {},
   "source": [
    "## 4.2 Función del constructor de listas"
   ]
  },
  {
   "cell_type": "markdown",
   "metadata": {},
   "source": [
    "La función `list()` se puede usar para construir una lista a partir de un iterable; Esto significa que puede construir una lista a partir de una tupla, un diccionario o un conjunto. También puede construir una lista a partir de cualquier cosa que implemente el protocolo iterable\n",
    "\n",
    "La firma de la función `list()` es:\n",
    "\n",
    "```python\n",
    "list(iterable)```\n",
    "\n",
    "Por ejemplo:"
   ]
  },
  {
   "cell_type": "code",
   "execution_count": 110,
   "metadata": {},
   "outputs": [
    {
     "data": {
      "text/plain": [
       "[0, 1, 2, 3, 4]"
      ]
     },
     "execution_count": 110,
     "metadata": {},
     "output_type": "execute_result"
    }
   ],
   "source": [
    "list(range(0, 5))"
   ]
  },
  {
   "cell_type": "code",
   "execution_count": 111,
   "metadata": {},
   "outputs": [
    {
     "name": "stdout",
     "output_type": "stream",
     "text": [
      "['a', 'e', 'i', 'o', 'u']\n"
     ]
    }
   ],
   "source": [
    "vowelTuple = ('a', 'e', 'i', 'o', 'u') \n",
    "print(list(vowelTuple))"
   ]
  },
  {
   "cell_type": "markdown",
   "metadata": {},
   "source": [
    "## 4.3 Acceso a elementos desde una lista "
   ]
  },
  {
   "cell_type": "markdown",
   "metadata": {},
   "source": [
    "Se puede acceder a elementos de una lista utilizando un índice (entre corchetes). El índice devuelve el objeto en esa posición, por ejemplo:"
   ]
  },
  {
   "cell_type": "code",
   "execution_count": 112,
   "metadata": {},
   "outputs": [
    {
     "name": "stdout",
     "output_type": "stream",
     "text": [
      "Lorena\n"
     ]
    }
   ],
   "source": [
    "list1 = ['Lorena', 'Benjamín', 'Fracisco', 'Abigail'] \n",
    "print(list1[0])"
   ]
  },
  {
   "cell_type": "markdown",
   "metadata": {},
   "source": [
    "Si usa un índice negativo como −1, entonces el índice se invierte, de modo que un índice de −1 comienza desde el final de la lista (−1 devuelve el último elemento, −2 el penúltimo, etc.).\n",
    "\n",
    "También es posible extraer un segmento (o sublista) de una lista. Esto se realiza proporcionando un índice inicial y final dentro de los corchetes separados por dos puntos. Por ejemplo, `[1:4]` indica un corte que comienza en el primer elemento y se extiende hasta (pero sin incluir) el cuarto elemento. Si alguno de los índices se pierde para un segmento, eso indica el inicio o el final de la lista respectiva.\n",
    "\n",
    "Lo siguiente ilustra algunas de estas ideas:"
   ]
  },
  {
   "cell_type": "code",
   "execution_count": 113,
   "metadata": {},
   "outputs": [
    {
     "name": "stdout",
     "output_type": "stream",
     "text": [
      "list1[1]: Benjamín\n",
      "list1[-1]: Abigail\n",
      "list1[1:3]: ['Benjamín', 'Fracisco']\n",
      "list[:3]: ['Lorena', 'Benjamín', 'Fracisco']\n",
      "list[1:]: ['Benjamín', 'Fracisco', 'Abigail']\n"
     ]
    }
   ],
   "source": [
    "print('list1[1]:', list1[1]) \n",
    "print('list1[-1]:', list1[-1]) \n",
    "print('list1[1:3]:', list1[1:3]) \n",
    "print('list[:3]:', list1[:3]) \n",
    "print('list[1:]:', list1[1:])"
   ]
  },
  {
   "cell_type": "markdown",
   "metadata": {},
   "source": [
    "## 4.4 Agregar a una lista"
   ]
  },
  {
   "cell_type": "markdown",
   "metadata": {},
   "source": [
    "Puede agregar un elemento a una lista utilizando el método `append()` de la clase `List` (esto cambia la lista real; no crea una copia de la lista). La sintaxis de este método es:\n",
    "\n",
    "```python\n",
    "<alist>.append(<object>)```\n",
    "\n",
    "Como ejemplo, considere la siguiente lista de cadenas, a la que agregamos una quinta cadena:"
   ]
  },
  {
   "cell_type": "code",
   "execution_count": 114,
   "metadata": {},
   "outputs": [
    {
     "name": "stdout",
     "output_type": "stream",
     "text": [
      "['Lorena', 'Sofía', 'Manuel', 'Abigail', 'Susy']\n",
      "['Lorena', 'Sofía', 'Manuel', 'Abigail', 'Susy', 'Angeles']\n"
     ]
    }
   ],
   "source": [
    "list1 = ['Lorena', 'Sofía', 'Manuel', 'Abigail','Susy']\n",
    "print(list1)\n",
    "list1.append('Angeles')\n",
    "print(list1)"
   ]
  },
  {
   "cell_type": "markdown",
   "metadata": {},
   "source": [
    "También se puede agregar todos los elementos de una lista a otra lista. Aquí hay varias opciones, podemos usar el método `extend()` que agregará los elementos que se le pasan al final de la lista o podemos usar el operado `+=` que hace lo mismo:"
   ]
  },
  {
   "cell_type": "code",
   "execution_count": 116,
   "metadata": {},
   "outputs": [
    {
     "name": "stdout",
     "output_type": "stream",
     "text": [
      "['Lorena', 'Sofía', 'Manuel', 'Abigail', 'Susy']\n",
      "['Lorena', 'Sofía', 'Manuel', 'Abigail', 'Susy', 'Angeles', 'Isabel']\n",
      "['Lorena', 'Sofía', 'Manuel', 'Abigail', 'Susy', 'Angeles', 'Isabel', 'Clara', 'Yoatzin']\n"
     ]
    }
   ],
   "source": [
    "list1 = ['Lorena', 'Sofía', 'Manuel', 'Abigail','Susy']\n",
    "print(list1)\n",
    "list1.extend(['Angeles', 'Isabel'])\n",
    "print(list1)\n",
    "list1 += ['Clara', 'Yoatzin'] \n",
    "print(list1)"
   ]
  },
  {
   "cell_type": "markdown",
   "metadata": {},
   "source": [
    "## 4.5 Insertar en una lista "
   ]
  },
  {
   "cell_type": "markdown",
   "metadata": {},
   "source": [
    "También puede insertar elementos en una lista existente. Esto se hace usando el método `insert()` de la clase `List`. La sintaxis de este método es:\n",
    "\n",
    "```python\n",
    "<list>.insert(<index>, <object>)\n",
    "```\n",
    "\n",
    "El método `insert()` toma un índice que indica dónde insertar el elemento y un objeto a insertar`"
   ]
  },
  {
   "cell_type": "markdown",
   "metadata": {},
   "source": [
    "Por ejemplo, podemos insertar la cadena `'Ricardo'` entre elemento cero y el elemento número uno en la siguiente lista de nombres:"
   ]
  },
  {
   "cell_type": "code",
   "execution_count": 118,
   "metadata": {},
   "outputs": [
    {
     "name": "stdout",
     "output_type": "stream",
     "text": [
      "['Lorena', 'Sofía', 'Manuel', 'Abigail', 'Susy']\n",
      "['Lorena', 'Sofía', 'Isabel', 'Manuel', 'Abigail', 'Susy']\n"
     ]
    }
   ],
   "source": [
    "a_list =  ['Lorena', 'Sofía', 'Manuel', 'Abigail','Susy']\n",
    "print(a_list)\n",
    "a_list.insert(2, 'Isabel') \n",
    "print(a_list)"
   ]
  },
  {
   "cell_type": "markdown",
   "metadata": {},
   "source": [
    "## 4.6 Concatenación de listas "
   ]
  },
  {
   "cell_type": "markdown",
   "metadata": {},
   "source": [
    "Es posible concatenar dos listas juntas utilizando el operador de concatenación `+`:"
   ]
  },
  {
   "cell_type": "code",
   "execution_count": 119,
   "metadata": {},
   "outputs": [
    {
     "name": "stdout",
     "output_type": "stream",
     "text": [
      "[3, 2, 1, 6, 5, 4]\n"
     ]
    }
   ],
   "source": [
    "list1 = [3, 2, 1]\n",
    "list2 = [6, 5, 4] \n",
    "list3 = list1 + list2 \n",
    "print(list3)"
   ]
  },
  {
   "cell_type": "markdown",
   "metadata": {},
   "source": [
    "## 4.7 Eliminar de una lista "
   ]
  },
  {
   "cell_type": "markdown",
   "metadata": {},
   "source": [
    "Podemos eliminar un elemento de una lista utilizando el método `remove()`. La sintaxis para este método es:\n",
    "\n",
    "```python\n",
    "<list>.remove(<object>)\n",
    "```\n",
    "\n",
    "Esto eliminará el objeto de la lista; Si el objeto no está en la lista, Python generará un error."
   ]
  },
  {
   "cell_type": "code",
   "execution_count": 120,
   "metadata": {},
   "outputs": [
    {
     "name": "stdout",
     "output_type": "stream",
     "text": [
      "['Lorena', 'Sofía', 'Manuel', 'Abigail', 'Susy']\n",
      "['Sofía', 'Manuel', 'Abigail', 'Susy']\n"
     ]
    }
   ],
   "source": [
    "another_list = ['Lorena', 'Sofía', 'Manuel', 'Abigail','Susy']\n",
    "print(another_list)\n",
    "another_list.remove('Lorena')\n",
    "print(another_list)"
   ]
  },
  {
   "cell_type": "code",
   "execution_count": 121,
   "metadata": {},
   "outputs": [],
   "source": [
    "a = [2, 0, 1, 2, 1]\n",
    "a.remove(2)"
   ]
  },
  {
   "cell_type": "code",
   "execution_count": 122,
   "metadata": {},
   "outputs": [
    {
     "name": "stdout",
     "output_type": "stream",
     "text": [
      "[0, 1, 2, 1]\n"
     ]
    }
   ],
   "source": [
    "print(a)"
   ]
  },
  {
   "cell_type": "markdown",
   "metadata": {},
   "source": [
    "## 4.8 El método `pop()` "
   ]
  },
  {
   "cell_type": "markdown",
   "metadata": {},
   "source": [
    "La sintaxis del método `pop()` es:\n",
    "\n",
    "```python\n",
    "a.pop(index=-1)\n",
    "```\n",
    "\n",
    "Elimina un elemento de la Lista; sin embargo, difiere del método `remove()` en dos formas:\n",
    "\n",
    "* Se necesita un índice que es el índice del elemento para eliminar de la lista en lugar del objeto en sí.\n",
    "\n",
    "* El método devuelve el elemento que se eliminó como resultado.\n",
    "\n",
    "A continuación se muestra un ejemplo del uso del método `pop()`:"
   ]
  },
  {
   "cell_type": "code",
   "execution_count": 123,
   "metadata": {},
   "outputs": [
    {
     "name": "stdout",
     "output_type": "stream",
     "text": [
      "['Lorena', 'Sofía', 'Manuel', 'Abigail', 'Susy']\n",
      "Manuel\n",
      "['Lorena', 'Sofía', 'Abigail', 'Susy']\n"
     ]
    }
   ],
   "source": [
    "another_list = ['Lorena', 'Sofía', 'Manuel', 'Abigail','Susy']\n",
    "print(another_list)\n",
    "print(another_list.pop(2))\n",
    "print(another_list)"
   ]
  },
  {
   "cell_type": "markdown",
   "metadata": {},
   "source": [
    "Una sobrecarga de este método es:\n",
    "\n",
    "```python\n",
    "<list>.pop()\n",
    "```\n",
    "\n",
    "Que elimina el último elemento de la lista. Por ejemplo:"
   ]
  },
  {
   "cell_type": "code",
   "execution_count": 124,
   "metadata": {},
   "outputs": [
    {
     "name": "stdout",
     "output_type": "stream",
     "text": [
      "['Lorena', 'Sofía', 'Manuel', 'Abigail', 'Susy']\n",
      "Susy\n",
      "['Lorena', 'Sofía', 'Manuel', 'Abigail']\n"
     ]
    }
   ],
   "source": [
    "another_list = ['Lorena', 'Sofía', 'Manuel', 'Abigail','Susy']\n",
    "print(another_list)\n",
    "print(another_list.pop())\n",
    "print(another_list)"
   ]
  },
  {
   "cell_type": "markdown",
   "metadata": {},
   "source": [
    "## 4.9 Eliminar de una lista "
   ]
  },
  {
   "cell_type": "markdown",
   "metadata": {},
   "source": [
    "También es posible usar la palabra clave `del` para eliminar elementos de una lista.\n",
    "\n",
    "La palabra clave del se puede usar para eliminar un solo elemento o un segmento de una lista.\n",
    "\n",
    "Para eliminar un elemento individual de una lista, use del y acceda al elemento a través de\n",
    "su índice:"
   ]
  },
  {
   "cell_type": "code",
   "execution_count": 125,
   "metadata": {},
   "outputs": [
    {
     "name": "stdout",
     "output_type": "stream",
     "text": [
      "['A', 'B', 'C', 'D', 'E']\n",
      "['A', 'B', 'D', 'E']\n"
     ]
    }
   ],
   "source": [
    "my_list = ['A', 'B', 'C', 'D', 'E'] \n",
    "print(my_list)\n",
    "del my_list[2]\n",
    "print(my_list)"
   ]
  },
  {
   "cell_type": "markdown",
   "metadata": {},
   "source": [
    "Para eliminar un segmento de una lista, use la palabra clave del y el segmento devuelto de la lista"
   ]
  },
  {
   "cell_type": "code",
   "execution_count": 126,
   "metadata": {},
   "outputs": [
    {
     "name": "stdout",
     "output_type": "stream",
     "text": [
      "['A', 'B', 'C', 'D', 'E']\n",
      "['A', 'D', 'E']\n"
     ]
    }
   ],
   "source": [
    "my_list = ['A', 'B', 'C', 'D', 'E']\n",
    "print(my_list)\n",
    "del my_list[1:3]\n",
    "print(my_list)"
   ]
  },
  {
   "cell_type": "code",
   "execution_count": 127,
   "metadata": {},
   "outputs": [
    {
     "name": "stdout",
     "output_type": "stream",
     "text": [
      "['A', 'B', 'C', 'D', 'E']\n"
     ]
    },
    {
     "ename": "NameError",
     "evalue": "name 'my_list' is not defined",
     "output_type": "error",
     "traceback": [
      "\u001b[0;31m---------------------------------------------------------------------------\u001b[0m",
      "\u001b[0;31mNameError\u001b[0m                                 Traceback (most recent call last)",
      "\u001b[0;32m<ipython-input-127-c9308690e503>\u001b[0m in \u001b[0;36m<module>\u001b[0;34m\u001b[0m\n\u001b[1;32m      2\u001b[0m \u001b[0mprint\u001b[0m\u001b[0;34m(\u001b[0m\u001b[0mmy_list\u001b[0m\u001b[0;34m)\u001b[0m\u001b[0;34m\u001b[0m\u001b[0m\n\u001b[1;32m      3\u001b[0m \u001b[0;32mdel\u001b[0m \u001b[0mmy_list\u001b[0m\u001b[0;34m\u001b[0m\u001b[0m\n\u001b[0;32m----> 4\u001b[0;31m \u001b[0mprint\u001b[0m\u001b[0;34m(\u001b[0m\u001b[0mmy_list\u001b[0m\u001b[0;34m)\u001b[0m\u001b[0;34m\u001b[0m\u001b[0m\n\u001b[0m",
      "\u001b[0;31mNameError\u001b[0m: name 'my_list' is not defined"
     ]
    }
   ],
   "source": [
    "my_list = ['A', 'B', 'C', 'D', 'E']\n",
    "print(my_list)\n",
    "del my_list\n",
    "print(my_list)"
   ]
  },
  {
   "cell_type": "markdown",
   "metadata": {},
   "source": [
    "## 4.10 Métodos de lista "
   ]
  },
  {
   "cell_type": "markdown",
   "metadata": {},
   "source": [
    "|   Método  |               Descripción             |\n",
    "|-----------|---------------------------------------|\n",
    "|`append()` |Agrega un elemento al final de la lista|\n",
    "| `clear()` |Elimina todos los elementos de la lista|\n",
    "|  `copy()` |Devuelve una copia de la lista         |\n",
    "| `count()` |Devuelve el número de elementos con el valor especificado.|\n",
    "|`extend()` |Agregue los elementos de una lista (o cualquier iterable) al final de la lista actual|\n",
    "| `index()` |Devuelve el índice del primer elemento con el valor especificado|\n",
    "|`insert()` |Agrega un elemento en la posición especificada|\n",
    "|  `pop()`  |Elimina el elemento en la posición especificada.|\n",
    "|`remove()` |Elimina el elemento con el valor especificado.|\n",
    "|`reverse()`|Invierte el orden de la lista|\n",
    "|  `sort()` |Ordena la lista|"
   ]
  },
  {
   "cell_type": "code",
   "execution_count": 128,
   "metadata": {},
   "outputs": [],
   "source": [
    "example = ([0, 1, 3], [ \"dos\", True])"
   ]
  },
  {
   "cell_type": "code",
   "execution_count": 130,
   "metadata": {},
   "outputs": [],
   "source": [
    "example[0][0] = 10"
   ]
  },
  {
   "cell_type": "code",
   "execution_count": 131,
   "metadata": {},
   "outputs": [
    {
     "data": {
      "text/plain": [
       "([10, 1, 3], ['dos', True])"
      ]
     },
     "execution_count": 131,
     "metadata": {},
     "output_type": "execute_result"
    }
   ],
   "source": [
    "example"
   ]
  },
  {
   "cell_type": "markdown",
   "metadata": {},
   "source": [
    "# 5. Conjuntos"
   ]
  },
  {
   "cell_type": "markdown",
   "metadata": {},
   "source": [
    "En esta sección hemos visto Tuplas y Listas, ahora veremos otros tipos de contenedores (o colecciones); El tipo de conjunto `set`. Un conjunto es una colección desordenada (no indexada) de objetos inmutables que no permite duplicados"
   ]
  },
  {
   "cell_type": "markdown",
   "metadata": {},
   "source": [
    "## 5.1 Crear un conjunto "
   ]
  },
  {
   "cell_type": "markdown",
   "metadata": {},
   "source": [
    "Un conjunto se define utilizando llaves `{}`. Por ejemplo:"
   ]
  },
  {
   "cell_type": "code",
   "execution_count": 4,
   "metadata": {},
   "outputs": [],
   "source": [
    "basket = {'apple', 'orange', 'apple', 'apple','pear', 'orange', 'banana'}"
   ]
  },
  {
   "cell_type": "code",
   "execution_count": 5,
   "metadata": {},
   "outputs": [
    {
     "data": {
      "text/plain": [
       "set"
      ]
     },
     "execution_count": 5,
     "metadata": {},
     "output_type": "execute_result"
    }
   ],
   "source": [
    "type(basket)"
   ]
  },
  {
   "cell_type": "code",
   "execution_count": 6,
   "metadata": {},
   "outputs": [
    {
     "data": {
      "text/plain": [
       "{'apple', 'banana', 'orange', 'pear'}"
      ]
     },
     "execution_count": 6,
     "metadata": {},
     "output_type": "execute_result"
    }
   ],
   "source": [
    "basket"
   ]
  },
  {
   "cell_type": "code",
   "execution_count": 7,
   "metadata": {},
   "outputs": [
    {
     "data": {
      "text/plain": [
       "set"
      ]
     },
     "execution_count": 7,
     "metadata": {},
     "output_type": "execute_result"
    }
   ],
   "source": [
    "type(basket)"
   ]
  },
  {
   "cell_type": "markdown",
   "metadata": {},
   "source": [
    "Tenga en cuenta que debido a que un conjunto **no está ordenado**, no es posible hacer referencia a elementos del conjunto utilizando un índice."
   ]
  },
  {
   "cell_type": "markdown",
   "metadata": {},
   "source": [
    "## 5.2 La función de constructor `set()` "
   ]
  },
  {
   "cell_type": "markdown",
   "metadata": {},
   "source": [
    "Al igual que con las tuplas y las listas, Python proporciona una función predefinida que puede convertir cualquier tipo iterable en un conjunto. La firma de la función es:\n",
    "\n",
    "```python\n",
    "set(iterable)\n",
    "```\n",
    "\n",
    "Dado un objeto iterable, esta función devuelve un nuevo conjunto basado en los valores obtenidos del iterable. Esto significa que un conjunto se puede crear fácilmente a partir de una lista, tupla o diccionario, así como cualquier otro tipo de datos que implemente el protocolo iterable. Por ejemplo, el siguiente fragmento de código convierte una Tupla en un Conjunto"
   ]
  },
  {
   "cell_type": "code",
   "execution_count": 8,
   "metadata": {},
   "outputs": [],
   "source": [
    "set1 = set((1, 4, 8))"
   ]
  },
  {
   "cell_type": "code",
   "execution_count": 9,
   "metadata": {},
   "outputs": [
    {
     "name": "stdout",
     "output_type": "stream",
     "text": [
      "{8, 1, 4} <class 'set'>\n"
     ]
    }
   ],
   "source": [
    "print(set1, type(set1))"
   ]
  },
  {
   "cell_type": "code",
   "execution_count": 11,
   "metadata": {},
   "outputs": [],
   "source": [
    "set1 = set([1, 4, 8])"
   ]
  },
  {
   "cell_type": "code",
   "execution_count": 12,
   "metadata": {},
   "outputs": [
    {
     "name": "stdout",
     "output_type": "stream",
     "text": [
      "{8, 1, 4} <class 'set'>\n"
     ]
    }
   ],
   "source": [
    "print(set1, type(set1))"
   ]
  },
  {
   "cell_type": "code",
   "execution_count": 13,
   "metadata": {},
   "outputs": [],
   "source": [
    "set1 = set(range(0, 8, 2))"
   ]
  },
  {
   "cell_type": "code",
   "execution_count": 14,
   "metadata": {},
   "outputs": [
    {
     "name": "stdout",
     "output_type": "stream",
     "text": [
      "{0, 2, 4, 6} <class 'set'>\n"
     ]
    }
   ],
   "source": [
    "print(set1, type(set1))"
   ]
  },
  {
   "cell_type": "code",
   "execution_count": 17,
   "metadata": {},
   "outputs": [
    {
     "ename": "TypeError",
     "evalue": "'set' object does not support indexing",
     "output_type": "error",
     "traceback": [
      "\u001b[0;31m---------------------------------------------------------------------------\u001b[0m",
      "\u001b[0;31mTypeError\u001b[0m                                 Traceback (most recent call last)",
      "\u001b[0;32m<ipython-input-17-d27c0eee2e56>\u001b[0m in \u001b[0;36m<module>\u001b[0;34m\u001b[0m\n\u001b[0;32m----> 1\u001b[0;31m \u001b[0mset1\u001b[0m\u001b[0;34m[\u001b[0m\u001b[0;36m1\u001b[0m\u001b[0;34m]\u001b[0m\u001b[0;34m\u001b[0m\u001b[0m\n\u001b[0m",
      "\u001b[0;31mTypeError\u001b[0m: 'set' object does not support indexing"
     ]
    }
   ],
   "source": [
    "set1[1]"
   ]
  },
  {
   "cell_type": "markdown",
   "metadata": {},
   "source": [
    "## 5.3 Acceso a elementos en un conjunto "
   ]
  },
  {
   "cell_type": "markdown",
   "metadata": {},
   "source": [
    "A diferencia de las listas, no es posible acceder a elementos de un conjunto a través de un índice; Esto se debe a que son contenedores desordenados y, por lo tanto, no hay índices disponibles. Sin embargo, son contenedores Iterables.\n",
    "\n",
    "Los elementos de un conjunto se pueden iterar utilizandos usando un ciclo `for`:"
   ]
  },
  {
   "cell_type": "code",
   "execution_count": 18,
   "metadata": {},
   "outputs": [
    {
     "name": "stdout",
     "output_type": "stream",
     "text": [
      "apple\n",
      "orange\n",
      "pear\n",
      "banana\n"
     ]
    }
   ],
   "source": [
    "for item in basket:\n",
    "    print(item)\n",
    " "
   ]
  },
  {
   "cell_type": "markdown",
   "metadata": {},
   "source": [
    "## 5.4 Trabajando con conjuntos "
   ]
  },
  {
   "cell_type": "markdown",
   "metadata": {},
   "source": [
    "### 5.4.1 Comprobación de la presencia de un elemento"
   ]
  },
  {
   "cell_type": "markdown",
   "metadata": {},
   "source": [
    "Puede verificar la presencia de un elemento en un conjunto utilizando la palabra clave `in`, por ejemplo:"
   ]
  },
  {
   "cell_type": "code",
   "execution_count": 19,
   "metadata": {},
   "outputs": [
    {
     "data": {
      "text/plain": [
       "{'apple', 'banana', 'orange', 'pear'}"
      ]
     },
     "execution_count": 19,
     "metadata": {},
     "output_type": "execute_result"
    }
   ],
   "source": [
    "basket"
   ]
  },
  {
   "cell_type": "code",
   "execution_count": 20,
   "metadata": {},
   "outputs": [
    {
     "data": {
      "text/plain": [
       "True"
      ]
     },
     "execution_count": 20,
     "metadata": {},
     "output_type": "execute_result"
    }
   ],
   "source": [
    "'apple' in basket"
   ]
  },
  {
   "cell_type": "code",
   "execution_count": 21,
   "metadata": {},
   "outputs": [
    {
     "data": {
      "text/plain": [
       "False"
      ]
     },
     "execution_count": 21,
     "metadata": {},
     "output_type": "execute_result"
    }
   ],
   "source": [
    "'Apple' in basket"
   ]
  },
  {
   "cell_type": "code",
   "execution_count": 22,
   "metadata": {},
   "outputs": [],
   "source": [
    "numbers = {2.3, 4.5, 2.1}"
   ]
  },
  {
   "cell_type": "code",
   "execution_count": 24,
   "metadata": {},
   "outputs": [
    {
     "data": {
      "text/plain": [
       "False"
      ]
     },
     "execution_count": 24,
     "metadata": {},
     "output_type": "execute_result"
    }
   ],
   "source": [
    "2.2 in numbers"
   ]
  },
  {
   "cell_type": "markdown",
   "metadata": {},
   "source": [
    "### 5.4.2 Agregar elementos a un conjunto "
   ]
  },
  {
   "cell_type": "markdown",
   "metadata": {},
   "source": [
    "Es posible agregar elementos a un conjunto utilizando el método `add()`:"
   ]
  },
  {
   "cell_type": "code",
   "execution_count": 25,
   "metadata": {},
   "outputs": [
    {
     "name": "stdout",
     "output_type": "stream",
     "text": [
      "{'apple', 'orange', 'banana'}\n",
      "{'apple', 'orange', 'pear', 'banana'}\n"
     ]
    }
   ],
   "source": [
    "basket = {'apple', 'orange', 'banana'} \n",
    "print(basket)\n",
    "basket.add('pear')\n",
    "print(basket)"
   ]
  },
  {
   "cell_type": "markdown",
   "metadata": {},
   "source": [
    "Si desea agregar más de un elemento a un conjunto, puede usar el método `update()`:"
   ]
  },
  {
   "cell_type": "code",
   "execution_count": 26,
   "metadata": {},
   "outputs": [
    {
     "name": "stdout",
     "output_type": "stream",
     "text": [
      "{'apple', 'orange', 'banana'}\n",
      "{'apple', 'grapefruit', 'pear', 'orange', 'mango', 'banana'}\n"
     ]
    }
   ],
   "source": [
    "basket = {'apple', 'orange', 'banana'}\n",
    "print(basket)\n",
    "basket.update(['pear', 'mango', 'grapefruit'])\n",
    "print(basket)"
   ]
  },
  {
   "cell_type": "markdown",
   "metadata": {},
   "source": [
    "El argumento para actualizar puede ser un conjunto, una lista, una tupla o un diccionario. El método convierte automáticamente el parámetro en un conjunto si aún no es un conjunto y luego agrega el valor al conjunto original"
   ]
  },
  {
   "cell_type": "markdown",
   "metadata": {},
   "source": [
    "### 5.4.3 Cambiar elementos en un conjunto "
   ]
  },
  {
   "cell_type": "markdown",
   "metadata": {},
   "source": [
    "No es posible cambiar los elementos que ya están en un conjunto."
   ]
  },
  {
   "cell_type": "markdown",
   "metadata": {},
   "source": [
    "### 5.4.4 Longitud de un conjunto "
   ]
  },
  {
   "cell_type": "markdown",
   "metadata": {},
   "source": [
    "Como con otras clases de colección / contenedor; puedes averiguar la longitud de un `set` usando la función `len()`."
   ]
  },
  {
   "cell_type": "markdown",
   "metadata": {},
   "source": [
    "$D = \\{1,1,1,1,1,1,2,1,1,10,1,1,1,1 \\}$"
   ]
  },
  {
   "cell_type": "code",
   "execution_count": 32,
   "metadata": {},
   "outputs": [
    {
     "name": "stdout",
     "output_type": "stream",
     "text": [
      "{'apple', 'orange', 'pear', 'x', 'banana'}\n",
      "5\n"
     ]
    }
   ],
   "source": [
    "basket = {'apple', 'orange', 'apple', 'pear', 'orange', 'banana', 'x'}\n",
    "print(basket)\n",
    "print(len(basket))"
   ]
  },
  {
   "cell_type": "markdown",
   "metadata": {},
   "source": [
    "### 5.4.5 Valores máximos y mínimos en un conjunto"
   ]
  },
  {
   "cell_type": "markdown",
   "metadata": {},
   "source": [
    "Se puede obtener los valores máximos o mínimos en un conjunto utilizando las funciones `max()` y `min()`"
   ]
  },
  {
   "cell_type": "code",
   "execution_count": 33,
   "metadata": {},
   "outputs": [
    {
     "name": "stdout",
     "output_type": "stream",
     "text": [
      "x\n",
      "apple\n"
     ]
    }
   ],
   "source": [
    "print(max(basket))\n",
    "print(min(basket))"
   ]
  },
  {
   "cell_type": "code",
   "execution_count": 34,
   "metadata": {},
   "outputs": [],
   "source": [
    "number_set = {3, 4, 56, -5}"
   ]
  },
  {
   "cell_type": "code",
   "execution_count": 36,
   "metadata": {},
   "outputs": [
    {
     "name": "stdout",
     "output_type": "stream",
     "text": [
      "56\n",
      "-5\n"
     ]
    }
   ],
   "source": [
    "print(max(number_set))\n",
    "print(min(number_set))"
   ]
  },
  {
   "cell_type": "markdown",
   "metadata": {},
   "source": [
    "### 5.4.6 Eliminar un elemento "
   ]
  },
  {
   "cell_type": "markdown",
   "metadata": {},
   "source": [
    "Para eliminar un elemento de un conjunto, use las funciones `remove()` o `discard()`. La función `remove()` elimina un solo elemento de un conjunto, pero genera un error si ese elemento no estaba iniciando en el conjunto. La función `discard()` también elimina un solo elemento de un conjunto, pero no arroja un error si inicialmente no estaba presente en el conjunto."
   ]
  },
  {
   "cell_type": "code",
   "execution_count": 37,
   "metadata": {},
   "outputs": [
    {
     "name": "stdout",
     "output_type": "stream",
     "text": [
      "{'apple', 'orange', 'pear', 'banana'}\n",
      "{'orange', 'pear', 'banana'}\n",
      "{'orange', 'pear', 'banana'}\n"
     ]
    },
    {
     "ename": "KeyError",
     "evalue": "'apple'",
     "output_type": "error",
     "traceback": [
      "\u001b[0;31m---------------------------------------------------------------------------\u001b[0m",
      "\u001b[0;31mKeyError\u001b[0m                                  Traceback (most recent call last)",
      "\u001b[0;32m<ipython-input-37-341ad3b73161>\u001b[0m in \u001b[0;36m<module>\u001b[0;34m\u001b[0m\n\u001b[1;32m      5\u001b[0m \u001b[0mbasket\u001b[0m\u001b[0;34m.\u001b[0m\u001b[0mdiscard\u001b[0m\u001b[0;34m(\u001b[0m\u001b[0;34m'apricot'\u001b[0m\u001b[0;34m)\u001b[0m\u001b[0;34m\u001b[0m\u001b[0m\n\u001b[1;32m      6\u001b[0m \u001b[0mprint\u001b[0m\u001b[0;34m(\u001b[0m\u001b[0mbasket\u001b[0m\u001b[0;34m)\u001b[0m\u001b[0;34m\u001b[0m\u001b[0m\n\u001b[0;32m----> 7\u001b[0;31m \u001b[0mbasket\u001b[0m\u001b[0;34m.\u001b[0m\u001b[0mremove\u001b[0m\u001b[0;34m(\u001b[0m\u001b[0;34m'apple'\u001b[0m\u001b[0;34m)\u001b[0m\u001b[0;34m\u001b[0m\u001b[0m\n\u001b[0m",
      "\u001b[0;31mKeyError\u001b[0m: 'apple'"
     ]
    }
   ],
   "source": [
    "basket = {'apple', 'orange', 'apple', 'pear', 'orange', 'banana'}\n",
    "print(basket)\n",
    "basket.remove('apple')\n",
    "print(basket)\n",
    "basket.discard('apricot') \n",
    "print(basket)\n",
    "basket.remove('apple')"
   ]
  },
  {
   "cell_type": "markdown",
   "metadata": {},
   "source": [
    "También hay un método `pop()` que se puede usar para eliminar un elemento (y devolver ese elemento como resultado de ejecutar el método); sin embargo, elimina el último elemento del Conjunto (aunque como un conjunto no está ordenado, no sabrá qué elemento será).\n",
    "\n",
    "El método `clear()` se usa para eliminar todos los elementos de un conjunto:"
   ]
  },
  {
   "cell_type": "code",
   "execution_count": 38,
   "metadata": {},
   "outputs": [
    {
     "name": "stdout",
     "output_type": "stream",
     "text": [
      "{'apple', 'orange', 'banana'}\n",
      "{'orange', 'banana'}\n"
     ]
    }
   ],
   "source": [
    "basket = {'apple', 'orange', 'banana'}\n",
    "print(basket)\n",
    "basket.pop()\n",
    "print(basket)"
   ]
  },
  {
   "cell_type": "code",
   "execution_count": 39,
   "metadata": {},
   "outputs": [
    {
     "name": "stdout",
     "output_type": "stream",
     "text": [
      "{'apple', 'orange', 'banana'}\n",
      "set()\n"
     ]
    }
   ],
   "source": [
    "basket = {'apple', 'orange', 'banana'} \n",
    "print(basket)\n",
    "basket.clear()\n",
    "print(basket)"
   ]
  },
  {
   "cell_type": "markdown",
   "metadata": {},
   "source": [
    "### 5.4.7 Conjuntos anidados "
   ]
  },
  {
   "cell_type": "markdown",
   "metadata": {},
   "source": [
    "Es posible mantener cualquier objeto inmutable dentro de un conjunto. Esto significa que un conjunto puede contener una referencia a una Tupla (ya que es inmutable). Así podemos escribir:"
   ]
  },
  {
   "cell_type": "code",
   "execution_count": 40,
   "metadata": {},
   "outputs": [],
   "source": [
    "s1 = {(2, 5, 4)}"
   ]
  },
  {
   "cell_type": "code",
   "execution_count": 41,
   "metadata": {},
   "outputs": [
    {
     "data": {
      "text/plain": [
       "{(2, 5, 4)}"
      ]
     },
     "execution_count": 41,
     "metadata": {},
     "output_type": "execute_result"
    }
   ],
   "source": [
    "s1"
   ]
  },
  {
   "cell_type": "markdown",
   "metadata": {},
   "source": [
    "Sin embargo, no podemos anidar Listas u otros Conjuntos dentro de un Conjunto ya que estos no son tipos inmutables. Lo siguiente generaría un error de tiempo de ejecución en Python:"
   ]
  },
  {
   "cell_type": "code",
   "execution_count": 42,
   "metadata": {},
   "outputs": [
    {
     "ename": "TypeError",
     "evalue": "unhashable type: 'set'",
     "output_type": "error",
     "traceback": [
      "\u001b[0;31m---------------------------------------------------------------------------\u001b[0m",
      "\u001b[0;31mTypeError\u001b[0m                                 Traceback (most recent call last)",
      "\u001b[0;32m<ipython-input-42-9fa6f805ec35>\u001b[0m in \u001b[0;36m<module>\u001b[0;34m\u001b[0m\n\u001b[1;32m      1\u001b[0m \u001b[0;31m# Can't have the following\u001b[0m\u001b[0;34m\u001b[0m\u001b[0;34m\u001b[0m\u001b[0m\n\u001b[0;32m----> 2\u001b[0;31m \u001b[0ms2\u001b[0m \u001b[0;34m=\u001b[0m \u001b[0;34m{\u001b[0m \u001b[0;34m{\u001b[0m\u001b[0;36m1\u001b[0m\u001b[0;34m,\u001b[0m \u001b[0;36m2\u001b[0m\u001b[0;34m,\u001b[0m \u001b[0;36m3\u001b[0m\u001b[0;34m}\u001b[0m \u001b[0;34m}\u001b[0m\u001b[0;34m\u001b[0m\u001b[0m\n\u001b[0m\u001b[1;32m      3\u001b[0m \u001b[0mprint\u001b[0m\u001b[0;34m(\u001b[0m\u001b[0ms2\u001b[0m\u001b[0;34m)\u001b[0m\u001b[0;34m\u001b[0m\u001b[0m\n",
      "\u001b[0;31mTypeError\u001b[0m: unhashable type: 'set'"
     ]
    }
   ],
   "source": [
    "# Can't have the following\n",
    "s2 = { {1, 2, 3} } \n",
    "print(s2)\n"
   ]
  },
  {
   "cell_type": "markdown",
   "metadata": {},
   "source": [
    "Sin embargo, podemos usar `Frozensets` y anidarlos dentro de conjuntos. Un `Frozenset` es exactamente como un `set`, excepto que es inmutable (no se puede modificar) y, por lo tanto, se puede anidar dentro de un `set`. Por ejemplo:"
   ]
  },
  {
   "cell_type": "code",
   "execution_count": 46,
   "metadata": {},
   "outputs": [
    {
     "name": "stdout",
     "output_type": "stream",
     "text": [
      "{frozenset({1, 2, 3})}\n",
      "{frozenset({1, 2, 3})}\n"
     ]
    }
   ],
   "source": [
    "# Need to convert sets and lists into frozensets\n",
    "s2 = { frozenset({1, 2, 3}) }\n",
    "print(s2)\n",
    "s3 = { frozenset([1, 2, 3]) } \n",
    "print(s3)"
   ]
  },
  {
   "cell_type": "markdown",
   "metadata": {},
   "source": [
    "## 5.5 Operaciones con conjuntos"
   ]
  },
  {
   "cell_type": "markdown",
   "metadata": {},
   "source": [
    "El contenedor `set` también admite operaciones de tipo set como (`|`) que es la union, intersección (`&`), diferencia (`-`) y diferencia simétrica (`^`). Estos se basan en la teoría de conjuntos simple"
   ]
  },
  {
   "cell_type": "markdown",
   "metadata": {},
   "source": [
    "Por ejemplo, la Unión de dos conjuntos representa la combinación de todos los valores en los dos conjuntos:"
   ]
  },
  {
   "cell_type": "markdown",
   "metadata": {},
   "source": [
    "$A\\^B = (A\\cup B)-( A\\cap B) $"
   ]
  },
  {
   "cell_type": "code",
   "execution_count": 47,
   "metadata": {},
   "outputs": [],
   "source": [
    "s1 = {'apple', 'orange', 'banana'}\n",
    "s2 = {'grapefruit', 'lime', 'banana'}"
   ]
  },
  {
   "cell_type": "code",
   "execution_count": 48,
   "metadata": {},
   "outputs": [
    {
     "name": "stdout",
     "output_type": "stream",
     "text": [
      "Union: {'apple', 'orange', 'lime', 'grapefruit', 'banana'}\n"
     ]
    }
   ],
   "source": [
    "print('Union:', s1 | s2)"
   ]
  },
  {
   "cell_type": "code",
   "execution_count": 49,
   "metadata": {},
   "outputs": [
    {
     "name": "stdout",
     "output_type": "stream",
     "text": [
      "Intersection: {'banana'}\n"
     ]
    }
   ],
   "source": [
    "print('Intersection:', s1 & s2)"
   ]
  },
  {
   "cell_type": "code",
   "execution_count": 50,
   "metadata": {},
   "outputs": [
    {
     "name": "stdout",
     "output_type": "stream",
     "text": [
      "Difference: {'apple', 'orange'}\n"
     ]
    }
   ],
   "source": [
    "print('Difference:', s1 - s2)"
   ]
  },
  {
   "cell_type": "code",
   "execution_count": 51,
   "metadata": {},
   "outputs": [
    {
     "name": "stdout",
     "output_type": "stream",
     "text": [
      "Symmetric Difference: {'apple', 'grapefruit', 'orange', 'lime'}\n"
     ]
    }
   ],
   "source": [
    "print('Symmetric Difference:', s1 ^ s2)"
   ]
  },
  {
   "cell_type": "markdown",
   "metadata": {},
   "source": [
    "Además de los operadores, también hay versiones de métodos:\n",
    "\n",
    "* `s1.union(s2)` es equivalente a `s1 | s2` \n",
    "* `s1.interaction(s2)` es equivalente a `s1 & s2`\n",
    "* `s1.difference(s2)`es equivalente a `s1 − s2`\n",
    "* `s1.symmetric_difference(s2)` es equivalente a `s1 ^ s2`"
   ]
  },
  {
   "cell_type": "markdown",
   "metadata": {},
   "source": [
    "## 5.6 Método de `set` "
   ]
  },
  {
   "cell_type": "markdown",
   "metadata": {},
   "source": [
    "Python tiene un conjunto de métodos integrados que puede usar en conjuntos.\n",
    "\n",
    "|    Método    |               Descripción             |\n",
    "|--------------|---------------------------------------|\n",
    "|    `add()`   |Agrega un elemento al conjunto|\n",
    "|   `clear()`  |Elimina todos los elementos del conjunto|\n",
    "|    `copy()`  |Devuelve una copia del conjunto|\n",
    "|`difference()`|Returns a set containing the difference between two or more sets|\n",
    "|`difference_update()`|Elimina los elementos de este conjunto que también se incluyen en otro conjunto especificado|\n",
    "|  `discard()` |Eliminar el elemento especificado|\n",
    "|`intersection()`|Devuelve un conjunto, que es la intersección de otros dos conjuntos.|\n",
    "|`intersection_update()`|Elimina los elementos de este conjunto que no están presentes en otros conjuntos especificados|\n",
    "|`isdisjoint()` |Devuelve si dos conjuntos tienen una intersección o no|\n",
    "|  `issubset()` |Devuelve si otro conjunto contiene este conjunto o no|\n",
    "| `issuperset()`|Devuelve si este conjunto contiene otro conjunto o no|\n",
    "| `pop()`|Elimina un elemento del conjunto.|\n",
    "| `remove()`|Elimina el elemento especificado.|\n",
    "| `symmetric_difference()`|Devuelve un conjunto con las diferencias simétricas de dos conjuntos|\n",
    "| `symmetric_difference_update()`|Inserta las diferencias simétricas de este conjunto y otro|\n",
    "| `union()`|Devuelve un conjunto que contiene la unión de conjuntos|\n",
    "| `update()`|Actualice el conjunto con la unión de este conjunto y otros|"
   ]
  },
  {
   "cell_type": "markdown",
   "metadata": {},
   "source": [
    "# 6. Diccionarios "
   ]
  },
  {
   "cell_type": "markdown",
   "metadata": {},
   "source": [
    "Un diccionario es un conjunto de asociaciones entre una clave y un valor que no está ordenado, cambiable (mutable) e indexado. En la imagen, podríamos ver un Diccionario como se muestra a continuación para un conjunto de países y sus ciudades capitales. Tenga en cuenta que en un Diccionario las claves deben ser únicas, pero los valores no necesitan ser únicos."
   ]
  },
  {
   "cell_type": "markdown",
   "metadata": {},
   "source": [
    "##  6.1 Crear un diccionario "
   ]
  },
  {
   "cell_type": "markdown",
   "metadata": {},
   "source": [
    "Un diccionario `dict` se crea usando llaves `{}` donde cada entrada en el diccionario es una clave:valor"
   ]
  },
  {
   "cell_type": "code",
   "execution_count": 53,
   "metadata": {},
   "outputs": [],
   "source": [
    "DNA = {'A':'Adenosina', 'G':'Guanine', 'C':'Cytosine', 'T':'Thymidine'}"
   ]
  },
  {
   "cell_type": "code",
   "execution_count": 54,
   "metadata": {},
   "outputs": [
    {
     "name": "stdout",
     "output_type": "stream",
     "text": [
      "{'A': 'Adenosina', 'G': 'Guanine', 'C': 'Cytosine', 'T': 'Thymidine'} <class 'dict'>\n"
     ]
    }
   ],
   "source": [
    "print(DNA, type(DNA))"
   ]
  },
  {
   "cell_type": "markdown",
   "metadata": {},
   "source": [
    "Esto crea un diccionario al que hacen referencia a los nucleótidos, que son las claves, tienen asociadas los valores que son las letras de las iniciales para cada nucleótido."
   ]
  },
  {
   "cell_type": "code",
   "execution_count": 60,
   "metadata": {},
   "outputs": [],
   "source": [
    "students = {'Karla':10, 'Clara':10, 'Dainel':9, 'Pedro':5}"
   ]
  },
  {
   "cell_type": "code",
   "execution_count": 62,
   "metadata": {},
   "outputs": [
    {
     "data": {
      "text/plain": [
       "10"
      ]
     },
     "execution_count": 62,
     "metadata": {},
     "output_type": "execute_result"
    }
   ],
   "source": [
    "students['Karla']"
   ]
  },
  {
   "cell_type": "markdown",
   "metadata": {},
   "source": [
    "## 6.2 La función constructora `dict()`"
   ]
  },
  {
   "cell_type": "markdown",
   "metadata": {},
   "source": [
    "La función `dict()` se puede usar para crear un nuevo objeto de diccionario a partir de un iterable o una secuencia de pares clave:valor. La firma de esta función es:\n",
    "\n",
    "```python\n",
    "dict(**kwarg) \n",
    "dict(mapping, **kwarg) \n",
    "dict(iterable, **kwarg)\n",
    "```"
   ]
  },
  {
   "cell_type": "markdown",
   "metadata": {},
   "source": [
    "Esta es una función sobrecargada con tres versiones que pueden tomar diferentes tipos de argumentos:\n",
    "\n",
    "* La primera opción toma una secuencia de *clave:pares* de valores. \n",
    "* El segundo toma una asignación y (opcionalmente) una secuencia de *clave:pares* de valores.\n",
    "* La tercera versión toma un iterable de pares *clave:valor* y una secuencia opcional de pares *clave:valor*.\n",
    "\n",
    "Algunos ejemplos se dan a continuación como referencia:"
   ]
  },
  {
   "cell_type": "code",
   "execution_count": 63,
   "metadata": {},
   "outputs": [
    {
     "name": "stdout",
     "output_type": "stream",
     "text": [
      "dict1: {'A': 'Adenosina', 'G': 'Guanine', 'C': 'Cytosine', 'T': 'Thymidine'}\n",
      "dict2: {'A': 'Adenosina', 'G': 'Guanine', 'C': 'Cytosine', 'T': 'Thymidine'}\n",
      "dict3: {'A': 'Adenosina', 'G': 'Guanine', 'C': 'Cytosine', 'T': 'Thymidine'}\n"
     ]
    }
   ],
   "source": [
    "# note keys are not strings\n",
    "dict1 = dict(A = 'Adenosina', G = 'Guanine', C ='Cytosine', T = 'Thymidine') \n",
    "print('dict1:', dict1)\n",
    "# key value pairs are tuples\n",
    "dict2 = dict([('A', 'Adenosina'), ('G', 'Guanine'), ('C', 'Cytosine'), ('T', 'Thymidine')])\n",
    "print('dict2:', dict2)\n",
    "# key value pairs are lists\n",
    "dict3 = dict((['A', 'Adenosina'], ['G', 'Guanine'], ['C', 'Cytosine'], ['T', 'Thymidine']))\n",
    "print('dict3:', dict3)"
   ]
  },
  {
   "cell_type": "markdown",
   "metadata": {},
   "source": [
    "## 6.3 Trabajando con diccionarios "
   ]
  },
  {
   "cell_type": "markdown",
   "metadata": {},
   "source": [
    "### 6.3.1 Acceso a elementos mediante claves `Keys`"
   ]
  },
  {
   "cell_type": "markdown",
   "metadata": {},
   "source": [
    "Puede acceder a los valores contenidos en un Diccionario utilizando su clave asociada. Esto se especifica utilizando la notación de corchetes `[]` (donde la clave está entre corchetes) o el método `get()`:"
   ]
  },
  {
   "cell_type": "code",
   "execution_count": 64,
   "metadata": {},
   "outputs": [
    {
     "data": {
      "text/plain": [
       "'Cytosine'"
      ]
     },
     "execution_count": 64,
     "metadata": {},
     "output_type": "execute_result"
    }
   ],
   "source": [
    "DNA['C']"
   ]
  },
  {
   "cell_type": "code",
   "execution_count": 65,
   "metadata": {},
   "outputs": [
    {
     "name": "stdout",
     "output_type": "stream",
     "text": [
      "DNA[A]: Adenosina\n"
     ]
    }
   ],
   "source": [
    " print('DNA[A]:', DNA['A'])"
   ]
  },
  {
   "cell_type": "code",
   "execution_count": 66,
   "metadata": {},
   "outputs": [
    {
     "name": "stdout",
     "output_type": "stream",
     "text": [
      "DNA.get(G): Guanine\n"
     ]
    }
   ],
   "source": [
    "print('DNA.get(G):', DNA.get('G'))"
   ]
  },
  {
   "cell_type": "markdown",
   "metadata": {},
   "source": [
    "### 6.3.2 Agregar una nueva entrada "
   ]
  },
  {
   "cell_type": "markdown",
   "metadata": {},
   "source": [
    "Se puede agregar una nueva entrada a un diccionario proporcionando la clave entre corchetes y el nuevo valor que se asignará a esa clave:"
   ]
  },
  {
   "cell_type": "code",
   "execution_count": 67,
   "metadata": {},
   "outputs": [
    {
     "data": {
      "text/plain": [
       "{'A': 'Adenosina', 'G': 'Guanine', 'C': 'Cytosine', 'T': 'Thymidine'}"
      ]
     },
     "execution_count": 67,
     "metadata": {},
     "output_type": "execute_result"
    }
   ],
   "source": [
    "DNA"
   ]
  },
  {
   "cell_type": "code",
   "execution_count": 68,
   "metadata": {},
   "outputs": [],
   "source": [
    "DNA['U'] = 'Uracil'"
   ]
  },
  {
   "cell_type": "code",
   "execution_count": 69,
   "metadata": {},
   "outputs": [
    {
     "data": {
      "text/plain": [
       "{'A': 'Adenosina',\n",
       " 'G': 'Guanine',\n",
       " 'C': 'Cytosine',\n",
       " 'T': 'Thymidine',\n",
       " 'U': 'Uracil'}"
      ]
     },
     "execution_count": 69,
     "metadata": {},
     "output_type": "execute_result"
    }
   ],
   "source": [
    "DNA"
   ]
  },
  {
   "cell_type": "markdown",
   "metadata": {},
   "source": [
    "### 6.3.3 Cambiar un valor de claves "
   ]
  },
  {
   "cell_type": "markdown",
   "metadata": {},
   "source": [
    "El valor asociado con una clave se puede cambiar reasignando un nuevo valor utilizando la notación de corchetes, por ejemplo:"
   ]
  },
  {
   "cell_type": "code",
   "execution_count": 70,
   "metadata": {},
   "outputs": [
    {
     "data": {
      "text/plain": [
       "{'A': 'Adenosina',\n",
       " 'G': 'Guanine',\n",
       " 'C': 'Cytosine',\n",
       " 'T': 'Thymidine',\n",
       " 'U': 'Uracil'}"
      ]
     },
     "execution_count": 70,
     "metadata": {},
     "output_type": "execute_result"
    }
   ],
   "source": [
    "DNA"
   ]
  },
  {
   "cell_type": "code",
   "execution_count": 71,
   "metadata": {},
   "outputs": [],
   "source": [
    "DNA['A'] = 'Adenine'"
   ]
  },
  {
   "cell_type": "code",
   "execution_count": 72,
   "metadata": {},
   "outputs": [
    {
     "data": {
      "text/plain": [
       "{'A': 'Adenine',\n",
       " 'G': 'Guanine',\n",
       " 'C': 'Cytosine',\n",
       " 'T': 'Thymidine',\n",
       " 'U': 'Uracil'}"
      ]
     },
     "execution_count": 72,
     "metadata": {},
     "output_type": "execute_result"
    }
   ],
   "source": [
    "DNA"
   ]
  },
  {
   "cell_type": "markdown",
   "metadata": {},
   "source": [
    "### 6.3.4 Eliminar una entrada "
   ]
  },
  {
   "cell_type": "markdown",
   "metadata": {},
   "source": [
    "Se puede eliminar una entrada en el diccionario utilizando uno de los métodos `pop()` o `popitem()` o la palabra clave `del`.\n",
    "\n",
    "* El método `pop(<key>)` elimina la entrada con la *clave* especificada. Este método devuelve el valor de la clave que se elimina. Si la clave no está presente, se devolverá un valor predeterminado (si se ha establecido usando `setdefault ()`). Si no se ha establecido ningún valor predeterminado, se generará un error.\n",
    "\n",
    "* El método `popitem()` elimina el último elemento insertado en el diccionario (¡aunque antes de Python 3.7 se eliminó un elemento aleatorio en el diccionario!). El par *clave:valor* que se elimina se devuelve del método.\n",
    "\n",
    "* La palabra clave *del* elimina la entrada con la clave especificada del diccionario. Esta palabra clave simplemente elimina el elemento; no devuelve el valor asociado. Es potencialmente más eficiente que `pop(<key>)`."
   ]
  },
  {
   "cell_type": "code",
   "execution_count": 73,
   "metadata": {},
   "outputs": [],
   "source": [
    "DNA = {'A': 'Adenine', 'G': 'Guanine', 'C': 'Cytosine', 'T': 'Thymidine', 'U': 'Uracil'}"
   ]
  },
  {
   "cell_type": "code",
   "execution_count": 74,
   "metadata": {},
   "outputs": [
    {
     "name": "stdout",
     "output_type": "stream",
     "text": [
      "{'A': 'Adenine', 'G': 'Guanine', 'C': 'Cytosine', 'T': 'Thymidine', 'U': 'Uracil'}\n",
      "{'A': 'Adenine', 'G': 'Guanine', 'C': 'Cytosine', 'T': 'Thymidine'}\n",
      "{'A': 'Adenine', 'G': 'Guanine', 'T': 'Thymidine'}\n",
      "{'A': 'Adenine', 'T': 'Thymidine'}\n"
     ]
    }
   ],
   "source": [
    "print(DNA)\n",
    "DNA.popitem() \n",
    "print(DNA)\n",
    "DNA.pop('C') \n",
    "print(DNA)\n",
    "del DNA['G']\n",
    "print(DNA)"
   ]
  },
  {
   "cell_type": "markdown",
   "metadata": {},
   "source": [
    "Además, el método `clear()` vacía el diccionario de todas las entradas:"
   ]
  },
  {
   "cell_type": "code",
   "execution_count": 78,
   "metadata": {},
   "outputs": [],
   "source": [
    "DNA = {'A': 'Adenine', 'G': 'Guanine', 'C': 'Cytosine', 'T': 'Thymidine', 'U': 'Uracil'}"
   ]
  },
  {
   "cell_type": "code",
   "execution_count": 79,
   "metadata": {},
   "outputs": [
    {
     "name": "stdout",
     "output_type": "stream",
     "text": [
      "{'A': 'Adenine', 'G': 'Guanine', 'C': 'Cytosine', 'T': 'Thymidine', 'U': 'Uracil'}\n",
      "{}\n"
     ]
    }
   ],
   "source": [
    "print(DNA) \n",
    "DNA.clear() \n",
    "print(DNA)"
   ]
  },
  {
   "cell_type": "markdown",
   "metadata": {},
   "source": [
    "### 6.3.5 Iterando sobre llaves "
   ]
  },
  {
   "cell_type": "markdown",
   "metadata": {},
   "source": [
    "Puede recorrer un diccionario utilizando un ciclo `for` . El bucle `for` procesa a su vez cada una de las claves del diccionario. Esto se puede utilizar para acceder a cada uno de los valores asociados con las claves, por ejemplo:"
   ]
  },
  {
   "cell_type": "code",
   "execution_count": 1,
   "metadata": {},
   "outputs": [],
   "source": [
    "DNA = {'A': 'Adenine', 'G': 'Guanine', 'C': 'Cytosine', 'T': 'Thymidine', 'U': 'Uracil'}"
   ]
  },
  {
   "cell_type": "code",
   "execution_count": 2,
   "metadata": {},
   "outputs": [
    {
     "name": "stdout",
     "output_type": "stream",
     "text": [
      "0\n",
      "2\n",
      "4\n",
      "6\n"
     ]
    }
   ],
   "source": [
    "for gatitos in range(0, 8, 2):\n",
    "    print(gatitos)"
   ]
  },
  {
   "cell_type": "code",
   "execution_count": 4,
   "metadata": {},
   "outputs": [
    {
     "name": "stdout",
     "output_type": "stream",
     "text": [
      "A, Adenine\n",
      "G, Guanine\n",
      "C, Cytosine\n",
      "T, Thymidine\n",
      "U, Uracil\n"
     ]
    }
   ],
   "source": [
    "for letters in DNA:\n",
    "    print(letters, end=', ') \n",
    "    print(DNA[letters])"
   ]
  },
  {
   "cell_type": "markdown",
   "metadata": {},
   "source": [
    "Si desea iterar sobre todos los valores directamente, puede hacerlo utilizando el método `values()`. Esto devuelve una colección de todos los valores, que por supuesto puede iterar sobre:"
   ]
  },
  {
   "cell_type": "code",
   "execution_count": 5,
   "metadata": {},
   "outputs": [
    {
     "name": "stdout",
     "output_type": "stream",
     "text": [
      "Adenine\n",
      "Guanine\n",
      "Cytosine\n",
      "Thymidine\n",
      "Uracil\n"
     ]
    }
   ],
   "source": [
    " for e in DNA.values(): \n",
    "        print(e)"
   ]
  },
  {
   "cell_type": "code",
   "execution_count": 6,
   "metadata": {},
   "outputs": [
    {
     "name": "stdout",
     "output_type": "stream",
     "text": [
      "A\n",
      "G\n",
      "C\n",
      "T\n",
      "U\n"
     ]
    }
   ],
   "source": [
    " for e in DNA.keys(): \n",
    "        print(e)"
   ]
  },
  {
   "cell_type": "code",
   "execution_count": 7,
   "metadata": {},
   "outputs": [
    {
     "data": {
      "text/plain": [
       "{'A': 'Adenine',\n",
       " 'G': 'Guanine',\n",
       " 'C': 'Cytosine',\n",
       " 'T': 'Thymidine',\n",
       " 'U': 'Uracil'}"
      ]
     },
     "execution_count": 7,
     "metadata": {},
     "output_type": "execute_result"
    }
   ],
   "source": [
    "DNA"
   ]
  },
  {
   "cell_type": "code",
   "execution_count": 10,
   "metadata": {},
   "outputs": [
    {
     "data": {
      "text/plain": [
       "dict_keys(['A', 'G', 'C', 'T', 'U'])"
      ]
     },
     "execution_count": 10,
     "metadata": {},
     "output_type": "execute_result"
    }
   ],
   "source": [
    "DNA.keys()"
   ]
  },
  {
   "cell_type": "code",
   "execution_count": 11,
   "metadata": {},
   "outputs": [
    {
     "data": {
      "text/plain": [
       "dict_values(['Adenine', 'Guanine', 'Cytosine', 'Thymidine', 'Uracil'])"
      ]
     },
     "execution_count": 11,
     "metadata": {},
     "output_type": "execute_result"
    }
   ],
   "source": [
    "DNA.values()"
   ]
  },
  {
   "cell_type": "code",
   "execution_count": 12,
   "metadata": {},
   "outputs": [
    {
     "data": {
      "text/plain": [
       "dict_items([('A', 'Adenine'), ('G', 'Guanine'), ('C', 'Cytosine'), ('T', 'Thymidine'), ('U', 'Uracil')])"
      ]
     },
     "execution_count": 12,
     "metadata": {},
     "output_type": "execute_result"
    }
   ],
   "source": [
    "DNA.items()"
   ]
  },
  {
   "cell_type": "markdown",
   "metadata": {},
   "source": [
    "### 6.3.6 Valores, claves y elementos"
   ]
  },
  {
   "cell_type": "markdown",
   "metadata": {},
   "source": [
    "Hay tres métodos que le permiten obtener una vista del contenido de un diccionario, estos son `values()`, `keys()` y `items()`.\n",
    "\n",
    "\n",
    "* El método `values()` devuelve una vista de los valores del diccionario.\n",
    "* El método `keys()` devuelve una vista de las claves un diccionario.\n",
    "* El método `items()` devuelve una vista a los elementos del diccionario (clave, valor)."
   ]
  },
  {
   "cell_type": "markdown",
   "metadata": {},
   "source": [
    "Una vista proporciona una ventana dinámica a las entradas del diccionario, lo que significa que cuando el diccionario cambia, la vista refleja estos cambios. El siguiente código utiliza los diccionarios de `DNA` con estos tres métodos:"
   ]
  },
  {
   "cell_type": "code",
   "execution_count": 13,
   "metadata": {},
   "outputs": [
    {
     "name": "stdout",
     "output_type": "stream",
     "text": [
      "dict_values(['Adenine', 'Guanine', 'Cytosine', 'Thymidine', 'Uracil']) \n",
      "\n",
      "dict_keys(['A', 'G', 'C', 'T', 'U']) \n",
      "\n",
      "dict_items([('A', 'Adenine'), ('G', 'Guanine'), ('C', 'Cytosine'), ('T', 'Thymidine'), ('U', 'Uracil')]) \n",
      "\n"
     ]
    }
   ],
   "source": [
    "print(DNA.values(), '\\n') \n",
    "print(DNA.keys(), '\\n') \n",
    "print(DNA.items(), '\\n')"
   ]
  },
  {
   "cell_type": "markdown",
   "metadata": {},
   "source": [
    "### 6.3.7 Comprobación de claves "
   ]
  },
  {
   "cell_type": "markdown",
   "metadata": {},
   "source": [
    "Puede verificar si una clave es miembro de un diccionario que usa la sintaxis `in` (y que no está en un diccionario que usa la sintaxis `not in`), por ejemplo:"
   ]
  },
  {
   "cell_type": "code",
   "execution_count": 14,
   "metadata": {},
   "outputs": [
    {
     "name": "stdout",
     "output_type": "stream",
     "text": [
      "True\n",
      "False\n"
     ]
    }
   ],
   "source": [
    "print('A' in DNA) \n",
    "\n",
    "print('G' not in DNA)"
   ]
  },
  {
   "cell_type": "markdown",
   "metadata": {},
   "source": [
    "### 6.3.8 Longitud de un diccionario"
   ]
  },
  {
   "cell_type": "markdown",
   "metadata": {},
   "source": [
    "Una vez más, como con otras clases de colección; puede averiguar la longitud de un Diccionario (en términos de su par *clave:valores*) utilizando la función `len()`."
   ]
  },
  {
   "cell_type": "code",
   "execution_count": 16,
   "metadata": {},
   "outputs": [
    {
     "data": {
      "text/plain": [
       "{'A': 'Adenine',\n",
       " 'G': 'Guanine',\n",
       " 'C': 'Cytosine',\n",
       " 'T': 'Thymidine',\n",
       " 'U': 'Uracil'}"
      ]
     },
     "execution_count": 16,
     "metadata": {},
     "output_type": "execute_result"
    }
   ],
   "source": [
    "DNA"
   ]
  },
  {
   "cell_type": "code",
   "execution_count": 21,
   "metadata": {},
   "outputs": [],
   "source": [
    "aux = [1, 2, 23, 31]"
   ]
  },
  {
   "cell_type": "code",
   "execution_count": 22,
   "metadata": {},
   "outputs": [
    {
     "data": {
      "text/plain": [
       "4"
      ]
     },
     "execution_count": 22,
     "metadata": {},
     "output_type": "execute_result"
    }
   ],
   "source": [
    "len(aux)"
   ]
  },
  {
   "cell_type": "code",
   "execution_count": 23,
   "metadata": {},
   "outputs": [
    {
     "data": {
      "text/plain": [
       "31"
      ]
     },
     "execution_count": 23,
     "metadata": {},
     "output_type": "execute_result"
    }
   ],
   "source": [
    "aux[3]"
   ]
  },
  {
   "cell_type": "code",
   "execution_count": 17,
   "metadata": {},
   "outputs": [
    {
     "name": "stdout",
     "output_type": "stream",
     "text": [
      "5\n"
     ]
    }
   ],
   "source": [
    "print(len(DNA))"
   ]
  },
  {
   "cell_type": "markdown",
   "metadata": {},
   "source": [
    "### 6.3.9 Diccionarios anidados "
   ]
  },
  {
   "cell_type": "markdown",
   "metadata": {},
   "source": [
    "La clave y el valor en un diccionario deben ser un objeto; sin embargo, todo en Python es un objeto y, por lo tanto, cualquier cosa puede usarse como una clave o un valor. Un patrón común es donde el valor en un diccionario es en sí mismo un contenedor como una Lista, Tupla, Conjunto o incluso otro Diccionario.\n",
    "\n",
    "El siguiente ejemplo usa Tuplas para representar los meses que componen las estaciones:"
   ]
  },
  {
   "cell_type": "code",
   "execution_count": 24,
   "metadata": {},
   "outputs": [
    {
     "name": "stdout",
     "output_type": "stream",
     "text": [
      "('Mar', 'Apr', 'May')\n",
      "Apr\n"
     ]
    }
   ],
   "source": [
    "seasons = {'Spring': ('Mar', 'Apr', 'May'), 'Summer': ('June', 'July', 'August'),\n",
    "'Autumn': ('September', 'October', 'November'),\n",
    "'Winter': ('December', 'January', 'February')} \n",
    "print(seasons['Spring'])\n",
    "print(seasons['Spring'][1])"
   ]
  },
  {
   "cell_type": "markdown",
   "metadata": {},
   "source": [
    "Cada estación tiene una Tupla para el elemento de valor de la entrada. Cuando se devuelve esta tupla con la clave, se puede tratar como cualquier otra tupla.\n",
    "Tenga en cuenta que en este caso podríamos haber usado fácilmente una Lista o un Conjunto en lugar de una Tupla."
   ]
  },
  {
   "cell_type": "markdown",
   "metadata": {},
   "source": [
    "## 6.4 Métodos de un diccionario "
   ]
  },
  {
   "cell_type": "markdown",
   "metadata": {},
   "source": [
    "Python tiene un conjunto de métodos integrados que puede usar en los diccionarios.\n",
    "\n",
    "|    Método    |                 Descripción               |\n",
    "|--------------|-------------------------------------------|\n",
    "|   `clear()`  |Elimina todos los elementos del diccionario|\n",
    "|    `copy()`  |Devuelve una copia del diccionario         |\n",
    "| `fromkeys()` |Devuelve un diccionario con las claves y valores especificados|\n",
    "|    `get()`   |Devuelve el valor de la clave especificada|\n",
    "|   `items()`  |Devuelve una lista que contiene la tupla para cada par de valores clave|\n",
    "|   `keys()`   |Devuelve una lista que contiene las claves del diccionario|\n",
    "|    `pop()`   |Elimina el elemento con la clave especificada|\n",
    "|  `popitem()` |Elimina el último par clave-valor insertado|\n",
    "|`setdefault()`|Devuelve el valor de la clave especificada. Si la clave no existe: inserta la clave, con el valor especificado|\n",
    "|  `update()`  |Actualiza el diccionario con los pares clave-valor especificados.|\n",
    "|  `values()`  |Devuelve una lista de todos los valores del diccionario.|"
   ]
  },
  {
   "cell_type": "markdown",
   "metadata": {},
   "source": [
    "# Ejercicio "
   ]
  },
  {
   "cell_type": "markdown",
   "metadata": {},
   "source": [
    "## Polinominios como diccionarios "
   ]
  },
  {
   "cell_type": "markdown",
   "metadata": {},
   "source": [
    "Las claves en un diccionario no están restringidas a ser cadenas. De hecho, cualquier objeto Python cuyo contenido no se puede cambiar se puede usar como clave. Por ejemplo, podemos usar enteros como claves en un diccionario. Esta es una forma práctica de representar polinomios, como se explicará a continuación. Consideremos el polimonio\n",
    "\n",
    "\n",
    "\n",
    "$$p(x) = -1 + x^2 + 3x^7$$\n",
    "Las forma general de un polinomio es:\n",
    "$$p(x) = a_{n}x^{n} +  a_{n-1}x^{n-1} + \\cdots + a_{1}x^{1}+ a_{0}x^{0} $$\n",
    "\n",
    "\n",
    "Los datos asociados con este polinomio se pueden ver como un conjunto de pares de coeficientes de potencia, en este caso el coeficiente $−1$ pertenece a la potencia $0$, el coeficiente $1$ pertenece a la potencia $2$ y el coeficiente $3$ pertenece a la potencia $7$. Un diccionario puede ser usado para mapear una potencia a un coeficiente:"
   ]
  },
  {
   "cell_type": "code",
   "execution_count": 33,
   "metadata": {},
   "outputs": [],
   "source": [
    "pol = {0: -1, 2: 1, 7: 3} # La llave es el exponente y la valor es el\n",
    "                          # coeficiente"
   ]
  },
  {
   "cell_type": "markdown",
   "metadata": {},
   "source": [
    "$$p(0) = -1 + 0^2 + 3*0^7 = -1$$\n",
    "$$p(1) = -1 + 1^2 + 3*1^7 = 3$$"
   ]
  },
  {
   "cell_type": "code",
   "execution_count": 34,
   "metadata": {},
   "outputs": [
    {
     "data": {
      "text/plain": [
       "-1"
      ]
     },
     "execution_count": 34,
     "metadata": {},
     "output_type": "execute_result"
    }
   ],
   "source": [
    "pol[0]"
   ]
  },
  {
   "cell_type": "code",
   "execution_count": null,
   "metadata": {},
   "outputs": [],
   "source": []
  },
  {
   "cell_type": "code",
   "execution_count": 67,
   "metadata": {},
   "outputs": [],
   "source": [
    "def poly(x, dicts): # La función recibe el punto a evaluar y un diccionario\n",
    "                    # con los exponenetes en la llave y los coeficientes\n",
    "                    # en el valor\n",
    "    aux = 0\n",
    "    for exp in pol:\n",
    "        print(\"exp:\", exp, \"pol[exp]\", pol[exp],\"pol[exp]*(x**exp)\",pol[exp]*(x**exp), \"aux\", aux, )\n",
    "        aux = aux + pol[exp]*(x**exp)\n",
    "    return aux\n",
    "    #print(aux)"
   ]
  },
  {
   "cell_type": "code",
   "execution_count": 68,
   "metadata": {},
   "outputs": [
    {
     "name": "stdout",
     "output_type": "stream",
     "text": [
      "exp: 0 pol[exp] -1 pol[exp]*(x**exp) -1 aux 0\n",
      "exp: 2 pol[exp] 1 pol[exp]*(x**exp) 1 aux -1\n",
      "exp: 7 pol[exp] 3 pol[exp]*(x**exp) 3 aux 0\n"
     ]
    }
   ],
   "source": [
    "poly_eval = poly(1, pol)"
   ]
  },
  {
   "cell_type": "code",
   "execution_count": 64,
   "metadata": {},
   "outputs": [
    {
     "name": "stdout",
     "output_type": "stream",
     "text": [
      "3\n"
     ]
    }
   ],
   "source": [
    "print(poly_eval)"
   ]
  },
  {
   "cell_type": "code",
   "execution_count": 61,
   "metadata": {},
   "outputs": [
    {
     "name": "stdout",
     "output_type": "stream",
     "text": [
      "Coeficiente, exponente -1 0\n",
      "-1\n",
      "Coeficiente, exponente 1 2\n",
      "4\n",
      "Coeficiente, exponente 3 7\n",
      "384\n"
     ]
    }
   ],
   "source": [
    "x = 2\n",
    "for exp in pol:\n",
    "    print(\"Coeficiente, exponente\", pol[exp], exp)\n",
    "    print(pol[exp]*(x**exp))"
   ]
  },
  {
   "cell_type": "markdown",
   "metadata": {},
   "source": [
    "Por supuesto, también se puede usar una lista, pero en este caso también debemos completar todos los coeficientes cero, ya que el índice debe coincidir con la potencia:"
   ]
  },
  {
   "cell_type": "code",
   "execution_count": null,
   "metadata": {},
   "outputs": [],
   "source": [
    "p = [-1, 0, 1, 0, 0, 0, 0, 3]"
   ]
  },
  {
   "cell_type": "markdown",
   "metadata": {},
   "source": [
    "La ventaja con un diccionario es que necesitamos almacenar solo los coeficientes distintos de cero. Para el polinomio $1 + x^{100}$, el diccionario contiene dos elementos, mientras que la lista contiene $101$ elementos.\n",
    "\n",
    "La siguiente función se puede utilizar para evaluar un polinomio representado como un diccionario:"
   ]
  },
  {
   "cell_type": "code",
   "execution_count": null,
   "metadata": {},
   "outputs": [],
   "source": [
    "def poly1(data, x):\n",
    "    \n",
    "    sum = 0.0\n",
    "    \n",
    "    for power in data:\n",
    "        sum += data[power]*x**power # sum = sum + data[power]*x**power\n",
    "    return sum"
   ]
  },
  {
   "cell_type": "markdown",
   "metadata": {},
   "source": [
    "El argumento `data` debe ser un diccionario donde `data[power]` contienen el coeficiente asociado con el término `x**power`. "
   ]
  },
  {
   "cell_type": "code",
   "execution_count": null,
   "metadata": {},
   "outputs": [],
   "source": [
    "poly1(pol, 1)"
   ]
  },
  {
   "cell_type": "code",
   "execution_count": null,
   "metadata": {},
   "outputs": [],
   "source": [
    "aux = 0.0\n",
    "\n",
    "for i in range(0, 11):\n",
    "    \n",
    "    #aux = aux + i\n",
    "    aux += i\n"
   ]
  },
  {
   "cell_type": "code",
   "execution_count": null,
   "metadata": {},
   "outputs": [],
   "source": [
    "aux"
   ]
  },
  {
   "cell_type": "code",
   "execution_count": null,
   "metadata": {},
   "outputs": [],
   "source": []
  }
 ],
 "metadata": {
  "kernelspec": {
   "display_name": "Python 3",
   "language": "python",
   "name": "python3"
  },
  "language_info": {
   "codemirror_mode": {
    "name": "ipython",
    "version": 3
   },
   "file_extension": ".py",
   "mimetype": "text/x-python",
   "name": "python",
   "nbconvert_exporter": "python",
   "pygments_lexer": "ipython3",
   "version": "3.6.5"
  }
 },
 "nbformat": 4,
 "nbformat_minor": 2
}
