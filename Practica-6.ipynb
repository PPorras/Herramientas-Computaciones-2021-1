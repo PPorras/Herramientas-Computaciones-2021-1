{
 "cells": [
  {
   "cell_type": "markdown",
   "metadata": {},
   "source": [
    "# 1. Genere coordenadas igualmente espaciadas. "
   ]
  },
  {
   "cell_type": "markdown",
   "metadata": {},
   "source": [
    "* Queremos generar coordenadas $x$ entre $1$ y $2$ con espaciado $0.01$. La coordenada i-ésima, $x_i$, es entonces $1 + ih$ donde $h = 0.01$ e $i$ se ejecuta sobre los enteros $0,1, \\dots, 100$. Calcule los valores $x_i$ y guárdelos en una lista. Sugerencia: use un ciclo `for` o `while` y agregue cada nuevo valor $x_i$ a una lista, que inicialmente está vacía. Nombre de la función se debe llama `coor1()`."
   ]
  },
  {
   "cell_type": "markdown",
   "metadata": {},
   "source": [
    "* El problema es el mismo que en el inciso anterior, pero ahora queremos que los valores $x_i$ se almacenen en una lista usando una construcción de comprensión de listas. El nombre de la función debe de ser `coor2()`."
   ]
  },
  {
   "cell_type": "markdown",
   "metadata": {},
   "source": [
    "# 2. Error Absoluto y relativo "
   ]
  },
  {
   "cell_type": "markdown",
   "metadata": {},
   "source": [
    "* Escriba una función que se llame `abs_error(f, faprox ,x)` que reciba una función `f` de Python que representa una función matemática $f(x)$ y la aproximación númerica de la función en el punto $x$. La función debe de regresa el [error absoluto ](https://mathworld.wolfram.com/AbsoluteError.html) de la aproximación de la función $f(x)$.\n",
    "\n",
    "* Escriba una función que se llame `rel_error(f, faprox ,x)` que reciba una función `f` de Python que representa una función matemática $f(x)$ y la aproximación númerica de la función en el punto $x$. La función debe de regresa el [error relativo](https://mathworld.wolfram.com/RelativeError.html) de la aproximación de la función $f(x)$.\n",
    "\n",
    "\n",
    "Ejemplo de esto se muestra a continuación"
   ]
  },
  {
   "cell_type": "code",
   "execution_count": 1,
   "metadata": {},
   "outputs": [],
   "source": [
    "import numpy as np"
   ]
  },
  {
   "cell_type": "code",
   "execution_count": 2,
   "metadata": {},
   "outputs": [],
   "source": [
    "def my_factorial(n):\n",
    "    i = 1\n",
    "    aux = 1\n",
    "    while i < n :\n",
    "        i +=1\n",
    "        aux = aux*i\n",
    "        \n",
    "   \n",
    "    return aux"
   ]
  },
  {
   "cell_type": "code",
   "execution_count": 3,
   "metadata": {},
   "outputs": [],
   "source": [
    "def my_sin(x, n = 2):\n",
    "    \n",
    "    k = 0\n",
    "    aux = 0\n",
    "    while k < n:\n",
    "        aux = aux + (((-1)**k)*(x**(2*k + 1)))/my_factorial(2*k +1 )\n",
    "        k += 1 \n",
    "    return aux"
   ]
  },
  {
   "cell_type": "code",
   "execution_count": 5,
   "metadata": {},
   "outputs": [
    {
     "data": {
      "text/plain": [
       "0.0024541299773799263"
      ]
     },
     "execution_count": 5,
     "metadata": {},
     "output_type": "execute_result"
    }
   ],
   "source": [
    "abs_error(np.sin, my_sin, np.pi/4 )"
   ]
  },
  {
   "cell_type": "code",
   "execution_count": null,
   "metadata": {},
   "outputs": [],
   "source": []
  },
  {
   "cell_type": "markdown",
   "metadata": {},
   "source": [
    "# 3. Una función para la derivada numérica."
   ]
  },
  {
   "cell_type": "markdown",
   "metadata": {},
   "source": [
    "La fórmula $$f'(x) = \\dfrac{f(x + h) - f(x - h)}{2h}$$\n",
    "\n",
    "se puede usar para encontrar una derivada aproximada de una función matemática $f(x)$ si $h$ es pequeña. Escriba una función `diff(f, x, h = 1E-6)` que devuelva la aproximación de la derivada de una función matemática representada por una función de Python `f(x)`.\n",
    "Use la ecuación anterior para calcular una aproximación de la derivada de la función  $f(x) = e^x$ en $x = 0$, $f(x) = e^{− 2x^2}$ en $x = 0$, $\\cos{x}$ en $x = 2\\pi$ y $f(x) = \\ln{x}$ en $x = 1$. Use $h = 0.01$. En cada caso, escriba el error, es decir, la diferencia entre la derivada exacta y el resultado de la fórmula $f'(x) = \\dfrac{f(x + h) - f(x - h)}{2h}$."
   ]
  },
  {
   "cell_type": "code",
   "execution_count": null,
   "metadata": {},
   "outputs": [],
   "source": []
  },
  {
   "cell_type": "markdown",
   "metadata": {},
   "source": [
    "# 4. Una función para la integral numérica."
   ]
  },
  {
   "cell_type": "markdown",
   "metadata": {},
   "source": [
    "Una aproximación a la integral de una función $f(x)$ en un intervalo $[a, b]$ se puede encontrar aproximando primero $f(x)$ por la recta que pasa por los puntos finales $(a, f (a))$ y $(b , f (b))$, y luego encontrar el área debajo de la línea recta (que es el área de un trapezoide). La fórmula resultante se convierte en:\n",
    "\n",
    "$$\\displaystyle \\int_{a}^{b} f(x) \\, dx \\approx \\dfrac{b-a}{2}\\left( f(a) - f(b) \\right)$$\n",
    "\n",
    "Escribe una función `integrate(f, a, b)` que devuelva esta aproximación a la integral. El argument `f` es una función de Python `f`  de la función matemática $f(x)$. Calcule las siguientes integrales 􏰒$\\int_{0}^{ln(3)} e^x \\, dx$, $\\int_{0}^{\\pi} \\cos{x} \\, dx$ , $\\int_{0}^{\\pi} \\sin{x} \\, dx$ y $\\int_{0}^{\\frac{\\pi}{2}} \\sin{x} \\, dx$. En el caso de 0000, calcule el el error, es decir, la diferencia entre la integral exacta y la aproximación. Realice una gráfica  para cada integral a fin de comprender cómo se comporta el método en los diferentes casos."
   ]
  },
  {
   "cell_type": "code",
   "execution_count": null,
   "metadata": {},
   "outputs": [],
   "source": []
  },
  {
   "cell_type": "markdown",
   "metadata": {},
   "source": [
    "# 5. ¿Es primo? usando recursión\n",
    "\n",
    "Implemte mediante recursión una función cuyo nombre sea `is_prime()` que regrese `True` si el número es primo o `False` si el número no es primo."
   ]
  },
  {
   "cell_type": "code",
   "execution_count": null,
   "metadata": {},
   "outputs": [],
   "source": []
  }
 ],
 "metadata": {
  "kernelspec": {
   "display_name": "Python 3",
   "language": "python",
   "name": "python3"
  },
  "language_info": {
   "codemirror_mode": {
    "name": "ipython",
    "version": 3
   },
   "file_extension": ".py",
   "mimetype": "text/x-python",
   "name": "python",
   "nbconvert_exporter": "python",
   "pygments_lexer": "ipython3",
   "version": "3.6.5"
  }
 },
 "nbformat": 4,
 "nbformat_minor": 4
}
