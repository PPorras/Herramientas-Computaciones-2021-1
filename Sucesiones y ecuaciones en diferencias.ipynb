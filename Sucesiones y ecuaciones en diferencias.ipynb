{
 "cells": [
  {
   "cell_type": "markdown",
   "metadata": {},
   "source": [
    "* [1. Ecuaciones en diferencias](#1.-Ecuaciones-en-diferencias)\n",
    "    * [1.1 Modelos matemáticos basados en ecuaciones en diferencias](#1.1-Modelos-matemáticos-basados-en-ecuaciones-en-diferencias)\n",
    "        * [1.1.1 Tasas de interés](#1.1.1-Tasas-de-interés)\n",
    "        * [1.1.2 El factorial como una ecuación en diferencia](#1.1.2-El-factorial-como-una-ecuación-en-diferencia)\n",
    "        * [1.1.3 Números de Fibonacci](#1.1.3-Números-de-Fibonacci)\n",
    "        * [1.1.4 Crecimiento de una población](#1.1.4-Crecimiento-de-una-población)\n",
    "        * [1.1.5 Crecimiento logístico](#1.1.5-Crecimiento-logístico)\n",
    "        * [1.1.6 Método de Newton](#1.1.6-Método-de-Newton)"
   ]
  },
  {
   "cell_type": "markdown",
   "metadata": {},
   "source": [
    "Sean $f:\\mathbb{N} \\rightarrow \\mathbb{R} $"
   ]
  },
  {
   "cell_type": "markdown",
   "metadata": {},
   "source": [
    "$f(n) = (-1)^{n}$\n",
    "\n",
    "$a_{n} = f(n)$\n",
    "\n",
    "$a_0 = f(0) = (-1)^{0} = 1$\n",
    "\n",
    "$a_1 = f(1) = (-1)^{1} = -1$\n",
    "\n",
    "$a_2 = f(2) = (-1)^{2} = 1$\n",
    "\n",
    "Una forma de escribir a la sucesión $\\{ a_{n}\\}_{n=0}^{\\infty}= \\{a_0 , a_1 ,a_2 , \\cdots\\}$"
   ]
  },
  {
   "cell_type": "markdown",
   "metadata": {},
   "source": [
    "## Sucesión de los impares "
   ]
  },
  {
   "cell_type": "markdown",
   "metadata": {},
   "source": [
    "Sean $f:\\mathbb{N} \\rightarrow \\mathbb{R}$ tal que $f(n) = 2n + 1$ \n",
    "\n",
    "* $a_0 = f(0) = 2(0) + 1 = 1$\n",
    "* $a_1 = f(1) = 2(1) + 1 = 3$\n",
    "* $a_2 = f(2) = 2(2) + 1 = 5$"
   ]
  },
  {
   "cell_type": "markdown",
   "metadata": {},
   "source": [
    "# 1. Ecuaciones en diferencias "
   ]
  },
  {
   "cell_type": "markdown",
   "metadata": {},
   "source": [
    "De las matemáticas probablemente conozca el concepto de sucesión, que no es más que una colección de números con un orden específico. Una sucesión general se escribe como:\n",
    "\n",
    "$$x_0, x_1, x_2, \\dots, x_n,\\dots,$$\n",
    "\n",
    "Un ejemplo es la sucesión de todos los números impares:\n",
    "\n",
    "$$1, 3, 5, 7, \\dots, 2n + 1,\\dots,$$\n",
    "\n",
    "Para esta sucesión tenemos una fórmula explícita para el n-ésimo término: $2n + 1$, y $n$ toma los valores $0, 1, 2, \\dots$. Podemos escribir esta suseción de manera más compacta como $\\left( x_n \\right)_{n = 0} ^{\\infty}$ con $x_n = 2n + 1$. Otros ejemplos de sucesiones infinitas de las matemáticas son:\n",
    "\n",
    "$$1, 4, 9, 16, 25, \\dots \\quad \\left\\{ x_n \\right\\}_{n = 0} ^{\\infty}, \\quad x_n = (n + 1)^2$$\n",
    "\n",
    "$$1, \\dfrac{1}{2}, \\dfrac{1}{3}, \\dfrac{1}{4},  \\dots \\quad \\left( x_n \\right)_{n = 0} ^{\\infty}, \\quad x_n = \\dfrac{1}{n + 1}$$\n",
    "\n",
    "Las primeras sucesiones son infinitas, porque se generan a partir de todos los enteros $\\geq 0$ y hay infinitos números enteros. No obstante, la mayoría de las sucesiones de aplicaciones de la vida real son finitas. Por ejemplo si deposita una cantidad $x_0$ de dinero en un banco, obtendrá una tasa de interés y, por lo tanto, tendrá una cantidad $x_1$ después de un año, $x_2$ después de dos años y $x_N$ después de $N$ años. Este proceso da como resultado una secuencia finita de cantidades:\n",
    "\n",
    "$$x_0, x_1, x_2, \\dots, x_N,\\quad \\dots \\quad \\left( x_n \\right)_{n = 0} ^{N}$$\n",
    "\n",
    "Normalmente estamos interesados en valores de N bastante pequeños (normalmente $N \\leq 30$. De todos modos, la vida del banco es finita, por lo que la secuencia definitivamente tiene un final.\n",
    "\n",
    "Para algunas sucesiones, no es tan fácil establecer una fórmula general para el enésimo término. En cambio, es más fácil expresar una relación entre dos o más elementos consecutivos. Un ejemplo en el que podemos hacer ambas cosas es la sucesión de números impares. Esta secuencia se puede generar alternativamente mediante la fórmula:\n",
    "\n",
    "$$x_{n+1} = x_{n} + 2 $$\n",
    "\n",
    "Para comenzar la sucesión, necesitamos una condición inicial donde se especifica el valor del primer elemento:\n",
    "\n",
    "$$x_{0} = 1$$\n",
    "\n",
    "Las relaciones como $x_{n+1} = x_{n} + 2 $ entre elementos consecutivos en una sucesión se denominan *relaciones de recurrencia* o *ecuaciones en diferencias*. Resolver una ecuación en diferencias puede ser bastante desafiante en matemáticas, pero es casi trivial resolverlo en una computadora. Es por eso que las ecuaciones en diferencias son tan adecuadas para la programación de computadoras, y el presente notebook está dedicado a este tema."
   ]
  },
  {
   "cell_type": "markdown",
   "metadata": {},
   "source": [
    "### Ejemplo\n",
    "\n",
    "$$x_{n+1} = 3(x_{n} + 2) \\text{ y } x_0 = 0$$\n",
    "\n",
    "* $x_{1} = x_{0+ 1}= 3(x_{0} + 2) = 3(0 + 2)= 6 $\n",
    "* $x_{2} = x_{1+ 1}= 3(x_{1} + 2) = 3(6 + 2)= 24 $"
   ]
  },
  {
   "cell_type": "code",
   "execution_count": null,
   "metadata": {},
   "outputs": [],
   "source": []
  },
  {
   "cell_type": "markdown",
   "metadata": {},
   "source": [
    "## 1.1 Modelos matemáticos basados en ecuaciones en diferencias "
   ]
  },
  {
   "cell_type": "markdown",
   "metadata": {},
   "source": [
    "El objetivo de la ciencia es comprender fenómenos complejos. El fenómeno considerado puede ser parte de la naturaleza, un grupo de individuos sociales, la situación del tráfico en Los Ángeles, etc. La razón para abordar algo de manera científica es que parece ser complejo y difícil de comprender. Un enfoque científico común para obtener comprensión es crear un modelo del fenómeno y discutir las propiedades del modelo en lugar del fenómeno. La idea básica es que el modelo es más fácil de entender, pero lo suficientemente complejo como para preservar las características básicas del problema en cuestión. El modelado es, de hecho, una idea general con aplicaciones mucho más allá de la ciencia. Suponga, por ejemplo, que quiere invitar a un amigo a su casa por primera vez. Para ayudar a su amigo, puede enviar un mapa de su vecindario. Dicho mapa es un modelo: expone los puntos de referencia más importantes y omite miles de millones de detalles que su amigo puede prescindir muy bien. Esta es la esencia del modelado: un buen modelo debe ser lo más simple posible, pero lo suficientemente rico como para incluir las estructuras importantes que está buscando.\n",
    "\n",
    "Ciertamente, las herramientas que aplicamos para modelar un determinado fenómeno difieren mucho en varias disciplinas científicas. En las ciencias naturales, las matemáticas han ganado una posición única como herramienta clave para formular modelos. Para establecer un modelo, debe comprender el problema en cuestión y describirlo con matemáticas. Por lo general, este proceso da como resultado un conjunto de ecuaciones, es decir, el modelo consta de ecuaciones que deben resolverse para ver qué tan realista describe un fenómeno el modelo. Las ecuaciones en diferencias representan uno de los tipos de ecuaciones más simples pero más efectivas que surgen en los modelos matemáticos. Las matemáticas son simples y la programación es simple, lo que nos permite enfocarnos más en la parte de modelado. A continuación, derivaremos y resolveremos ecuaciones en diferencias para diversas aplicaciones."
   ]
  },
  {
   "cell_type": "markdown",
   "metadata": {},
   "source": [
    "### 1.1.1 Tasas de interés"
   ]
  },
  {
   "cell_type": "markdown",
   "metadata": {},
   "source": [
    "* Mes cero me prestan $x_0$.\n",
    "* Mes 1. Yo debo $x_1 = x_0 + \\frac{5}{100}x_0 = x_0\\left(1 + \\frac{5}{100} \\right)$\n",
    "* Mes 2. Yo debo $x_2 = x_1 + \\frac{5}{100}x_0 = x_0\\left(1 + \\frac{5}{100} \\right) + \\frac{5}{100}x_0 = x_0\\left(1 + \\frac{(2)(5)}{100} \\right)$\n",
    "* Mes 3. Yo debo $x_3 = x_2 + \\frac{5}{100}x_0 =  x_0\\left(1 + \\frac{(3)(5)}{100} \\right)$\n",
    "\n",
    "\n",
    "* ***$x_{n+1} = x_{n} + \\dfrac{5}{100}x_0 =  x_0\\left(1 + \\frac{(n)(5)}{100} \\right) $***\n",
    "* $f(n) = x_0\\left(1 + \\frac{(n)(5)}{100} \\right)$\n",
    "\n",
    "* $f(n) = x_0\\left(1 + \\frac{(n)(p)}{100} \\right)$"
   ]
  },
  {
   "cell_type": "markdown",
   "metadata": {},
   "source": [
    "Nuestro primer módelo de ecuación en diferencias se refiere a cuánto dinero crecerá una cantidad inicial $x_0$ después de $n$ años en un banco con una tasa de interés anual $p$. La fórmula es:\n",
    "\n",
    "$$ x_{n} = x_{0}\\left(1 + \\dfrac{p}{100} \\right) $$\n",
    "\n",
    "\n",
    "Desafortunadamente, esta fórmula surge después de algunos supuestos limitantes, como el de una tasa de interés constante durante los $n$ años. Además, la fórmula solo nos da la cantidad después de cada año, no después de algunos meses o días. Es mucho más fácil calcular con tasas de interés si configuramos un modelo más fundamental en términos de una ecuación en diferencia y luego resolvemos esta ecuación en una computadora.\n",
    "\n",
    "El modelo fundamental para las tasas de interés es que una cantidad $x_{n − 1}$ en algún momento $t_{n − 1}$ aumenta su valor con $p$ por ciento a una cantidad $x_n$ en un nuevo momento $t_n$\n",
    "\n",
    "$$ x_{n} = x_{n-1} + \\dfrac{p}{100}x_{n-1}$$\n",
    "\n",
    "Si $n$ cuenta años, $p$ es la tasa de interés anual, y si $p$ es constante, podemos derivar con algunas operaciones aritméticas la siguiente solución para la ecuación anterior:\n",
    "\n",
    "$$x_{n} = \\left( 1 + \\dfrac{p}{100} \\right)x_{n-1} = \\left( 1 + \\dfrac{p}{100} \\right)^2 x_{n-2} = \\cdots = \\left( 1 + \\dfrac{p}{100} \\right)^n x_{0}$$\n",
    "\n",
    "En lugar de derivar primero una fórmula para $x_n$ y luego programar esta fórmula, podemos atacar el modelo fundamental en un programa `growth_years(x_0, p , n)` y calcular $x_1$, $x_2$, y así sucesivamente en un ciclo:"
   ]
  },
  {
   "cell_type": "code",
   "execution_count": 1,
   "metadata": {},
   "outputs": [],
   "source": [
    "import numpy as np\n",
    "import matplotlib.pyplot as plt"
   ]
  },
  {
   "cell_type": "code",
   "execution_count": 3,
   "metadata": {},
   "outputs": [
    {
     "data": {
      "text/plain": [
       "array([0., 0., 0., 0., 0.])"
      ]
     },
     "execution_count": 3,
     "metadata": {},
     "output_type": "execute_result"
    }
   ],
   "source": [
    "np.zeros(5)"
   ]
  },
  {
   "cell_type": "code",
   "execution_count": 4,
   "metadata": {},
   "outputs": [],
   "source": [
    "def growth_years(x0 = 100, p = 5, n = 10): \n",
    "    \"\"\" This function calculate interest rates\n",
    "    x0 is initial amount\n",
    "    p is interest rate\n",
    "    n is number of years \"\"\"\n",
    "    \n",
    "    gain = np.zeros(n)\n",
    "    gain[0] = x0\n",
    "    i = 1\n",
    "    \n",
    "    while i < n:\n",
    "        gain[i] = gain[i - 1] + (p/100.0)*gain[i - 1]\n",
    "        i += 1\n",
    "    \n",
    "    return gain\n",
    "    "
   ]
  },
  {
   "cell_type": "code",
   "execution_count": 7,
   "metadata": {},
   "outputs": [
    {
     "name": "stdout",
     "output_type": "stream",
     "text": [
      "[ 100.          105.          110.25        115.7625      121.550625\n",
      "  127.62815625  134.00956406  140.71004227  147.74554438  155.1328216\n",
      "  162.88946268  171.03393581  179.5856326   188.56491423  197.99315994\n",
      "  207.89281794  218.28745884  229.20183178  240.66192337  252.69501954\n",
      "  265.32977051  278.59625904  292.52607199  307.15237559  322.50999437\n",
      "  338.63549409  355.56726879  373.34563223  392.01291385  411.61355954\n",
      "  432.19423752  453.80394939  476.49414686  500.3188542   525.33479691\n",
      "  551.60153676  579.1816136   608.14069428  638.54772899  670.47511544\n",
      "  703.99887121  739.19881477  776.15875551  814.96669329  855.71502795\n",
      "  898.50077935  943.42581832  990.59710923 1040.12696469 1092.13331293]\n"
     ]
    }
   ],
   "source": [
    "x = growth_years(n=50)\n",
    "print(x)"
   ]
  },
  {
   "cell_type": "code",
   "execution_count": 8,
   "metadata": {},
   "outputs": [
    {
     "data": {
      "image/png": "[encoded data removed]",
      "text/plain": [
       "<Figure size 432x288 with 1 Axes>"
      ]
     },
     "metadata": {
      "needs_background": "light"
     },
     "output_type": "display_data"
    }
   ],
   "source": [
    "plt.plot(x,'r')\n",
    "plt.xlabel('años')\n",
    "plt.ylabel('Cantidad', rotation = 65)\n",
    "plt.grid()\n",
    "plt.show()"
   ]
  },
  {
   "cell_type": "markdown",
   "metadata": {},
   "source": [
    "Los programadores de programas matemático que estén capacitados para hacer programas más eficientes notarán que no es necesario almacenar todos los valores de $x_n$ en un arreglo o usar una lista con todos los índices $0,1, ..., N$. Solo un entero para el índice y dos flotantes para $x_n$ y $x_n − 1$ son estrictamente necesarios. Esto puede ahorrar bastante memoria para valores grandes de $N$.\n",
    "\n",
    "Supongamos ahora que estamos interesados en calcular el crecimiento del dinero después de $N$ días. La tasa de interés por día se toma como $r = \\frac{p}{D}$ si $p$ es la tasa de interés anual y $D$ es el número de días en un año. El modelo fundamental es el mismo, pero ahora $n$ cuenta los días y $p$ se reemplaza por $r$:\n",
    "\n",
    "$$ x_{n} = x_{n-1} + \\dfrac{r}{100}x_{n-1}$$\n",
    "\n",
    "\n",
    "Un método común en los negocios internacionales es elegir $D = 360$, pero dejemos que $n$ cuente el número exacto de días entre dos fechas. Python tiene un módulo de fecha y hora para realizar cálculos convenientes con fechas y horas. Para encontrar el número de días entre dos fechas, realizamos las siguientes operaciones:"
   ]
  },
  {
   "cell_type": "code",
   "execution_count": null,
   "metadata": {},
   "outputs": [],
   "source": [
    "import datetime"
   ]
  },
  {
   "cell_type": "code",
   "execution_count": null,
   "metadata": {},
   "outputs": [],
   "source": [
    "date1 = datetime.date(2020, 8, 17) # Aug 17, 2020\n",
    "print(date1)"
   ]
  },
  {
   "cell_type": "code",
   "execution_count": null,
   "metadata": {},
   "outputs": [],
   "source": [
    "date2 = datetime.date(2021, 8, 17) # Aug 20, 2020\n",
    "print(date2)"
   ]
  },
  {
   "cell_type": "code",
   "execution_count": null,
   "metadata": {},
   "outputs": [],
   "source": [
    "diff = date2 - date1\n",
    "print(diff.days)"
   ]
  },
  {
   "cell_type": "code",
   "execution_count": null,
   "metadata": {},
   "outputs": [],
   "source": [
    "def growth_years(x0 = 100, p = 5, date1 = datetime.date(2020, 8, 17), \n",
    "                 date2 = datetime.date(2030, 8, 17)): \n",
    "    \"\"\"This function calculate interest rates\n",
    "    x0 is initial amount\n",
    "    p is interest rate\n",
    "    \"\"\"\n",
    "    \n",
    "    \n",
    "    r = p/360.0\n",
    "    diff = date2 - date1\n",
    "    N = diff.days\n",
    "    gain = np.zeros(N)\n",
    "    gain[0] = x0\n",
    "    i = 1\n",
    "    \n",
    "    while i < N:\n",
    "        gain[i] = gain[i - 1] + (r/100.0)*gain[i - 1]\n",
    "        i += 1\n",
    "    \n",
    "    return gain\n",
    "    "
   ]
  },
  {
   "cell_type": "code",
   "execution_count": null,
   "metadata": {},
   "outputs": [],
   "source": [
    "x = growth_years()\n",
    "#print(x)"
   ]
  },
  {
   "cell_type": "code",
   "execution_count": null,
   "metadata": {},
   "outputs": [],
   "source": [
    "plt.plot(x,'r')\n",
    "plt.xlabel('días')\n",
    "plt.ylabel('Cantidad', rotation = 65)\n",
    "plt.grid()\n",
    "plt.show()"
   ]
  },
  {
   "cell_type": "markdown",
   "metadata": {},
   "source": [
    "### 1.1.2 El factorial como una ecuación en diferencia "
   ]
  },
  {
   "cell_type": "markdown",
   "metadata": {},
   "source": [
    "La ecuación en diferencias:\n",
    "\n",
    "$$x_n = nx_{n−1}, \\quad x_0 = 1$$\n",
    "\n",
    "se puede resolver de forma recursiva:\n",
    "\n",
    "\\begin{align*} \n",
    "x_n &=  nx_{n-1} \\\\ \n",
    "    &=  n(n-1)x_{n-2} \\\\\n",
    "    & \\vdots \\\\\n",
    "    &=  n(n-1)\\cdots 1 \\\\\n",
    "\\end{align*}\n",
    "\n",
    "El resultado $x_n$ no es más que el factorial de $n$, denotado como $n!$."
   ]
  },
  {
   "cell_type": "markdown",
   "metadata": {},
   "source": [
    "### 1.1.3 Números de Fibonacci"
   ]
  },
  {
   "cell_type": "markdown",
   "metadata": {},
   "source": [
    "Los famosos números de Fibonacci se generan de la siguiente ecuación en diferencias:\n",
    "\n",
    "$$x_n =x_{n−1} + x_{n−2}, \\quad x_0 = 1, \\quad x_1 =1 , \\quad n = 2,3,\\dots$$\n",
    "\n",
    "Esta ecuación tiene una relación entre tres elementos en la secuencia, no solo dos como en los otros ejemplos que hemos visto. Decimos que esta es una ecuación en diferencias de segundo orden, mientras que los ejemplos anteriores que involucran dos $n$ niveles se dice que son ecuaciones en diferencias de primer orden.\n",
    "\n",
    "La caracterización precisa de la ecuación anterios es una ecuación en diferencias homogénea de segundo orden. Tal clasificación no es importante cuando se calcula la solución en un programa, pero para los métodos de solución matemática con lápiz y papel, la clasificación ayuda a determinar qué técnica matemática usar para resolver el problema."
   ]
  },
  {
   "cell_type": "code",
   "execution_count": null,
   "metadata": {},
   "outputs": [],
   "source": [
    "N = 20\n",
    "x = np.zeros(N + 1, int)\n",
    "\n",
    "x[0] = 1\n",
    "x[1] = 1\n",
    "for n in range(2, N+1):\n",
    "    x[n] = x[n - 1] + x[n - 2] \n",
    "    print(f'x_{n}=',x[n])"
   ]
  },
  {
   "cell_type": "markdown",
   "metadata": {},
   "source": [
    "### 1.1.4 Crecimiento de una población "
   ]
  },
  {
   "cell_type": "markdown",
   "metadata": {},
   "source": [
    "Sea $x_{n − 1}$ el número de individuos de una población en el tiempo $t_{n − 1}$. La población puede estar formada por humanos, animales, células o cualquier objeto donde el número de nacimientos y muertes sea proporcional al número de individuos. Entre los tiempo $t_{n − 1}$ y $t_{n}$, nacen $bx_n$ individuos y mueren $dx_n$ individuos, donde $b$ y $d$ son constantes. El crecimiento neto de la población es entonces $(b - d)x_n$. Introduciendo $r = (b - d)100$ para el factor de crecimiento neto medido en porcentaje, el nuevo número de individuos se convierte en\n",
    "\n",
    "$$x_n = x_{n−1} + \\dfrac{r}{100}x_{n−1}$$\n",
    "\n",
    "Ésta es la misma ecuación en diferencias que la tasa de intéres. Modela el crecimiento de las poblaciones bastante bien siempre que existan condiciones óptimas de crecimiento para cada individuo.\n",
    "\n",
    "Para resolver necesitamos comenzar con una condición inicial $x_0$ del tamañp de la población. Los parámetros $b$ y $d$ dependen de la diferencia de tiempo $t_n - t_{n − 1}$, es decir, los valores de $b$ y $d$ son más pequeños si $n$ se cuenta en años que si $n$ se cuenta en generaciones."
   ]
  },
  {
   "cell_type": "markdown",
   "metadata": {},
   "source": [
    "### 1.1.5 Crecimiento logístico "
   ]
  },
  {
   "cell_type": "markdown",
   "metadata": {},
   "source": [
    "El módelo para el crecimiento de una población conduce a un aumento exponencial en el número de individuos como lo implica la solución de ` growth_years()`. El tamaño de la población aumenta cada vez más rápido a medida que aumenta el tiempo, y $x_n \\to \\infty$ cuando $n \\to \\infty$. En la vida real, sin embargo, existe un cota superior $M$ del número de individuos que pueden existir en el medio ambiente al mismo tiempo. La falta de espacio y comida, la competencia entre individuos, depredadores y la propagación de enfermedades contagiosas son ejemplos de factores que limitan el crecimiento. El número $M$ generalmente se denomina *capacidad de carga del medio ambiente*, la población máxima que es sostenible en el tiempo. Con un crecimiento limitado, el factor de crecimiento $r$ debe depender del tiempo:\n",
    "\n",
    "$$x_n = x_{n−1} + \\dfrac{r(n − 1)}{100}x_{n−1}$$\n",
    "\n",
    "Al comienzo del proceso de crecimiento, hay suficientes recursos y el crecimiento es exponencial, pero cuando $x_n$ se acerca a $M$, el crecimiento se detiene y $r$ debe tender a cero. Una función simple $r(n)$ con estas propiedades es:\n",
    "\n",
    "\n",
    "$$ r(n) = \\rho \\left( 1 -  \\dfrac{x_n}{M}\\right)$$\n",
    "\n",
    "\n",
    "Para $n$ pequeño, $x_n << M$ y $r(n) \\approx \\rho$, que es la tasa de crecimiento con\n",
    "recursos ilimitados. Como $n \\to M$, $r(n) \\to 0$ tanto como queramos. A la ecuación $r(n) = \\rho \\left( 1 -  \\dfrac{x_n}{M}\\right)$ describe un modelo para el crecimiento logístico, mientras que la ecuación en diferencias logística correspondiente se convierte en:\n",
    "\n",
    "\n",
    "$$x_n = x_{n−1} + \\dfrac{\\rho}{100} x_{n+1} \\left( 1 - \\dfrac{x_{n − 1}}{M} \\right)$$\n",
    "\n",
    "A continuación se muestra un programa `growth_logistic()` para simular `n = 200` intervalos de tiempo en un caso en el que comenzamos con `x0 = 100` individuos capacidad de carga `M = 500`, y una tasa de crecimiento inicial de `rho = 4` por ciento en cada intervalo de tiempo:"
   ]
  },
  {
   "cell_type": "code",
   "execution_count": null,
   "metadata": {},
   "outputs": [],
   "source": [
    "def growth_logistic(x0 = 100, n = 300, M = 500, rho = 4):\n",
    "    \"\"\" \n",
    "    x0 is initial amount of individuals\n",
    "    M carrying capacity\n",
    "    n is number of time intervals\n",
    "    rho is initial growth rate in percent\n",
    "    \"\"\"\n",
    "    \n",
    "    x = np.zeros(n)\n",
    "    x[0] = x0\n",
    "    \n",
    "    for i in range(1, n):\n",
    "        x[i] = x[i - 1] + (rho/100.0)*x[i - 1]*(1 - x[i - 1]/M) \n",
    "        \n",
    "    return x"
   ]
  },
  {
   "cell_type": "code",
   "execution_count": null,
   "metadata": {},
   "outputs": [],
   "source": [
    "x = growth_logistic()"
   ]
  },
  {
   "cell_type": "code",
   "execution_count": null,
   "metadata": {},
   "outputs": [],
   "source": [
    "plt.plot(x,'r')\n",
    "plt.xlabel('time units')\n",
    "plt.ylabel('noumbers of individuals')\n",
    "plt.grid()\n",
    "plt.show()"
   ]
  },
  {
   "cell_type": "markdown",
   "metadata": {},
   "source": [
    "El crecimiento se estabiliza cuando $n \\to \\infty$, esto significa que $x_n = x_{n − 1}$. Entonces la ecuación se reduce a:\n",
    "\n",
    "$$x_n = x_{n} + \\dfrac{\\rho}{100} x_{n} \\left( 1 - \\dfrac{x_{n}}{M} \\right)$$\n",
    "\n",
    "Ahora si consideramos $x_n = M$ vemos que esta solución satisface la ecuación. La misma técnica de solución (es decir, establecer $x_n = x_{n − 1}$) se puede usar para verificar si $x_n$ en una ecuación en diferencias se acerca a un límite o no.\n",
    "\n",
    "En el caso presente podemos escalar $x_n$ por $M$ e introducir una nueva variable, $$y_{n} = \\dfrac{x_n}{M}$$\n",
    "\n",
    "De manera similar, $x_0$ se reemplaza por $y_0 = \\dfrac{x_0}{M}$, e innsertar $x_n = My_n$ en la ecuación anterior por lo que se tiene:\n",
    "\n",
    "$$y_n = y_{n−1} + qy_{n−1} (1 − y_{n−1}) ,$$\n",
    "\n",
    "donde $q = \\dfrac{\\rho}{100}$."
   ]
  },
  {
   "cell_type": "markdown",
   "metadata": {},
   "source": [
    "### 1.1.6 Método de Newton"
   ]
  },
  {
   "cell_type": "markdown",
   "metadata": {},
   "source": [
    "La ecuación en diferencia\n",
    "\n",
    "$$x_n = x_{n−1} - \\dfrac{f(x_{n−1})}{ f'(x_{n−1})}, \\quad \\text{ dado } x_0,$$\n",
    "\n",
    "genera una secesión $x_n$ donde, si la secesión converge (es decir, si $x_n - x_{n − 1} \\to 0$), cuando x_{n} se acerca a una raíz de $f(x)$. Es decir, $x_n \\to x$, donde $x$ satisface $f(x) = 0$.\n",
    "\n",
    "La ecuación en diferencias es el *método de Newton* para resolver ecuaciones algebraicas no lineales. Cuando $f(x)$ no es lineal, es decir, $f(x)$ no tiene la forma $ax + b$ con constantes $a$ y $b$, entonces la ecuación en diferecias se convierte en una ecuación en diferencias no lineal. Esto complica el tratamiento analítico de las ecuaciones en diferencias, pero no plantea dificultades adicionales para la solución numérica.\n",
    "\n",
    "Podemos esbozar rápidamente la derivación de método de Newton. Supongamos que queremos resolver la ecuación: $$f(x) = 0$$\n",
    "\n",
    "y que ya tenemos una solución aproximada $x_{n − 1}$. Si $f(x)$ fuera lineal, $f(x) = ax + b$, sería muy fácil resolver $f(x) = 0: x = −b/a$\n",
    "\n",
    "Por tanto, la idea es aproximar $f(x)$ en la vecindad de $x = x_{n − 1}$, por una función lineal, es decir, una línea recta $f(x) \\approx \\tilde{f}(x) = ax + b$. Esta línea debe tener la misma pendiente que $f(x$), es decir, $a = f'(x_{n − 1})$, y tanto la línea como $f$ deben tener el mismo valor en $x = x_{n − 1}$. A partir de esta condición, se puede encontrar $b = f(x_{n − 1}) - x_{n − 1}f'(x_{n − 1})$. La función aproximada (línea) es entonces:\n",
    "\n",
    "$$\\tilde{f}(x)f(x_{n-1}) + f'(x_{n-1})(x - x_{n-1})$$\n",
    "\n",
    "Esta expresión son solo los dos primeros términos de una aproximación de la serie de Taylor a $f(x)$ en $x = x_{n − 1}$. Ahora es fácil resolver $\\tilde{f}(x) = 0$ con respecto a $x$, y obtenemos:\n",
    "\n",
    "$$x = x_{n−1} - \\dfrac{f(x_{n−1})}{ f'(x_{n−1})}$$\n",
    "\n",
    "Dado que $\\tilde{f}$ es solo una aproximación de $f$, $x$ en la ecuación anterior es solo una aproximación a una raíz de $f(x) = 0$. Con suerte, la aproximación es mejor que $x_{n − 1}$, por lo que establecemos $x_n = x$ como el siguiente término en una sucesión que esperamos converja a la raíz correcta. Sin embargo, la convergencia depende en gran medida de la forma de $f(x)$ y no hay garantía de que el método funcione.\n",
    "\n",
    "Aquí hay una primera implementación aproximada del método:"
   ]
  },
  {
   "cell_type": "code",
   "execution_count": 1,
   "metadata": {},
   "outputs": [],
   "source": [
    "import numpy as np\n",
    "import matplotlib.pyplot as plt"
   ]
  },
  {
   "cell_type": "code",
   "execution_count": 3,
   "metadata": {},
   "outputs": [],
   "source": [
    "def my_newton(f, x, dfdx, epsilon = 2.0E-8, N = 100): \n",
    "    n = 0\n",
    "    \n",
    "    while abs(f(x)) > epsilon and n <= N: \n",
    "        x = x - f(x)/dfdx(x)\n",
    "        n += 1\n",
    "        \n",
    "    return x, f(x), n"
   ]
  },
  {
   "cell_type": "markdown",
   "metadata": {},
   "source": [
    "$$f(x) = x\\sin(x) + 2$$\n",
    "\n",
    "$$f'(x) = \\sin(x) +x\\cos(x)$$"
   ]
  },
  {
   "cell_type": "code",
   "execution_count": 4,
   "metadata": {},
   "outputs": [],
   "source": [
    "f = lambda x : x*np.sin(x) + 2\n",
    "df = lambda x : np.sin(x) + x*np.cos(x)  "
   ]
  },
  {
   "cell_type": "code",
   "execution_count": 5,
   "metadata": {},
   "outputs": [
    {
     "data": {
      "text/plain": [
       "3.5707963267948966"
      ]
     },
     "execution_count": 5,
     "metadata": {},
     "output_type": "execute_result"
    }
   ],
   "source": [
    "np.pi/2 + 2"
   ]
  },
  {
   "cell_type": "code",
   "execution_count": 6,
   "metadata": {},
   "outputs": [
    {
     "data": {
      "text/plain": [
       "3.5707963267948966"
      ]
     },
     "execution_count": 6,
     "metadata": {},
     "output_type": "execute_result"
    }
   ],
   "source": [
    "f(np.pi/2)"
   ]
  },
  {
   "cell_type": "code",
   "execution_count": 7,
   "metadata": {},
   "outputs": [],
   "source": [
    "x = np.linspace(-20, 20, 10001)\n",
    "y = f(x)\n",
    "yp = df(x)"
   ]
  },
  {
   "cell_type": "code",
   "execution_count": 8,
   "metadata": {},
   "outputs": [
    {
     "data": {
      "image/png": "[encoded data removed]",
      "text/plain": [
       "<Figure size 432x288 with 1 Axes>"
      ]
     },
     "metadata": {
      "needs_background": "light"
     },
     "output_type": "display_data"
    }
   ],
   "source": [
    "plt.plot(x, y, label = r'$f(x) = x\\sin(x) + 2$')\n",
    "plt.plot(x, yp, label = r\"$f'(x) = \\sin(x) + x\\cos(x)$\")\n",
    "plt.legend()\n",
    "plt.grid()"
   ]
  },
  {
   "cell_type": "code",
   "execution_count": 19,
   "metadata": {},
   "outputs": [],
   "source": [
    "seed = 0.4"
   ]
  },
  {
   "cell_type": "code",
   "execution_count": 20,
   "metadata": {},
   "outputs": [],
   "source": [
    "out = my_newton(f, seed, df)"
   ]
  },
  {
   "cell_type": "code",
   "execution_count": 21,
   "metadata": {},
   "outputs": [
    {
     "data": {
      "text/plain": [
       "(-5.939760466135027, 4.6629367034256575e-15, 7)"
      ]
     },
     "execution_count": 21,
     "metadata": {},
     "output_type": "execute_result"
    }
   ],
   "source": [
    "out"
   ]
  },
  {
   "cell_type": "code",
   "execution_count": 22,
   "metadata": {},
   "outputs": [
    {
     "data": {
      "text/plain": [
       "-5.939760466135027"
      ]
     },
     "execution_count": 22,
     "metadata": {},
     "output_type": "execute_result"
    }
   ],
   "source": [
    "out[0]"
   ]
  },
  {
   "cell_type": "code",
   "execution_count": 23,
   "metadata": {},
   "outputs": [
    {
     "data": {
      "image/png": "[encoded data removed]",
      "text/plain": [
       "<Figure size 432x288 with 1 Axes>"
      ]
     },
     "metadata": {
      "needs_background": "light"
     },
     "output_type": "display_data"
    }
   ],
   "source": [
    "plt.plot(x, y, label = r'$f(x) = x\\sin(x) + 2$')\n",
    "plt.scatter(seed, f(seed), color = 'g',label = 'Semilla')\n",
    "plt.scatter(out[0], out[1], color = 'red',label = 'Raíz')\n",
    "#plt.plot(x, yp, label = r\"$f'(x) = \\sin(x) + x\\cos(x)$\")\n",
    "plt.legend()\n",
    "plt.grid()"
   ]
  },
  {
   "cell_type": "code",
   "execution_count": 24,
   "metadata": {},
   "outputs": [],
   "source": [
    "def my_new_newton(f, x, dfdx, epsilon=2.0E-8, N = 100): \n",
    "    \n",
    "    n = 0\n",
    "    aux = [x]\n",
    "    \n",
    "    while abs(f(x)) > epsilon and n <= N: \n",
    "        x = x - f(x)/dfdx(x)\n",
    "        #print(x)\n",
    "        aux.append(x)\n",
    "        n += 1\n",
    "    \n",
    "    \n",
    "    return aux\n",
    "    "
   ]
  },
  {
   "cell_type": "code",
   "execution_count": 26,
   "metadata": {},
   "outputs": [
    {
     "name": "stdout",
     "output_type": "stream",
     "text": [
      "[0.4, -2.4446103965844297, -5.340338069417156, -6.337521280655116, -5.9702366311487065, -5.940087973512628, -5.9397605057367535, -5.939760466135027]\n"
     ]
    }
   ],
   "source": [
    "xn = my_new_newton(f, seed, df)\n",
    "print(xn)"
   ]
  },
  {
   "cell_type": "code",
   "execution_count": 27,
   "metadata": {},
   "outputs": [],
   "source": [
    "def shitf(n, xn):\n",
    "\n",
    "    xnew = np.zeros(2*len(xn))\n",
    "    ynew = np.zeros(2*len(xn))\n",
    "    i = 0\n",
    "    j = 0\n",
    "    \n",
    "    #ynew[0] = f(xn[0])\n",
    "    while i < len(xnew):\n",
    "        if i%2 != 0:\n",
    "            ynew[i - n] = f(xn[j])\n",
    "            #print(i, j)\n",
    "            xnew[i-2] = xn[j]\n",
    "            xnew[i-1] = xn[j]\n",
    "            j += 1\n",
    "            \n",
    "            #print(ynew)\n",
    "        \n",
    "        i += 1\n",
    "         \n",
    "    xnew[-1] = xn[-1]\n",
    "    return xnew, ynew"
   ]
  },
  {
   "cell_type": "code",
   "execution_count": 28,
   "metadata": {},
   "outputs": [],
   "source": [
    "a , b =  shitf(1, xn)"
   ]
  },
  {
   "cell_type": "code",
   "execution_count": 29,
   "metadata": {},
   "outputs": [
    {
     "data": {
      "image/png": "[encoded data removed]",
      "text/plain": [
       "<Figure size 800x560 with 1 Axes>"
      ]
     },
     "metadata": {},
     "output_type": "display_data"
    }
   ],
   "source": [
    "x = np.linspace(min(xn) - 1, max(xn) + 1,1001)\n",
    "plt.figure(figsize = (10,7), dpi = 80, facecolor = \"w\", edgecolor = \"m\")\n",
    "plt.plot(x, f(x),'b' ,label = 'f(x)')\n",
    "plt.plot(x, 0*x, 'orange',label = 'f(x)')\n",
    "plt.plot(a, b,color = 'm', marker = \"*\", linestyle ='--')\n",
    "plt.scatter(xn[0], f(xn[0]), s=50, color='green')\n",
    "plt.scatter(xn[-1], f(xn[-1]),s =50 ,color='red')\n",
    "plt.title(f'Semilla {seed}')\n",
    "#plt.xlim\n",
    "plt.grid()"
   ]
  },
  {
   "cell_type": "code",
   "execution_count": null,
   "metadata": {},
   "outputs": [],
   "source": []
  },
  {
   "cell_type": "code",
   "execution_count": null,
   "metadata": {},
   "outputs": [],
   "source": []
  },
  {
   "cell_type": "code",
   "execution_count": null,
   "metadata": {},
   "outputs": [],
   "source": []
  }
 ],
 "metadata": {
  "kernelspec": {
   "display_name": "Python 3",
   "language": "python",
   "name": "python3"
  },
  "language_info": {
   "codemirror_mode": {
    "name": "ipython",
    "version": 3
   },
   "file_extension": ".py",
   "mimetype": "text/x-python",
   "name": "python",
   "nbconvert_exporter": "python",
   "pygments_lexer": "ipython3",
   "version": "3.6.5"
  }
 },
 "nbformat": 4,
 "nbformat_minor": 2
}
