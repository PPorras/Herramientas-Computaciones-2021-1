{
 "cells": [
  {
   "cell_type": "markdown",
   "metadata": {},
   "source": [
    "* [1. Leer y escribir archivos](#1.-Leer-y-escribir-archivos)\n",
    "    * [1.1 Referencias a archivos](#1.1-Referencias-a-archivos)\n",
    "    * [1.2 Leer archivos](#1.2-Leer-archivos)\n",
    "    * [1.3 Iteración del contenido del archivo ](#1.3-Iteración-del-contenido-del-archivo)\n",
    "    * [1.4 Escribir datos en archivos ](#1.4-Escribir-datos-en-archivos)\n",
    "    * [1.5 Uso de archivos y declaraciones](#1.5-Uso-de-archivos-y-declaraciones)\n",
    "    * [1.6 Renombrar archivos](#1.6-Renombrar-archivos)\n",
    "    * [1.7 Eliminar archivos](#1.7-Eliminar-archivos)"
   ]
  },
  {
   "cell_type": "markdown",
   "metadata": {},
   "source": [
    "# 1. Leer y escribir archivos"
   ]
  },
  {
   "cell_type": "markdown",
   "metadata": {},
   "source": [
    "Leer y escribir datos en un archivo es muy común en muchos programas. Python proporciona una gran cantidad de soporte para trabajar con archivos de varios tipos. Este note se le presenta la funcionalidad de escribir y leer un archivo en Python."
   ]
  },
  {
   "cell_type": "markdown",
   "metadata": {},
   "source": [
    "## 1.1 Referencias a archivos "
   ]
  },
  {
   "cell_type": "markdown",
   "metadata": {},
   "source": [
    "Leer y escribir en archivos de texto en Python es relativamente sencillo. La función incorporada `open()` crea un objeto de archivo que se puede usar para leer y / o escribir datos desde y / o hacia un archivo.\n",
    "\n",
    "La función requiere como mínimo el nombre del archivo con el que desea trabajar\n",
    "\n",
    "Opcionalmente, puede especificar el modo de acceso (por ejemplo, leer, escribir, agregar, etc.). Si no especifica un modo, el archivo está abierto en modo de solo lectura. También puede especificar si desea que se integren las interacciones con el archivo, lo que puede mejorar el rendimiento al agrupar las lecturas de datos.\n",
    "\n",
    "La sintaxis para la función `open()` es:\n",
    "\n",
    "```python\n",
    "file_object = open(file_name, access_mode, buffering)```\n",
    "\n",
    "donde:\n",
    "\n",
    "* `file_name` indica el archivo a acceder\n",
    "* `access_mode` determina el modo en el que se encuentra el archivo para abrir, es decir, leer, escribir, agregar, etc. A continuación, en la tabla, se proporciona una lista completa de los posibles valores. Este es un parámetro opcional y el modo de acceso al archivo predeterminado es read `r`.\n",
    "* `buffering`. Si el valor de almacenamiento `buffering` se establece en 0, no tiene lugar el almacenamiento . Si el valor de almacenamiento en `buffering` es 1, el almacenamiento en línea se realiza al acceder a un archivo."
   ]
  },
  {
   "cell_type": "markdown",
   "metadata": {},
   "source": [
    "|Modo |                            Descripción                                       |\n",
    "|-----|------------------------------------------------------------------------------|\n",
    "| `r` |Abre un archivo para lectura solamente                                        |\n",
    "| `rb`|Abre un archivo para leer solo en formato binario                             |\n",
    "| `r+`|Abre un archivo para leer y escribir                                          |\n",
    "|`rb+`|Abre un archivo para leer y escribir en formato binario                       |\n",
    "| `w` |Abre un archivo sólo para escribi. Sobrescribe el archivo si el archivo existe|\n",
    "| `wb`|Abre un archivo sólo para escribir en formato binario. Sobrescribe el archivo si existe|\n",
    "| `w+`|Abre un archivo para escribir y leer. Sobrescribe el archivo existente si el archivo existe.|\n",
    "|`wb+`|Abre un archivo para escribir y leer en formato binario. Sobrescribe el archivo existente si el archivo existe|\n",
    "| `a` |Abre un archivo para anexar                                                    |\n",
    "| `ab`|Abre un archivo para anexar en formato binario                              |\n",
    "| `a+`|Abre un archivo para anexar y leer.|\n",
    "|`ab+`|Abre un archivo para agregar y leer en formato binario.|\n"
   ]
  },
  {
   "cell_type": "markdown",
   "metadata": {},
   "source": [
    "El objeto `file` tiene varios atributos útiles, como:\n",
    "\n",
    "* `file.closed()` devuelve `True` si el archivo se ha cerrado.\n",
    "* `file.mode()` devuelve el modo de acceso con el que se abrió el archivo.\n",
    "* `file.name()`. El nombre del archivo\n",
    "\n",
    "El siguiente fragmento de código corto ilustra las ideas anteriores:"
   ]
  },
  {
   "cell_type": "code",
   "execution_count": 4,
   "metadata": {},
   "outputs": [],
   "source": [
    "file = open('myfile.txt', 'r+')"
   ]
  },
  {
   "cell_type": "code",
   "execution_count": 5,
   "metadata": {},
   "outputs": [
    {
     "data": {
      "text/plain": [
       "<_io.TextIOWrapper name='myfile.txt' mode='r+' encoding='UTF-8'>"
      ]
     },
     "execution_count": 5,
     "metadata": {},
     "output_type": "execute_result"
    }
   ],
   "source": [
    "file"
   ]
  },
  {
   "cell_type": "code",
   "execution_count": 6,
   "metadata": {},
   "outputs": [
    {
     "name": "stdout",
     "output_type": "stream",
     "text": [
      "file.name: myfile.txt\n"
     ]
    }
   ],
   "source": [
    "print('file.name:', file.name) "
   ]
  },
  {
   "cell_type": "code",
   "execution_count": 7,
   "metadata": {},
   "outputs": [
    {
     "name": "stdout",
     "output_type": "stream",
     "text": [
      "file.closed: False\n"
     ]
    }
   ],
   "source": [
    "print('file.closed:', file.closed)"
   ]
  },
  {
   "cell_type": "code",
   "execution_count": 8,
   "metadata": {},
   "outputs": [
    {
     "name": "stdout",
     "output_type": "stream",
     "text": [
      "file.mode: r+\n"
     ]
    }
   ],
   "source": [
    "print('file.mode:', file.mode)"
   ]
  },
  {
   "cell_type": "code",
   "execution_count": 9,
   "metadata": {},
   "outputs": [],
   "source": [
    "file.close()"
   ]
  },
  {
   "cell_type": "code",
   "execution_count": 10,
   "metadata": {},
   "outputs": [
    {
     "name": "stdout",
     "output_type": "stream",
     "text": [
      "file.closed: True\n"
     ]
    }
   ],
   "source": [
    "print('file.closed:', file.closed)"
   ]
  },
  {
   "cell_type": "code",
   "execution_count": 11,
   "metadata": {},
   "outputs": [
    {
     "name": "stdout",
     "output_type": "stream",
     "text": [
      "file.name: myfile.txt\n",
      "file.closed: False\n",
      "file.mode: r+\n"
     ]
    }
   ],
   "source": [
    "file = open('myfile.txt', 'r+') \n",
    "print('file.name:', file.name) \n",
    "print('file.closed:', file.closed) \n",
    "print('file.mode:', file.mode) \n",
    "file.close()"
   ]
  },
  {
   "cell_type": "markdown",
   "metadata": {},
   "source": [
    "## 1.2 Leer archivos "
   ]
  },
  {
   "cell_type": "markdown",
   "metadata": {},
   "source": [
    "Habiendo configurado un objeto `file`, queremos poder acceder al contenido del archivo o escribir datos en ese archivo (o hacer ambas cosas). La lectura de datos de un archivo de texto es compatible con los métodos `read()`, `readline()` y `readlines()`:\n",
    "\n",
    "* El método `read()`. Este método devolverá todo el contenido del archivo como una sola cadena.\n",
    "* El método `readline()` lee la siguiente línea de texto de un archivo. Devuelve todo el texto en una línea hasta e incluyendo el carácter de nueva línea. Se puede usar para leer un archivo línea por línea.\n",
    "* El método `readlines()` devuelve una lista de todas las líneas de un archivo, donde cada elemento de la lista representa una sola línea.\n",
    "\n",
    "Tenga en cuenta que una vez que haya leído parte del texto de un archivo utilizando una de las operaciones anteriores, esa línea no se volverá a leer. Por lo tanto, el uso de `readlines()` daría como resultado que `readlines()` devuelva una lista vacía, independientemente del contenido del archivo\n",
    "\n",
    "A continuación se ilustra el uso del método `readlines()` para leer todo el texto de un archivo de texto en un programa y luego imprimir cada línea a su vez:"
   ]
  },
  {
   "cell_type": "code",
   "execution_count": 12,
   "metadata": {},
   "outputs": [
    {
     "name": "stdout",
     "output_type": "stream",
     "text": [
      "['Nel mezzo del cammin di nostra vita\\n', 'mi ritrovai per una selva oscura\\n', 'ché la diritta via era smarrita.\\n', '\\n', 'Ahi quanto a dir qual era è cosa dura\\n', 'esta selva selvaggia e aspra e forte\\n', 'che nel pensier rinova la paura!\\n', '\\n', \"Tant'è amara che poco è più morte;\\n\", \"ma per trattar del ben ch'i' vi trovai,\\n\", \"dirò de l'altre cose ch'i' v'ho scorte.\\n\", '\\n', \"Io non so ben ridir com'i' v'intrai,\\n\", \"tant'era pien di sonno a quel punto\\n\", 'che la verace via abbandonai.\\n', '\\n', \"Ma poi ch'i' fui al piè d'un colle giunto,\\n\", 'là dove terminava quella valle\\n', \"che m'avea di paura il cor compunto,\\n\", '\\n', 'guardai in alto, e vidi le sue spalle\\n', \"vestite già de' raggi del pianeta\\n\", 'che mena dritto altrui per ogne calle.\\n', '\\n', 'Allor fu la paura un poco queta\\n', \"che nel lago del cor m'era durata\\n\", \"la notte ch'i' passai con tanta pieta.\\n\", '\\n', 'E come quei che con lena affannata\\n', 'uscito fuor del pelago a la riva\\n', \"si volge a l'acqua perigliosa e guata,\\n\", '\\n', \"così l'animo mio, ch'ancor fuggiva,\\n\", 'si volse a retro a rimirar lo passo\\n', 'che non lasciò già mai persona viva.']\n",
      "\n",
      "\n",
      "Nel mezzo del cammin di nostra vita\n",
      "mi ritrovai per una selva oscura\n",
      "ché la diritta via era smarrita.\n",
      "\n",
      "Ahi quanto a dir qual era è cosa dura\n",
      "esta selva selvaggia e aspra e forte\n",
      "che nel pensier rinova la paura!\n",
      "\n",
      "Tant'è amara che poco è più morte;\n",
      "ma per trattar del ben ch'i' vi trovai,\n",
      "dirò de l'altre cose ch'i' v'ho scorte.\n",
      "\n",
      "Io non so ben ridir com'i' v'intrai,\n",
      "tant'era pien di sonno a quel punto\n",
      "che la verace via abbandonai.\n",
      "\n",
      "Ma poi ch'i' fui al piè d'un colle giunto,\n",
      "là dove terminava quella valle\n",
      "che m'avea di paura il cor compunto,\n",
      "\n",
      "guardai in alto, e vidi le sue spalle\n",
      "vestite già de' raggi del pianeta\n",
      "che mena dritto altrui per ogne calle.\n",
      "\n",
      "Allor fu la paura un poco queta\n",
      "che nel lago del cor m'era durata\n",
      "la notte ch'i' passai con tanta pieta.\n",
      "\n",
      "E come quei che con lena affannata\n",
      "uscito fuor del pelago a la riva\n",
      "si volge a l'acqua perigliosa e guata,\n",
      "\n",
      "così l'animo mio, ch'ancor fuggiva,\n",
      "si volse a retro a rimirar lo passo\n",
      "che non lasciò già mai persona viva."
     ]
    }
   ],
   "source": [
    "f = open('myfile.txt', 'r') \n",
    "lines = f.readlines()\n",
    "print(lines)\n",
    "print('\\n')\n",
    "for l in lines:\n",
    "    print(l, end='') \n",
    "file.close()"
   ]
  },
  {
   "cell_type": "markdown",
   "metadata": {},
   "source": [
    "Observe que dentro del ciclo `for` hemos indicado a la función `print()` que queremos que el carácter final sea `''` en lugar de una nueva línea; Esto se debe a que la cadena de línea ya posee el carácter de nueva línea leído del archivo."
   ]
  },
  {
   "cell_type": "markdown",
   "metadata": {},
   "source": [
    "## 1.3 Iteración del contenido del archivo "
   ]
  },
  {
   "cell_type": "markdown",
   "metadata": {},
   "source": [
    "Como sugiere el ejemplo anterior; Es muy común querer procesar el contenido de un archivo línea por línea. De hecho, Python hace esto extremadamente fácil al hacer que el objeto del archivo soporte la iteración. La iteración de archivo accede a cada línea del archivo y hace que esa línea esté disponible para el ciclo `for`. Por lo tanto, podemos escribir:"
   ]
  },
  {
   "cell_type": "code",
   "execution_count": 13,
   "metadata": {},
   "outputs": [
    {
     "name": "stdout",
     "output_type": "stream",
     "text": [
      "Nel mezzo del cammin di nostra vita\n",
      "mi ritrovai per una selva oscura\n",
      "ché la diritta via era smarrita.\n",
      "\n",
      "Ahi quanto a dir qual era è cosa dura\n",
      "esta selva selvaggia e aspra e forte\n",
      "che nel pensier rinova la paura!\n",
      "\n",
      "Tant'è amara che poco è più morte;\n",
      "ma per trattar del ben ch'i' vi trovai,\n",
      "dirò de l'altre cose ch'i' v'ho scorte.\n",
      "\n",
      "Io non so ben ridir com'i' v'intrai,\n",
      "tant'era pien di sonno a quel punto\n",
      "che la verace via abbandonai.\n",
      "\n",
      "Ma poi ch'i' fui al piè d'un colle giunto,\n",
      "là dove terminava quella valle\n",
      "che m'avea di paura il cor compunto,\n",
      "\n",
      "guardai in alto, e vidi le sue spalle\n",
      "vestite già de' raggi del pianeta\n",
      "che mena dritto altrui per ogne calle.\n",
      "\n",
      "Allor fu la paura un poco queta\n",
      "che nel lago del cor m'era durata\n",
      "la notte ch'i' passai con tanta pieta.\n",
      "\n",
      "E come quei che con lena affannata\n",
      "uscito fuor del pelago a la riva\n",
      "si volge a l'acqua perigliosa e guata,\n",
      "\n",
      "così l'animo mio, ch'ancor fuggiva,\n",
      "si volse a retro a rimirar lo passo\n",
      "che non lasciò già mai persona viva."
     ]
    }
   ],
   "source": [
    "file = open('myfile.txt', 'r') \n",
    "\n",
    "for line in file:\n",
    "    print(line, end='')\n",
    "file.close()"
   ]
  },
  {
   "cell_type": "markdown",
   "metadata": {},
   "source": [
    "También es posible utilizar la *comprensión* de la lista para proporcionar una forma muy concisa de cargar y procesar líneas en un archivo en una lista. Es similar al efecto de `readlines()` pero ahora podemos preprocesar los datos antes de crear la lista:"
   ]
  },
  {
   "cell_type": "code",
   "execution_count": 14,
   "metadata": {},
   "outputs": [],
   "source": [
    "a = [j for j in range(0, 10)]"
   ]
  },
  {
   "cell_type": "code",
   "execution_count": 15,
   "metadata": {},
   "outputs": [
    {
     "name": "stdout",
     "output_type": "stream",
     "text": [
      "[0, 1, 2, 3, 4, 5, 6, 7, 8, 9]\n"
     ]
    }
   ],
   "source": [
    "print(a)"
   ]
  },
  {
   "cell_type": "code",
   "execution_count": 16,
   "metadata": {},
   "outputs": [
    {
     "name": "stdout",
     "output_type": "stream",
     "text": [
      "['Nel mezzo del cammin di nostra vita\\n', 'mi ritrovai per una selva oscura\\n', 'ché la diritta via era smarrita.\\n', '\\n', 'Ahi quanto a dir qual era è cosa dura\\n', 'esta selva selvaggia e aspra e forte\\n', 'che nel pensier rinova la paura!\\n', '\\n', \"Tant'è amara che poco è più morte;\\n\", \"ma per trattar del ben ch'i' vi trovai,\\n\", \"dirò de l'altre cose ch'i' v'ho scorte.\\n\", '\\n', \"Io non so ben ridir com'i' v'intrai,\\n\", \"tant'era pien di sonno a quel punto\\n\", 'che la verace via abbandonai.\\n', '\\n', \"Ma poi ch'i' fui al piè d'un colle giunto,\\n\", 'là dove terminava quella valle\\n', \"che m'avea di paura il cor compunto,\\n\", '\\n', 'guardai in alto, e vidi le sue spalle\\n', \"vestite già de' raggi del pianeta\\n\", 'che mena dritto altrui per ogne calle.\\n', '\\n', 'Allor fu la paura un poco queta\\n', \"che nel lago del cor m'era durata\\n\", \"la notte ch'i' passai con tanta pieta.\\n\", '\\n', 'E come quei che con lena affannata\\n', 'uscito fuor del pelago a la riva\\n', \"si volge a l'acqua perigliosa e guata,\\n\", '\\n', \"così l'animo mio, ch'ancor fuggiva,\\n\", 'si volse a retro a rimirar lo passo\\n', 'che non lasciò già mai persona viva.']\n"
     ]
    }
   ],
   "source": [
    "file = open('myfile.txt', 'r')\n",
    "\n",
    "lines = [line for line in file]\n",
    "\n",
    "file.close()\n",
    "\n",
    "print(lines)"
   ]
  },
  {
   "cell_type": "code",
   "execution_count": 17,
   "metadata": {},
   "outputs": [
    {
     "name": "stdout",
     "output_type": "stream",
     "text": [
      "['NEL MEZZO DEL CAMMIN DI NOSTRA VITA\\n', 'MI RITROVAI PER UNA SELVA OSCURA\\n', 'CHÉ LA DIRITTA VIA ERA SMARRITA.\\n', '\\n', 'AHI QUANTO A DIR QUAL ERA È COSA DURA\\n', 'ESTA SELVA SELVAGGIA E ASPRA E FORTE\\n', 'CHE NEL PENSIER RINOVA LA PAURA!\\n', '\\n', \"TANT'È AMARA CHE POCO È PIÙ MORTE;\\n\", \"MA PER TRATTAR DEL BEN CH'I' VI TROVAI,\\n\", \"DIRÒ DE L'ALTRE COSE CH'I' V'HO SCORTE.\\n\", '\\n', \"IO NON SO BEN RIDIR COM'I' V'INTRAI,\\n\", \"TANT'ERA PIEN DI SONNO A QUEL PUNTO\\n\", 'CHE LA VERACE VIA ABBANDONAI.\\n', '\\n', \"MA POI CH'I' FUI AL PIÈ D'UN COLLE GIUNTO,\\n\", 'LÀ DOVE TERMINAVA QUELLA VALLE\\n', \"CHE M'AVEA DI PAURA IL COR COMPUNTO,\\n\", '\\n', 'GUARDAI IN ALTO, E VIDI LE SUE SPALLE\\n', \"VESTITE GIÀ DE' RAGGI DEL PIANETA\\n\", 'CHE MENA DRITTO ALTRUI PER OGNE CALLE.\\n', '\\n', 'ALLOR FU LA PAURA UN POCO QUETA\\n', \"CHE NEL LAGO DEL COR M'ERA DURATA\\n\", \"LA NOTTE CH'I' PASSAI CON TANTA PIETA.\\n\", '\\n', 'E COME QUEI CHE CON LENA AFFANNATA\\n', 'USCITO FUOR DEL PELAGO A LA RIVA\\n', \"SI VOLGE A L'ACQUA PERIGLIOSA E GUATA,\\n\", '\\n', \"COSÌ L'ANIMO MIO, CH'ANCOR FUGGIVA,\\n\", 'SI VOLSE A RETRO A RIMIRAR LO PASSO\\n', 'CHE NON LASCIÒ GIÀ MAI PERSONA VIVA.']\n"
     ]
    }
   ],
   "source": [
    "file = open('myfile.txt', 'r')\n",
    "lines = [line.upper() for line in file] \n",
    "file.close()\n",
    "print(lines)"
   ]
  },
  {
   "cell_type": "markdown",
   "metadata": {},
   "source": [
    "## 1.4 Escribir datos en archivos "
   ]
  },
  {
   "cell_type": "markdown",
   "metadata": {},
   "source": [
    "Escribir un `string` en un archivo es compatible con el método `write()`. Por supuesto, el objeto de archivo que creamos debe tener un modo de acceso que permita la escritura como `w`. Tenga en cuenta que el método de escritura no agrega un carácter de salto de línea representado pr `'\\ n'` al final de la cadena; debe hacerlo manualmente."
   ]
  },
  {
   "cell_type": "code",
   "execution_count": 18,
   "metadata": {},
   "outputs": [],
   "source": [
    "f = open('my-new-file.txt', 'w')\n",
    "f.close()"
   ]
  },
  {
   "cell_type": "code",
   "execution_count": 19,
   "metadata": {},
   "outputs": [
    {
     "name": "stdout",
     "output_type": "stream",
     "text": [
      "Writing file\n"
     ]
    }
   ],
   "source": [
    "print('Writing file')\n",
    "f = open('my-new-file.txt', 'w') \n",
    "f.write('Hello from Python!!\\n') \n",
    "f.write('Working with files is easy...\\n')\n",
    "f.write('It is cool ...\\n')\n",
    "f.close()"
   ]
  },
  {
   "cell_type": "code",
   "execution_count": 20,
   "metadata": {},
   "outputs": [],
   "source": [
    "f = open('my-new-file.txt', 'w')\n",
    "f.write('Hello')\n",
    "f.close()"
   ]
  },
  {
   "cell_type": "markdown",
   "metadata": {},
   "source": [
    "## 1.5 Uso de archivos y declaraciones "
   ]
  },
  {
   "cell_type": "markdown",
   "metadata": {},
   "source": [
    "Como varios otros tipos donde es importante cerrar los recursos; la clase `file` implementa el Protocolo de Context Manager y, por lo tanto, se puede usar con la instrucción `with`. Por lo tanto, es común escribir código que abrirá un archivo usando la estructura `with as`, asegurando así que el archivo se cerrará cuando el bloque de código termine, por ejemplo:"
   ]
  },
  {
   "cell_type": "code",
   "execution_count": 21,
   "metadata": {},
   "outputs": [
    {
     "name": "stdout",
     "output_type": "stream",
     "text": [
      "Hello"
     ]
    }
   ],
   "source": [
    "with open('my-new-file.txt', 'r') as f:\n",
    "    lines = f.readlines() \n",
    "    for line in lines:\n",
    "        print(line, end='')"
   ]
  },
  {
   "cell_type": "markdown",
   "metadata": {},
   "source": [
    "## 1.6 Renombrar archivos "
   ]
  },
  {
   "cell_type": "markdown",
   "metadata": {},
   "source": [
    "Se puede cambiar el nombre de un archivo utilizando la función `os.rename()`. Esta función toma dos argumentos, el nombre de archivo actual y el nuevo nombre de archivo. Es parte del módulo de Python os que proporciona métodos que se pueden usar para realizar una variedad de operaciones de procesamiento de archivos (como cambiar el nombre de un archivo). Para usar el módulo, primero deberá importarlo. A continuación se muestra un ejemplo del uso de la función de cambio de nombre:\n",
    "\n",
    "```python\n",
    "import os\n",
    "os.rename('myfileoriginalname.txt',' myfilenewname.txt')```"
   ]
  },
  {
   "cell_type": "code",
   "execution_count": 22,
   "metadata": {},
   "outputs": [],
   "source": [
    "import os"
   ]
  },
  {
   "cell_type": "code",
   "execution_count": 23,
   "metadata": {},
   "outputs": [],
   "source": [
    "os.rename('my-new-file.txt','my_another_new_file.dat')"
   ]
  },
  {
   "cell_type": "markdown",
   "metadata": {},
   "source": [
    "## 1.7 Eliminar archivos"
   ]
  },
  {
   "cell_type": "markdown",
   "metadata": {},
   "source": [
    "Un archivo se puede eliminar utilizando el método `os.remove()`. Este método elimina el archivo especificado por el nombre de archivo que se le pasa. Nuevamente, es parte del módulo os y, por lo tanto, debe importarse primero:\n",
    "\n",
    "```python\n",
    "import os \n",
    "os.remove('somefilename.txt')```"
   ]
  },
  {
   "cell_type": "code",
   "execution_count": 24,
   "metadata": {},
   "outputs": [],
   "source": [
    "os.remove('my_another_new_file.dat')"
   ]
  },
  {
   "cell_type": "markdown",
   "metadata": {},
   "source": [
    "# Ejercicios "
   ]
  },
  {
   "cell_type": "markdown",
   "metadata": {},
   "source": [
    "* Usando todo lo que hemos visto hasta el momento escriba una función que reciba un numéro $n$ y genere $n$ archivos de la siguiente manera `file-n.txt`\n"
   ]
  },
  {
   "cell_type": "code",
   "execution_count": 25,
   "metadata": {},
   "outputs": [],
   "source": [
    "def names(n):\n",
    "    \n",
    "    list_names = []\n",
    "    \n",
    "    for i in range(1, n + 1):\n",
    "        aux = 'file-{}.txt'.format(i)\n",
    "        list_names.append(aux)\n",
    "        \n",
    "    return(list_names)\n",
    "    "
   ]
  },
  {
   "cell_type": "code",
   "execution_count": 26,
   "metadata": {},
   "outputs": [],
   "source": [
    "file_names = names(20)"
   ]
  },
  {
   "cell_type": "code",
   "execution_count": 27,
   "metadata": {},
   "outputs": [
    {
     "data": {
      "text/plain": [
       "['file-1.txt',\n",
       " 'file-2.txt',\n",
       " 'file-3.txt',\n",
       " 'file-4.txt',\n",
       " 'file-5.txt',\n",
       " 'file-6.txt',\n",
       " 'file-7.txt',\n",
       " 'file-8.txt',\n",
       " 'file-9.txt',\n",
       " 'file-10.txt',\n",
       " 'file-11.txt',\n",
       " 'file-12.txt',\n",
       " 'file-13.txt',\n",
       " 'file-14.txt',\n",
       " 'file-15.txt',\n",
       " 'file-16.txt',\n",
       " 'file-17.txt',\n",
       " 'file-18.txt',\n",
       " 'file-19.txt',\n",
       " 'file-20.txt']"
      ]
     },
     "execution_count": 27,
     "metadata": {},
     "output_type": "execute_result"
    }
   ],
   "source": [
    "file_names"
   ]
  },
  {
   "cell_type": "code",
   "execution_count": 28,
   "metadata": {},
   "outputs": [],
   "source": [
    "def my_files(n, mode = 'w'):\n",
    "    \n",
    "    \"\"\"Documentation\"\"\"\n",
    "    \n",
    "    my_names = names(n)\n",
    "    \n",
    "    i = 0\n",
    "    for name in my_names:\n",
    "        \n",
    "        i += 1 \n",
    "        f = open(name, mode)\n",
    "        f.write('Hello this file number ' + str(i) + '\\n')\n",
    "        f.close\n",
    "    "
   ]
  },
  {
   "cell_type": "code",
   "execution_count": 29,
   "metadata": {},
   "outputs": [],
   "source": [
    "my_files(10)"
   ]
  },
  {
   "cell_type": "code",
   "execution_count": 41,
   "metadata": {},
   "outputs": [],
   "source": [
    "import primos"
   ]
  },
  {
   "cell_type": "code",
   "execution_count": 42,
   "metadata": {},
   "outputs": [
    {
     "data": {
      "text/plain": [
       "[2,\n",
       " 3,\n",
       " 5,\n",
       " 7,\n",
       " 11,\n",
       " 13,\n",
       " 17,\n",
       " 19,\n",
       " 23,\n",
       " 29,\n",
       " 31,\n",
       " 37,\n",
       " 41,\n",
       " 43,\n",
       " 47,\n",
       " 53,\n",
       " 59,\n",
       " 61,\n",
       " 67,\n",
       " 71,\n",
       " 73,\n",
       " 79,\n",
       " 83,\n",
       " 89,\n",
       " 97]"
      ]
     },
     "execution_count": 42,
     "metadata": {},
     "output_type": "execute_result"
    }
   ],
   "source": [
    "primos.primos(100)"
   ]
  },
  {
   "cell_type": "code",
   "execution_count": 43,
   "metadata": {},
   "outputs": [
    {
     "data": {
      "text/plain": [
       "[(3, 5), (5, 7), (11, 13), (17, 19), (29, 31), (41, 43), (59, 61), (71, 73)]"
      ]
     },
     "execution_count": 43,
     "metadata": {},
     "output_type": "execute_result"
    }
   ],
   "source": [
    "primos.gemelos(100)"
   ]
  },
  {
   "cell_type": "markdown",
   "metadata": {},
   "source": [
    "* Escribir una funcion que abra los archivo que se crearon anteriormente y escriba todos los primos antes que $n$ donde es el número de archivo"
   ]
  },
  {
   "cell_type": "code",
   "execution_count": 44,
   "metadata": {},
   "outputs": [],
   "source": [
    "file_names = names(20)"
   ]
  },
  {
   "cell_type": "code",
   "execution_count": 45,
   "metadata": {},
   "outputs": [],
   "source": [
    "a = file_names[15]"
   ]
  },
  {
   "cell_type": "code",
   "execution_count": 46,
   "metadata": {},
   "outputs": [
    {
     "data": {
      "text/plain": [
       "'file-16.txt'"
      ]
     },
     "execution_count": 46,
     "metadata": {},
     "output_type": "execute_result"
    }
   ],
   "source": [
    "a"
   ]
  },
  {
   "cell_type": "code",
   "execution_count": 47,
   "metadata": {},
   "outputs": [
    {
     "data": {
      "text/plain": [
       "4"
      ]
     },
     "execution_count": 47,
     "metadata": {},
     "output_type": "execute_result"
    }
   ],
   "source": [
    "a.find('-')"
   ]
  },
  {
   "cell_type": "code",
   "execution_count": 48,
   "metadata": {},
   "outputs": [
    {
     "data": {
      "text/plain": [
       "7"
      ]
     },
     "execution_count": 48,
     "metadata": {},
     "output_type": "execute_result"
    }
   ],
   "source": [
    "a.find('.')"
   ]
  },
  {
   "cell_type": "code",
   "execution_count": 49,
   "metadata": {},
   "outputs": [
    {
     "data": {
      "text/plain": [
       "'16'"
      ]
     },
     "execution_count": 49,
     "metadata": {},
     "output_type": "execute_result"
    }
   ],
   "source": [
    "a[5:7]"
   ]
  },
  {
   "cell_type": "code",
   "execution_count": 50,
   "metadata": {},
   "outputs": [],
   "source": [
    "def append_files(name):\n",
    "    \n",
    "    aux1 = name.find('-')\n",
    "    aux2 = name.find('.')\n",
    "    aux3 = int(name[aux1 +1 : aux2])\n",
    "    \n",
    "    previous_primes = primos.primos(aux3)\n",
    "    \n",
    "    print(type(previous_primes[0]))\n",
    "   \n",
    "    f = open(name, 'a')\n",
    "    \n",
    "    for i in previous_primes:\n",
    "        \n",
    "        f.write(str(i) + '\\n')\n",
    "    \n",
    "    f.close()\n",
    "    "
   ]
  },
  {
   "cell_type": "code",
   "execution_count": 51,
   "metadata": {},
   "outputs": [
    {
     "name": "stdout",
     "output_type": "stream",
     "text": [
      "<class 'int'>\n"
     ]
    }
   ],
   "source": [
    "append_files('file-9.txt')"
   ]
  },
  {
   "cell_type": "code",
   "execution_count": null,
   "metadata": {},
   "outputs": [],
   "source": []
  },
  {
   "cell_type": "code",
   "execution_count": null,
   "metadata": {},
   "outputs": [],
   "source": []
  }
 ],
 "metadata": {
  "kernelspec": {
   "display_name": "Python 3",
   "language": "python",
   "name": "python3"
  },
  "language_info": {
   "codemirror_mode": {
    "name": "ipython",
    "version": 3
   },
   "file_extension": ".py",
   "mimetype": "text/x-python",
   "name": "python",
   "nbconvert_exporter": "python",
   "pygments_lexer": "ipython3",
   "version": "3.6.5"
  }
 },
 "nbformat": 4,
 "nbformat_minor": 2
}
